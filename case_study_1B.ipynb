{
  "cells": [
    {
      "cell_type": "markdown",
      "metadata": {
        "id": "ZFgAZ4_rb1pF"
      },
      "source": [
        "## Context\n",
        "\n",
        "The plproject aim is to predict the matches of english premier league. English premeir league contains matches on each year(season wise)in which 20 teams participate in the competition. The  matches are scheduled as seasons longing upto 1 year.\n",
        "The seasons usually starts from august and ends on the next year in april."
      ]
    },
    {
      "cell_type": "markdown",
      "metadata": {
        "id": "3rtnaKLnb6PW"
      },
      "source": [
        "### Objective\n",
        "The objective is to predict the match result of a premier league match.\n",
        "The match can be predicted  by just giving the Home and Away team. "
      ]
    },
    {
      "cell_type": "markdown",
      "metadata": {
        "id": "KnTRLZFVzGHy"
      },
      "source": [
        "\n",
        "#Importing libraries"
      ]
    },
    {
      "cell_type": "code",
      "execution_count": 1,
      "metadata": {
        "id": "REmMcZmigWzs"
      },
      "outputs": [],
      "source": [
        "import pandas as pd\n",
        "import numpy as np\n",
        "import matplotlib.pyplot as py\n",
        "import seaborn as sns\n",
        "\n",
        "import matplotlib\n",
        "import matplotlib.pyplot as plt\n",
        "%matplotlib inline"
      ]
    },
    {
      "cell_type": "markdown",
      "metadata": {
        "id": "WBN2XwvvzOH5"
      },
      "source": [
        "## Loadinng the dataset"
      ]
    },
    {
      "cell_type": "code",
      "execution_count": 2,
      "metadata": {
        "id": "jfE8FmPwgb08"
      },
      "outputs": [],
      "source": [
        "df = pd.read_excel('Case2.xlsx')"
      ]
    },
    {
      "cell_type": "code",
      "execution_count": null,
      "metadata": {
        "id": "ppgTPfcqccrM"
      },
      "outputs": [],
      "source": [
        "df=df.iloc[:,:7]"
      ]
    },
    {
      "cell_type": "markdown",
      "metadata": {
        "id": "YEwUIhh3zvqN"
      },
      "source": [
        "#### We have consider the dataset from the years 2003-2022.\n",
        "#### For this dataset also, the features are common\n",
        "#### The performance of the team are constantly changing as the players are going In and Out of the team.\n",
        " "
      ]
    },
    {
      "cell_type": "markdown",
      "metadata": {
        "id": "LOcQXxJezaZN"
      },
      "source": [
        "\n",
        "### Important features\n",
        "\n",
        "Div = League Division\n",
        "\n",
        "Date = Match Date (dd/mm/yy)\n",
        "\n",
        "Time = Time of match kick off\n",
        "\n",
        "HomeTeam = Home Team\n",
        "\n",
        "AwayTeam = Away Team\n",
        "\n",
        "FTHG = Full Time Home Team Goals\n",
        "\n",
        "FTAG = Full Time Away Team Goals\n",
        "\n",
        "FTR  = Full Time Result (H=Home Win, D=Draw, A=Away Win)\n",
        " \n",
        " "
      ]
    },
    {
      "cell_type": "code",
      "execution_count": null,
      "metadata": {
        "colab": {
          "base_uri": "https://localhost:8080/"
        },
        "id": "-3W7PvvsgrHF",
        "outputId": "a6039e50-7320-4a9c-c7be-aa00a61dcf82"
      },
      "outputs": [
        {
          "name": "stdout",
          "output_type": "stream",
          "text": [
            "<class 'pandas.core.frame.DataFrame'>\n",
            "RangeIndex: 7676 entries, 0 to 7675\n",
            "Data columns (total 7 columns):\n",
            " #   Column    Non-Null Count  Dtype         \n",
            "---  ------    --------------  -----         \n",
            " 0   Div       7676 non-null   object        \n",
            " 1   Date      7676 non-null   datetime64[ns]\n",
            " 2   HomeTeam  7676 non-null   object        \n",
            " 3   AwayTeam  7676 non-null   object        \n",
            " 4   FTHG      7676 non-null   int64         \n",
            " 5   FTAG      7676 non-null   int64         \n",
            " 6   FTR       7676 non-null   object        \n",
            "dtypes: datetime64[ns](1), int64(2), object(4)\n",
            "memory usage: 419.9+ KB\n",
            "None\n"
          ]
        }
      ],
      "source": [
        "print(df.info())"
      ]
    },
    {
      "cell_type": "code",
      "execution_count": null,
      "metadata": {
        "colab": {
          "base_uri": "https://localhost:8080/"
        },
        "id": "JoND-02khA8b",
        "outputId": "cbfecd18-505e-494d-e3f3-6cf43e1228fa"
      },
      "outputs": [
        {
          "data": {
            "text/plain": [
              "Index(['Div', 'Date', 'HomeTeam', 'AwayTeam', 'FTHG', 'FTAG', 'FTR'], dtype='object')"
            ]
          },
          "execution_count": 10,
          "metadata": {},
          "output_type": "execute_result"
        }
      ],
      "source": [
        "df.columns"
      ]
    },
    {
      "cell_type": "code",
      "execution_count": null,
      "metadata": {
        "colab": {
          "base_uri": "https://localhost:8080/",
          "height": 300
        },
        "id": "NGps47WMhD94",
        "outputId": "91697440-81d8-4662-d30b-540a7415c2bd"
      },
      "outputs": [
        {
          "data": {
            "text/html": [
              "\n",
              "  <div id=\"df-4f7e8397-a3bc-43c9-bcd0-96d59cde28b0\">\n",
              "    <div class=\"colab-df-container\">\n",
              "      <div>\n",
              "<style scoped>\n",
              "    .dataframe tbody tr th:only-of-type {\n",
              "        vertical-align: middle;\n",
              "    }\n",
              "\n",
              "    .dataframe tbody tr th {\n",
              "        vertical-align: top;\n",
              "    }\n",
              "\n",
              "    .dataframe thead th {\n",
              "        text-align: right;\n",
              "    }\n",
              "</style>\n",
              "<table border=\"1\" class=\"dataframe\">\n",
              "  <thead>\n",
              "    <tr style=\"text-align: right;\">\n",
              "      <th></th>\n",
              "      <th>FTHG</th>\n",
              "      <th>FTAG</th>\n",
              "    </tr>\n",
              "  </thead>\n",
              "  <tbody>\n",
              "    <tr>\n",
              "      <th>count</th>\n",
              "      <td>7676.000000</td>\n",
              "      <td>7676.000000</td>\n",
              "    </tr>\n",
              "    <tr>\n",
              "      <th>mean</th>\n",
              "      <td>1.512767</td>\n",
              "      <td>1.157243</td>\n",
              "    </tr>\n",
              "    <tr>\n",
              "      <th>std</th>\n",
              "      <td>1.293318</td>\n",
              "      <td>1.141872</td>\n",
              "    </tr>\n",
              "    <tr>\n",
              "      <th>min</th>\n",
              "      <td>0.000000</td>\n",
              "      <td>0.000000</td>\n",
              "    </tr>\n",
              "    <tr>\n",
              "      <th>25%</th>\n",
              "      <td>1.000000</td>\n",
              "      <td>0.000000</td>\n",
              "    </tr>\n",
              "    <tr>\n",
              "      <th>50%</th>\n",
              "      <td>1.000000</td>\n",
              "      <td>1.000000</td>\n",
              "    </tr>\n",
              "    <tr>\n",
              "      <th>75%</th>\n",
              "      <td>2.000000</td>\n",
              "      <td>2.000000</td>\n",
              "    </tr>\n",
              "    <tr>\n",
              "      <th>max</th>\n",
              "      <td>9.000000</td>\n",
              "      <td>9.000000</td>\n",
              "    </tr>\n",
              "  </tbody>\n",
              "</table>\n",
              "</div>\n",
              "      <button class=\"colab-df-convert\" onclick=\"convertToInteractive('df-4f7e8397-a3bc-43c9-bcd0-96d59cde28b0')\"\n",
              "              title=\"Convert this dataframe to an interactive table.\"\n",
              "              style=\"display:none;\">\n",
              "        \n",
              "  <svg xmlns=\"http://www.w3.org/2000/svg\" height=\"24px\"viewBox=\"0 0 24 24\"\n",
              "       width=\"24px\">\n",
              "    <path d=\"M0 0h24v24H0V0z\" fill=\"none\"/>\n",
              "    <path d=\"M18.56 5.44l.94 2.06.94-2.06 2.06-.94-2.06-.94-.94-2.06-.94 2.06-2.06.94zm-11 1L8.5 8.5l.94-2.06 2.06-.94-2.06-.94L8.5 2.5l-.94 2.06-2.06.94zm10 10l.94 2.06.94-2.06 2.06-.94-2.06-.94-.94-2.06-.94 2.06-2.06.94z\"/><path d=\"M17.41 7.96l-1.37-1.37c-.4-.4-.92-.59-1.43-.59-.52 0-1.04.2-1.43.59L10.3 9.45l-7.72 7.72c-.78.78-.78 2.05 0 2.83L4 21.41c.39.39.9.59 1.41.59.51 0 1.02-.2 1.41-.59l7.78-7.78 2.81-2.81c.8-.78.8-2.07 0-2.86zM5.41 20L4 18.59l7.72-7.72 1.47 1.35L5.41 20z\"/>\n",
              "  </svg>\n",
              "      </button>\n",
              "      \n",
              "  <style>\n",
              "    .colab-df-container {\n",
              "      display:flex;\n",
              "      flex-wrap:wrap;\n",
              "      gap: 12px;\n",
              "    }\n",
              "\n",
              "    .colab-df-convert {\n",
              "      background-color: #E8F0FE;\n",
              "      border: none;\n",
              "      border-radius: 50%;\n",
              "      cursor: pointer;\n",
              "      display: none;\n",
              "      fill: #1967D2;\n",
              "      height: 32px;\n",
              "      padding: 0 0 0 0;\n",
              "      width: 32px;\n",
              "    }\n",
              "\n",
              "    .colab-df-convert:hover {\n",
              "      background-color: #E2EBFA;\n",
              "      box-shadow: 0px 1px 2px rgba(60, 64, 67, 0.3), 0px 1px 3px 1px rgba(60, 64, 67, 0.15);\n",
              "      fill: #174EA6;\n",
              "    }\n",
              "\n",
              "    [theme=dark] .colab-df-convert {\n",
              "      background-color: #3B4455;\n",
              "      fill: #D2E3FC;\n",
              "    }\n",
              "\n",
              "    [theme=dark] .colab-df-convert:hover {\n",
              "      background-color: #434B5C;\n",
              "      box-shadow: 0px 1px 3px 1px rgba(0, 0, 0, 0.15);\n",
              "      filter: drop-shadow(0px 1px 2px rgba(0, 0, 0, 0.3));\n",
              "      fill: #FFFFFF;\n",
              "    }\n",
              "  </style>\n",
              "\n",
              "      <script>\n",
              "        const buttonEl =\n",
              "          document.querySelector('#df-4f7e8397-a3bc-43c9-bcd0-96d59cde28b0 button.colab-df-convert');\n",
              "        buttonEl.style.display =\n",
              "          google.colab.kernel.accessAllowed ? 'block' : 'none';\n",
              "\n",
              "        async function convertToInteractive(key) {\n",
              "          const element = document.querySelector('#df-4f7e8397-a3bc-43c9-bcd0-96d59cde28b0');\n",
              "          const dataTable =\n",
              "            await google.colab.kernel.invokeFunction('convertToInteractive',\n",
              "                                                     [key], {});\n",
              "          if (!dataTable) return;\n",
              "\n",
              "          const docLinkHtml = 'Like what you see? Visit the ' +\n",
              "            '<a target=\"_blank\" href=https://colab.research.google.com/notebooks/data_table.ipynb>data table notebook</a>'\n",
              "            + ' to learn more about interactive tables.';\n",
              "          element.innerHTML = '';\n",
              "          dataTable['output_type'] = 'display_data';\n",
              "          await google.colab.output.renderOutput(dataTable, element);\n",
              "          const docLink = document.createElement('div');\n",
              "          docLink.innerHTML = docLinkHtml;\n",
              "          element.appendChild(docLink);\n",
              "        }\n",
              "      </script>\n",
              "    </div>\n",
              "  </div>\n",
              "  "
            ],
            "text/plain": [
              "              FTHG         FTAG\n",
              "count  7676.000000  7676.000000\n",
              "mean      1.512767     1.157243\n",
              "std       1.293318     1.141872\n",
              "min       0.000000     0.000000\n",
              "25%       1.000000     0.000000\n",
              "50%       1.000000     1.000000\n",
              "75%       2.000000     2.000000\n",
              "max       9.000000     9.000000"
            ]
          },
          "execution_count": 11,
          "metadata": {},
          "output_type": "execute_result"
        }
      ],
      "source": [
        "df.describe()"
      ]
    },
    {
      "cell_type": "code",
      "execution_count": null,
      "metadata": {
        "colab": {
          "base_uri": "https://localhost:8080/"
        },
        "id": "lVdI2s7chIRN",
        "outputId": "b7814da7-d874-4662-a954-e981d586185a"
      },
      "outputs": [
        {
          "data": {
            "text/plain": [
              "Div                 object\n",
              "Date        datetime64[ns]\n",
              "HomeTeam            object\n",
              "AwayTeam            object\n",
              "FTHG                 int64\n",
              "FTAG                 int64\n",
              "FTR                 object\n",
              "dtype: object"
            ]
          },
          "execution_count": 12,
          "metadata": {},
          "output_type": "execute_result"
        }
      ],
      "source": [
        "df.dtypes"
      ]
    },
    {
      "cell_type": "code",
      "execution_count": null,
      "metadata": {
        "colab": {
          "base_uri": "https://localhost:8080/",
          "height": 363
        },
        "id": "Y6DLju0mhN-i",
        "outputId": "d09fd1b0-6536-4903-8dc0-ec7f8895308f"
      },
      "outputs": [
        {
          "data": {
            "text/html": [
              "\n",
              "  <div id=\"df-599b5d36-b5bf-46e3-865d-024c7551af4c\">\n",
              "    <div class=\"colab-df-container\">\n",
              "      <div>\n",
              "<style scoped>\n",
              "    .dataframe tbody tr th:only-of-type {\n",
              "        vertical-align: middle;\n",
              "    }\n",
              "\n",
              "    .dataframe tbody tr th {\n",
              "        vertical-align: top;\n",
              "    }\n",
              "\n",
              "    .dataframe thead th {\n",
              "        text-align: right;\n",
              "    }\n",
              "</style>\n",
              "<table border=\"1\" class=\"dataframe\">\n",
              "  <thead>\n",
              "    <tr style=\"text-align: right;\">\n",
              "      <th></th>\n",
              "      <th>Div</th>\n",
              "      <th>Date</th>\n",
              "      <th>HomeTeam</th>\n",
              "      <th>AwayTeam</th>\n",
              "      <th>FTHG</th>\n",
              "      <th>FTAG</th>\n",
              "      <th>FTR</th>\n",
              "    </tr>\n",
              "  </thead>\n",
              "  <tbody>\n",
              "    <tr>\n",
              "      <th>0</th>\n",
              "      <td>E0</td>\n",
              "      <td>2002-08-17</td>\n",
              "      <td>Blackburn</td>\n",
              "      <td>Sunderland</td>\n",
              "      <td>0</td>\n",
              "      <td>0</td>\n",
              "      <td>D</td>\n",
              "    </tr>\n",
              "    <tr>\n",
              "      <th>1</th>\n",
              "      <td>E0</td>\n",
              "      <td>2002-08-17</td>\n",
              "      <td>Charlton</td>\n",
              "      <td>Chelsea</td>\n",
              "      <td>2</td>\n",
              "      <td>3</td>\n",
              "      <td>A</td>\n",
              "    </tr>\n",
              "    <tr>\n",
              "      <th>2</th>\n",
              "      <td>E0</td>\n",
              "      <td>2002-08-17</td>\n",
              "      <td>Everton</td>\n",
              "      <td>Tottenham</td>\n",
              "      <td>2</td>\n",
              "      <td>2</td>\n",
              "      <td>D</td>\n",
              "    </tr>\n",
              "    <tr>\n",
              "      <th>3</th>\n",
              "      <td>E0</td>\n",
              "      <td>2002-08-17</td>\n",
              "      <td>Fulham</td>\n",
              "      <td>Bolton</td>\n",
              "      <td>4</td>\n",
              "      <td>1</td>\n",
              "      <td>H</td>\n",
              "    </tr>\n",
              "    <tr>\n",
              "      <th>4</th>\n",
              "      <td>E0</td>\n",
              "      <td>2002-08-17</td>\n",
              "      <td>Leeds</td>\n",
              "      <td>Man City</td>\n",
              "      <td>3</td>\n",
              "      <td>0</td>\n",
              "      <td>H</td>\n",
              "    </tr>\n",
              "    <tr>\n",
              "      <th>5</th>\n",
              "      <td>E0</td>\n",
              "      <td>2002-08-17</td>\n",
              "      <td>Man United</td>\n",
              "      <td>West Brom</td>\n",
              "      <td>1</td>\n",
              "      <td>0</td>\n",
              "      <td>H</td>\n",
              "    </tr>\n",
              "    <tr>\n",
              "      <th>6</th>\n",
              "      <td>E0</td>\n",
              "      <td>2002-08-17</td>\n",
              "      <td>Southampton</td>\n",
              "      <td>Middlesbrough</td>\n",
              "      <td>0</td>\n",
              "      <td>0</td>\n",
              "      <td>D</td>\n",
              "    </tr>\n",
              "    <tr>\n",
              "      <th>7</th>\n",
              "      <td>E0</td>\n",
              "      <td>2002-08-18</td>\n",
              "      <td>Arsenal</td>\n",
              "      <td>Birmingham</td>\n",
              "      <td>2</td>\n",
              "      <td>0</td>\n",
              "      <td>H</td>\n",
              "    </tr>\n",
              "    <tr>\n",
              "      <th>8</th>\n",
              "      <td>E0</td>\n",
              "      <td>2002-08-18</td>\n",
              "      <td>Aston Villa</td>\n",
              "      <td>Liverpool</td>\n",
              "      <td>0</td>\n",
              "      <td>1</td>\n",
              "      <td>A</td>\n",
              "    </tr>\n",
              "    <tr>\n",
              "      <th>9</th>\n",
              "      <td>E0</td>\n",
              "      <td>2002-08-19</td>\n",
              "      <td>Newcastle</td>\n",
              "      <td>West Ham</td>\n",
              "      <td>4</td>\n",
              "      <td>0</td>\n",
              "      <td>H</td>\n",
              "    </tr>\n",
              "  </tbody>\n",
              "</table>\n",
              "</div>\n",
              "      <button class=\"colab-df-convert\" onclick=\"convertToInteractive('df-599b5d36-b5bf-46e3-865d-024c7551af4c')\"\n",
              "              title=\"Convert this dataframe to an interactive table.\"\n",
              "              style=\"display:none;\">\n",
              "        \n",
              "  <svg xmlns=\"http://www.w3.org/2000/svg\" height=\"24px\"viewBox=\"0 0 24 24\"\n",
              "       width=\"24px\">\n",
              "    <path d=\"M0 0h24v24H0V0z\" fill=\"none\"/>\n",
              "    <path d=\"M18.56 5.44l.94 2.06.94-2.06 2.06-.94-2.06-.94-.94-2.06-.94 2.06-2.06.94zm-11 1L8.5 8.5l.94-2.06 2.06-.94-2.06-.94L8.5 2.5l-.94 2.06-2.06.94zm10 10l.94 2.06.94-2.06 2.06-.94-2.06-.94-.94-2.06-.94 2.06-2.06.94z\"/><path d=\"M17.41 7.96l-1.37-1.37c-.4-.4-.92-.59-1.43-.59-.52 0-1.04.2-1.43.59L10.3 9.45l-7.72 7.72c-.78.78-.78 2.05 0 2.83L4 21.41c.39.39.9.59 1.41.59.51 0 1.02-.2 1.41-.59l7.78-7.78 2.81-2.81c.8-.78.8-2.07 0-2.86zM5.41 20L4 18.59l7.72-7.72 1.47 1.35L5.41 20z\"/>\n",
              "  </svg>\n",
              "      </button>\n",
              "      \n",
              "  <style>\n",
              "    .colab-df-container {\n",
              "      display:flex;\n",
              "      flex-wrap:wrap;\n",
              "      gap: 12px;\n",
              "    }\n",
              "\n",
              "    .colab-df-convert {\n",
              "      background-color: #E8F0FE;\n",
              "      border: none;\n",
              "      border-radius: 50%;\n",
              "      cursor: pointer;\n",
              "      display: none;\n",
              "      fill: #1967D2;\n",
              "      height: 32px;\n",
              "      padding: 0 0 0 0;\n",
              "      width: 32px;\n",
              "    }\n",
              "\n",
              "    .colab-df-convert:hover {\n",
              "      background-color: #E2EBFA;\n",
              "      box-shadow: 0px 1px 2px rgba(60, 64, 67, 0.3), 0px 1px 3px 1px rgba(60, 64, 67, 0.15);\n",
              "      fill: #174EA6;\n",
              "    }\n",
              "\n",
              "    [theme=dark] .colab-df-convert {\n",
              "      background-color: #3B4455;\n",
              "      fill: #D2E3FC;\n",
              "    }\n",
              "\n",
              "    [theme=dark] .colab-df-convert:hover {\n",
              "      background-color: #434B5C;\n",
              "      box-shadow: 0px 1px 3px 1px rgba(0, 0, 0, 0.15);\n",
              "      filter: drop-shadow(0px 1px 2px rgba(0, 0, 0, 0.3));\n",
              "      fill: #FFFFFF;\n",
              "    }\n",
              "  </style>\n",
              "\n",
              "      <script>\n",
              "        const buttonEl =\n",
              "          document.querySelector('#df-599b5d36-b5bf-46e3-865d-024c7551af4c button.colab-df-convert');\n",
              "        buttonEl.style.display =\n",
              "          google.colab.kernel.accessAllowed ? 'block' : 'none';\n",
              "\n",
              "        async function convertToInteractive(key) {\n",
              "          const element = document.querySelector('#df-599b5d36-b5bf-46e3-865d-024c7551af4c');\n",
              "          const dataTable =\n",
              "            await google.colab.kernel.invokeFunction('convertToInteractive',\n",
              "                                                     [key], {});\n",
              "          if (!dataTable) return;\n",
              "\n",
              "          const docLinkHtml = 'Like what you see? Visit the ' +\n",
              "            '<a target=\"_blank\" href=https://colab.research.google.com/notebooks/data_table.ipynb>data table notebook</a>'\n",
              "            + ' to learn more about interactive tables.';\n",
              "          element.innerHTML = '';\n",
              "          dataTable['output_type'] = 'display_data';\n",
              "          await google.colab.output.renderOutput(dataTable, element);\n",
              "          const docLink = document.createElement('div');\n",
              "          docLink.innerHTML = docLinkHtml;\n",
              "          element.appendChild(docLink);\n",
              "        }\n",
              "      </script>\n",
              "    </div>\n",
              "  </div>\n",
              "  "
            ],
            "text/plain": [
              "  Div       Date     HomeTeam       AwayTeam  FTHG  FTAG FTR\n",
              "0  E0 2002-08-17    Blackburn     Sunderland     0     0   D\n",
              "1  E0 2002-08-17     Charlton        Chelsea     2     3   A\n",
              "2  E0 2002-08-17      Everton      Tottenham     2     2   D\n",
              "3  E0 2002-08-17       Fulham         Bolton     4     1   H\n",
              "4  E0 2002-08-17        Leeds       Man City     3     0   H\n",
              "5  E0 2002-08-17   Man United      West Brom     1     0   H\n",
              "6  E0 2002-08-17  Southampton  Middlesbrough     0     0   D\n",
              "7  E0 2002-08-18      Arsenal     Birmingham     2     0   H\n",
              "8  E0 2002-08-18  Aston Villa      Liverpool     0     1   A\n",
              "9  E0 2002-08-19    Newcastle       West Ham     4     0   H"
            ]
          },
          "execution_count": 13,
          "metadata": {},
          "output_type": "execute_result"
        }
      ],
      "source": [
        "df.head(10)"
      ]
    },
    {
      "cell_type": "code",
      "execution_count": null,
      "metadata": {
        "id": "9cmpTbcvo9kV"
      },
      "outputs": [],
      "source": [
        "Arsenal=df\n",
        "AstonVilla=df\n",
        "Chelsea=df\n",
        "ManUnited=df\n",
        "ManCity=df\n",
        "Tottenham=df\n",
        "WestHam=df\n",
        "\n",
        "teamnames=['Arsenal','Aston Villa','Chelsea','Man United','Man City','Tottenham','West Ham']\n",
        "teamvariable=[Arsenal,AstonVilla,Chelsea,ManUnited,ManCity,Tottenham,WestHam]\n",
        "\n",
        "for i in range(len(teamnames)):\n",
        "  h=df.loc[df['HomeTeam'] == teamnames[i]]\n",
        "  a=df.loc[(df['AwayTeam'] == teamnames[i])] \n",
        "  teamvariable[i]=pd.concat([h,a],axis=0)\n",
        "  ## ENCODING\n",
        "  ## f= encoded values of manchester united as hometeam\n",
        "  ## e= encoded values of manchester united as awayteam\n",
        "\n",
        "  f=pd.get_dummies(teamvariable[i]['HomeTeam']) ## Taking the dummy values in the homeTeam colummn\n",
        "  e=pd.get_dummies(teamvariable[i]['AwayTeam']) ## Taking the dummmy values in the  awayTeam column\n",
        "  e=e.replace([1],[-1])\n",
        "  e=e.add(f)\n",
        "\n",
        "  teamvariable[i]=teamvariable[i].join(e)\n",
        "\n",
        "  teamvariable[i]=teamvariable[i].drop('HomeTeam',axis=1)\n",
        "  teamvariable[i]=teamvariable[i].drop('AwayTeam',axis=1)\n",
        "  teamvariable[i]=teamvariable[i].drop('Date',axis=1)\n",
        "  teamvariable[i]=teamvariable[i].drop('Div',axis=1)"
      ]
    },
    {
      "cell_type": "code",
      "execution_count": null,
      "metadata": {
        "id": "nVqyLenLpAuI"
      },
      "outputs": [],
      "source": [
        "def labeled_barplot(data, feature, perc=False, n=None):\n",
        "    \"\"\"\n",
        "    Barplot with percentage at the top\n",
        "\n",
        "    data: dataframe\n",
        "    feature: dataframe column\n",
        "    perc: whether to display percentages instead of count (default is False)\n",
        "    n: displays the top n category levels (default is None, i.e., display all levels)\n",
        "    \"\"\"\n",
        "\n",
        "    total = len(data[feature])  # length of the column\n",
        "    count = data[feature].nunique()\n",
        "    if n is None:\n",
        "        plt.figure(figsize=(count + 1, 5))\n",
        "    else:\n",
        "        plt.figure(figsize=(n + 1, 5))\n",
        "\n",
        "    plt.xticks(rotation=360, fontsize=10)\n",
        "    ax = sns.countplot(\n",
        "        data=data,\n",
        "        x=feature,\n",
        "        palette=\"Paired\",\n",
        "        order=data[feature].value_counts().index[:n].sort_values(),\n",
        "        \n",
        "    )\n",
        "\n",
        "    for p in ax.patches:\n",
        "        if perc == True:\n",
        "            label = \"{:.1f}%\".format(\n",
        "                100 * p.get_height() / total\n",
        "            )  # percentage of each class of the category\n",
        "        else:\n",
        "            label = p.get_height()  # count of each level of the category\n",
        "\n",
        "        x = p.get_x() + p.get_width() / 2  # width of the plot\n",
        "        y = p.get_height()  # height of the plot\n",
        "\n",
        "        ax.annotate(\n",
        "            label,\n",
        "            (x, y),\n",
        "            ha=\"center\",\n",
        "            va=\"center\",\n",
        "            size=12,\n",
        "            xytext=(0, 5),\n",
        "            textcoords=\"offset points\",\n",
        "        )  # annotate the percentage\n",
        "\n",
        "    plt.show()  # show the plot\n",
        "\n",
        "\n",
        "manutdh=teamvariable[3].loc[teamvariable[3]['Man United']==1]\n",
        "manutda=teamvariable[3].loc[teamvariable[3]['Man United']==-1]\n",
        " "
      ]
    },
    {
      "cell_type": "markdown",
      "metadata": {
        "id": "xcVU-LcEi-oy"
      },
      "source": [
        "\n",
        "### Graph showing the Wins of Manchester united in Home, away and Draw\n",
        "\n",
        "\n",
        "\n",
        "#### When played in Home"
      ]
    },
    {
      "cell_type": "code",
      "execution_count": null,
      "metadata": {
        "colab": {
          "base_uri": "https://localhost:8080/",
          "height": 350
        },
        "id": "Aj_QJ5R4pEI4",
        "outputId": "296d157d-81c6-41d3-b970-d0cf7c896b81"
      },
      "outputs": [
        {
          "data": {
            "image/png": "[encoded data removed]",
            "text/plain": [
              "<Figure size 288x360 with 1 Axes>"
            ]
          },
          "metadata": {},
          "output_type": "display_data"
        }
      ],
      "source": [
        "manutdh= manutdh.replace(['H','A','D'],['Wins','Looses','draw'])\n",
        "labeled_barplot(manutdh, \"FTR\", perc=True)"
      ]
    },
    {
      "cell_type": "markdown",
      "metadata": {
        "id": "cbqn_orMjLnS"
      },
      "source": [
        "#### Observations\n",
        "##### The graph shows that the manchestr united has won 68 percent of the matches when played in the home ground and lost only 18.3 percent\n",
        "##### Draw has occured a 12 percent of times"
      ]
    },
    {
      "cell_type": "markdown",
      "metadata": {
        "id": "Iy-rXU3GjRas"
      },
      "source": [
        "### When played in away"
      ]
    },
    {
      "cell_type": "code",
      "execution_count": null,
      "metadata": {
        "colab": {
          "base_uri": "https://localhost:8080/",
          "height": 350
        },
        "id": "yy8ERm6vpHYa",
        "outputId": "e619620d-8724-44b7-f2fd-48a7720fc322"
      },
      "outputs": [
        {
          "data": {
            "image/png": "[encoded data removed]",
            "text/plain": [
              "<Figure size 288x360 with 1 Axes>"
            ]
          },
          "metadata": {},
          "output_type": "display_data"
        }
      ],
      "source": [
        "manutda= manutda.replace(['H','A','D'],['Looses','Wins','draw'])\n",
        "labeled_barplot(manutda, \"FTR\", perc=True)"
      ]
    },
    {
      "cell_type": "markdown",
      "metadata": {
        "id": "0U499qNFjVKh"
      },
      "source": [
        "#### Observations\n",
        "##### The graph shows that the manchestr united has won 52 percent of the matches when played in the home ground and lost only 23.3 percent\n",
        "##### Draw has occured a 24 percent of times\n",
        "##### The percent of wins has decreased in the away venues"
      ]
    },
    {
      "cell_type": "code",
      "execution_count": null,
      "metadata": {
        "id": "hLqg11_jpKGe"
      },
      "outputs": [],
      "source": [
        "manutd1=manutdh[['FTR','FTHG']]\n",
        "manutd1=manutd1.drop('FTHG',axis=1)\n",
        " \n",
        "manutd2=manutda[['FTR','FTHG']]\n",
        "manutd2=manutd2.drop('FTHG',axis=1)\n",
        " \n",
        "manutd= pd.concat([manutd1, manutd2], axis =0) "
      ]
    },
    {
      "cell_type": "markdown",
      "metadata": {
        "id": "5TfmGP4GjcRJ"
      },
      "source": [
        "### Showing the Total percent of Wins, Looses and draw"
      ]
    },
    {
      "cell_type": "code",
      "execution_count": null,
      "metadata": {
        "colab": {
          "base_uri": "https://localhost:8080/",
          "height": 350
        },
        "id": "LLlH7m7LpL_h",
        "outputId": "b4dc0a89-5fbb-4439-c85e-29e7e8d816dc"
      },
      "outputs": [
        {
          "data": {
            "image/png": "[encoded data removed]",
            "text/plain": [
              "<Figure size 288x360 with 1 Axes>"
            ]
          },
          "metadata": {},
          "output_type": "display_data"
        }
      ],
      "source": [
        " labeled_barplot(manutd, \"FTR\", perc=True)"
      ]
    },
    {
      "cell_type": "markdown",
      "metadata": {
        "id": "aH5tV1Pdjdm6"
      },
      "source": [
        "##### The team has won a total 60 percent of wins, followed by 18 percent of looses and 21 percent draw"
      ]
    },
    {
      "cell_type": "markdown",
      "metadata": {
        "id": "PJXR7yHV1Bvo"
      },
      "source": [
        "# Univariate analysis"
      ]
    },
    {
      "cell_type": "markdown",
      "metadata": {
        "id": "XWo5Yuor0-OJ"
      },
      "source": [
        "## Target variable\n",
        "\n",
        "#### Full time result feature or FTR feature is taken as the target variable for training the models for all the three cases we considered\n",
        "\n",
        "#### The table shows below the distribution of targets variables as \n",
        "#### H - Represents Home team win\n",
        "#### A - Represents Away team win\n",
        "#### D - Represents Draw"
      ]
    },
    {
      "cell_type": "code",
      "execution_count": null,
      "metadata": {
        "colab": {
          "base_uri": "https://localhost:8080/",
          "height": 355
        },
        "id": "L9rfUIa9ikgr",
        "outputId": "7822a8f0-be6e-43ab-ddd3-840ddf494a40"
      },
      "outputs": [
        {
          "data": {
            "text/plain": [
              "(array([1906.,    0.,    0.,    0.,    0., 2257.,    0.,    0.,    0.,\n",
              "        3513.]),\n",
              " array([0. , 0.2, 0.4, 0.6, 0.8, 1. , 1.2, 1.4, 1.6, 1.8, 2. ]),\n",
              " <a list of 10 Patch objects>)"
            ]
          },
          "execution_count": 19,
          "metadata": {},
          "output_type": "execute_result"
        },
        {
          "data": {
            "image/png": "[encoded data removed]",
            "text/plain": [
              "<Figure size 432x288 with 1 Axes>"
            ]
          },
          "metadata": {
            "needs_background": "light"
          },
          "output_type": "display_data"
        }
      ],
      "source": [
        "plt.title('H--->Hometeam win          A--->Awayteamwin          D--->Draw', fontsize=14)\n",
        "plt.hist(df['FTR'])"
      ]
    },
    {
      "cell_type": "markdown",
      "metadata": {
        "id": "6G5ihALm1NGS"
      },
      "source": [
        "####  From graph below, we can see the most no of wins happened for the home teams with around 3500 wins followed by away teams wins of 2200, The draw happened for around 1800 times"
      ]
    },
    {
      "cell_type": "code",
      "execution_count": null,
      "metadata": {
        "id": "pSV1SCg3ira_"
      },
      "outputs": [],
      "source": [
        "# While doing univariate analysis of numerical variables we want to study their central tendency and dispersion.\n",
        "# Let us write a function that will help us create boxplot and histogram for any input numerical variable.\n",
        "# This function takes the numerical column as the input and returns the boxplots and histograms for the variable.\n",
        "# Let us see if this help us write faster and cleaner code.\n",
        "\n",
        "\n",
        "def histogram_boxplot(feature, figsize=(15, 10), bins=None):\n",
        "    \"\"\"Boxplot and histogram combined\n",
        "    feature: 1-d feature array\n",
        "    figsize: size of fig (default (9,8))\n",
        "    bins: number of bins (default None / auto)\n",
        "    \"\"\"\n",
        "    sns.set(font_scale=2)  # setting the font scale for seaborn\n",
        "    f2, (ax_box2, ax_hist2) = plt.subplots(\n",
        "        nrows=2,  # Number of rows of the subplot grid=2\n",
        "        sharex=True,  # x-axis will be shared among all subplots\n",
        "        gridspec_kw={\"height_ratios\": (0.25, 0.75)},\n",
        "        figsize=figsize,\n",
        "    )  # creating the 2 subplots\n",
        "    sns.boxplot(\n",
        "        feature, ax=ax_box2, showmeans=True, color=\"red\"\n",
        "    )  # boxplot will be created and a star will indicate the mean value of the column\n",
        "    sns.distplot(feature, kde=F, ax=ax_hist2, bins=bins) if bins else sns.distplot(\n",
        "        feature, kde=False, ax=ax_hist2\n",
        "    )  # For histogram\n",
        "    ax_hist2.axvline(\n",
        "        feature.mean(), color=\"g\", linestyle=\"--\"\n",
        "    )  # Add mean to the histogram\n",
        "    ax_hist2.axvline(\n",
        "        feature.median(), color=\"black\", linestyle=\"-\"\n",
        "    )  # Add median to the histogram"
      ]
    },
    {
      "cell_type": "markdown",
      "metadata": {
        "id": "uwTwWtCaz_a2"
      },
      "source": [
        "#### The below boxplot shows the numerical distribution of Overall goals scored by all the teams in total .\n"
      ]
    },
    {
      "cell_type": "code",
      "execution_count": null,
      "metadata": {
        "colab": {
          "base_uri": "https://localhost:8080/",
          "height": 725
        },
        "id": "81w-98gXiyDz",
        "outputId": "72f768e1-da03-41f4-a32a-1c12be84a281"
      },
      "outputs": [
        {
          "name": "stderr",
          "output_type": "stream",
          "text": [
            "/usr/local/lib/python3.8/dist-packages/seaborn/_decorators.py:36: FutureWarning: Pass the following variable as a keyword arg: x. From version 0.12, the only valid positional argument will be `data`, and passing other arguments without an explicit keyword will result in an error or misinterpretation.\n",
            "  warnings.warn(\n",
            "/usr/local/lib/python3.8/dist-packages/seaborn/distributions.py:2619: FutureWarning: `distplot` is a deprecated function and will be removed in a future version. Please adapt your code to use either `displot` (a figure-level function with similar flexibility) or `histplot` (an axes-level function for histograms).\n",
            "  warnings.warn(msg, FutureWarning)\n"
          ]
        },
        {
          "data": {
            "image/png": "[encoded data removed]",
            "text/plain": [
              "<Figure size 1080x720 with 2 Axes>"
            ]
          },
          "metadata": {},
          "output_type": "display_data"
        }
      ],
      "source": [
        "histogram_boxplot(df.FTHG) "
      ]
    },
    {
      "cell_type": "markdown",
      "metadata": {
        "id": "huD5CazN19bv"
      },
      "source": [
        "#### We can see that the most occured value of Home team after full time are 0,1,2.\n",
        "#### Rarely it is  seen that the home team scores 5,6,7 goals "
      ]
    },
    {
      "cell_type": "markdown",
      "metadata": {
        "id": "RbB1aVvQ1y8e"
      },
      "source": [
        " ### Graph shows the numerical distrbution of each numerical variable in the dataset"
      ]
    },
    {
      "cell_type": "code",
      "execution_count": null,
      "metadata": {
        "colab": {
          "base_uri": "https://localhost:8080/",
          "height": 329
        },
        "id": "32g6qhvEjGBz",
        "outputId": "081c4a38-5df1-4996-a166-94c72f8245dc"
      },
      "outputs": [
        {
          "data": {
            "image/png": "[encoded data removed]",
            "text/plain": [
              "<Figure size 1224x5400 with 2 Axes>"
            ]
          },
          "metadata": {},
          "output_type": "display_data"
        }
      ],
      "source": [
        "# lets plot histogram of all numerical variables\n",
        "\n",
        "all_col = df.select_dtypes(include=np.number).columns.tolist()\n",
        "#all_col.remove(\"HomeTeam\")\n",
        "plt.figure(figsize=(17, 75))\n",
        "\n",
        "for i in range(len(all_col)):\n",
        "    plt.subplot(18, 3, i + 1)\n",
        "    plt.hist(df[all_col[i]])\n",
        "    # sns.histplot(df[all_col[i]], kde=True)  # you can comment the previous line and run this one to get distribution curves\n",
        "    plt.tight_layout()\n",
        "    plt.title(all_col[i], fontsize=25)\n",
        "\n",
        "plt.show()"
      ]
    },
    {
      "cell_type": "markdown",
      "metadata": {
        "id": "KdJaSVHc1rRO"
      },
      "source": [
        "## Observations\n",
        "Most of the graphs are rightly skewed with some of the graph showing normal distribution trends"
      ]
    },
    {
      "cell_type": "markdown",
      "metadata": {
        "id": "2VYsTbRt2QCX"
      },
      "source": [
        "# Multivariate analysis"
      ]
    },
    {
      "cell_type": "code",
      "execution_count": null,
      "metadata": {
        "colab": {
          "base_uri": "https://localhost:8080/",
          "height": 894
        },
        "id": "2yeNPZxBjNqf",
        "outputId": "3a597f72-f073-4da7-e966-f1989f2a0f3b"
      },
      "outputs": [
        {
          "data": {
            "text/plain": [
              "<matplotlib.axes._subplots.AxesSubplot at 0x7fca5c8ba250>"
            ]
          },
          "execution_count": 23,
          "metadata": {},
          "output_type": "execute_result"
        },
        {
          "data": {
            "image/png": "[encoded data removed]",
            "text/plain": [
              "<Figure size 2016x1080 with 2 Axes>"
            ]
          },
          "metadata": {},
          "output_type": "display_data"
        }
      ],
      "source": [
        "numeric_columns = df.select_dtypes(include=np.number).columns.tolist()\n",
        "#numeric_columns.remove(\"Year\")  # dropping year column as it is temporal variable\n",
        "corr = (\n",
        "    df[numeric_columns].corr())\n",
        "  # sorting correlations w.r.t life expectancy\n",
        "\n",
        "# Set up the matplotlib figure\n",
        "f, ax = plt.subplots(figsize=(28, 15))\n",
        "\n",
        "# Draw the heatmap with the mask and correct aspect ratio\n",
        "sns.heatmap(\n",
        "    corr,\n",
        "    cmap=\"seismic\",\n",
        "    annot=True,\n",
        "    fmt=\".2f\",\n",
        "    vmin=-1,\n",
        "    vmax=1,\n",
        "    center=0,\n",
        "    square=False,\n",
        "    linewidths=0.7,\n",
        "    cbar_kws={\"shrink\": 0.5},\n",
        ")"
      ]
    },
    {
      "cell_type": "code",
      "execution_count": null,
      "metadata": {
        "colab": {
          "base_uri": "https://localhost:8080/",
          "height": 378
        },
        "id": "44leHD6vjPx-",
        "outputId": "deef820d-0b7a-47e5-b549-e1702dbd2e26"
      },
      "outputs": [
        {
          "data": {
            "text/plain": [
              "<seaborn.axisgrid.PairGrid at 0x7fca59f4bd90>"
            ]
          },
          "execution_count": 24,
          "metadata": {},
          "output_type": "execute_result"
        },
        {
          "data": {
            "image/png": "[encoded data removed]",
            "text/plain": [
              "<Figure size 360x360 with 6 Axes>"
            ]
          },
          "metadata": {},
          "output_type": "display_data"
        }
      ],
      "source": [
        "## Displaying the correlation matrix\n",
        "sns.pairplot(df)"
      ]
    },
    {
      "cell_type": "markdown",
      "metadata": {
        "id": "qGXv9HTB2jyl"
      },
      "source": [
        "## The graph showing the results of the matches of each team when on home side and away side"
      ]
    },
    {
      "cell_type": "code",
      "execution_count": null,
      "metadata": {
        "id": "zmJolmPOjWV9"
      },
      "outputs": [],
      "source": [
        " ### To identify the winner of each match: if \"H\"- the home team was the winner, if \"A\" the away team was the winner, else draw:\n",
        "df['Winner'] = np.where(df['FTR'] == 'H',df['HomeTeam'],\n",
        "                          np.where(df['FTR'] == 'A', df['AwayTeam'], \"Draw\"))\n",
        "### To identify the result of each match: whether the home team won, the away team won, or drew:\n",
        "df['Result'] = np.where(df['FTR'] == 'H','HomeTeamWin',\n",
        "                          np.where(df['FTR'] == 'A', 'AwayTeamWin', \"Draw\"))\n",
        "### To identify how many goals did the winner had:\n",
        "df['Result'] = np.where(df['FTR'] == 'H','HomeTeamWin',\n",
        "                          np.where(df['FTR'] == 'A', 'AwayTeamWin', \"Draw\"))\n",
        "### To get the \"Year\" of each match:\n",
        "df['Year']=pd.DatetimeIndex(df['Date']).year\n",
        "### To get the total number of goals in each match and the goal differences:\n",
        "df['TotalGoal'] = df['FTHG'] + df['FTAG']\n",
        "df['GoalDif']= df['FTHG']- df['FTAG']"
      ]
    },
    {
      "cell_type": "markdown",
      "metadata": {
        "id": "M5PbNcvK2x91"
      },
      "source": [
        "### Graph showing the overall wins for the home and away teams"
      ]
    },
    {
      "cell_type": "code",
      "execution_count": null,
      "metadata": {
        "colab": {
          "base_uri": "https://localhost:8080/",
          "height": 542
        },
        "id": "qpouvHOIjt82",
        "outputId": "6a8169c2-b172-4638-8624-56a995dc24f0"
      },
      "outputs": [
        {
          "data": {
            "text/html": [
              "<html>\n",
              "<head><meta charset=\"utf-8\" /></head>\n",
              "<body>\n",
              "    <div>            <script src=\"https://cdnjs.cloudflare.com/ajax/libs/mathjax/2.7.5/MathJax.js?config=TeX-AMS-MML_SVG\"></script><script type=\"text/javascript\">if (window.MathJax) {MathJax.Hub.Config({SVG: {font: \"STIX-Web\"}});}</script>                <script type=\"text/javascript\">window.PlotlyConfig = {MathJaxConfig: 'local'};</script>\n",
              "        <script src=\"https://cdn.plot.ly/plotly-2.8.3.min.js\"></script>                <div id=\"9b94cb2a-4de3-4c8c-8120-caeda2977812\" class=\"plotly-graph-div\" style=\"height:525px; width:100%;\"></div>            <script type=\"text/javascript\">                                    window.PLOTLYENV=window.PLOTLYENV || {};                                    if (document.getElementById(\"9b94cb2a-4de3-4c8c-8120-caeda2977812\")) {                    Plotly.newPlot(                        \"9b94cb2a-4de3-4c8c-8120-caeda2977812\",                        [{\"customdata\":[[\"AwayTeamWin\"],[\"Draw\"],[\"HomeTeamWin\"]],\"domain\":{\"x\":[0.0,1.0],\"y\":[0.0,1.0]},\"hovertemplate\":\"Result=%{customdata[0]}<br>count=%{value}<extra></extra>\",\"labels\":[\"AwayTeamWin\",\"Draw\",\"HomeTeamWin\"],\"legendgroup\":\"\",\"marker\":{\"colors\":[\"orangered\",\"lightgreen\",\"royalblue\"]},\"name\":\"\",\"showlegend\":true,\"values\":[2257,1906,3513],\"type\":\"pie\",\"textinfo\":\"percent+value\",\"textposition\":\"inside\"}],                        {\"template\":{\"data\":{\"bar\":[{\"error_x\":{\"color\":\"#2a3f5f\"},\"error_y\":{\"color\":\"#2a3f5f\"},\"marker\":{\"line\":{\"color\":\"#E5ECF6\",\"width\":0.5},\"pattern\":{\"fillmode\":\"overlay\",\"size\":10,\"solidity\":0.2}},\"type\":\"bar\"}],\"barpolar\":[{\"marker\":{\"line\":{\"color\":\"#E5ECF6\",\"width\":0.5},\"pattern\":{\"fillmode\":\"overlay\",\"size\":10,\"solidity\":0.2}},\"type\":\"barpolar\"}],\"carpet\":[{\"aaxis\":{\"endlinecolor\":\"#2a3f5f\",\"gridcolor\":\"white\",\"linecolor\":\"white\",\"minorgridcolor\":\"white\",\"startlinecolor\":\"#2a3f5f\"},\"baxis\":{\"endlinecolor\":\"#2a3f5f\",\"gridcolor\":\"white\",\"linecolor\":\"white\",\"minorgridcolor\":\"white\",\"startlinecolor\":\"#2a3f5f\"},\"type\":\"carpet\"}],\"choropleth\":[{\"colorbar\":{\"outlinewidth\":0,\"ticks\":\"\"},\"type\":\"choropleth\"}],\"contour\":[{\"colorbar\":{\"outlinewidth\":0,\"ticks\":\"\"},\"colorscale\":[[0.0,\"#0d0887\"],[0.1111111111111111,\"#46039f\"],[0.2222222222222222,\"#7201a8\"],[0.3333333333333333,\"#9c179e\"],[0.4444444444444444,\"#bd3786\"],[0.5555555555555556,\"#d8576b\"],[0.6666666666666666,\"#ed7953\"],[0.7777777777777778,\"#fb9f3a\"],[0.8888888888888888,\"#fdca26\"],[1.0,\"#f0f921\"]],\"type\":\"contour\"}],\"contourcarpet\":[{\"colorbar\":{\"outlinewidth\":0,\"ticks\":\"\"},\"type\":\"contourcarpet\"}],\"heatmap\":[{\"colorbar\":{\"outlinewidth\":0,\"ticks\":\"\"},\"colorscale\":[[0.0,\"#0d0887\"],[0.1111111111111111,\"#46039f\"],[0.2222222222222222,\"#7201a8\"],[0.3333333333333333,\"#9c179e\"],[0.4444444444444444,\"#bd3786\"],[0.5555555555555556,\"#d8576b\"],[0.6666666666666666,\"#ed7953\"],[0.7777777777777778,\"#fb9f3a\"],[0.8888888888888888,\"#fdca26\"],[1.0,\"#f0f921\"]],\"type\":\"heatmap\"}],\"heatmapgl\":[{\"colorbar\":{\"outlinewidth\":0,\"ticks\":\"\"},\"colorscale\":[[0.0,\"#0d0887\"],[0.1111111111111111,\"#46039f\"],[0.2222222222222222,\"#7201a8\"],[0.3333333333333333,\"#9c179e\"],[0.4444444444444444,\"#bd3786\"],[0.5555555555555556,\"#d8576b\"],[0.6666666666666666,\"#ed7953\"],[0.7777777777777778,\"#fb9f3a\"],[0.8888888888888888,\"#fdca26\"],[1.0,\"#f0f921\"]],\"type\":\"heatmapgl\"}],\"histogram\":[{\"marker\":{\"pattern\":{\"fillmode\":\"overlay\",\"size\":10,\"solidity\":0.2}},\"type\":\"histogram\"}],\"histogram2d\":[{\"colorbar\":{\"outlinewidth\":0,\"ticks\":\"\"},\"colorscale\":[[0.0,\"#0d0887\"],[0.1111111111111111,\"#46039f\"],[0.2222222222222222,\"#7201a8\"],[0.3333333333333333,\"#9c179e\"],[0.4444444444444444,\"#bd3786\"],[0.5555555555555556,\"#d8576b\"],[0.6666666666666666,\"#ed7953\"],[0.7777777777777778,\"#fb9f3a\"],[0.8888888888888888,\"#fdca26\"],[1.0,\"#f0f921\"]],\"type\":\"histogram2d\"}],\"histogram2dcontour\":[{\"colorbar\":{\"outlinewidth\":0,\"ticks\":\"\"},\"colorscale\":[[0.0,\"#0d0887\"],[0.1111111111111111,\"#46039f\"],[0.2222222222222222,\"#7201a8\"],[0.3333333333333333,\"#9c179e\"],[0.4444444444444444,\"#bd3786\"],[0.5555555555555556,\"#d8576b\"],[0.6666666666666666,\"#ed7953\"],[0.7777777777777778,\"#fb9f3a\"],[0.8888888888888888,\"#fdca26\"],[1.0,\"#f0f921\"]],\"type\":\"histogram2dcontour\"}],\"mesh3d\":[{\"colorbar\":{\"outlinewidth\":0,\"ticks\":\"\"},\"type\":\"mesh3d\"}],\"parcoords\":[{\"line\":{\"colorbar\":{\"outlinewidth\":0,\"ticks\":\"\"}},\"type\":\"parcoords\"}],\"pie\":[{\"automargin\":true,\"type\":\"pie\"}],\"scatter\":[{\"marker\":{\"colorbar\":{\"outlinewidth\":0,\"ticks\":\"\"}},\"type\":\"scatter\"}],\"scatter3d\":[{\"line\":{\"colorbar\":{\"outlinewidth\":0,\"ticks\":\"\"}},\"marker\":{\"colorbar\":{\"outlinewidth\":0,\"ticks\":\"\"}},\"type\":\"scatter3d\"}],\"scattercarpet\":[{\"marker\":{\"colorbar\":{\"outlinewidth\":0,\"ticks\":\"\"}},\"type\":\"scattercarpet\"}],\"scattergeo\":[{\"marker\":{\"colorbar\":{\"outlinewidth\":0,\"ticks\":\"\"}},\"type\":\"scattergeo\"}],\"scattergl\":[{\"marker\":{\"colorbar\":{\"outlinewidth\":0,\"ticks\":\"\"}},\"type\":\"scattergl\"}],\"scattermapbox\":[{\"marker\":{\"colorbar\":{\"outlinewidth\":0,\"ticks\":\"\"}},\"type\":\"scattermapbox\"}],\"scatterpolar\":[{\"marker\":{\"colorbar\":{\"outlinewidth\":0,\"ticks\":\"\"}},\"type\":\"scatterpolar\"}],\"scatterpolargl\":[{\"marker\":{\"colorbar\":{\"outlinewidth\":0,\"ticks\":\"\"}},\"type\":\"scatterpolargl\"}],\"scatterternary\":[{\"marker\":{\"colorbar\":{\"outlinewidth\":0,\"ticks\":\"\"}},\"type\":\"scatterternary\"}],\"surface\":[{\"colorbar\":{\"outlinewidth\":0,\"ticks\":\"\"},\"colorscale\":[[0.0,\"#0d0887\"],[0.1111111111111111,\"#46039f\"],[0.2222222222222222,\"#7201a8\"],[0.3333333333333333,\"#9c179e\"],[0.4444444444444444,\"#bd3786\"],[0.5555555555555556,\"#d8576b\"],[0.6666666666666666,\"#ed7953\"],[0.7777777777777778,\"#fb9f3a\"],[0.8888888888888888,\"#fdca26\"],[1.0,\"#f0f921\"]],\"type\":\"surface\"}],\"table\":[{\"cells\":{\"fill\":{\"color\":\"#EBF0F8\"},\"line\":{\"color\":\"white\"}},\"header\":{\"fill\":{\"color\":\"#C8D4E3\"},\"line\":{\"color\":\"white\"}},\"type\":\"table\"}]},\"layout\":{\"annotationdefaults\":{\"arrowcolor\":\"#2a3f5f\",\"arrowhead\":0,\"arrowwidth\":1},\"autotypenumbers\":\"strict\",\"coloraxis\":{\"colorbar\":{\"outlinewidth\":0,\"ticks\":\"\"}},\"colorscale\":{\"diverging\":[[0,\"#8e0152\"],[0.1,\"#c51b7d\"],[0.2,\"#de77ae\"],[0.3,\"#f1b6da\"],[0.4,\"#fde0ef\"],[0.5,\"#f7f7f7\"],[0.6,\"#e6f5d0\"],[0.7,\"#b8e186\"],[0.8,\"#7fbc41\"],[0.9,\"#4d9221\"],[1,\"#276419\"]],\"sequential\":[[0.0,\"#0d0887\"],[0.1111111111111111,\"#46039f\"],[0.2222222222222222,\"#7201a8\"],[0.3333333333333333,\"#9c179e\"],[0.4444444444444444,\"#bd3786\"],[0.5555555555555556,\"#d8576b\"],[0.6666666666666666,\"#ed7953\"],[0.7777777777777778,\"#fb9f3a\"],[0.8888888888888888,\"#fdca26\"],[1.0,\"#f0f921\"]],\"sequentialminus\":[[0.0,\"#0d0887\"],[0.1111111111111111,\"#46039f\"],[0.2222222222222222,\"#7201a8\"],[0.3333333333333333,\"#9c179e\"],[0.4444444444444444,\"#bd3786\"],[0.5555555555555556,\"#d8576b\"],[0.6666666666666666,\"#ed7953\"],[0.7777777777777778,\"#fb9f3a\"],[0.8888888888888888,\"#fdca26\"],[1.0,\"#f0f921\"]]},\"colorway\":[\"#636efa\",\"#EF553B\",\"#00cc96\",\"#ab63fa\",\"#FFA15A\",\"#19d3f3\",\"#FF6692\",\"#B6E880\",\"#FF97FF\",\"#FECB52\"],\"font\":{\"color\":\"#2a3f5f\"},\"geo\":{\"bgcolor\":\"white\",\"lakecolor\":\"white\",\"landcolor\":\"#E5ECF6\",\"showlakes\":true,\"showland\":true,\"subunitcolor\":\"white\"},\"hoverlabel\":{\"align\":\"left\"},\"hovermode\":\"closest\",\"mapbox\":{\"style\":\"light\"},\"paper_bgcolor\":\"white\",\"plot_bgcolor\":\"#E5ECF6\",\"polar\":{\"angularaxis\":{\"gridcolor\":\"white\",\"linecolor\":\"white\",\"ticks\":\"\"},\"bgcolor\":\"#E5ECF6\",\"radialaxis\":{\"gridcolor\":\"white\",\"linecolor\":\"white\",\"ticks\":\"\"}},\"scene\":{\"xaxis\":{\"backgroundcolor\":\"#E5ECF6\",\"gridcolor\":\"white\",\"gridwidth\":2,\"linecolor\":\"white\",\"showbackground\":true,\"ticks\":\"\",\"zerolinecolor\":\"white\"},\"yaxis\":{\"backgroundcolor\":\"#E5ECF6\",\"gridcolor\":\"white\",\"gridwidth\":2,\"linecolor\":\"white\",\"showbackground\":true,\"ticks\":\"\",\"zerolinecolor\":\"white\"},\"zaxis\":{\"backgroundcolor\":\"#E5ECF6\",\"gridcolor\":\"white\",\"gridwidth\":2,\"linecolor\":\"white\",\"showbackground\":true,\"ticks\":\"\",\"zerolinecolor\":\"white\"}},\"shapedefaults\":{\"line\":{\"color\":\"#2a3f5f\"}},\"ternary\":{\"aaxis\":{\"gridcolor\":\"white\",\"linecolor\":\"white\",\"ticks\":\"\"},\"baxis\":{\"gridcolor\":\"white\",\"linecolor\":\"white\",\"ticks\":\"\"},\"bgcolor\":\"#E5ECF6\",\"caxis\":{\"gridcolor\":\"white\",\"linecolor\":\"white\",\"ticks\":\"\"}},\"title\":{\"x\":0.05},\"xaxis\":{\"automargin\":true,\"gridcolor\":\"white\",\"linecolor\":\"white\",\"ticks\":\"\",\"title\":{\"standoff\":15},\"zerolinecolor\":\"white\",\"zerolinewidth\":2},\"yaxis\":{\"automargin\":true,\"gridcolor\":\"white\",\"linecolor\":\"white\",\"ticks\":\"\",\"title\":{\"standoff\":15},\"zerolinecolor\":\"white\",\"zerolinewidth\":2}}},\"legend\":{\"tracegroupgap\":0},\"title\":{\"text\":\"Premier league - results from 2003 - 2022\"}},                        {\"responsive\": true}                    ).then(function(){\n",
              "                            \n",
              "var gd = document.getElementById('9b94cb2a-4de3-4c8c-8120-caeda2977812');\n",
              "var x = new MutationObserver(function (mutations, observer) {{\n",
              "        var display = window.getComputedStyle(gd).display;\n",
              "        if (!display || display === 'none') {{\n",
              "            console.log([gd, 'removed!']);\n",
              "            Plotly.purge(gd);\n",
              "            observer.disconnect();\n",
              "        }}\n",
              "}});\n",
              "\n",
              "// Listen for the removal of the full notebook cells\n",
              "var notebookContainer = gd.closest('#notebook-container');\n",
              "if (notebookContainer) {{\n",
              "    x.observe(notebookContainer, {childList: true});\n",
              "}}\n",
              "\n",
              "// Listen for the clearing of the current output cell\n",
              "var outputEl = gd.closest('.output');\n",
              "if (outputEl) {{\n",
              "    x.observe(outputEl, {childList: true});\n",
              "}}\n",
              "\n",
              "                        })                };                            </script>        </div>\n",
              "</body>\n",
              "</html>"
            ]
          },
          "metadata": {},
          "output_type": "display_data"
        }
      ],
      "source": [
        "import plotly.express as px\n",
        "### Group the data by Result:\n",
        "general = df.groupby('Result')['Result'].count().reset_index(name = \"count\")\n",
        "### Apply px.pie:\n",
        "fig1 = px.pie(general, values ='count', names ='Result', title='Premier league - results from 2003 - 2022', color = 'Result',\n",
        "             color_discrete_map={'HomeTeamWin':'royalblue',\n",
        "                                 'AwayTeamWin':'orangered',\n",
        "                                 'Draw':'lightgreen'})\n",
        "### Add text and define text information:\n",
        "fig1.update_traces(textposition='inside', textinfo='percent+value')\n",
        "fig1.show()"
      ]
    },
    {
      "cell_type": "markdown",
      "metadata": {
        "id": "WeVONo_y24QI"
      },
      "source": [
        "#### We can see that home teams clearly got an advantage of 45 percent match wins as compared to away teams with 28.5 percent\n",
        "#### The draw percent is coming out to be 24.8 percent"
      ]
    },
    {
      "cell_type": "markdown",
      "metadata": {
        "id": "Oy7c9Vpq2_-t"
      },
      "source": [
        "## Pie chart showing wins of each teams "
      ]
    },
    {
      "cell_type": "code",
      "execution_count": null,
      "metadata": {
        "colab": {
          "base_uri": "https://localhost:8080/",
          "height": 542
        },
        "id": "oz08Niw2jzvh",
        "outputId": "9446b33a-bd54-4c5c-b9e5-78d7f1926c13"
      },
      "outputs": [
        {
          "data": {
            "text/html": [
              "<html>\n",
              "<head><meta charset=\"utf-8\" /></head>\n",
              "<body>\n",
              "    <div>            <script src=\"https://cdnjs.cloudflare.com/ajax/libs/mathjax/2.7.5/MathJax.js?config=TeX-AMS-MML_SVG\"></script><script type=\"text/javascript\">if (window.MathJax) {MathJax.Hub.Config({SVG: {font: \"STIX-Web\"}});}</script>                <script type=\"text/javascript\">window.PlotlyConfig = {MathJaxConfig: 'local'};</script>\n",
              "        <script src=\"https://cdn.plot.ly/plotly-2.8.3.min.js\"></script>                <div id=\"7d6cf402-9bf6-4517-ae30-ad11e9853f33\" class=\"plotly-graph-div\" style=\"height:525px; width:100%;\"></div>            <script type=\"text/javascript\">                                    window.PLOTLYENV=window.PLOTLYENV || {};                                    if (document.getElementById(\"7d6cf402-9bf6-4517-ae30-ad11e9853f33\")) {                    Plotly.newPlot(                        \"7d6cf402-9bf6-4517-ae30-ad11e9853f33\",                        [{\"customdata\":[[\"Man United\"],[\"Chelsea\"],[\"Arsenal\"],[\"Liverpool\"],[\"Man City\"],[\"Tottenham\"],[\"Everton\"],[\"others\"]],\"domain\":{\"x\":[0.0,1.0],\"y\":[0.0,1.0]},\"hovertemplate\":\"Winner=%{customdata[0]}<br>Count=%{value}<extra></extra>\",\"labels\":[\"Man United\",\"Chelsea\",\"Arsenal\",\"Liverpool\",\"Man City\",\"Tottenham\",\"Everton\",\"others\"],\"legendgroup\":\"\",\"marker\":{\"colors\":[\"#FD3216\",\"#00FE35\",\"#6A76FC\",\"#FED4C4\",\"#FE00CE\",\"#0DF9FF\",\"#F6F926\",\"#FF9616\"]},\"name\":\"\",\"showlegend\":true,\"values\":[464,459,427,424,419,367,300,2910],\"type\":\"pie\",\"textinfo\":\"percent+label\",\"textposition\":\"inside\"}],                        {\"template\":{\"data\":{\"bar\":[{\"error_x\":{\"color\":\"#2a3f5f\"},\"error_y\":{\"color\":\"#2a3f5f\"},\"marker\":{\"line\":{\"color\":\"#E5ECF6\",\"width\":0.5},\"pattern\":{\"fillmode\":\"overlay\",\"size\":10,\"solidity\":0.2}},\"type\":\"bar\"}],\"barpolar\":[{\"marker\":{\"line\":{\"color\":\"#E5ECF6\",\"width\":0.5},\"pattern\":{\"fillmode\":\"overlay\",\"size\":10,\"solidity\":0.2}},\"type\":\"barpolar\"}],\"carpet\":[{\"aaxis\":{\"endlinecolor\":\"#2a3f5f\",\"gridcolor\":\"white\",\"linecolor\":\"white\",\"minorgridcolor\":\"white\",\"startlinecolor\":\"#2a3f5f\"},\"baxis\":{\"endlinecolor\":\"#2a3f5f\",\"gridcolor\":\"white\",\"linecolor\":\"white\",\"minorgridcolor\":\"white\",\"startlinecolor\":\"#2a3f5f\"},\"type\":\"carpet\"}],\"choropleth\":[{\"colorbar\":{\"outlinewidth\":0,\"ticks\":\"\"},\"type\":\"choropleth\"}],\"contour\":[{\"colorbar\":{\"outlinewidth\":0,\"ticks\":\"\"},\"colorscale\":[[0.0,\"#0d0887\"],[0.1111111111111111,\"#46039f\"],[0.2222222222222222,\"#7201a8\"],[0.3333333333333333,\"#9c179e\"],[0.4444444444444444,\"#bd3786\"],[0.5555555555555556,\"#d8576b\"],[0.6666666666666666,\"#ed7953\"],[0.7777777777777778,\"#fb9f3a\"],[0.8888888888888888,\"#fdca26\"],[1.0,\"#f0f921\"]],\"type\":\"contour\"}],\"contourcarpet\":[{\"colorbar\":{\"outlinewidth\":0,\"ticks\":\"\"},\"type\":\"contourcarpet\"}],\"heatmap\":[{\"colorbar\":{\"outlinewidth\":0,\"ticks\":\"\"},\"colorscale\":[[0.0,\"#0d0887\"],[0.1111111111111111,\"#46039f\"],[0.2222222222222222,\"#7201a8\"],[0.3333333333333333,\"#9c179e\"],[0.4444444444444444,\"#bd3786\"],[0.5555555555555556,\"#d8576b\"],[0.6666666666666666,\"#ed7953\"],[0.7777777777777778,\"#fb9f3a\"],[0.8888888888888888,\"#fdca26\"],[1.0,\"#f0f921\"]],\"type\":\"heatmap\"}],\"heatmapgl\":[{\"colorbar\":{\"outlinewidth\":0,\"ticks\":\"\"},\"colorscale\":[[0.0,\"#0d0887\"],[0.1111111111111111,\"#46039f\"],[0.2222222222222222,\"#7201a8\"],[0.3333333333333333,\"#9c179e\"],[0.4444444444444444,\"#bd3786\"],[0.5555555555555556,\"#d8576b\"],[0.6666666666666666,\"#ed7953\"],[0.7777777777777778,\"#fb9f3a\"],[0.8888888888888888,\"#fdca26\"],[1.0,\"#f0f921\"]],\"type\":\"heatmapgl\"}],\"histogram\":[{\"marker\":{\"pattern\":{\"fillmode\":\"overlay\",\"size\":10,\"solidity\":0.2}},\"type\":\"histogram\"}],\"histogram2d\":[{\"colorbar\":{\"outlinewidth\":0,\"ticks\":\"\"},\"colorscale\":[[0.0,\"#0d0887\"],[0.1111111111111111,\"#46039f\"],[0.2222222222222222,\"#7201a8\"],[0.3333333333333333,\"#9c179e\"],[0.4444444444444444,\"#bd3786\"],[0.5555555555555556,\"#d8576b\"],[0.6666666666666666,\"#ed7953\"],[0.7777777777777778,\"#fb9f3a\"],[0.8888888888888888,\"#fdca26\"],[1.0,\"#f0f921\"]],\"type\":\"histogram2d\"}],\"histogram2dcontour\":[{\"colorbar\":{\"outlinewidth\":0,\"ticks\":\"\"},\"colorscale\":[[0.0,\"#0d0887\"],[0.1111111111111111,\"#46039f\"],[0.2222222222222222,\"#7201a8\"],[0.3333333333333333,\"#9c179e\"],[0.4444444444444444,\"#bd3786\"],[0.5555555555555556,\"#d8576b\"],[0.6666666666666666,\"#ed7953\"],[0.7777777777777778,\"#fb9f3a\"],[0.8888888888888888,\"#fdca26\"],[1.0,\"#f0f921\"]],\"type\":\"histogram2dcontour\"}],\"mesh3d\":[{\"colorbar\":{\"outlinewidth\":0,\"ticks\":\"\"},\"type\":\"mesh3d\"}],\"parcoords\":[{\"line\":{\"colorbar\":{\"outlinewidth\":0,\"ticks\":\"\"}},\"type\":\"parcoords\"}],\"pie\":[{\"automargin\":true,\"type\":\"pie\"}],\"scatter\":[{\"marker\":{\"colorbar\":{\"outlinewidth\":0,\"ticks\":\"\"}},\"type\":\"scatter\"}],\"scatter3d\":[{\"line\":{\"colorbar\":{\"outlinewidth\":0,\"ticks\":\"\"}},\"marker\":{\"colorbar\":{\"outlinewidth\":0,\"ticks\":\"\"}},\"type\":\"scatter3d\"}],\"scattercarpet\":[{\"marker\":{\"colorbar\":{\"outlinewidth\":0,\"ticks\":\"\"}},\"type\":\"scattercarpet\"}],\"scattergeo\":[{\"marker\":{\"colorbar\":{\"outlinewidth\":0,\"ticks\":\"\"}},\"type\":\"scattergeo\"}],\"scattergl\":[{\"marker\":{\"colorbar\":{\"outlinewidth\":0,\"ticks\":\"\"}},\"type\":\"scattergl\"}],\"scattermapbox\":[{\"marker\":{\"colorbar\":{\"outlinewidth\":0,\"ticks\":\"\"}},\"type\":\"scattermapbox\"}],\"scatterpolar\":[{\"marker\":{\"colorbar\":{\"outlinewidth\":0,\"ticks\":\"\"}},\"type\":\"scatterpolar\"}],\"scatterpolargl\":[{\"marker\":{\"colorbar\":{\"outlinewidth\":0,\"ticks\":\"\"}},\"type\":\"scatterpolargl\"}],\"scatterternary\":[{\"marker\":{\"colorbar\":{\"outlinewidth\":0,\"ticks\":\"\"}},\"type\":\"scatterternary\"}],\"surface\":[{\"colorbar\":{\"outlinewidth\":0,\"ticks\":\"\"},\"colorscale\":[[0.0,\"#0d0887\"],[0.1111111111111111,\"#46039f\"],[0.2222222222222222,\"#7201a8\"],[0.3333333333333333,\"#9c179e\"],[0.4444444444444444,\"#bd3786\"],[0.5555555555555556,\"#d8576b\"],[0.6666666666666666,\"#ed7953\"],[0.7777777777777778,\"#fb9f3a\"],[0.8888888888888888,\"#fdca26\"],[1.0,\"#f0f921\"]],\"type\":\"surface\"}],\"table\":[{\"cells\":{\"fill\":{\"color\":\"#EBF0F8\"},\"line\":{\"color\":\"white\"}},\"header\":{\"fill\":{\"color\":\"#C8D4E3\"},\"line\":{\"color\":\"white\"}},\"type\":\"table\"}]},\"layout\":{\"annotationdefaults\":{\"arrowcolor\":\"#2a3f5f\",\"arrowhead\":0,\"arrowwidth\":1},\"autotypenumbers\":\"strict\",\"coloraxis\":{\"colorbar\":{\"outlinewidth\":0,\"ticks\":\"\"}},\"colorscale\":{\"diverging\":[[0,\"#8e0152\"],[0.1,\"#c51b7d\"],[0.2,\"#de77ae\"],[0.3,\"#f1b6da\"],[0.4,\"#fde0ef\"],[0.5,\"#f7f7f7\"],[0.6,\"#e6f5d0\"],[0.7,\"#b8e186\"],[0.8,\"#7fbc41\"],[0.9,\"#4d9221\"],[1,\"#276419\"]],\"sequential\":[[0.0,\"#0d0887\"],[0.1111111111111111,\"#46039f\"],[0.2222222222222222,\"#7201a8\"],[0.3333333333333333,\"#9c179e\"],[0.4444444444444444,\"#bd3786\"],[0.5555555555555556,\"#d8576b\"],[0.6666666666666666,\"#ed7953\"],[0.7777777777777778,\"#fb9f3a\"],[0.8888888888888888,\"#fdca26\"],[1.0,\"#f0f921\"]],\"sequentialminus\":[[0.0,\"#0d0887\"],[0.1111111111111111,\"#46039f\"],[0.2222222222222222,\"#7201a8\"],[0.3333333333333333,\"#9c179e\"],[0.4444444444444444,\"#bd3786\"],[0.5555555555555556,\"#d8576b\"],[0.6666666666666666,\"#ed7953\"],[0.7777777777777778,\"#fb9f3a\"],[0.8888888888888888,\"#fdca26\"],[1.0,\"#f0f921\"]]},\"colorway\":[\"#636efa\",\"#EF553B\",\"#00cc96\",\"#ab63fa\",\"#FFA15A\",\"#19d3f3\",\"#FF6692\",\"#B6E880\",\"#FF97FF\",\"#FECB52\"],\"font\":{\"color\":\"#2a3f5f\"},\"geo\":{\"bgcolor\":\"white\",\"lakecolor\":\"white\",\"landcolor\":\"#E5ECF6\",\"showlakes\":true,\"showland\":true,\"subunitcolor\":\"white\"},\"hoverlabel\":{\"align\":\"left\"},\"hovermode\":\"closest\",\"mapbox\":{\"style\":\"light\"},\"paper_bgcolor\":\"white\",\"plot_bgcolor\":\"#E5ECF6\",\"polar\":{\"angularaxis\":{\"gridcolor\":\"white\",\"linecolor\":\"white\",\"ticks\":\"\"},\"bgcolor\":\"#E5ECF6\",\"radialaxis\":{\"gridcolor\":\"white\",\"linecolor\":\"white\",\"ticks\":\"\"}},\"scene\":{\"xaxis\":{\"backgroundcolor\":\"#E5ECF6\",\"gridcolor\":\"white\",\"gridwidth\":2,\"linecolor\":\"white\",\"showbackground\":true,\"ticks\":\"\",\"zerolinecolor\":\"white\"},\"yaxis\":{\"backgroundcolor\":\"#E5ECF6\",\"gridcolor\":\"white\",\"gridwidth\":2,\"linecolor\":\"white\",\"showbackground\":true,\"ticks\":\"\",\"zerolinecolor\":\"white\"},\"zaxis\":{\"backgroundcolor\":\"#E5ECF6\",\"gridcolor\":\"white\",\"gridwidth\":2,\"linecolor\":\"white\",\"showbackground\":true,\"ticks\":\"\",\"zerolinecolor\":\"white\"}},\"shapedefaults\":{\"line\":{\"color\":\"#2a3f5f\"}},\"ternary\":{\"aaxis\":{\"gridcolor\":\"white\",\"linecolor\":\"white\",\"ticks\":\"\"},\"baxis\":{\"gridcolor\":\"white\",\"linecolor\":\"white\",\"ticks\":\"\"},\"bgcolor\":\"#E5ECF6\",\"caxis\":{\"gridcolor\":\"white\",\"linecolor\":\"white\",\"ticks\":\"\"}},\"title\":{\"x\":0.05},\"xaxis\":{\"automargin\":true,\"gridcolor\":\"white\",\"linecolor\":\"white\",\"ticks\":\"\",\"title\":{\"standoff\":15},\"zerolinecolor\":\"white\",\"zerolinewidth\":2},\"yaxis\":{\"automargin\":true,\"gridcolor\":\"white\",\"linecolor\":\"white\",\"ticks\":\"\",\"title\":{\"standoff\":15},\"zerolinecolor\":\"white\",\"zerolinewidth\":2}}},\"legend\":{\"tracegroupgap\":0},\"title\":{\"text\":\"Premier league  Result from 1993 - 2022 - Most Win Team\"},\"piecolorway\":[\"#FD3216\",\"#00FE35\",\"#6A76FC\",\"#FED4C4\",\"#FE00CE\",\"#0DF9FF\",\"#F6F926\",\"#FF9616\",\"#479B55\",\"#EEA6FB\",\"#DC587D\",\"#D626FF\",\"#6E899C\",\"#00B5F7\",\"#B68E00\",\"#C9FBE5\",\"#FF0092\",\"#22FFA7\",\"#E3EE9E\",\"#86CE00\",\"#BC7196\",\"#7E7DCD\",\"#FC6955\",\"#E48F72\"]},                        {\"responsive\": true}                    ).then(function(){\n",
              "                            \n",
              "var gd = document.getElementById('7d6cf402-9bf6-4517-ae30-ad11e9853f33');\n",
              "var x = new MutationObserver(function (mutations, observer) {{\n",
              "        var display = window.getComputedStyle(gd).display;\n",
              "        if (!display || display === 'none') {{\n",
              "            console.log([gd, 'removed!']);\n",
              "            Plotly.purge(gd);\n",
              "            observer.disconnect();\n",
              "        }}\n",
              "}});\n",
              "\n",
              "// Listen for the removal of the full notebook cells\n",
              "var notebookContainer = gd.closest('#notebook-container');\n",
              "if (notebookContainer) {{\n",
              "    x.observe(notebookContainer, {childList: true});\n",
              "}}\n",
              "\n",
              "// Listen for the clearing of the current output cell\n",
              "var outputEl = gd.closest('.output');\n",
              "if (outputEl) {{\n",
              "    x.observe(outputEl, {childList: true});\n",
              "}}\n",
              "\n",
              "                        })                };                            </script>        </div>\n",
              "</body>\n",
              "</html>"
            ]
          },
          "metadata": {},
          "output_type": "display_data"
        }
      ],
      "source": [
        "### Group by Winner \n",
        "teamresult = df.groupby('Winner')['Winner'].count().reset_index(name = \"Count\")\n",
        "### Drop the results which were \"Draw\" as this data was not required for the visualisation\n",
        "teamresult = teamresult[teamresult.Winner != 'Draw']\n",
        "teamresult=teamresult.sort_values(['Count'], ascending=False)\n",
        "teamresult1=teamresult.iloc[0:7]\n",
        "\n",
        "other=teamresult.iloc[7:]\n",
        "sum=other['Count'].sum()\n",
        "\n",
        "othrow={'Winner':'others','Count':sum}\n",
        "\n",
        "teamresult1= teamresult1.append(othrow, ignore_index=True)\n",
        " \n",
        "### Visualisation\n",
        "fig2 = px.pie(teamresult1,values = 'Count', names = 'Winner', title = \"Premier league  Result from 2003 - 2022 - Most Win Team\", color = 'Winner', color_discrete_sequence=px.colors.qualitative.Light24)\n",
        "fig2.update_traces(textposition='inside', textinfo='percent+label')\n",
        "fig2.show()"
      ]
    },
    {
      "cell_type": "markdown",
      "metadata": {
        "id": "VFpT3bc3lB-D"
      },
      "source": [
        "### Observation\n",
        "#### The pie chart shows the overall win distribution top teams and rest of others\n",
        "#### From the graph, it can be seen that the most no of wins occured for manchester united, followd by chelsea, Arsenal liverpool, Man city and so on."
      ]
    },
    {
      "cell_type": "code",
      "execution_count": null,
      "metadata": {
        "colab": {
          "base_uri": "https://localhost:8080/",
          "height": 542
        },
        "id": "6qcmWjP9kArB",
        "outputId": "ef6bc6c9-5cbc-4237-8b68-ea2bb15e8c6b"
      },
      "outputs": [
        {
          "data": {
            "text/html": [
              "<html>\n",
              "<head><meta charset=\"utf-8\" /></head>\n",
              "<body>\n",
              "    <div>            <script src=\"https://cdnjs.cloudflare.com/ajax/libs/mathjax/2.7.5/MathJax.js?config=TeX-AMS-MML_SVG\"></script><script type=\"text/javascript\">if (window.MathJax) {MathJax.Hub.Config({SVG: {font: \"STIX-Web\"}});}</script>                <script type=\"text/javascript\">window.PlotlyConfig = {MathJaxConfig: 'local'};</script>\n",
              "        <script src=\"https://cdn.plot.ly/plotly-2.8.3.min.js\"></script>                <div id=\"806dd275-44ca-4149-80e3-440bf8699721\" class=\"plotly-graph-div\" style=\"height:525px; width:100%;\"></div>            <script type=\"text/javascript\">                                    window.PLOTLYENV=window.PLOTLYENV || {};                                    if (document.getElementById(\"806dd275-44ca-4149-80e3-440bf8699721\")) {                    Plotly.newPlot(                        \"806dd275-44ca-4149-80e3-440bf8699721\",                        [{\"alignmentgroup\":\"True\",\"hovertemplate\":\"Winner=Arsenal<br>index=%{x}<br>value=%{y}<extra></extra>\",\"legendgroup\":\"Arsenal\",\"marker\":{\"color\":\"#FD3216\",\"pattern\":{\"shape\":\"\"}},\"name\":\"Arsenal\",\"offsetgroup\":\"Arsenal\",\"orientation\":\"v\",\"showlegend\":true,\"textposition\":\"inside\",\"x\":[0],\"xaxis\":\"x\",\"y\":[427],\"yaxis\":\"y\",\"type\":\"bar\"},{\"alignmentgroup\":\"True\",\"hovertemplate\":\"Winner=Aston Villa<br>index=%{x}<br>value=%{y}<extra></extra>\",\"legendgroup\":\"Aston Villa\",\"marker\":{\"color\":\"#00FE35\",\"pattern\":{\"shape\":\"\"}},\"name\":\"Aston Villa\",\"offsetgroup\":\"Aston Villa\",\"orientation\":\"v\",\"showlegend\":true,\"textposition\":\"inside\",\"x\":[1],\"xaxis\":\"x\",\"y\":[196],\"yaxis\":\"y\",\"type\":\"bar\"},{\"alignmentgroup\":\"True\",\"hovertemplate\":\"Winner=Birmingham<br>index=%{x}<br>value=%{y}<extra></extra>\",\"legendgroup\":\"Birmingham\",\"marker\":{\"color\":\"#6A76FC\",\"pattern\":{\"shape\":\"\"}},\"name\":\"Birmingham\",\"offsetgroup\":\"Birmingham\",\"orientation\":\"v\",\"showlegend\":true,\"textposition\":\"inside\",\"x\":[2],\"xaxis\":\"x\",\"y\":[60],\"yaxis\":\"y\",\"type\":\"bar\"},{\"alignmentgroup\":\"True\",\"hovertemplate\":\"Winner=Blackburn<br>index=%{x}<br>value=%{y}<extra></extra>\",\"legendgroup\":\"Blackburn\",\"marker\":{\"color\":\"#FED4C4\",\"pattern\":{\"shape\":\"\"}},\"name\":\"Blackburn\",\"offsetgroup\":\"Blackburn\",\"orientation\":\"v\",\"showlegend\":true,\"textposition\":\"inside\",\"x\":[3],\"xaxis\":\"x\",\"y\":[130],\"yaxis\":\"y\",\"type\":\"bar\"},{\"alignmentgroup\":\"True\",\"hovertemplate\":\"Winner=Blackpool<br>index=%{x}<br>value=%{y}<extra></extra>\",\"legendgroup\":\"Blackpool\",\"marker\":{\"color\":\"#FE00CE\",\"pattern\":{\"shape\":\"\"}},\"name\":\"Blackpool\",\"offsetgroup\":\"Blackpool\",\"orientation\":\"v\",\"showlegend\":true,\"textposition\":\"inside\",\"x\":[4],\"xaxis\":\"x\",\"y\":[10],\"yaxis\":\"y\",\"type\":\"bar\"},{\"alignmentgroup\":\"True\",\"hovertemplate\":\"Winner=Bolton<br>index=%{x}<br>value=%{y}<extra></extra>\",\"legendgroup\":\"Bolton\",\"marker\":{\"color\":\"#0DF9FF\",\"pattern\":{\"shape\":\"\"}},\"name\":\"Bolton\",\"offsetgroup\":\"Bolton\",\"orientation\":\"v\",\"showlegend\":true,\"textposition\":\"inside\",\"x\":[5],\"xaxis\":\"x\",\"y\":[129],\"yaxis\":\"y\",\"type\":\"bar\"},{\"alignmentgroup\":\"True\",\"hovertemplate\":\"Winner=Bournemouth<br>index=%{x}<br>value=%{y}<extra></extra>\",\"legendgroup\":\"Bournemouth\",\"marker\":{\"color\":\"#F6F926\",\"pattern\":{\"shape\":\"\"}},\"name\":\"Bournemouth\",\"offsetgroup\":\"Bournemouth\",\"orientation\":\"v\",\"showlegend\":true,\"textposition\":\"inside\",\"x\":[6],\"xaxis\":\"x\",\"y\":[58],\"yaxis\":\"y\",\"type\":\"bar\"},{\"alignmentgroup\":\"True\",\"hovertemplate\":\"Winner=Brentford<br>index=%{x}<br>value=%{y}<extra></extra>\",\"legendgroup\":\"Brentford\",\"marker\":{\"color\":\"#FF9616\",\"pattern\":{\"shape\":\"\"}},\"name\":\"Brentford\",\"offsetgroup\":\"Brentford\",\"orientation\":\"v\",\"showlegend\":true,\"textposition\":\"inside\",\"x\":[7],\"xaxis\":\"x\",\"y\":[15],\"yaxis\":\"y\",\"type\":\"bar\"},{\"alignmentgroup\":\"True\",\"hovertemplate\":\"Winner=Brighton<br>index=%{x}<br>value=%{y}<extra></extra>\",\"legendgroup\":\"Brighton\",\"marker\":{\"color\":\"#479B55\",\"pattern\":{\"shape\":\"\"}},\"name\":\"Brighton\",\"offsetgroup\":\"Brighton\",\"orientation\":\"v\",\"showlegend\":true,\"textposition\":\"inside\",\"x\":[8],\"xaxis\":\"x\",\"y\":[52],\"yaxis\":\"y\",\"type\":\"bar\"},{\"alignmentgroup\":\"True\",\"hovertemplate\":\"Winner=Burnley<br>index=%{x}<br>value=%{y}<extra></extra>\",\"legendgroup\":\"Burnley\",\"marker\":{\"color\":\"#EEA6FB\",\"pattern\":{\"shape\":\"\"}},\"name\":\"Burnley\",\"offsetgroup\":\"Burnley\",\"orientation\":\"v\",\"showlegend\":true,\"textposition\":\"inside\",\"x\":[9],\"xaxis\":\"x\",\"y\":[75],\"yaxis\":\"y\",\"type\":\"bar\"},{\"alignmentgroup\":\"True\",\"hovertemplate\":\"Winner=Cardiff<br>index=%{x}<br>value=%{y}<extra></extra>\",\"legendgroup\":\"Cardiff\",\"marker\":{\"color\":\"#DC587D\",\"pattern\":{\"shape\":\"\"}},\"name\":\"Cardiff\",\"offsetgroup\":\"Cardiff\",\"orientation\":\"v\",\"showlegend\":true,\"textposition\":\"inside\",\"x\":[10],\"xaxis\":\"x\",\"y\":[17],\"yaxis\":\"y\",\"type\":\"bar\"},{\"alignmentgroup\":\"True\",\"hovertemplate\":\"Winner=Charlton<br>index=%{x}<br>value=%{y}<extra></extra>\",\"legendgroup\":\"Charlton\",\"marker\":{\"color\":\"#D626FF\",\"pattern\":{\"shape\":\"\"}},\"name\":\"Charlton\",\"offsetgroup\":\"Charlton\",\"orientation\":\"v\",\"showlegend\":true,\"textposition\":\"inside\",\"x\":[11],\"xaxis\":\"x\",\"y\":[69],\"yaxis\":\"y\",\"type\":\"bar\"},{\"alignmentgroup\":\"True\",\"hovertemplate\":\"Winner=Chelsea<br>index=%{x}<br>value=%{y}<extra></extra>\",\"legendgroup\":\"Chelsea\",\"marker\":{\"color\":\"#6E899C\",\"pattern\":{\"shape\":\"\"}},\"name\":\"Chelsea\",\"offsetgroup\":\"Chelsea\",\"orientation\":\"v\",\"showlegend\":true,\"textposition\":\"inside\",\"x\":[12],\"xaxis\":\"x\",\"y\":[459],\"yaxis\":\"y\",\"type\":\"bar\"},{\"alignmentgroup\":\"True\",\"hovertemplate\":\"Winner=Crystal Palace<br>index=%{x}<br>value=%{y}<extra></extra>\",\"legendgroup\":\"Crystal Palace\",\"marker\":{\"color\":\"#00B5F7\",\"pattern\":{\"shape\":\"\"}},\"name\":\"Crystal Palace\",\"offsetgroup\":\"Crystal Palace\",\"orientation\":\"v\",\"showlegend\":true,\"textposition\":\"inside\",\"x\":[13],\"xaxis\":\"x\",\"y\":[116],\"yaxis\":\"y\",\"type\":\"bar\"},{\"alignmentgroup\":\"True\",\"hovertemplate\":\"Winner=Derby<br>index=%{x}<br>value=%{y}<extra></extra>\",\"legendgroup\":\"Derby\",\"marker\":{\"color\":\"#B68E00\",\"pattern\":{\"shape\":\"\"}},\"name\":\"Derby\",\"offsetgroup\":\"Derby\",\"orientation\":\"v\",\"showlegend\":true,\"textposition\":\"inside\",\"x\":[14],\"xaxis\":\"x\",\"y\":[1],\"yaxis\":\"y\",\"type\":\"bar\"},{\"alignmentgroup\":\"True\",\"hovertemplate\":\"Winner=Everton<br>index=%{x}<br>value=%{y}<extra></extra>\",\"legendgroup\":\"Everton\",\"marker\":{\"color\":\"#C9FBE5\",\"pattern\":{\"shape\":\"\"}},\"name\":\"Everton\",\"offsetgroup\":\"Everton\",\"orientation\":\"v\",\"showlegend\":true,\"textposition\":\"inside\",\"x\":[16],\"xaxis\":\"x\",\"y\":[300],\"yaxis\":\"y\",\"type\":\"bar\"},{\"alignmentgroup\":\"True\",\"hovertemplate\":\"Winner=Fulham<br>index=%{x}<br>value=%{y}<extra></extra>\",\"legendgroup\":\"Fulham\",\"marker\":{\"color\":\"#FF0092\",\"pattern\":{\"shape\":\"\"}},\"name\":\"Fulham\",\"offsetgroup\":\"Fulham\",\"orientation\":\"v\",\"showlegend\":true,\"textposition\":\"inside\",\"x\":[17],\"xaxis\":\"x\",\"y\":[151],\"yaxis\":\"y\",\"type\":\"bar\"},{\"alignmentgroup\":\"True\",\"hovertemplate\":\"Winner=Huddersfield<br>index=%{x}<br>value=%{y}<extra></extra>\",\"legendgroup\":\"Huddersfield\",\"marker\":{\"color\":\"#22FFA7\",\"pattern\":{\"shape\":\"\"}},\"name\":\"Huddersfield\",\"offsetgroup\":\"Huddersfield\",\"orientation\":\"v\",\"showlegend\":true,\"textposition\":\"inside\",\"x\":[18],\"xaxis\":\"x\",\"y\":[12],\"yaxis\":\"y\",\"type\":\"bar\"},{\"alignmentgroup\":\"True\",\"hovertemplate\":\"Winner=Hull<br>index=%{x}<br>value=%{y}<extra></extra>\",\"legendgroup\":\"Hull\",\"marker\":{\"color\":\"#E3EE9E\",\"pattern\":{\"shape\":\"\"}},\"name\":\"Hull\",\"offsetgroup\":\"Hull\",\"orientation\":\"v\",\"showlegend\":true,\"textposition\":\"inside\",\"x\":[19],\"xaxis\":\"x\",\"y\":[35],\"yaxis\":\"y\",\"type\":\"bar\"},{\"alignmentgroup\":\"True\",\"hovertemplate\":\"Winner=Leeds<br>index=%{x}<br>value=%{y}<extra></extra>\",\"legendgroup\":\"Leeds\",\"marker\":{\"color\":\"#86CE00\",\"pattern\":{\"shape\":\"\"}},\"name\":\"Leeds\",\"offsetgroup\":\"Leeds\",\"orientation\":\"v\",\"showlegend\":true,\"textposition\":\"inside\",\"x\":[20],\"xaxis\":\"x\",\"y\":[51],\"yaxis\":\"y\",\"type\":\"bar\"},{\"alignmentgroup\":\"True\",\"hovertemplate\":\"Winner=Leicester<br>index=%{x}<br>value=%{y}<extra></extra>\",\"legendgroup\":\"Leicester\",\"marker\":{\"color\":\"#BC7196\",\"pattern\":{\"shape\":\"\"}},\"name\":\"Leicester\",\"offsetgroup\":\"Leicester\",\"orientation\":\"v\",\"showlegend\":true,\"textposition\":\"inside\",\"x\":[21],\"xaxis\":\"x\",\"y\":[132],\"yaxis\":\"y\",\"type\":\"bar\"},{\"alignmentgroup\":\"True\",\"hovertemplate\":\"Winner=Liverpool<br>index=%{x}<br>value=%{y}<extra></extra>\",\"legendgroup\":\"Liverpool\",\"marker\":{\"color\":\"#7E7DCD\",\"pattern\":{\"shape\":\"\"}},\"name\":\"Liverpool\",\"offsetgroup\":\"Liverpool\",\"orientation\":\"v\",\"showlegend\":true,\"textposition\":\"inside\",\"x\":[22],\"xaxis\":\"x\",\"y\":[424],\"yaxis\":\"y\",\"type\":\"bar\"},{\"alignmentgroup\":\"True\",\"hovertemplate\":\"Winner=Man City<br>index=%{x}<br>value=%{y}<extra></extra>\",\"legendgroup\":\"Man City\",\"marker\":{\"color\":\"#FC6955\",\"pattern\":{\"shape\":\"\"}},\"name\":\"Man City\",\"offsetgroup\":\"Man City\",\"orientation\":\"v\",\"showlegend\":true,\"textposition\":\"inside\",\"x\":[23],\"xaxis\":\"x\",\"y\":[419],\"yaxis\":\"y\",\"type\":\"bar\"},{\"alignmentgroup\":\"True\",\"hovertemplate\":\"Winner=Man United<br>index=%{x}<br>value=%{y}<extra></extra>\",\"legendgroup\":\"Man United\",\"marker\":{\"color\":\"#E48F72\",\"pattern\":{\"shape\":\"\"}},\"name\":\"Man United\",\"offsetgroup\":\"Man United\",\"orientation\":\"v\",\"showlegend\":true,\"textposition\":\"inside\",\"x\":[24],\"xaxis\":\"x\",\"y\":[464],\"yaxis\":\"y\",\"type\":\"bar\"},{\"alignmentgroup\":\"True\",\"hovertemplate\":\"Winner=Middlesbrough<br>index=%{x}<br>value=%{y}<extra></extra>\",\"legendgroup\":\"Middlesbrough\",\"marker\":{\"color\":\"#FD3216\",\"pattern\":{\"shape\":\"\"}},\"name\":\"Middlesbrough\",\"offsetgroup\":\"Middlesbrough\",\"orientation\":\"v\",\"showlegend\":true,\"textposition\":\"inside\",\"x\":[25],\"xaxis\":\"x\",\"y\":[98],\"yaxis\":\"y\",\"type\":\"bar\"},{\"alignmentgroup\":\"True\",\"hovertemplate\":\"Winner=Newcastle<br>index=%{x}<br>value=%{y}<extra></extra>\",\"legendgroup\":\"Newcastle\",\"marker\":{\"color\":\"#00FE35\",\"pattern\":{\"shape\":\"\"}},\"name\":\"Newcastle\",\"offsetgroup\":\"Newcastle\",\"orientation\":\"v\",\"showlegend\":true,\"textposition\":\"inside\",\"x\":[26],\"xaxis\":\"x\",\"y\":[238],\"yaxis\":\"y\",\"type\":\"bar\"},{\"alignmentgroup\":\"True\",\"hovertemplate\":\"Winner=Norwich<br>index=%{x}<br>value=%{y}<extra></extra>\",\"legendgroup\":\"Norwich\",\"marker\":{\"color\":\"#6A76FC\",\"pattern\":{\"shape\":\"\"}},\"name\":\"Norwich\",\"offsetgroup\":\"Norwich\",\"orientation\":\"v\",\"showlegend\":true,\"textposition\":\"inside\",\"x\":[27],\"xaxis\":\"x\",\"y\":[56],\"yaxis\":\"y\",\"type\":\"bar\"},{\"alignmentgroup\":\"True\",\"hovertemplate\":\"Winner=Nott'm Forest<br>index=%{x}<br>value=%{y}<extra></extra>\",\"legendgroup\":\"Nott'm Forest\",\"marker\":{\"color\":\"#FED4C4\",\"pattern\":{\"shape\":\"\"}},\"name\":\"Nott'm Forest\",\"offsetgroup\":\"Nott'm Forest\",\"orientation\":\"v\",\"showlegend\":true,\"textposition\":\"inside\",\"x\":[28],\"xaxis\":\"x\",\"y\":[1],\"yaxis\":\"y\",\"type\":\"bar\"},{\"alignmentgroup\":\"True\",\"hovertemplate\":\"Winner=Portsmouth<br>index=%{x}<br>value=%{y}<extra></extra>\",\"legendgroup\":\"Portsmouth\",\"marker\":{\"color\":\"#FE00CE\",\"pattern\":{\"shape\":\"\"}},\"name\":\"Portsmouth\",\"offsetgroup\":\"Portsmouth\",\"orientation\":\"v\",\"showlegend\":true,\"textposition\":\"inside\",\"x\":[29],\"xaxis\":\"x\",\"y\":[86],\"yaxis\":\"y\",\"type\":\"bar\"},{\"alignmentgroup\":\"True\",\"hovertemplate\":\"Winner=QPR<br>index=%{x}<br>value=%{y}<extra></extra>\",\"legendgroup\":\"QPR\",\"marker\":{\"color\":\"#0DF9FF\",\"pattern\":{\"shape\":\"\"}},\"name\":\"QPR\",\"offsetgroup\":\"QPR\",\"orientation\":\"v\",\"showlegend\":true,\"textposition\":\"inside\",\"x\":[30],\"xaxis\":\"x\",\"y\":[22],\"yaxis\":\"y\",\"type\":\"bar\"},{\"alignmentgroup\":\"True\",\"hovertemplate\":\"Winner=Reading<br>index=%{x}<br>value=%{y}<extra></extra>\",\"legendgroup\":\"Reading\",\"marker\":{\"color\":\"#F6F926\",\"pattern\":{\"shape\":\"\"}},\"name\":\"Reading\",\"offsetgroup\":\"Reading\",\"orientation\":\"v\",\"showlegend\":true,\"textposition\":\"inside\",\"x\":[31],\"xaxis\":\"x\",\"y\":[48],\"yaxis\":\"y\",\"type\":\"bar\"},{\"alignmentgroup\":\"True\",\"hovertemplate\":\"Winner=Sheffield United<br>index=%{x}<br>value=%{y}<extra></extra>\",\"legendgroup\":\"Sheffield United\",\"marker\":{\"color\":\"#FF9616\",\"pattern\":{\"shape\":\"\"}},\"name\":\"Sheffield United\",\"offsetgroup\":\"Sheffield United\",\"orientation\":\"v\",\"showlegend\":true,\"textposition\":\"inside\",\"x\":[32],\"xaxis\":\"x\",\"y\":[41],\"yaxis\":\"y\",\"type\":\"bar\"},{\"alignmentgroup\":\"True\",\"hovertemplate\":\"Winner=Southampton<br>index=%{x}<br>value=%{y}<extra></extra>\",\"legendgroup\":\"Southampton\",\"marker\":{\"color\":\"#479B55\",\"pattern\":{\"shape\":\"\"}},\"name\":\"Southampton\",\"offsetgroup\":\"Southampton\",\"orientation\":\"v\",\"showlegend\":true,\"textposition\":\"inside\",\"x\":[33],\"xaxis\":\"x\",\"y\":[157],\"yaxis\":\"y\",\"type\":\"bar\"},{\"alignmentgroup\":\"True\",\"hovertemplate\":\"Winner=Stoke<br>index=%{x}<br>value=%{y}<extra></extra>\",\"legendgroup\":\"Stoke\",\"marker\":{\"color\":\"#EEA6FB\",\"pattern\":{\"shape\":\"\"}},\"name\":\"Stoke\",\"offsetgroup\":\"Stoke\",\"orientation\":\"v\",\"showlegend\":true,\"textposition\":\"inside\",\"x\":[34],\"xaxis\":\"x\",\"y\":[105],\"yaxis\":\"y\",\"type\":\"bar\"},{\"alignmentgroup\":\"True\",\"hovertemplate\":\"Winner=Sunderland<br>index=%{x}<br>value=%{y}<extra></extra>\",\"legendgroup\":\"Sunderland\",\"marker\":{\"color\":\"#DC587D\",\"pattern\":{\"shape\":\"\"}},\"name\":\"Sunderland\",\"offsetgroup\":\"Sunderland\",\"orientation\":\"v\",\"showlegend\":true,\"textposition\":\"inside\",\"x\":[35],\"xaxis\":\"x\",\"y\":[91],\"yaxis\":\"y\",\"type\":\"bar\"},{\"alignmentgroup\":\"True\",\"hovertemplate\":\"Winner=Swansea<br>index=%{x}<br>value=%{y}<extra></extra>\",\"legendgroup\":\"Swansea\",\"marker\":{\"color\":\"#D626FF\",\"pattern\":{\"shape\":\"\"}},\"name\":\"Swansea\",\"offsetgroup\":\"Swansea\",\"orientation\":\"v\",\"showlegend\":true,\"textposition\":\"inside\",\"x\":[36],\"xaxis\":\"x\",\"y\":[82],\"yaxis\":\"y\",\"type\":\"bar\"},{\"alignmentgroup\":\"True\",\"hovertemplate\":\"Winner=Tottenham<br>index=%{x}<br>value=%{y}<extra></extra>\",\"legendgroup\":\"Tottenham\",\"marker\":{\"color\":\"#6E899C\",\"pattern\":{\"shape\":\"\"}},\"name\":\"Tottenham\",\"offsetgroup\":\"Tottenham\",\"orientation\":\"v\",\"showlegend\":true,\"textposition\":\"inside\",\"x\":[37],\"xaxis\":\"x\",\"y\":[367],\"yaxis\":\"y\",\"type\":\"bar\"},{\"alignmentgroup\":\"True\",\"hovertemplate\":\"Winner=Watford<br>index=%{x}<br>value=%{y}<extra></extra>\",\"legendgroup\":\"Watford\",\"marker\":{\"color\":\"#00B5F7\",\"pattern\":{\"shape\":\"\"}},\"name\":\"Watford\",\"offsetgroup\":\"Watford\",\"orientation\":\"v\",\"showlegend\":true,\"textposition\":\"inside\",\"x\":[38],\"xaxis\":\"x\",\"y\":[72],\"yaxis\":\"y\",\"type\":\"bar\"},{\"alignmentgroup\":\"True\",\"hovertemplate\":\"Winner=West Brom<br>index=%{x}<br>value=%{y}<extra></extra>\",\"legendgroup\":\"West Brom\",\"marker\":{\"color\":\"#B68E00\",\"pattern\":{\"shape\":\"\"}},\"name\":\"West Brom\",\"offsetgroup\":\"West Brom\",\"orientation\":\"v\",\"showlegend\":true,\"textposition\":\"inside\",\"x\":[39],\"xaxis\":\"x\",\"y\":[117],\"yaxis\":\"y\",\"type\":\"bar\"},{\"alignmentgroup\":\"True\",\"hovertemplate\":\"Winner=West Ham<br>index=%{x}<br>value=%{y}<extra></extra>\",\"legendgroup\":\"West Ham\",\"marker\":{\"color\":\"#C9FBE5\",\"pattern\":{\"shape\":\"\"}},\"name\":\"West Ham\",\"offsetgroup\":\"West Ham\",\"orientation\":\"v\",\"showlegend\":true,\"textposition\":\"inside\",\"x\":[40],\"xaxis\":\"x\",\"y\":[219],\"yaxis\":\"y\",\"type\":\"bar\"},{\"alignmentgroup\":\"True\",\"hovertemplate\":\"Winner=Wigan<br>index=%{x}<br>value=%{y}<extra></extra>\",\"legendgroup\":\"Wigan\",\"marker\":{\"color\":\"#FF0092\",\"pattern\":{\"shape\":\"\"}},\"name\":\"Wigan\",\"offsetgroup\":\"Wigan\",\"orientation\":\"v\",\"showlegend\":true,\"textposition\":\"inside\",\"x\":[41],\"xaxis\":\"x\",\"y\":[86],\"yaxis\":\"y\",\"type\":\"bar\"},{\"alignmentgroup\":\"True\",\"hovertemplate\":\"Winner=Wolves<br>index=%{x}<br>value=%{y}<extra></extra>\",\"legendgroup\":\"Wolves\",\"marker\":{\"color\":\"#22FFA7\",\"pattern\":{\"shape\":\"\"}},\"name\":\"Wolves\",\"offsetgroup\":\"Wolves\",\"orientation\":\"v\",\"showlegend\":true,\"textposition\":\"inside\",\"x\":[42],\"xaxis\":\"x\",\"y\":[82],\"yaxis\":\"y\",\"type\":\"bar\"}],                        {\"template\":{\"data\":{\"bar\":[{\"error_x\":{\"color\":\"#2a3f5f\"},\"error_y\":{\"color\":\"#2a3f5f\"},\"marker\":{\"line\":{\"color\":\"#E5ECF6\",\"width\":0.5},\"pattern\":{\"fillmode\":\"overlay\",\"size\":10,\"solidity\":0.2}},\"type\":\"bar\"}],\"barpolar\":[{\"marker\":{\"line\":{\"color\":\"#E5ECF6\",\"width\":0.5},\"pattern\":{\"fillmode\":\"overlay\",\"size\":10,\"solidity\":0.2}},\"type\":\"barpolar\"}],\"carpet\":[{\"aaxis\":{\"endlinecolor\":\"#2a3f5f\",\"gridcolor\":\"white\",\"linecolor\":\"white\",\"minorgridcolor\":\"white\",\"startlinecolor\":\"#2a3f5f\"},\"baxis\":{\"endlinecolor\":\"#2a3f5f\",\"gridcolor\":\"white\",\"linecolor\":\"white\",\"minorgridcolor\":\"white\",\"startlinecolor\":\"#2a3f5f\"},\"type\":\"carpet\"}],\"choropleth\":[{\"colorbar\":{\"outlinewidth\":0,\"ticks\":\"\"},\"type\":\"choropleth\"}],\"contour\":[{\"colorbar\":{\"outlinewidth\":0,\"ticks\":\"\"},\"colorscale\":[[0.0,\"#0d0887\"],[0.1111111111111111,\"#46039f\"],[0.2222222222222222,\"#7201a8\"],[0.3333333333333333,\"#9c179e\"],[0.4444444444444444,\"#bd3786\"],[0.5555555555555556,\"#d8576b\"],[0.6666666666666666,\"#ed7953\"],[0.7777777777777778,\"#fb9f3a\"],[0.8888888888888888,\"#fdca26\"],[1.0,\"#f0f921\"]],\"type\":\"contour\"}],\"contourcarpet\":[{\"colorbar\":{\"outlinewidth\":0,\"ticks\":\"\"},\"type\":\"contourcarpet\"}],\"heatmap\":[{\"colorbar\":{\"outlinewidth\":0,\"ticks\":\"\"},\"colorscale\":[[0.0,\"#0d0887\"],[0.1111111111111111,\"#46039f\"],[0.2222222222222222,\"#7201a8\"],[0.3333333333333333,\"#9c179e\"],[0.4444444444444444,\"#bd3786\"],[0.5555555555555556,\"#d8576b\"],[0.6666666666666666,\"#ed7953\"],[0.7777777777777778,\"#fb9f3a\"],[0.8888888888888888,\"#fdca26\"],[1.0,\"#f0f921\"]],\"type\":\"heatmap\"}],\"heatmapgl\":[{\"colorbar\":{\"outlinewidth\":0,\"ticks\":\"\"},\"colorscale\":[[0.0,\"#0d0887\"],[0.1111111111111111,\"#46039f\"],[0.2222222222222222,\"#7201a8\"],[0.3333333333333333,\"#9c179e\"],[0.4444444444444444,\"#bd3786\"],[0.5555555555555556,\"#d8576b\"],[0.6666666666666666,\"#ed7953\"],[0.7777777777777778,\"#fb9f3a\"],[0.8888888888888888,\"#fdca26\"],[1.0,\"#f0f921\"]],\"type\":\"heatmapgl\"}],\"histogram\":[{\"marker\":{\"pattern\":{\"fillmode\":\"overlay\",\"size\":10,\"solidity\":0.2}},\"type\":\"histogram\"}],\"histogram2d\":[{\"colorbar\":{\"outlinewidth\":0,\"ticks\":\"\"},\"colorscale\":[[0.0,\"#0d0887\"],[0.1111111111111111,\"#46039f\"],[0.2222222222222222,\"#7201a8\"],[0.3333333333333333,\"#9c179e\"],[0.4444444444444444,\"#bd3786\"],[0.5555555555555556,\"#d8576b\"],[0.6666666666666666,\"#ed7953\"],[0.7777777777777778,\"#fb9f3a\"],[0.8888888888888888,\"#fdca26\"],[1.0,\"#f0f921\"]],\"type\":\"histogram2d\"}],\"histogram2dcontour\":[{\"colorbar\":{\"outlinewidth\":0,\"ticks\":\"\"},\"colorscale\":[[0.0,\"#0d0887\"],[0.1111111111111111,\"#46039f\"],[0.2222222222222222,\"#7201a8\"],[0.3333333333333333,\"#9c179e\"],[0.4444444444444444,\"#bd3786\"],[0.5555555555555556,\"#d8576b\"],[0.6666666666666666,\"#ed7953\"],[0.7777777777777778,\"#fb9f3a\"],[0.8888888888888888,\"#fdca26\"],[1.0,\"#f0f921\"]],\"type\":\"histogram2dcontour\"}],\"mesh3d\":[{\"colorbar\":{\"outlinewidth\":0,\"ticks\":\"\"},\"type\":\"mesh3d\"}],\"parcoords\":[{\"line\":{\"colorbar\":{\"outlinewidth\":0,\"ticks\":\"\"}},\"type\":\"parcoords\"}],\"pie\":[{\"automargin\":true,\"type\":\"pie\"}],\"scatter\":[{\"marker\":{\"colorbar\":{\"outlinewidth\":0,\"ticks\":\"\"}},\"type\":\"scatter\"}],\"scatter3d\":[{\"line\":{\"colorbar\":{\"outlinewidth\":0,\"ticks\":\"\"}},\"marker\":{\"colorbar\":{\"outlinewidth\":0,\"ticks\":\"\"}},\"type\":\"scatter3d\"}],\"scattercarpet\":[{\"marker\":{\"colorbar\":{\"outlinewidth\":0,\"ticks\":\"\"}},\"type\":\"scattercarpet\"}],\"scattergeo\":[{\"marker\":{\"colorbar\":{\"outlinewidth\":0,\"ticks\":\"\"}},\"type\":\"scattergeo\"}],\"scattergl\":[{\"marker\":{\"colorbar\":{\"outlinewidth\":0,\"ticks\":\"\"}},\"type\":\"scattergl\"}],\"scattermapbox\":[{\"marker\":{\"colorbar\":{\"outlinewidth\":0,\"ticks\":\"\"}},\"type\":\"scattermapbox\"}],\"scatterpolar\":[{\"marker\":{\"colorbar\":{\"outlinewidth\":0,\"ticks\":\"\"}},\"type\":\"scatterpolar\"}],\"scatterpolargl\":[{\"marker\":{\"colorbar\":{\"outlinewidth\":0,\"ticks\":\"\"}},\"type\":\"scatterpolargl\"}],\"scatterternary\":[{\"marker\":{\"colorbar\":{\"outlinewidth\":0,\"ticks\":\"\"}},\"type\":\"scatterternary\"}],\"surface\":[{\"colorbar\":{\"outlinewidth\":0,\"ticks\":\"\"},\"colorscale\":[[0.0,\"#0d0887\"],[0.1111111111111111,\"#46039f\"],[0.2222222222222222,\"#7201a8\"],[0.3333333333333333,\"#9c179e\"],[0.4444444444444444,\"#bd3786\"],[0.5555555555555556,\"#d8576b\"],[0.6666666666666666,\"#ed7953\"],[0.7777777777777778,\"#fb9f3a\"],[0.8888888888888888,\"#fdca26\"],[1.0,\"#f0f921\"]],\"type\":\"surface\"}],\"table\":[{\"cells\":{\"fill\":{\"color\":\"#EBF0F8\"},\"line\":{\"color\":\"white\"}},\"header\":{\"fill\":{\"color\":\"#C8D4E3\"},\"line\":{\"color\":\"white\"}},\"type\":\"table\"}]},\"layout\":{\"annotationdefaults\":{\"arrowcolor\":\"#2a3f5f\",\"arrowhead\":0,\"arrowwidth\":1},\"autotypenumbers\":\"strict\",\"coloraxis\":{\"colorbar\":{\"outlinewidth\":0,\"ticks\":\"\"}},\"colorscale\":{\"diverging\":[[0,\"#8e0152\"],[0.1,\"#c51b7d\"],[0.2,\"#de77ae\"],[0.3,\"#f1b6da\"],[0.4,\"#fde0ef\"],[0.5,\"#f7f7f7\"],[0.6,\"#e6f5d0\"],[0.7,\"#b8e186\"],[0.8,\"#7fbc41\"],[0.9,\"#4d9221\"],[1,\"#276419\"]],\"sequential\":[[0.0,\"#0d0887\"],[0.1111111111111111,\"#46039f\"],[0.2222222222222222,\"#7201a8\"],[0.3333333333333333,\"#9c179e\"],[0.4444444444444444,\"#bd3786\"],[0.5555555555555556,\"#d8576b\"],[0.6666666666666666,\"#ed7953\"],[0.7777777777777778,\"#fb9f3a\"],[0.8888888888888888,\"#fdca26\"],[1.0,\"#f0f921\"]],\"sequentialminus\":[[0.0,\"#0d0887\"],[0.1111111111111111,\"#46039f\"],[0.2222222222222222,\"#7201a8\"],[0.3333333333333333,\"#9c179e\"],[0.4444444444444444,\"#bd3786\"],[0.5555555555555556,\"#d8576b\"],[0.6666666666666666,\"#ed7953\"],[0.7777777777777778,\"#fb9f3a\"],[0.8888888888888888,\"#fdca26\"],[1.0,\"#f0f921\"]]},\"colorway\":[\"#636efa\",\"#EF553B\",\"#00cc96\",\"#ab63fa\",\"#FFA15A\",\"#19d3f3\",\"#FF6692\",\"#B6E880\",\"#FF97FF\",\"#FECB52\"],\"font\":{\"color\":\"#2a3f5f\"},\"geo\":{\"bgcolor\":\"white\",\"lakecolor\":\"white\",\"landcolor\":\"#E5ECF6\",\"showlakes\":true,\"showland\":true,\"subunitcolor\":\"white\"},\"hoverlabel\":{\"align\":\"left\"},\"hovermode\":\"closest\",\"mapbox\":{\"style\":\"light\"},\"paper_bgcolor\":\"white\",\"plot_bgcolor\":\"#E5ECF6\",\"polar\":{\"angularaxis\":{\"gridcolor\":\"white\",\"linecolor\":\"white\",\"ticks\":\"\"},\"bgcolor\":\"#E5ECF6\",\"radialaxis\":{\"gridcolor\":\"white\",\"linecolor\":\"white\",\"ticks\":\"\"}},\"scene\":{\"xaxis\":{\"backgroundcolor\":\"#E5ECF6\",\"gridcolor\":\"white\",\"gridwidth\":2,\"linecolor\":\"white\",\"showbackground\":true,\"ticks\":\"\",\"zerolinecolor\":\"white\"},\"yaxis\":{\"backgroundcolor\":\"#E5ECF6\",\"gridcolor\":\"white\",\"gridwidth\":2,\"linecolor\":\"white\",\"showbackground\":true,\"ticks\":\"\",\"zerolinecolor\":\"white\"},\"zaxis\":{\"backgroundcolor\":\"#E5ECF6\",\"gridcolor\":\"white\",\"gridwidth\":2,\"linecolor\":\"white\",\"showbackground\":true,\"ticks\":\"\",\"zerolinecolor\":\"white\"}},\"shapedefaults\":{\"line\":{\"color\":\"#2a3f5f\"}},\"ternary\":{\"aaxis\":{\"gridcolor\":\"white\",\"linecolor\":\"white\",\"ticks\":\"\"},\"baxis\":{\"gridcolor\":\"white\",\"linecolor\":\"white\",\"ticks\":\"\"},\"bgcolor\":\"#E5ECF6\",\"caxis\":{\"gridcolor\":\"white\",\"linecolor\":\"white\",\"ticks\":\"\"}},\"title\":{\"x\":0.05},\"xaxis\":{\"automargin\":true,\"gridcolor\":\"white\",\"linecolor\":\"white\",\"ticks\":\"\",\"title\":{\"standoff\":15},\"zerolinecolor\":\"white\",\"zerolinewidth\":2},\"yaxis\":{\"automargin\":true,\"gridcolor\":\"white\",\"linecolor\":\"white\",\"ticks\":\"\",\"title\":{\"standoff\":15},\"zerolinecolor\":\"white\",\"zerolinewidth\":2}}},\"xaxis\":{\"anchor\":\"y\",\"domain\":[0.0,1.0],\"title\":{\"text\":\"index\"}},\"yaxis\":{\"anchor\":\"x\",\"domain\":[0.0,1.0],\"title\":{\"text\":\"value\"}},\"legend\":{\"title\":{\"text\":\"Winner\"},\"tracegroupgap\":0},\"title\":{\"text\":\"Premier league  Result from 2003 - 2022 - Most Win Team\"},\"barmode\":\"relative\"},                        {\"responsive\": true}                    ).then(function(){\n",
              "                            \n",
              "var gd = document.getElementById('806dd275-44ca-4149-80e3-440bf8699721');\n",
              "var x = new MutationObserver(function (mutations, observer) {{\n",
              "        var display = window.getComputedStyle(gd).display;\n",
              "        if (!display || display === 'none') {{\n",
              "            console.log([gd, 'removed!']);\n",
              "            Plotly.purge(gd);\n",
              "            observer.disconnect();\n",
              "        }}\n",
              "}});\n",
              "\n",
              "// Listen for the removal of the full notebook cells\n",
              "var notebookContainer = gd.closest('#notebook-container');\n",
              "if (notebookContainer) {{\n",
              "    x.observe(notebookContainer, {childList: true});\n",
              "}}\n",
              "\n",
              "// Listen for the clearing of the current output cell\n",
              "var outputEl = gd.closest('.output');\n",
              "if (outputEl) {{\n",
              "    x.observe(outputEl, {childList: true});\n",
              "}}\n",
              "\n",
              "                        })                };                            </script>        </div>\n",
              "</body>\n",
              "</html>"
            ]
          },
          "metadata": {},
          "output_type": "display_data"
        }
      ],
      "source": [
        "### Group by Winner \n",
        "teamresult = df.groupby('Winner')['Winner'].count().reset_index(name = \"Count\")\n",
        "### Drop the results which were \"Draw\" as this data was not required for the visualisation\n",
        "teamresult = teamresult[teamresult.Winner != 'Draw']\n",
        "### Visualisation\n",
        "fig2 = px.bar(teamresult, title = \"Premier league  Result from 2003 - 2022 - Most Win Team\", color = 'Winner', color_discrete_sequence=px.colors.qualitative.Light24)\n",
        "fig2.update_traces(textposition='inside',)\n",
        "fig2.show()"
      ]
    },
    {
      "cell_type": "markdown",
      "metadata": {
        "id": "1bKuipd53vMR"
      },
      "source": [
        "### Observations\n",
        "##### We can see that Man utd, Chelsea, Arsenal has most no of wins, followed by Man city, Liverpool and Tottenham ,\n",
        "##### Each of the team has percentage of more than 5 of the total wins occured in the preimier league\n",
        " "
      ]
    },
    {
      "cell_type": "code",
      "execution_count": null,
      "metadata": {
        "colab": {
          "base_uri": "https://localhost:8080/",
          "height": 732
        },
        "id": "didKAmw0CGaS",
        "outputId": "05559b7a-48be-43a4-bd31-bb0b45e46d8d"
      },
      "outputs": [
        {
          "name": "stderr",
          "output_type": "stream",
          "text": [
            "/usr/local/lib/python3.7/dist-packages/seaborn/_decorators.py:43: FutureWarning:\n",
            "\n",
            "Pass the following variables as keyword args: x, y. From version 0.12, the only valid positional argument will be `data`, and passing other arguments without an explicit keyword will result in an error or misinterpretation.\n",
            "\n"
          ]
        },
        {
          "data": {
            "text/plain": [
              "Text(0, 0.5, 'Team')"
            ]
          },
          "execution_count": 10,
          "metadata": {},
          "output_type": "execute_result"
        },
        {
          "data": {
            "image/png": "[encoded data removed]",
            "text/plain": [
              "<Figure size 720x720 with 1 Axes>"
            ]
          },
          "metadata": {
            "needs_background": "light"
          },
          "output_type": "display_data"
        }
      ],
      "source": [
        "EPL_home = df.groupby(df.HomeTeam)\n",
        "EPL_away = df.groupby(df.AwayTeam)\n",
        "\n",
        "EPL_team_goals = EPL_home['FTHG'].sum() + EPL_away['FTAG'].sum()\n",
        "EPL_team_goals = EPL_team_goals.reset_index()\n",
        "EPL_team_goals.rename( columns={0 :'Goals'}, inplace=True )\n",
        "EPL_team_goals = EPL_team_goals.sort_values(['Goals'], ascending=False)\n",
        "\n",
        "matplotlib.rcParams['figure.figsize'] = (10, 10)\n",
        "sns.barplot(\"Goals\",'HomeTeam', data = EPL_team_goals[0:6] )\n",
        "plt.title('Overall Goals Scored')\n",
        "plt.ylabel('Team')"
      ]
    },
    {
      "cell_type": "markdown",
      "metadata": {
        "id": "rV5jp7HQ5hYE"
      },
      "source": [
        "##### Manchester united, Manchester city and arsenal are in the top of scoring goals with each team scoring more than 1500 goals in the past 20 seasons\n",
        "##### The same teams showed the same tendency in the most no of wins"
      ]
    },
    {
      "cell_type": "markdown",
      "metadata": {
        "id": "GgdSFpwCCOeC"
      },
      "source": [
        "### Total goals scored  by each team in descending order"
      ]
    },
    {
      "cell_type": "code",
      "execution_count": null,
      "metadata": {
        "colab": {
          "base_uri": "https://localhost:8080/",
          "height": 1000
        },
        "id": "cYwq79HdCPSz",
        "outputId": "eedd8dfd-557c-46aa-bdfe-f61e1ca557d3"
      },
      "outputs": [
        {
          "name": "stderr",
          "output_type": "stream",
          "text": [
            "/usr/local/lib/python3.7/dist-packages/seaborn/_decorators.py:43: FutureWarning:\n",
            "\n",
            "Pass the following variables as keyword args: x, y. From version 0.12, the only valid positional argument will be `data`, and passing other arguments without an explicit keyword will result in an error or misinterpretation.\n",
            "\n"
          ]
        },
        {
          "data": {
            "text/plain": [
              "Text(0, 0.5, 'Team')"
            ]
          },
          "execution_count": 28,
          "metadata": {},
          "output_type": "execute_result"
        },
        {
          "data": {
            "image/png": "[encoded data removed]",
            "text/plain": [
              "<Figure size 1440x1440 with 1 Axes>"
            ]
          },
          "metadata": {
            "needs_background": "light"
          },
          "output_type": "display_data"
        }
      ],
      "source": [
        "EPL_home = df.groupby(df.HomeTeam)\n",
        "EPL_away = df.groupby(df.AwayTeam)\n",
        "\n",
        "EPL_team_goals = EPL_home['FTHG'].sum() + EPL_away['FTAG'].sum()\n",
        "EPL_team_goals = EPL_team_goals.reset_index()\n",
        "EPL_team_goals.rename( columns={0 :'Goals'}, inplace=True )\n",
        "EPL_team_goals = EPL_team_goals.sort_values(['Goals'], ascending=False)\n",
        "\n",
        "matplotlib.rcParams['figure.figsize'] = (20, 20)\n",
        "sns.barplot(\"Goals\",'HomeTeam', data = EPL_team_goals )\n",
        "plt.title('Overall Goals Scored')\n",
        "plt.ylabel('Team')"
      ]
    },
    {
      "cell_type": "markdown",
      "metadata": {
        "id": "aJNzFFjACaP7"
      },
      "source": [
        "#### From the graph below we can see that man city has most number of goals near about 1400 goals in 20 seasons.\n",
        "Followed by arsenal in the second place\n",
        "Manchester united, liverpool, Chelsea are also in the top place in scoring goals\n",
        "\n",
        " "
      ]
    },
    {
      "cell_type": "markdown",
      "metadata": {
        "id": "dVKBVkO74zD3"
      },
      "source": [
        "###Figure shows the relation of full time result to the full time home goals"
      ]
    },
    {
      "cell_type": "code",
      "execution_count": null,
      "metadata": {
        "colab": {
          "base_uri": "https://localhost:8080/",
          "height": 578
        },
        "id": "Hn4YFhTUkYB0",
        "outputId": "a6de1d33-3949-4018-f566-f89f8df873a9"
      },
      "outputs": [
        {
          "data": {
            "image/png": "[encoded data removed]",
            "text/plain": [
              "<Figure size 1224x648 with 1 Axes>"
            ]
          },
          "metadata": {
            "needs_background": "light"
          },
          "output_type": "display_data"
        }
      ],
      "source": [
        "plt.figure(figsize=(17, 9))\n",
        "sns.boxplot(y=\"FTHG\", x=\"FTR\", data=df)\n",
        "plt.show()"
      ]
    },
    {
      "cell_type": "markdown",
      "metadata": {
        "id": "wijPSRdC45C9"
      },
      "source": [
        "### We can see that that when full time home goals tend to be on 2to 4, the home team most likely to win the game\n",
        "\n",
        "### When the team score goals from 0 to 1, the  team most likely to loose or end up in draw"
      ]
    },
    {
      "cell_type": "markdown",
      "metadata": {
        "id": "YXLHj3vz5CUM"
      },
      "source": [
        "## Modelling and training the dataset\n",
        " "
      ]
    },
    {
      "cell_type": "markdown",
      "metadata": {
        "id": "fAdFsylR5S5I"
      },
      "source": [
        "### Dropping unnecessary columns before modelling"
      ]
    },
    {
      "cell_type": "code",
      "execution_count": null,
      "metadata": {
        "id": "4cTPQJGukpC2"
      },
      "outputs": [],
      "source": [
        "\n",
        "df = df.drop('Winner',axis=1)\n",
        "df = df.drop('Result',axis=1)\n",
        "df = df.drop('Year',axis=1)\n",
        "df = df.drop('TotalGoal',axis=1)\n",
        "df = df.drop('GoalDif',axis=1)"
      ]
    },
    {
      "cell_type": "code",
      "execution_count": null,
      "metadata": {
        "colab": {
          "base_uri": "https://localhost:8080/",
          "height": 206
        },
        "id": "gGtP5B48WOJy",
        "outputId": "0e679028-70a2-4cb6-cdba-abbe7fc8c686"
      },
      "outputs": [
        {
          "data": {
            "text/html": [
              "\n",
              "  <div id=\"df-2e62dfd0-09f2-4d0e-b9f5-e8d8a7da8602\">\n",
              "    <div class=\"colab-df-container\">\n",
              "      <div>\n",
              "<style scoped>\n",
              "    .dataframe tbody tr th:only-of-type {\n",
              "        vertical-align: middle;\n",
              "    }\n",
              "\n",
              "    .dataframe tbody tr th {\n",
              "        vertical-align: top;\n",
              "    }\n",
              "\n",
              "    .dataframe thead th {\n",
              "        text-align: right;\n",
              "    }\n",
              "</style>\n",
              "<table border=\"1\" class=\"dataframe\">\n",
              "  <thead>\n",
              "    <tr style=\"text-align: right;\">\n",
              "      <th></th>\n",
              "      <th>Div</th>\n",
              "      <th>Date</th>\n",
              "      <th>HomeTeam</th>\n",
              "      <th>AwayTeam</th>\n",
              "      <th>FTHG</th>\n",
              "      <th>FTAG</th>\n",
              "      <th>FTR</th>\n",
              "      <th>month</th>\n",
              "      <th>Day</th>\n",
              "      <th>Weekday</th>\n",
              "    </tr>\n",
              "  </thead>\n",
              "  <tbody>\n",
              "    <tr>\n",
              "      <th>0</th>\n",
              "      <td>E0</td>\n",
              "      <td>2002-08-17</td>\n",
              "      <td>Blackburn</td>\n",
              "      <td>Sunderland</td>\n",
              "      <td>0</td>\n",
              "      <td>0</td>\n",
              "      <td>D</td>\n",
              "      <td>8</td>\n",
              "      <td>17</td>\n",
              "      <td>5</td>\n",
              "    </tr>\n",
              "    <tr>\n",
              "      <th>1</th>\n",
              "      <td>E0</td>\n",
              "      <td>2002-08-17</td>\n",
              "      <td>Charlton</td>\n",
              "      <td>Chelsea</td>\n",
              "      <td>2</td>\n",
              "      <td>3</td>\n",
              "      <td>A</td>\n",
              "      <td>8</td>\n",
              "      <td>17</td>\n",
              "      <td>5</td>\n",
              "    </tr>\n",
              "    <tr>\n",
              "      <th>2</th>\n",
              "      <td>E0</td>\n",
              "      <td>2002-08-17</td>\n",
              "      <td>Everton</td>\n",
              "      <td>Tottenham</td>\n",
              "      <td>2</td>\n",
              "      <td>2</td>\n",
              "      <td>D</td>\n",
              "      <td>8</td>\n",
              "      <td>17</td>\n",
              "      <td>5</td>\n",
              "    </tr>\n",
              "    <tr>\n",
              "      <th>3</th>\n",
              "      <td>E0</td>\n",
              "      <td>2002-08-17</td>\n",
              "      <td>Fulham</td>\n",
              "      <td>Bolton</td>\n",
              "      <td>4</td>\n",
              "      <td>1</td>\n",
              "      <td>H</td>\n",
              "      <td>8</td>\n",
              "      <td>17</td>\n",
              "      <td>5</td>\n",
              "    </tr>\n",
              "    <tr>\n",
              "      <th>4</th>\n",
              "      <td>E0</td>\n",
              "      <td>2002-08-17</td>\n",
              "      <td>Leeds</td>\n",
              "      <td>Man City</td>\n",
              "      <td>3</td>\n",
              "      <td>0</td>\n",
              "      <td>H</td>\n",
              "      <td>8</td>\n",
              "      <td>17</td>\n",
              "      <td>5</td>\n",
              "    </tr>\n",
              "  </tbody>\n",
              "</table>\n",
              "</div>\n",
              "      <button class=\"colab-df-convert\" onclick=\"convertToInteractive('df-2e62dfd0-09f2-4d0e-b9f5-e8d8a7da8602')\"\n",
              "              title=\"Convert this dataframe to an interactive table.\"\n",
              "              style=\"display:none;\">\n",
              "        \n",
              "  <svg xmlns=\"http://www.w3.org/2000/svg\" height=\"24px\"viewBox=\"0 0 24 24\"\n",
              "       width=\"24px\">\n",
              "    <path d=\"M0 0h24v24H0V0z\" fill=\"none\"/>\n",
              "    <path d=\"M18.56 5.44l.94 2.06.94-2.06 2.06-.94-2.06-.94-.94-2.06-.94 2.06-2.06.94zm-11 1L8.5 8.5l.94-2.06 2.06-.94-2.06-.94L8.5 2.5l-.94 2.06-2.06.94zm10 10l.94 2.06.94-2.06 2.06-.94-2.06-.94-.94-2.06-.94 2.06-2.06.94z\"/><path d=\"M17.41 7.96l-1.37-1.37c-.4-.4-.92-.59-1.43-.59-.52 0-1.04.2-1.43.59L10.3 9.45l-7.72 7.72c-.78.78-.78 2.05 0 2.83L4 21.41c.39.39.9.59 1.41.59.51 0 1.02-.2 1.41-.59l7.78-7.78 2.81-2.81c.8-.78.8-2.07 0-2.86zM5.41 20L4 18.59l7.72-7.72 1.47 1.35L5.41 20z\"/>\n",
              "  </svg>\n",
              "      </button>\n",
              "      \n",
              "  <style>\n",
              "    .colab-df-container {\n",
              "      display:flex;\n",
              "      flex-wrap:wrap;\n",
              "      gap: 12px;\n",
              "    }\n",
              "\n",
              "    .colab-df-convert {\n",
              "      background-color: #E8F0FE;\n",
              "      border: none;\n",
              "      border-radius: 50%;\n",
              "      cursor: pointer;\n",
              "      display: none;\n",
              "      fill: #1967D2;\n",
              "      height: 32px;\n",
              "      padding: 0 0 0 0;\n",
              "      width: 32px;\n",
              "    }\n",
              "\n",
              "    .colab-df-convert:hover {\n",
              "      background-color: #E2EBFA;\n",
              "      box-shadow: 0px 1px 2px rgba(60, 64, 67, 0.3), 0px 1px 3px 1px rgba(60, 64, 67, 0.15);\n",
              "      fill: #174EA6;\n",
              "    }\n",
              "\n",
              "    [theme=dark] .colab-df-convert {\n",
              "      background-color: #3B4455;\n",
              "      fill: #D2E3FC;\n",
              "    }\n",
              "\n",
              "    [theme=dark] .colab-df-convert:hover {\n",
              "      background-color: #434B5C;\n",
              "      box-shadow: 0px 1px 3px 1px rgba(0, 0, 0, 0.15);\n",
              "      filter: drop-shadow(0px 1px 2px rgba(0, 0, 0, 0.3));\n",
              "      fill: #FFFFFF;\n",
              "    }\n",
              "  </style>\n",
              "\n",
              "      <script>\n",
              "        const buttonEl =\n",
              "          document.querySelector('#df-2e62dfd0-09f2-4d0e-b9f5-e8d8a7da8602 button.colab-df-convert');\n",
              "        buttonEl.style.display =\n",
              "          google.colab.kernel.accessAllowed ? 'block' : 'none';\n",
              "\n",
              "        async function convertToInteractive(key) {\n",
              "          const element = document.querySelector('#df-2e62dfd0-09f2-4d0e-b9f5-e8d8a7da8602');\n",
              "          const dataTable =\n",
              "            await google.colab.kernel.invokeFunction('convertToInteractive',\n",
              "                                                     [key], {});\n",
              "          if (!dataTable) return;\n",
              "\n",
              "          const docLinkHtml = 'Like what you see? Visit the ' +\n",
              "            '<a target=\"_blank\" href=https://colab.research.google.com/notebooks/data_table.ipynb>data table notebook</a>'\n",
              "            + ' to learn more about interactive tables.';\n",
              "          element.innerHTML = '';\n",
              "          dataTable['output_type'] = 'display_data';\n",
              "          await google.colab.output.renderOutput(dataTable, element);\n",
              "          const docLink = document.createElement('div');\n",
              "          docLink.innerHTML = docLinkHtml;\n",
              "          element.appendChild(docLink);\n",
              "        }\n",
              "      </script>\n",
              "    </div>\n",
              "  </div>\n",
              "  "
            ],
            "text/plain": [
              "  Div       Date   HomeTeam    AwayTeam  FTHG  FTAG FTR  month  Day  Weekday\n",
              "0  E0 2002-08-17  Blackburn  Sunderland     0     0   D      8   17        5\n",
              "1  E0 2002-08-17   Charlton     Chelsea     2     3   A      8   17        5\n",
              "2  E0 2002-08-17    Everton   Tottenham     2     2   D      8   17        5\n",
              "3  E0 2002-08-17     Fulham      Bolton     4     1   H      8   17        5\n",
              "4  E0 2002-08-17      Leeds    Man City     3     0   H      8   17        5"
            ]
          },
          "execution_count": 5,
          "metadata": {},
          "output_type": "execute_result"
        }
      ],
      "source": [
        " ## Extracting month from the datae column and creating a column for the month\n",
        "df['month'] = pd.DatetimeIndex(df['Date']).month\n",
        "df['Day']= pd.DatetimeIndex(df['Date']).day\n",
        "df['Weekday']=pd.DatetimeIndex(df['Date']).weekday\n",
        "df.head()\n",
        " "
      ]
    },
    {
      "cell_type": "code",
      "execution_count": null,
      "metadata": {
        "id": "8zrIYox4hQW1"
      },
      "outputs": [],
      "source": [
        "df=df[['month','Day','Weekday','HomeTeam','AwayTeam','FTR']]"
      ]
    },
    {
      "cell_type": "markdown",
      "metadata": {
        "id": "akUBhU175YQy"
      },
      "source": [
        "## One hot encoding"
      ]
    },
    {
      "cell_type": "code",
      "execution_count": null,
      "metadata": {
        "id": "dnqgXWfflBUv"
      },
      "outputs": [],
      "source": [
        "f=pd.get_dummies(df['HomeTeam']) ## Taking the dummy values in the homeTeam colummn\n",
        "e=pd.get_dummies(df['AwayTeam']) ## Taking the dummmy values in the  awayTeam column\n",
        "e=e.replace([1],[-1])\n",
        "e=e.add(f)\n",
        "\n",
        "df=df.join(e)"
      ]
    },
    {
      "cell_type": "markdown",
      "metadata": {
        "id": "AJuSx6Tv5pXY"
      },
      "source": [
        "##### One hot encoding is done to create dummy values for the HomeTeam column and AwayTeam column\n",
        "##### Now each team has a seperate column in which 0 value is put when no match is occuring and 1 or -1 value when there is a match\n",
        "##### The teams which plays in home is denoted as 1 and for the teams which plays away is denoted as -1"
      ]
    },
    {
      "cell_type": "code",
      "execution_count": null,
      "metadata": {
        "id": "ezCK9QABlVHO"
      },
      "outputs": [],
      "source": [
        "df = df.drop('HomeTeam',axis=1)\n",
        "df = df.drop('AwayTeam',axis=1)"
      ]
    },
    {
      "cell_type": "markdown",
      "metadata": {
        "id": "4TYP_yVu5cvs"
      },
      "source": [
        "##### Replacing the FTR or full time result values as \n",
        "### 1 for home team win\n",
        "###-1 for away team win\n",
        "###  0 for draw"
      ]
    },
    {
      "cell_type": "code",
      "execution_count": null,
      "metadata": {
        "id": "rDlNymKplZXW"
      },
      "outputs": [],
      "source": [
        "df = df.replace(['H','A','D'],[1,-1,0])"
      ]
    },
    {
      "cell_type": "code",
      "execution_count": null,
      "metadata": {
        "colab": {
          "base_uri": "https://localhost:8080/"
        },
        "id": "oEhO7VQUl-LH",
        "outputId": "44814909-53ea-4bdb-9a1a-0e92755e30ec"
      },
      "outputs": [
        {
          "name": "stdout",
          "output_type": "stream",
          "text": [
            "month               0\n",
            "Day                 0\n",
            "Weekday             0\n",
            "FTR                 0\n",
            "Arsenal             0\n",
            "Aston Villa         0\n",
            "Birmingham          0\n",
            "Blackburn           0\n",
            "Blackpool           0\n",
            "Bolton              0\n",
            "Bournemouth         0\n",
            "Brentford           0\n",
            "Brighton            0\n",
            "Burnley             0\n",
            "Cardiff             0\n",
            "Charlton            0\n",
            "Chelsea             0\n",
            "Crystal Palace      0\n",
            "Derby               0\n",
            "Everton             0\n",
            "Fulham              0\n",
            "Huddersfield        0\n",
            "Hull                0\n",
            "Leeds               0\n",
            "Leicester           0\n",
            "Liverpool           0\n",
            "Man City            0\n",
            "Man United          0\n",
            "Middlesbrough       0\n",
            "Newcastle           0\n",
            "Norwich             0\n",
            "Nott'm Forest       0\n",
            "Portsmouth          0\n",
            "QPR                 0\n",
            "Reading             0\n",
            "Sheffield United    0\n",
            "Southampton         0\n",
            "Stoke               0\n",
            "Sunderland          0\n",
            "Swansea             0\n",
            "Tottenham           0\n",
            "Watford             0\n",
            "West Brom           0\n",
            "West Ham            0\n",
            "Wigan               0\n",
            "Wolves              0\n",
            "dtype: int64\n"
          ]
        }
      ],
      "source": [
        "print(df.isnull().sum())"
      ]
    },
    {
      "cell_type": "markdown",
      "metadata": {
        "id": "V_e1eXkK591G"
      },
      "source": [
        "##### Dropping the null values"
      ]
    },
    {
      "cell_type": "code",
      "execution_count": null,
      "metadata": {
        "id": "jet1P8DhmEP0"
      },
      "outputs": [],
      "source": [
        "df=df.dropna()"
      ]
    },
    {
      "cell_type": "code",
      "execution_count": null,
      "metadata": {
        "id": "CxeShvgR07GZ"
      },
      "outputs": [],
      "source": [
        "df1=df[7400:]\n",
        "x_test1=df1.drop('FTR',axis=1)\n",
        "y_test1=df1['FTR']"
      ]
    },
    {
      "cell_type": "markdown",
      "metadata": {
        "id": "b2wa27fs-G0L"
      },
      "source": [
        "## Splitting the model into train and test data"
      ]
    },
    {
      "cell_type": "code",
      "execution_count": null,
      "metadata": {
        "id": "kFvIcxaV-Lpk"
      },
      "outputs": [],
      "source": [
        "\n",
        "## Importing the libraries for splitting the dataset\n",
        "from sklearn.model_selection import train_test_split\n",
        "# X -> features, y -> label\n",
        "X = df.drop(\"FTR\", axis=1)\n",
        "Y = df[\"FTR\"]\n",
        "# dividing X, y into train and test data\n",
        "# X_train, X_test, y_train, y_test = train_test_split(X, Y, test_size=0.3, random_state=42)\n",
        "# dividing X, y into train and test data\n",
        "X_temp, X_test, y_temp, y_test = train_test_split(X, Y, test_size=0.2, random_state=42)\n",
        "X_train, X_valid, y_train, y_valid = train_test_split(X_temp, y_temp, test_size=0.2, random_state=42)\n"
      ]
    },
    {
      "cell_type": "markdown",
      "metadata": {
        "id": "CF2gcCjg6ISj"
      },
      "source": [
        "##### We are modelling the dataset with multiple models\n",
        "##### The model is apllied on the dataset which consists of encoded home and away teams with target variable FTR\n",
        "\n",
        " "
      ]
    },
    {
      "cell_type": "markdown",
      "metadata": {
        "id": "mMt0R_v891NA"
      },
      "source": [
        "### Training and showing the perfomance of the model"
      ]
    },
    {
      "cell_type": "markdown",
      "metadata": {
        "id": "Ouc4MoQn-bvl"
      },
      "source": [
        "#### Importing the libraries for training and testing the model"
      ]
    },
    {
      "cell_type": "code",
      "execution_count": null,
      "metadata": {
        "id": "d1JDiSFZoyfH"
      },
      "outputs": [],
      "source": [
        "\n",
        "## Importing the libraries for showing the model of the models\n",
        "from sklearn.metrics import accuracy_score\n",
        "from sklearn.metrics import confusion_matrix\n",
        "from sklearn import metrics\n",
        "from sklearn.model_selection import cross_val_score, KFold, StratifiedKFold\n",
        "from sklearn.metrics import precision_score, recall_score, f1_score, roc_auc_score, matthews_corrcoef\n",
        "from sklearn.model_selection import RandomizedSearchCV\n",
        "from sklearn.model_selection import GridSearchCV\n",
        "\n",
        "\n",
        "## From sklearn libraries, we are taking different models for training the model and comparing their accuracies \n",
        "\n",
        "from sklearn.neighbors import KNeighborsClassifier\n",
        "from xgboost import XGBClassifier\n",
        "from sklearn.ensemble import RandomForestClassifier   \n",
        "from sklearn.model_selection import cross_val_score \n",
        "from sklearn.linear_model import LogisticRegression\n",
        "\n",
        "#defining the model variable\n",
        "knn = KNeighborsClassifier()\n",
        "xgb = XGBClassifier()\n",
        "lr = LogisticRegression()\n",
        "rf = RandomForestClassifier(max_depth=2, random_state=0)\n"
      ]
    },
    {
      "cell_type": "markdown",
      "metadata": {
        "id": "ALfCmfVI4YkW"
      },
      "source": [
        "##### We have defined four models for training\n",
        "##### Each of them being Knn, XGboost, Logistic regression and random forrest\n",
        "##### These models are trained on the dataset and tested for knowing the perfomance\n",
        "##### The models which gets the highest accuracy can be used for testing."
      ]
    },
    {
      "cell_type": "markdown",
      "metadata": {
        "id": "1yzeTca8-lRn"
      },
      "source": [
        "#### Training and testing the model"
      ]
    },
    {
      "cell_type": "code",
      "execution_count": null,
      "metadata": {
        "colab": {
          "base_uri": "https://localhost:8080/",
          "height": 1000
        },
        "id": "X2Er07czo5jm",
        "outputId": "7de87bfd-fcf1-4438-92c7-910db454f185"
      },
      "outputs": [
        {
          "name": "stdout",
          "output_type": "stream",
          "text": [
            "Accuracy of testing: 0.409\n",
            "Accuracy of training: 0.612\n",
            "scores of training\n",
            "[0.38758901 0.40488301 0.39511202 0.3910387  0.3808554 ]\n",
            "0.39189562687893786\n",
            "Confusion matrix of testing data\n",
            "KNN\n"
          ]
        },
        {
          "data": {
            "image/png": "[encoded data removed]",
            "text/plain": [
              "<Figure size 576x288 with 2 Axes>"
            ]
          },
          "metadata": {
            "needs_background": "light"
          },
          "output_type": "display_data"
        },
        {
          "name": "stdout",
          "output_type": "stream",
          "text": [
            "\n",
            "\n",
            "\n",
            "confusion matrix of training data\n",
            "KNN\n"
          ]
        },
        {
          "data": {
            "image/png": "[encoded data removed]",
            "text/plain": [
              "<Figure size 576x288 with 2 Axes>"
            ]
          },
          "metadata": {
            "needs_background": "light"
          },
          "output_type": "display_data"
        },
        {
          "name": "stdout",
          "output_type": "stream",
          "text": [
            "\n",
            "\n",
            "\n",
            "Accuracy of testing: 0.508\n",
            "Accuracy of training: 0.553\n",
            "scores of training\n",
            "[0.51068159 0.51780264 0.51934827 0.51731161 0.52545825]\n",
            "0.5181204716431889\n",
            "Confusion matrix of testing data\n",
            "XGBoost\n"
          ]
        },
        {
          "data": {
            "image/png": "[encoded data removed]",
            "text/plain": [
              "<Figure size 576x288 with 2 Axes>"
            ]
          },
          "metadata": {
            "needs_background": "light"
          },
          "output_type": "display_data"
        },
        {
          "name": "stdout",
          "output_type": "stream",
          "text": [
            "\n",
            "\n",
            "\n",
            "confusion matrix of training data\n",
            "XGBoost\n"
          ]
        },
        {
          "data": {
            "image/png": "[encoded data removed]",
            "text/plain": [
              "<Figure size 576x288 with 2 Axes>"
            ]
          },
          "metadata": {
            "needs_background": "light"
          },
          "output_type": "display_data"
        },
        {
          "name": "stdout",
          "output_type": "stream",
          "text": [
            "\n",
            "\n",
            "\n"
          ]
        },
        {
          "name": "stderr",
          "output_type": "stream",
          "text": [
            "/usr/local/lib/python3.8/dist-packages/sklearn/linear_model/_logistic.py:814: ConvergenceWarning: lbfgs failed to converge (status=1):\n",
            "STOP: TOTAL NO. of ITERATIONS REACHED LIMIT.\n",
            "\n",
            "Increase the number of iterations (max_iter) or scale the data as shown in:\n",
            "    https://scikit-learn.org/stable/modules/preprocessing.html\n",
            "Please also refer to the documentation for alternative solver options:\n",
            "    https://scikit-learn.org/stable/modules/linear_model.html#logistic-regression\n",
            "  n_iter_i = _check_optimize_result(\n"
          ]
        },
        {
          "name": "stdout",
          "output_type": "stream",
          "text": [
            "Accuracy of testing: 0.511\n",
            "Accuracy of training: 0.533\n"
          ]
        },
        {
          "name": "stderr",
          "output_type": "stream",
          "text": [
            "/usr/local/lib/python3.8/dist-packages/sklearn/linear_model/_logistic.py:814: ConvergenceWarning: lbfgs failed to converge (status=1):\n",
            "STOP: TOTAL NO. of ITERATIONS REACHED LIMIT.\n",
            "\n",
            "Increase the number of iterations (max_iter) or scale the data as shown in:\n",
            "    https://scikit-learn.org/stable/modules/preprocessing.html\n",
            "Please also refer to the documentation for alternative solver options:\n",
            "    https://scikit-learn.org/stable/modules/linear_model.html#logistic-regression\n",
            "  n_iter_i = _check_optimize_result(\n",
            "/usr/local/lib/python3.8/dist-packages/sklearn/linear_model/_logistic.py:814: ConvergenceWarning: lbfgs failed to converge (status=1):\n",
            "STOP: TOTAL NO. of ITERATIONS REACHED LIMIT.\n",
            "\n",
            "Increase the number of iterations (max_iter) or scale the data as shown in:\n",
            "    https://scikit-learn.org/stable/modules/preprocessing.html\n",
            "Please also refer to the documentation for alternative solver options:\n",
            "    https://scikit-learn.org/stable/modules/linear_model.html#logistic-regression\n",
            "  n_iter_i = _check_optimize_result(\n",
            "/usr/local/lib/python3.8/dist-packages/sklearn/linear_model/_logistic.py:814: ConvergenceWarning: lbfgs failed to converge (status=1):\n",
            "STOP: TOTAL NO. of ITERATIONS REACHED LIMIT.\n",
            "\n",
            "Increase the number of iterations (max_iter) or scale the data as shown in:\n",
            "    https://scikit-learn.org/stable/modules/preprocessing.html\n",
            "Please also refer to the documentation for alternative solver options:\n",
            "    https://scikit-learn.org/stable/modules/linear_model.html#logistic-regression\n",
            "  n_iter_i = _check_optimize_result(\n",
            "/usr/local/lib/python3.8/dist-packages/sklearn/linear_model/_logistic.py:814: ConvergenceWarning: lbfgs failed to converge (status=1):\n",
            "STOP: TOTAL NO. of ITERATIONS REACHED LIMIT.\n",
            "\n",
            "Increase the number of iterations (max_iter) or scale the data as shown in:\n",
            "    https://scikit-learn.org/stable/modules/preprocessing.html\n",
            "Please also refer to the documentation for alternative solver options:\n",
            "    https://scikit-learn.org/stable/modules/linear_model.html#logistic-regression\n",
            "  n_iter_i = _check_optimize_result(\n",
            "/usr/local/lib/python3.8/dist-packages/sklearn/linear_model/_logistic.py:814: ConvergenceWarning: lbfgs failed to converge (status=1):\n",
            "STOP: TOTAL NO. of ITERATIONS REACHED LIMIT.\n",
            "\n",
            "Increase the number of iterations (max_iter) or scale the data as shown in:\n",
            "    https://scikit-learn.org/stable/modules/preprocessing.html\n",
            "Please also refer to the documentation for alternative solver options:\n",
            "    https://scikit-learn.org/stable/modules/linear_model.html#logistic-regression\n",
            "  n_iter_i = _check_optimize_result(\n"
          ]
        },
        {
          "name": "stdout",
          "output_type": "stream",
          "text": [
            "scores of training\n",
            "[0.52797558 0.51881994 0.52240326 0.51934827 0.53971487]\n",
            "0.5256523838036851\n",
            "Confusion matrix of testing data\n",
            "Logistic regression\n"
          ]
        },
        {
          "data": {
            "image/png": "[encoded data removed]",
            "text/plain": [
              "<Figure size 576x288 with 2 Axes>"
            ]
          },
          "metadata": {
            "needs_background": "light"
          },
          "output_type": "display_data"
        },
        {
          "name": "stdout",
          "output_type": "stream",
          "text": [
            "\n",
            "\n",
            "\n",
            "confusion matrix of training data\n",
            "Logistic regression\n"
          ]
        },
        {
          "data": {
            "image/png": "[encoded data removed]",
            "text/plain": [
              "<Figure size 576x288 with 2 Axes>"
            ]
          },
          "metadata": {
            "needs_background": "light"
          },
          "output_type": "display_data"
        },
        {
          "name": "stdout",
          "output_type": "stream",
          "text": [
            "\n",
            "\n",
            "\n",
            "Accuracy of testing: 0.459\n",
            "Accuracy of training: 0.462\n",
            "scores of training\n",
            "[0.46185148 0.46185148 0.46130346 0.46130346 0.46130346]\n",
            "0.46152266742359416\n",
            "Confusion matrix of testing data\n",
            "Random forest\n"
          ]
        },
        {
          "data": {
            "image/png": "[encoded data removed]",
            "text/plain": [
              "<Figure size 576x288 with 2 Axes>"
            ]
          },
          "metadata": {
            "needs_background": "light"
          },
          "output_type": "display_data"
        },
        {
          "name": "stdout",
          "output_type": "stream",
          "text": [
            "\n",
            "\n",
            "\n",
            "confusion matrix of training data\n",
            "Random forest\n"
          ]
        },
        {
          "data": {
            "image/png": "[encoded data removed]",
            "text/plain": [
              "<Figure size 576x288 with 2 Axes>"
            ]
          },
          "metadata": {
            "needs_background": "light"
          },
          "output_type": "display_data"
        },
        {
          "name": "stdout",
          "output_type": "stream",
          "text": [
            "\n",
            "\n",
            "\n"
          ]
        }
      ],
      "source": [
        "clf=[knn,xgb,lr,rf]\n",
        " \n",
        "# create a splitter object\n",
        "kfold = KFold(n_splits = 10) \n",
        "modelname=[\"KNN\",\"XGBoost\",\"Logistic regression\",\"Random forest\"]\n",
        " \n",
        " ## Running loop for  each model to train, test and showing perfomance\n",
        "\n",
        "for i in range(len(clf)):\n",
        "    # Training the model\n",
        "    clf[i].fit(X_train,y_train)\n",
        "    # Predicting for x_test\n",
        "    y_predvalid=clf[i].predict(X_valid)\n",
        "    accvalid = accuracy_score(y_valid, y_predvalid)\n",
        "  \n",
        "     \n",
        "    print('Accuracy of testing: %.3f' % accvalid)\n",
        "    # Predicting for training data\n",
        "    y_predtrain=clf[i].predict(X_train)\n",
        "    acctrain = accuracy_score(y_predtrain, y_train)\n",
        "    print('Accuracy of training: %.3f' % acctrain)  \n",
        "   \n",
        "    # Showing the training accuracy of the of the model\n",
        "    scores = cross_val_score(clf[i], X_train, y_train, cv=StratifiedKFold(n_splits=5))\n",
        "   \n",
        "    print(\"scores of training\")\n",
        "    print(scores)\n",
        "    print(scores.mean())  \n",
        "    # Creating the confusion matrix for testing\n",
        "    print(\"Confusion matrix of testing data\")\n",
        "    cm = confusion_matrix(y_valid, y_predvalid)\n",
        "    cm_df = pd.DataFrame(cm,index = ['Hwin','draw','Awin'],columns = ['Hwin','draw','Awin'])\n",
        "\n",
        "    plt.figure(figsize=(8,4))\n",
        "    sns.heatmap(cm_df, annot=True)\n",
        "    plt.title('Confusion Matrix')\n",
        "    plt.ylabel('Actal Values')\n",
        "    plt.xlabel('Predicted Values')\n",
        "\n",
        "    print(modelname[i])\n",
        "    plt.show()\n",
        "    print()\n",
        "    print()\n",
        "    print()\n",
        "    # Creating the confusion matrix for training\n",
        "    print(\"confusion matrix of training data\")\n",
        "    cm = confusion_matrix(y_train, y_predtrain)\n",
        "    \n",
        " \n",
        " \n",
        "\n",
        "    plt.figure(figsize=(8,4))\n",
        "    sns.heatmap(cm_df, annot=True)\n",
        "    plt.title('Confusion Matrix')\n",
        "    plt.ylabel('Actal Values')\n",
        "    plt.xlabel('Predicted Values')\n",
        "\n",
        "    print(modelname[i])\n",
        "    plt.show()\n",
        "    print()\n",
        "    print()\n",
        "    print()"
      ]
    },
    {
      "cell_type": "code",
      "execution_count": null,
      "metadata": {
        "id": "xg-45SovC7P4"
      },
      "outputs": [],
      "source": [
        "## Metrics evaluation\n",
        "\n",
        "def eval_classification(model, X_train, y_train, X_test, y_test):\n",
        "    y_pred = model.predict(X_test)\n",
        "    y_pred_proba = model.predict_proba(X_test)\n",
        "    y_pred_proba_train = model.predict_proba(X_train)\n",
        "    \n",
        "    accuracy = accuracy_score(y_test, y_pred)\n",
        "    precision = precision_score(y_test, y_pred,average='macro')\n",
        "    recall = recall_score(y_test, y_pred, average='macro')\n",
        " \n",
        "    f1 = f1_score(y_test, y_pred, average='macro')\n",
        "    mcc = matthews_corrcoef(y_test, y_pred)\n",
        "    #auc_test = round(roc_auc_score(y_test, y_pred_proba[:, 1],average='macro'),4)\n",
        "    #auc_train = round(roc_auc_score(y_train, y_pred_proba_train[:, 1],average='macro'),4) \n",
        "    \n",
        "    return accuracy, precision, recall, f1, mcc\n",
        "    # auc_test, auc_train\n",
        "\n",
        "def score_all_classification(model_list, X_train, y_train, X_test, y_test):\n",
        "    model_name = ['KNN', 'XGBoost', 'Logistic regression', 'Random forrest']\n",
        "    eval_cols = ['Model', 'Accuracy', 'Precision', 'Recall', 'F1 Score', 'MCC']\n",
        "    # 'AUC (Test)', 'AUC (Train)']\n",
        "    \n",
        "    eval_list = []\n",
        "    for name, model in zip(model_name, model_list):\n",
        "        result = eval_classification(model, X_train, y_train, X_test, y_test)\n",
        "        eval_list.append([name] + list(result))\n",
        "    df_model = pd.DataFrame(data=eval_list, columns=eval_cols)\n",
        "    \n",
        "    return df_model"
      ]
    },
    {
      "cell_type": "code",
      "execution_count": null,
      "metadata": {
        "colab": {
          "base_uri": "https://localhost:8080/"
        },
        "id": "6GTKiV_BCyG8",
        "outputId": "94761920-99fc-4b20-da20-1fedb9573396"
      },
      "outputs": [
        {
          "name": "stderr",
          "output_type": "stream",
          "text": [
            "/usr/local/lib/python3.8/dist-packages/sklearn/metrics/_classification.py:1318: UndefinedMetricWarning: Precision is ill-defined and being set to 0.0 in labels with no predicted samples. Use `zero_division` parameter to control this behavior.\n",
            "  _warn_prf(average, modifier, msg_start, len(result))\n",
            "/usr/local/lib/python3.8/dist-packages/sklearn/metrics/_classification.py:1318: UndefinedMetricWarning: Precision is ill-defined and being set to 0.0 in labels with no predicted samples. Use `zero_division` parameter to control this behavior.\n",
            "  _warn_prf(average, modifier, msg_start, len(result))\n",
            "/usr/local/lib/python3.8/dist-packages/sklearn/metrics/_classification.py:1318: UndefinedMetricWarning: Precision is ill-defined and being set to 0.0 in labels with no predicted samples. Use `zero_division` parameter to control this behavior.\n",
            "  _warn_prf(average, modifier, msg_start, len(result))\n"
          ]
        }
      ],
      "source": [
        "##Score of the model\n",
        "# model_name = ['KNN', 'XGBoost', 'Logistic regression', 'Random forrest']\n",
        "model_list_base = [knn,xgb,lr,rf]\n",
        "\n",
        "t1=score_all_classification(model_list_base, X_train, y_train, X_test, y_test)\n",
        " \n",
        "t2=score_all_classification(model_list_base, X_train, y_train, X_train, y_train)\n",
        "\n",
        "t3=score_all_classification(model_list_base, X_train, y_train, x_test1, y_test1)"
      ]
    },
    {
      "cell_type": "markdown",
      "metadata": {
        "id": "LqzrfCmki4kl"
      },
      "source": [
        "##### Table for testing data"
      ]
    },
    {
      "cell_type": "code",
      "execution_count": null,
      "metadata": {
        "colab": {
          "base_uri": "https://localhost:8080/",
          "height": 175
        },
        "id": "e8CbWJ2-DXOt",
        "outputId": "db0299ca-7ba3-4bc6-9831-18ebba2f8984"
      },
      "outputs": [
        {
          "data": {
            "text/html": [
              "\n",
              "  <div id=\"df-eead8a8c-49d7-4c95-8ee3-ed58388ed9df\">\n",
              "    <div class=\"colab-df-container\">\n",
              "      <div>\n",
              "<style scoped>\n",
              "    .dataframe tbody tr th:only-of-type {\n",
              "        vertical-align: middle;\n",
              "    }\n",
              "\n",
              "    .dataframe tbody tr th {\n",
              "        vertical-align: top;\n",
              "    }\n",
              "\n",
              "    .dataframe thead th {\n",
              "        text-align: right;\n",
              "    }\n",
              "</style>\n",
              "<table border=\"1\" class=\"dataframe\">\n",
              "  <thead>\n",
              "    <tr style=\"text-align: right;\">\n",
              "      <th></th>\n",
              "      <th>Model</th>\n",
              "      <th>Accuracy</th>\n",
              "      <th>Precision</th>\n",
              "      <th>Recall</th>\n",
              "      <th>F1 Score</th>\n",
              "      <th>MCC</th>\n",
              "    </tr>\n",
              "  </thead>\n",
              "  <tbody>\n",
              "    <tr>\n",
              "      <th>0</th>\n",
              "      <td>KNN</td>\n",
              "      <td>0.395833</td>\n",
              "      <td>0.372771</td>\n",
              "      <td>0.374957</td>\n",
              "      <td>0.369821</td>\n",
              "      <td>0.068355</td>\n",
              "    </tr>\n",
              "    <tr>\n",
              "      <th>1</th>\n",
              "      <td>XGBoost</td>\n",
              "      <td>0.514974</td>\n",
              "      <td>0.412546</td>\n",
              "      <td>0.435709</td>\n",
              "      <td>0.382270</td>\n",
              "      <td>0.219464</td>\n",
              "    </tr>\n",
              "    <tr>\n",
              "      <th>2</th>\n",
              "      <td>Logistic regression</td>\n",
              "      <td>0.516927</td>\n",
              "      <td>0.470227</td>\n",
              "      <td>0.449096</td>\n",
              "      <td>0.391105</td>\n",
              "      <td>0.227202</td>\n",
              "    </tr>\n",
              "    <tr>\n",
              "      <th>3</th>\n",
              "      <td>Random forrest</td>\n",
              "      <td>0.444010</td>\n",
              "      <td>0.148003</td>\n",
              "      <td>0.333333</td>\n",
              "      <td>0.204989</td>\n",
              "      <td>0.000000</td>\n",
              "    </tr>\n",
              "  </tbody>\n",
              "</table>\n",
              "</div>\n",
              "      <button class=\"colab-df-convert\" onclick=\"convertToInteractive('df-eead8a8c-49d7-4c95-8ee3-ed58388ed9df')\"\n",
              "              title=\"Convert this dataframe to an interactive table.\"\n",
              "              style=\"display:none;\">\n",
              "        \n",
              "  <svg xmlns=\"http://www.w3.org/2000/svg\" height=\"24px\"viewBox=\"0 0 24 24\"\n",
              "       width=\"24px\">\n",
              "    <path d=\"M0 0h24v24H0V0z\" fill=\"none\"/>\n",
              "    <path d=\"M18.56 5.44l.94 2.06.94-2.06 2.06-.94-2.06-.94-.94-2.06-.94 2.06-2.06.94zm-11 1L8.5 8.5l.94-2.06 2.06-.94-2.06-.94L8.5 2.5l-.94 2.06-2.06.94zm10 10l.94 2.06.94-2.06 2.06-.94-2.06-.94-.94-2.06-.94 2.06-2.06.94z\"/><path d=\"M17.41 7.96l-1.37-1.37c-.4-.4-.92-.59-1.43-.59-.52 0-1.04.2-1.43.59L10.3 9.45l-7.72 7.72c-.78.78-.78 2.05 0 2.83L4 21.41c.39.39.9.59 1.41.59.51 0 1.02-.2 1.41-.59l7.78-7.78 2.81-2.81c.8-.78.8-2.07 0-2.86zM5.41 20L4 18.59l7.72-7.72 1.47 1.35L5.41 20z\"/>\n",
              "  </svg>\n",
              "      </button>\n",
              "      \n",
              "  <style>\n",
              "    .colab-df-container {\n",
              "      display:flex;\n",
              "      flex-wrap:wrap;\n",
              "      gap: 12px;\n",
              "    }\n",
              "\n",
              "    .colab-df-convert {\n",
              "      background-color: #E8F0FE;\n",
              "      border: none;\n",
              "      border-radius: 50%;\n",
              "      cursor: pointer;\n",
              "      display: none;\n",
              "      fill: #1967D2;\n",
              "      height: 32px;\n",
              "      padding: 0 0 0 0;\n",
              "      width: 32px;\n",
              "    }\n",
              "\n",
              "    .colab-df-convert:hover {\n",
              "      background-color: #E2EBFA;\n",
              "      box-shadow: 0px 1px 2px rgba(60, 64, 67, 0.3), 0px 1px 3px 1px rgba(60, 64, 67, 0.15);\n",
              "      fill: #174EA6;\n",
              "    }\n",
              "\n",
              "    [theme=dark] .colab-df-convert {\n",
              "      background-color: #3B4455;\n",
              "      fill: #D2E3FC;\n",
              "    }\n",
              "\n",
              "    [theme=dark] .colab-df-convert:hover {\n",
              "      background-color: #434B5C;\n",
              "      box-shadow: 0px 1px 3px 1px rgba(0, 0, 0, 0.15);\n",
              "      filter: drop-shadow(0px 1px 2px rgba(0, 0, 0, 0.3));\n",
              "      fill: #FFFFFF;\n",
              "    }\n",
              "  </style>\n",
              "\n",
              "      <script>\n",
              "        const buttonEl =\n",
              "          document.querySelector('#df-eead8a8c-49d7-4c95-8ee3-ed58388ed9df button.colab-df-convert');\n",
              "        buttonEl.style.display =\n",
              "          google.colab.kernel.accessAllowed ? 'block' : 'none';\n",
              "\n",
              "        async function convertToInteractive(key) {\n",
              "          const element = document.querySelector('#df-eead8a8c-49d7-4c95-8ee3-ed58388ed9df');\n",
              "          const dataTable =\n",
              "            await google.colab.kernel.invokeFunction('convertToInteractive',\n",
              "                                                     [key], {});\n",
              "          if (!dataTable) return;\n",
              "\n",
              "          const docLinkHtml = 'Like what you see? Visit the ' +\n",
              "            '<a target=\"_blank\" href=https://colab.research.google.com/notebooks/data_table.ipynb>data table notebook</a>'\n",
              "            + ' to learn more about interactive tables.';\n",
              "          element.innerHTML = '';\n",
              "          dataTable['output_type'] = 'display_data';\n",
              "          await google.colab.output.renderOutput(dataTable, element);\n",
              "          const docLink = document.createElement('div');\n",
              "          docLink.innerHTML = docLinkHtml;\n",
              "          element.appendChild(docLink);\n",
              "        }\n",
              "      </script>\n",
              "    </div>\n",
              "  </div>\n",
              "  "
            ],
            "text/plain": [
              "                 Model  Accuracy  Precision    Recall  F1 Score       MCC\n",
              "0                  KNN  0.395833   0.372771  0.374957  0.369821  0.068355\n",
              "1              XGBoost  0.514974   0.412546  0.435709  0.382270  0.219464\n",
              "2  Logistic regression  0.516927   0.470227  0.449096  0.391105  0.227202\n",
              "3       Random forrest  0.444010   0.148003  0.333333  0.204989  0.000000"
            ]
          },
          "execution_count": 17,
          "metadata": {},
          "output_type": "execute_result"
        }
      ],
      "source": [
        "t1"
      ]
    },
    {
      "cell_type": "markdown",
      "metadata": {
        "id": "gHCAmf___JJL"
      },
      "source": [
        "#### Logistic regression shows the best accuracy for the training dataset"
      ]
    },
    {
      "cell_type": "markdown",
      "metadata": {
        "id": "N_60000Mi9vl"
      },
      "source": [
        "##### Table for training data"
      ]
    },
    {
      "cell_type": "code",
      "execution_count": null,
      "metadata": {
        "colab": {
          "base_uri": "https://localhost:8080/",
          "height": 175
        },
        "id": "wsGMPkZgDZGJ",
        "outputId": "d71f021a-6da2-4df3-cc60-40ce99d5acf3"
      },
      "outputs": [
        {
          "data": {
            "text/html": [
              "\n",
              "  <div id=\"df-c47ca5bd-81f3-45f4-aedd-d35dc0e9be75\">\n",
              "    <div class=\"colab-df-container\">\n",
              "      <div>\n",
              "<style scoped>\n",
              "    .dataframe tbody tr th:only-of-type {\n",
              "        vertical-align: middle;\n",
              "    }\n",
              "\n",
              "    .dataframe tbody tr th {\n",
              "        vertical-align: top;\n",
              "    }\n",
              "\n",
              "    .dataframe thead th {\n",
              "        text-align: right;\n",
              "    }\n",
              "</style>\n",
              "<table border=\"1\" class=\"dataframe\">\n",
              "  <thead>\n",
              "    <tr style=\"text-align: right;\">\n",
              "      <th></th>\n",
              "      <th>Model</th>\n",
              "      <th>Accuracy</th>\n",
              "      <th>Precision</th>\n",
              "      <th>Recall</th>\n",
              "      <th>F1 Score</th>\n",
              "      <th>MCC</th>\n",
              "    </tr>\n",
              "  </thead>\n",
              "  <tbody>\n",
              "    <tr>\n",
              "      <th>0</th>\n",
              "      <td>KNN</td>\n",
              "      <td>0.611767</td>\n",
              "      <td>0.591038</td>\n",
              "      <td>0.590015</td>\n",
              "      <td>0.587259</td>\n",
              "      <td>0.398308</td>\n",
              "    </tr>\n",
              "    <tr>\n",
              "      <th>1</th>\n",
              "      <td>XGBoost</td>\n",
              "      <td>0.552728</td>\n",
              "      <td>0.618935</td>\n",
              "      <td>0.458903</td>\n",
              "      <td>0.423778</td>\n",
              "      <td>0.270148</td>\n",
              "    </tr>\n",
              "    <tr>\n",
              "      <th>2</th>\n",
              "      <td>Logistic regression</td>\n",
              "      <td>0.533388</td>\n",
              "      <td>0.472949</td>\n",
              "      <td>0.446096</td>\n",
              "      <td>0.394580</td>\n",
              "      <td>0.233428</td>\n",
              "    </tr>\n",
              "    <tr>\n",
              "      <th>3</th>\n",
              "      <td>Random forrest</td>\n",
              "      <td>0.461523</td>\n",
              "      <td>0.153841</td>\n",
              "      <td>0.333333</td>\n",
              "      <td>0.210521</td>\n",
              "      <td>0.000000</td>\n",
              "    </tr>\n",
              "  </tbody>\n",
              "</table>\n",
              "</div>\n",
              "      <button class=\"colab-df-convert\" onclick=\"convertToInteractive('df-c47ca5bd-81f3-45f4-aedd-d35dc0e9be75')\"\n",
              "              title=\"Convert this dataframe to an interactive table.\"\n",
              "              style=\"display:none;\">\n",
              "        \n",
              "  <svg xmlns=\"http://www.w3.org/2000/svg\" height=\"24px\"viewBox=\"0 0 24 24\"\n",
              "       width=\"24px\">\n",
              "    <path d=\"M0 0h24v24H0V0z\" fill=\"none\"/>\n",
              "    <path d=\"M18.56 5.44l.94 2.06.94-2.06 2.06-.94-2.06-.94-.94-2.06-.94 2.06-2.06.94zm-11 1L8.5 8.5l.94-2.06 2.06-.94-2.06-.94L8.5 2.5l-.94 2.06-2.06.94zm10 10l.94 2.06.94-2.06 2.06-.94-2.06-.94-.94-2.06-.94 2.06-2.06.94z\"/><path d=\"M17.41 7.96l-1.37-1.37c-.4-.4-.92-.59-1.43-.59-.52 0-1.04.2-1.43.59L10.3 9.45l-7.72 7.72c-.78.78-.78 2.05 0 2.83L4 21.41c.39.39.9.59 1.41.59.51 0 1.02-.2 1.41-.59l7.78-7.78 2.81-2.81c.8-.78.8-2.07 0-2.86zM5.41 20L4 18.59l7.72-7.72 1.47 1.35L5.41 20z\"/>\n",
              "  </svg>\n",
              "      </button>\n",
              "      \n",
              "  <style>\n",
              "    .colab-df-container {\n",
              "      display:flex;\n",
              "      flex-wrap:wrap;\n",
              "      gap: 12px;\n",
              "    }\n",
              "\n",
              "    .colab-df-convert {\n",
              "      background-color: #E8F0FE;\n",
              "      border: none;\n",
              "      border-radius: 50%;\n",
              "      cursor: pointer;\n",
              "      display: none;\n",
              "      fill: #1967D2;\n",
              "      height: 32px;\n",
              "      padding: 0 0 0 0;\n",
              "      width: 32px;\n",
              "    }\n",
              "\n",
              "    .colab-df-convert:hover {\n",
              "      background-color: #E2EBFA;\n",
              "      box-shadow: 0px 1px 2px rgba(60, 64, 67, 0.3), 0px 1px 3px 1px rgba(60, 64, 67, 0.15);\n",
              "      fill: #174EA6;\n",
              "    }\n",
              "\n",
              "    [theme=dark] .colab-df-convert {\n",
              "      background-color: #3B4455;\n",
              "      fill: #D2E3FC;\n",
              "    }\n",
              "\n",
              "    [theme=dark] .colab-df-convert:hover {\n",
              "      background-color: #434B5C;\n",
              "      box-shadow: 0px 1px 3px 1px rgba(0, 0, 0, 0.15);\n",
              "      filter: drop-shadow(0px 1px 2px rgba(0, 0, 0, 0.3));\n",
              "      fill: #FFFFFF;\n",
              "    }\n",
              "  </style>\n",
              "\n",
              "      <script>\n",
              "        const buttonEl =\n",
              "          document.querySelector('#df-c47ca5bd-81f3-45f4-aedd-d35dc0e9be75 button.colab-df-convert');\n",
              "        buttonEl.style.display =\n",
              "          google.colab.kernel.accessAllowed ? 'block' : 'none';\n",
              "\n",
              "        async function convertToInteractive(key) {\n",
              "          const element = document.querySelector('#df-c47ca5bd-81f3-45f4-aedd-d35dc0e9be75');\n",
              "          const dataTable =\n",
              "            await google.colab.kernel.invokeFunction('convertToInteractive',\n",
              "                                                     [key], {});\n",
              "          if (!dataTable) return;\n",
              "\n",
              "          const docLinkHtml = 'Like what you see? Visit the ' +\n",
              "            '<a target=\"_blank\" href=https://colab.research.google.com/notebooks/data_table.ipynb>data table notebook</a>'\n",
              "            + ' to learn more about interactive tables.';\n",
              "          element.innerHTML = '';\n",
              "          dataTable['output_type'] = 'display_data';\n",
              "          await google.colab.output.renderOutput(dataTable, element);\n",
              "          const docLink = document.createElement('div');\n",
              "          docLink.innerHTML = docLinkHtml;\n",
              "          element.appendChild(docLink);\n",
              "        }\n",
              "      </script>\n",
              "    </div>\n",
              "  </div>\n",
              "  "
            ],
            "text/plain": [
              "                 Model  Accuracy  Precision    Recall  F1 Score       MCC\n",
              "0                  KNN  0.611767   0.591038  0.590015  0.587259  0.398308\n",
              "1              XGBoost  0.552728   0.618935  0.458903  0.423778  0.270148\n",
              "2  Logistic regression  0.533388   0.472949  0.446096  0.394580  0.233428\n",
              "3       Random forrest  0.461523   0.153841  0.333333  0.210521  0.000000"
            ]
          },
          "execution_count": 18,
          "metadata": {},
          "output_type": "execute_result"
        }
      ],
      "source": [
        "t2"
      ]
    },
    {
      "cell_type": "markdown",
      "metadata": {
        "id": "J9T9mx1l_jVV"
      },
      "source": [
        "### KNN shows the best accuracy on training dataset"
      ]
    },
    {
      "cell_type": "markdown",
      "metadata": {
        "id": "oY_fuPRxi_zW"
      },
      "source": [
        "##### Table for recent testing data"
      ]
    },
    {
      "cell_type": "code",
      "execution_count": null,
      "metadata": {
        "colab": {
          "base_uri": "https://localhost:8080/",
          "height": 175
        },
        "id": "OdK4V1-m18y4",
        "outputId": "01fa5157-3f8c-403f-a0ee-ef24bc03c2d8"
      },
      "outputs": [
        {
          "data": {
            "text/html": [
              "\n",
              "  <div id=\"df-116064c1-ce72-4d99-b833-a08841be4bcd\">\n",
              "    <div class=\"colab-df-container\">\n",
              "      <div>\n",
              "<style scoped>\n",
              "    .dataframe tbody tr th:only-of-type {\n",
              "        vertical-align: middle;\n",
              "    }\n",
              "\n",
              "    .dataframe tbody tr th {\n",
              "        vertical-align: top;\n",
              "    }\n",
              "\n",
              "    .dataframe thead th {\n",
              "        text-align: right;\n",
              "    }\n",
              "</style>\n",
              "<table border=\"1\" class=\"dataframe\">\n",
              "  <thead>\n",
              "    <tr style=\"text-align: right;\">\n",
              "      <th></th>\n",
              "      <th>Model</th>\n",
              "      <th>Accuracy</th>\n",
              "      <th>Precision</th>\n",
              "      <th>Recall</th>\n",
              "      <th>F1 Score</th>\n",
              "      <th>MCC</th>\n",
              "    </tr>\n",
              "  </thead>\n",
              "  <tbody>\n",
              "    <tr>\n",
              "      <th>0</th>\n",
              "      <td>KNN</td>\n",
              "      <td>0.568841</td>\n",
              "      <td>0.548326</td>\n",
              "      <td>0.547016</td>\n",
              "      <td>0.547452</td>\n",
              "      <td>0.324911</td>\n",
              "    </tr>\n",
              "    <tr>\n",
              "      <th>1</th>\n",
              "      <td>XGBoost</td>\n",
              "      <td>0.550725</td>\n",
              "      <td>0.574554</td>\n",
              "      <td>0.459527</td>\n",
              "      <td>0.435383</td>\n",
              "      <td>0.270632</td>\n",
              "    </tr>\n",
              "    <tr>\n",
              "      <th>2</th>\n",
              "      <td>Logistic regression</td>\n",
              "      <td>0.543478</td>\n",
              "      <td>0.537027</td>\n",
              "      <td>0.447920</td>\n",
              "      <td>0.402426</td>\n",
              "      <td>0.251765</td>\n",
              "    </tr>\n",
              "    <tr>\n",
              "      <th>3</th>\n",
              "      <td>Random forrest</td>\n",
              "      <td>0.449275</td>\n",
              "      <td>0.149758</td>\n",
              "      <td>0.333333</td>\n",
              "      <td>0.206667</td>\n",
              "      <td>0.000000</td>\n",
              "    </tr>\n",
              "  </tbody>\n",
              "</table>\n",
              "</div>\n",
              "      <button class=\"colab-df-convert\" onclick=\"convertToInteractive('df-116064c1-ce72-4d99-b833-a08841be4bcd')\"\n",
              "              title=\"Convert this dataframe to an interactive table.\"\n",
              "              style=\"display:none;\">\n",
              "        \n",
              "  <svg xmlns=\"http://www.w3.org/2000/svg\" height=\"24px\"viewBox=\"0 0 24 24\"\n",
              "       width=\"24px\">\n",
              "    <path d=\"M0 0h24v24H0V0z\" fill=\"none\"/>\n",
              "    <path d=\"M18.56 5.44l.94 2.06.94-2.06 2.06-.94-2.06-.94-.94-2.06-.94 2.06-2.06.94zm-11 1L8.5 8.5l.94-2.06 2.06-.94-2.06-.94L8.5 2.5l-.94 2.06-2.06.94zm10 10l.94 2.06.94-2.06 2.06-.94-2.06-.94-.94-2.06-.94 2.06-2.06.94z\"/><path d=\"M17.41 7.96l-1.37-1.37c-.4-.4-.92-.59-1.43-.59-.52 0-1.04.2-1.43.59L10.3 9.45l-7.72 7.72c-.78.78-.78 2.05 0 2.83L4 21.41c.39.39.9.59 1.41.59.51 0 1.02-.2 1.41-.59l7.78-7.78 2.81-2.81c.8-.78.8-2.07 0-2.86zM5.41 20L4 18.59l7.72-7.72 1.47 1.35L5.41 20z\"/>\n",
              "  </svg>\n",
              "      </button>\n",
              "      \n",
              "  <style>\n",
              "    .colab-df-container {\n",
              "      display:flex;\n",
              "      flex-wrap:wrap;\n",
              "      gap: 12px;\n",
              "    }\n",
              "\n",
              "    .colab-df-convert {\n",
              "      background-color: #E8F0FE;\n",
              "      border: none;\n",
              "      border-radius: 50%;\n",
              "      cursor: pointer;\n",
              "      display: none;\n",
              "      fill: #1967D2;\n",
              "      height: 32px;\n",
              "      padding: 0 0 0 0;\n",
              "      width: 32px;\n",
              "    }\n",
              "\n",
              "    .colab-df-convert:hover {\n",
              "      background-color: #E2EBFA;\n",
              "      box-shadow: 0px 1px 2px rgba(60, 64, 67, 0.3), 0px 1px 3px 1px rgba(60, 64, 67, 0.15);\n",
              "      fill: #174EA6;\n",
              "    }\n",
              "\n",
              "    [theme=dark] .colab-df-convert {\n",
              "      background-color: #3B4455;\n",
              "      fill: #D2E3FC;\n",
              "    }\n",
              "\n",
              "    [theme=dark] .colab-df-convert:hover {\n",
              "      background-color: #434B5C;\n",
              "      box-shadow: 0px 1px 3px 1px rgba(0, 0, 0, 0.15);\n",
              "      filter: drop-shadow(0px 1px 2px rgba(0, 0, 0, 0.3));\n",
              "      fill: #FFFFFF;\n",
              "    }\n",
              "  </style>\n",
              "\n",
              "      <script>\n",
              "        const buttonEl =\n",
              "          document.querySelector('#df-116064c1-ce72-4d99-b833-a08841be4bcd button.colab-df-convert');\n",
              "        buttonEl.style.display =\n",
              "          google.colab.kernel.accessAllowed ? 'block' : 'none';\n",
              "\n",
              "        async function convertToInteractive(key) {\n",
              "          const element = document.querySelector('#df-116064c1-ce72-4d99-b833-a08841be4bcd');\n",
              "          const dataTable =\n",
              "            await google.colab.kernel.invokeFunction('convertToInteractive',\n",
              "                                                     [key], {});\n",
              "          if (!dataTable) return;\n",
              "\n",
              "          const docLinkHtml = 'Like what you see? Visit the ' +\n",
              "            '<a target=\"_blank\" href=https://colab.research.google.com/notebooks/data_table.ipynb>data table notebook</a>'\n",
              "            + ' to learn more about interactive tables.';\n",
              "          element.innerHTML = '';\n",
              "          dataTable['output_type'] = 'display_data';\n",
              "          await google.colab.output.renderOutput(dataTable, element);\n",
              "          const docLink = document.createElement('div');\n",
              "          docLink.innerHTML = docLinkHtml;\n",
              "          element.appendChild(docLink);\n",
              "        }\n",
              "      </script>\n",
              "    </div>\n",
              "  </div>\n",
              "  "
            ],
            "text/plain": [
              "                 Model  Accuracy  Precision    Recall  F1 Score       MCC\n",
              "0                  KNN  0.568841   0.548326  0.547016  0.547452  0.324911\n",
              "1              XGBoost  0.550725   0.574554  0.459527  0.435383  0.270632\n",
              "2  Logistic regression  0.543478   0.537027  0.447920  0.402426  0.251765\n",
              "3       Random forrest  0.449275   0.149758  0.333333  0.206667  0.000000"
            ]
          },
          "execution_count": 19,
          "metadata": {},
          "output_type": "execute_result"
        }
      ],
      "source": [
        "t3"
      ]
    },
    {
      "cell_type": "markdown",
      "metadata": {
        "id": "qBAgI3an_oeo"
      },
      "source": [
        "### KNN shows the best accuray in the recent dataset"
      ]
    },
    {
      "cell_type": "markdown",
      "metadata": {
        "id": "ltLWjwr-qQf-"
      },
      "source": [
        "# Hyperparameter tuning"
      ]
    },
    {
      "cell_type": "markdown",
      "metadata": {
        "id": "wjsXuAzs9fkW"
      },
      "source": [
        "### Hyperparameter tuning for KNN"
      ]
    },
    {
      "cell_type": "code",
      "execution_count": null,
      "metadata": {
        "id": "UGfDJ-F29eml"
      },
      "outputs": [],
      "source": [
        " \n",
        "## Defining parameters for random forrest and XGboost\n",
        "  ## Defining hyperparameter for KNN\n",
        "k_range=list(range(1,31))\n",
        "  \n",
        "param_grid=dict(n_neighbors=k_range)\n",
        "knnp = RandomizedSearchCV(knn, param_grid, cv=10, scoring='accuracy', n_iter=100, random_state=5)"
      ]
    },
    {
      "cell_type": "markdown",
      "metadata": {
        "id": "rUKu7nfs9p0L"
      },
      "source": [
        "### Hyperparameter tuning for Xgboost and Random forrest"
      ]
    },
    {
      "cell_type": "code",
      "execution_count": null,
      "metadata": {
        "id": "i-T1nv8vxghY"
      },
      "outputs": [],
      "source": [
        "\n",
        "\n",
        " \n",
        " \n",
        "\n",
        "### Defining hyperparameters  for random forrest and XGboost\n",
        "randomforresthyperparameter = [\n",
        "  \n",
        "    \n",
        "  {   # Random forrest        \n",
        "     \"n_estimators\": np.arange(110,251,501),\n",
        "              \"min_samples_leaf\": np.arange(1,6,1),\n",
        "              \"max_features\":[\"log2\",0.7,0.9,\"auto\"],\n",
        "              \"max_samples\": np.arange(0.3, 0.7, None),\n",
        "             }\n",
        "]\n",
        "xgboosthyperparameter =[ {# XGBoost\n",
        "    \"n_estimators\": np.arange(10,60,10),\n",
        "    \"subsample\":[0.6,0.7,0.8],\n",
        "    \"learning_rate\":[0.1,0.3,0.55],\n",
        "    \"colsample_bytree\":[0.5,0.7,0.9],\n",
        "    \"colsample_bylevel\":[0.5,0.7,0.9]\n",
        "}\n",
        "]\n",
        "\n",
        " \n",
        " \n",
        "\n",
        "xgbp = RandomizedSearchCV(xgb, xgboosthyperparameter, cv=5, scoring='accuracy', random_state=42)\n",
        " \n",
        " \n",
        "rfp = RandomizedSearchCV(rf, randomforresthyperparameter, cv=5, scoring='accuracy', random_state=42)\n"
      ]
    },
    {
      "cell_type": "markdown",
      "metadata": {
        "id": "iTUPDpDh9tQM"
      },
      "source": [
        "### Hyperparamer tuning for Logistic regression"
      ]
    },
    {
      "cell_type": "code",
      "execution_count": null,
      "metadata": {
        "id": "MWQsGyNJg6DI"
      },
      "outputs": [],
      "source": [
        "from sklearn.model_selection import RepeatedStratifiedKFold\n",
        "### Defining hyperparameters for KNN\n",
        "solvers = ['newton-cg', 'lbfgs', 'liblinear']\n",
        "penalty = ['l2']\n",
        "c_values = [100, 10, 1.0, 0.1, 0.01]\n",
        "# define grid search\n",
        "grid = dict(solver=solvers,penalty=penalty,C=c_values)\n",
        "cv = RepeatedStratifiedKFold(n_splits=10, n_repeats=3, random_state=1)\n",
        "lrp = GridSearchCV(estimator=lr, param_grid=grid, n_jobs=-1, cv=cv, scoring='accuracy',error_score=0)"
      ]
    },
    {
      "cell_type": "markdown",
      "metadata": {
        "id": "Gu-2H2mH8cip"
      },
      "source": [
        "### Training the models after Tuning the models"
      ]
    },
    {
      "cell_type": "code",
      "execution_count": null,
      "metadata": {
        "colab": {
          "base_uri": "https://localhost:8080/",
          "height": 1000
        },
        "id": "phFAbLb2qdvM",
        "outputId": "ddc11559-196f-442e-805b-f26dd3ea3601"
      },
      "outputs": [
        {
          "name": "stderr",
          "output_type": "stream",
          "text": [
            "/usr/local/lib/python3.8/dist-packages/sklearn/model_selection/_search.py:292: UserWarning: The total space of parameters 30 is smaller than n_iter=100. Running 30 iterations. For exhaustive searches, use GridSearchCV.\n",
            "  warnings.warn(\n"
          ]
        },
        {
          "name": "stdout",
          "output_type": "stream",
          "text": [
            "Accuracy of testing: 0.439\n",
            "Accuracy of training: 0.495\n"
          ]
        },
        {
          "name": "stderr",
          "output_type": "stream",
          "text": [
            "/usr/local/lib/python3.8/dist-packages/sklearn/model_selection/_search.py:292: UserWarning: The total space of parameters 30 is smaller than n_iter=100. Running 30 iterations. For exhaustive searches, use GridSearchCV.\n",
            "  warnings.warn(\n",
            "/usr/local/lib/python3.8/dist-packages/sklearn/model_selection/_search.py:292: UserWarning: The total space of parameters 30 is smaller than n_iter=100. Running 30 iterations. For exhaustive searches, use GridSearchCV.\n",
            "  warnings.warn(\n",
            "/usr/local/lib/python3.8/dist-packages/sklearn/model_selection/_search.py:292: UserWarning: The total space of parameters 30 is smaller than n_iter=100. Running 30 iterations. For exhaustive searches, use GridSearchCV.\n",
            "  warnings.warn(\n",
            "/usr/local/lib/python3.8/dist-packages/sklearn/model_selection/_search.py:292: UserWarning: The total space of parameters 30 is smaller than n_iter=100. Running 30 iterations. For exhaustive searches, use GridSearchCV.\n",
            "  warnings.warn(\n",
            "/usr/local/lib/python3.8/dist-packages/sklearn/model_selection/_search.py:292: UserWarning: The total space of parameters 30 is smaller than n_iter=100. Running 30 iterations. For exhaustive searches, use GridSearchCV.\n",
            "  warnings.warn(\n"
          ]
        },
        {
          "name": "stdout",
          "output_type": "stream",
          "text": [
            "scores of testing\n",
            "[0.42532468 0.44625407 0.42996743 0.40065147 0.42996743]\n",
            "0.4264330132408308\n"
          ]
        },
        {
          "name": "stderr",
          "output_type": "stream",
          "text": [
            "/usr/local/lib/python3.8/dist-packages/sklearn/model_selection/_search.py:292: UserWarning: The total space of parameters 30 is smaller than n_iter=100. Running 30 iterations. For exhaustive searches, use GridSearchCV.\n",
            "  warnings.warn(\n",
            "/usr/local/lib/python3.8/dist-packages/sklearn/model_selection/_search.py:292: UserWarning: The total space of parameters 30 is smaller than n_iter=100. Running 30 iterations. For exhaustive searches, use GridSearchCV.\n",
            "  warnings.warn(\n",
            "/usr/local/lib/python3.8/dist-packages/sklearn/model_selection/_search.py:292: UserWarning: The total space of parameters 30 is smaller than n_iter=100. Running 30 iterations. For exhaustive searches, use GridSearchCV.\n",
            "  warnings.warn(\n",
            "/usr/local/lib/python3.8/dist-packages/sklearn/model_selection/_search.py:292: UserWarning: The total space of parameters 30 is smaller than n_iter=100. Running 30 iterations. For exhaustive searches, use GridSearchCV.\n",
            "  warnings.warn(\n",
            "/usr/local/lib/python3.8/dist-packages/sklearn/model_selection/_search.py:292: UserWarning: The total space of parameters 30 is smaller than n_iter=100. Running 30 iterations. For exhaustive searches, use GridSearchCV.\n",
            "  warnings.warn(\n"
          ]
        },
        {
          "name": "stdout",
          "output_type": "stream",
          "text": [
            "scores of training\n",
            "[0.43336724 0.43031536 0.44399185 0.43380855 0.43482688]\n",
            "0.4352619791029994\n",
            "Confusion matrix of testing data\n",
            "KNN\n"
          ]
        },
        {
          "data": {
            "image/png": "[encoded data removed]",
            "text/plain": [
              "<Figure size 576x288 with 2 Axes>"
            ]
          },
          "metadata": {},
          "output_type": "display_data"
        },
        {
          "name": "stdout",
          "output_type": "stream",
          "text": [
            "\n",
            "\n",
            "\n",
            "confusion matrix of training data\n",
            "KNN\n"
          ]
        },
        {
          "data": {
            "image/png": "[encoded data removed]",
            "text/plain": [
              "<Figure size 576x288 with 2 Axes>"
            ]
          },
          "metadata": {},
          "output_type": "display_data"
        },
        {
          "name": "stdout",
          "output_type": "stream",
          "text": [
            "\n",
            "\n",
            "\n",
            "Accuracy of testing: 0.508\n",
            "Accuracy of training: 0.545\n",
            "scores of testing\n",
            "[0.51948052 0.49185668 0.49511401 0.49837134 0.46579805]\n",
            "0.4941241169254198\n",
            "scores of training\n",
            "[0.51271617 0.51475076 0.52749491 0.50814664 0.51120163]\n",
            "0.5148620230268952\n",
            "Confusion matrix of testing data\n",
            "XGBoost\n"
          ]
        },
        {
          "data": {
            "image/png": "[encoded data removed]",
            "text/plain": [
              "<Figure size 576x288 with 2 Axes>"
            ]
          },
          "metadata": {},
          "output_type": "display_data"
        },
        {
          "name": "stdout",
          "output_type": "stream",
          "text": [
            "\n",
            "\n",
            "\n",
            "confusion matrix of training data\n",
            "XGBoost\n"
          ]
        },
        {
          "data": {
            "image/png": "[encoded data removed]",
            "text/plain": [
              "<Figure size 576x288 with 2 Axes>"
            ]
          },
          "metadata": {},
          "output_type": "display_data"
        },
        {
          "name": "stdout",
          "output_type": "stream",
          "text": [
            "\n",
            "\n",
            "\n",
            "Accuracy of testing: 0.521\n",
            "Accuracy of training: 0.534\n",
            "scores of testing\n",
            "[0.57792208 0.50162866 0.51140065 0.49837134 0.47557003]\n",
            "0.5129785523922331\n",
            "scores of training\n",
            "[0.53102747 0.52187182 0.52545825 0.5203666  0.53360489]\n",
            "0.5264658046256836\n",
            "Confusion matrix of testing data\n",
            "Logistic regression\n"
          ]
        },
        {
          "data": {
            "image/png": "[encoded data removed]",
            "text/plain": [
              "<Figure size 576x288 with 2 Axes>"
            ]
          },
          "metadata": {
            "needs_background": "light"
          },
          "output_type": "display_data"
        },
        {
          "name": "stdout",
          "output_type": "stream",
          "text": [
            "\n",
            "\n",
            "\n",
            "confusion matrix of training data\n",
            "Logistic regression\n"
          ]
        },
        {
          "data": {
            "image/png": "[encoded data removed]",
            "text/plain": [
              "<Figure size 576x288 with 2 Axes>"
            ]
          },
          "metadata": {
            "needs_background": "light"
          },
          "output_type": "display_data"
        },
        {
          "name": "stdout",
          "output_type": "stream",
          "text": [
            "\n",
            "\n",
            "\n",
            "Accuracy of testing: 0.474\n",
            "Accuracy of training: 0.490\n",
            "scores of testing\n",
            "[0.47402597 0.47882736 0.4723127  0.44299674 0.46579805]\n",
            "0.4667921654892339\n",
            "scores of training\n",
            "[0.47304171 0.49542218 0.47250509 0.47759674 0.47861507]\n",
            "0.4794361580680116\n",
            "Confusion matrix of testing data\n",
            "Random forrest\n"
          ]
        },
        {
          "data": {
            "image/png": "[encoded data removed]",
            "text/plain": [
              "<Figure size 576x288 with 2 Axes>"
            ]
          },
          "metadata": {
            "needs_background": "light"
          },
          "output_type": "display_data"
        },
        {
          "name": "stdout",
          "output_type": "stream",
          "text": [
            "\n",
            "\n",
            "\n",
            "confusion matrix of training data\n",
            "Random forrest\n"
          ]
        },
        {
          "data": {
            "image/png": "[encoded data removed]",
            "text/plain": [
              "<Figure size 576x288 with 2 Axes>"
            ]
          },
          "metadata": {
            "needs_background": "light"
          },
          "output_type": "display_data"
        },
        {
          "name": "stdout",
          "output_type": "stream",
          "text": [
            "\n",
            "\n",
            "\n"
          ]
        }
      ],
      "source": [
        "clf=[knnp,xgbp,lrp,rfp]\n",
        "modelname=[\"KNN\",\"XGBoost\",\"Logistic regression\",\"Random forrest\"]\n",
        "# Training the model\n",
        "for i in range(len(clf)):\n",
        "  clf[i].fit(X_train,y_train)\n",
        "# Predicting for x_test\n",
        "  y_predtest=clf[i].predict(X_test)\n",
        "  acctest = accuracy_score(y_test, y_predtest)\n",
        "  \n",
        "  print('Accuracy of testing: %.3f' % acctest)\n",
        "# Predicting for training data\n",
        "  y_predtrain=clf[i].predict(X_train)\n",
        "  acctrain = accuracy_score(y_predtrain, y_train)\n",
        "  print('Accuracy of training: %.3f' % acctrain)  \n",
        "# Showing the testing accuracy of the of the model\n",
        "  scores = cross_val_score(clf[i], X_test, y_test, cv=5)\n",
        "  print(\"scores of testing\")\n",
        "  print(scores)\n",
        "  print(scores.mean())\n",
        "# Showing the training accuracy of the of the model\n",
        "  scores = cross_val_score(clf[i], X_train, y_train, cv=5)\n",
        "  print(\"scores of training\")\n",
        "  print(scores)\n",
        "  print(scores.mean())  \n",
        "# Creating the confusion matrix for testing\n",
        "  print(\"Confusion matrix of testing data\")\n",
        "  cm = confusion_matrix(y_test, y_predtest)\n",
        "  cm_df = pd.DataFrame(cm,\n",
        "                     index = ['win','draw','loss'], \n",
        "                     columns = ['win','draw','loss'])\n",
        "\n",
        "  plt.figure(figsize=(8,4))\n",
        "  sns.heatmap(cm_df, annot=True)\n",
        "  plt.title('Confusion Matrix')\n",
        "  plt.ylabel('Actal Values')\n",
        "  plt.xlabel('Predicted Values')\n",
        "  \n",
        "  print(modelname[i])\n",
        "  plt.show()\n",
        "  print()\n",
        "  print()\n",
        "  print()\n",
        "  # Creating the confusion matrix for training\n",
        "  print(\"confusion matrix of training data\")\n",
        "  cm = confusion_matrix(y_train, y_predtrain)\n",
        "  cm_df = pd.DataFrame(cm,\n",
        "                     index = ['win','draw','loss'], \n",
        "                     columns = ['win','draw','loss'])\n",
        "\n",
        "  plt.figure(figsize=(8,4))\n",
        "  sns.heatmap(cm_df, annot=True)\n",
        "  plt.title('Confusion Matrix')\n",
        "  plt.ylabel('Actal Values')\n",
        "  plt.xlabel('Predicted Values')\n",
        "  \n",
        "  print(modelname[i])\n",
        "  plt.show()\n",
        "  print()\n",
        "  print()\n",
        "  print()"
      ]
    },
    {
      "cell_type": "code",
      "execution_count": null,
      "metadata": {
        "colab": {
          "base_uri": "https://localhost:8080/"
        },
        "id": "9zwJGOmfNGys",
        "outputId": "551cf0ce-b8c3-4a12-af72-e564187576de"
      },
      "outputs": [
        {
          "name": "stderr",
          "output_type": "stream",
          "text": [
            "/usr/local/lib/python3.8/dist-packages/sklearn/metrics/_classification.py:1318: UndefinedMetricWarning: Precision is ill-defined and being set to 0.0 in labels with no predicted samples. Use `zero_division` parameter to control this behavior.\n",
            "  _warn_prf(average, modifier, msg_start, len(result))\n",
            "/usr/local/lib/python3.8/dist-packages/sklearn/metrics/_classification.py:1318: UndefinedMetricWarning: Precision is ill-defined and being set to 0.0 in labels with no predicted samples. Use `zero_division` parameter to control this behavior.\n",
            "  _warn_prf(average, modifier, msg_start, len(result))\n",
            "/usr/local/lib/python3.8/dist-packages/sklearn/metrics/_classification.py:1318: UndefinedMetricWarning: Precision is ill-defined and being set to 0.0 in labels with no predicted samples. Use `zero_division` parameter to control this behavior.\n",
            "  _warn_prf(average, modifier, msg_start, len(result))\n"
          ]
        }
      ],
      "source": [
        "##Score of the model\n",
        "# model_name = ['KNN', 'XGBoost', 'Logistic regression', 'Random forrest']\n",
        "model_list_base = [knnp,xgbp,lrp,rfp]\n",
        "\n",
        "t1p=score_all_classification(model_list_base, X_train, y_train, X_test, y_test)\n",
        " \n",
        "t2p=score_all_classification(model_list_base, X_train, y_train, X_train, y_train)\n",
        "\n",
        "\n",
        "t3p=score_all_classification(model_list_base, X_train, y_train, x_test1, y_test1)"
      ]
    },
    {
      "cell_type": "code",
      "execution_count": null,
      "metadata": {
        "colab": {
          "base_uri": "https://localhost:8080/",
          "height": 175
        },
        "id": "eYbzNPaKE3Kg",
        "outputId": "ac8c501c-e3a2-418e-ca28-a30b35fd2d6b"
      },
      "outputs": [
        {
          "data": {
            "text/html": [
              "\n",
              "  <div id=\"df-8a53711c-5858-4800-a2f5-7c074233d348\">\n",
              "    <div class=\"colab-df-container\">\n",
              "      <div>\n",
              "<style scoped>\n",
              "    .dataframe tbody tr th:only-of-type {\n",
              "        vertical-align: middle;\n",
              "    }\n",
              "\n",
              "    .dataframe tbody tr th {\n",
              "        vertical-align: top;\n",
              "    }\n",
              "\n",
              "    .dataframe thead th {\n",
              "        text-align: right;\n",
              "    }\n",
              "</style>\n",
              "<table border=\"1\" class=\"dataframe\">\n",
              "  <thead>\n",
              "    <tr style=\"text-align: right;\">\n",
              "      <th></th>\n",
              "      <th>Model</th>\n",
              "      <th>Accuracy</th>\n",
              "      <th>Precision</th>\n",
              "      <th>Recall</th>\n",
              "      <th>F1 Score</th>\n",
              "      <th>MCC</th>\n",
              "    </tr>\n",
              "  </thead>\n",
              "  <tbody>\n",
              "    <tr>\n",
              "      <th>0</th>\n",
              "      <td>KNN</td>\n",
              "      <td>0.439453</td>\n",
              "      <td>0.365845</td>\n",
              "      <td>0.362871</td>\n",
              "      <td>0.322636</td>\n",
              "      <td>0.065726</td>\n",
              "    </tr>\n",
              "    <tr>\n",
              "      <th>1</th>\n",
              "      <td>XGBoost</td>\n",
              "      <td>0.507812</td>\n",
              "      <td>0.420578</td>\n",
              "      <td>0.435047</td>\n",
              "      <td>0.386847</td>\n",
              "      <td>0.205776</td>\n",
              "    </tr>\n",
              "    <tr>\n",
              "      <th>2</th>\n",
              "      <td>Logistic regression</td>\n",
              "      <td>0.520833</td>\n",
              "      <td>0.513641</td>\n",
              "      <td>0.448662</td>\n",
              "      <td>0.386562</td>\n",
              "      <td>0.233475</td>\n",
              "    </tr>\n",
              "    <tr>\n",
              "      <th>3</th>\n",
              "      <td>Random forrest</td>\n",
              "      <td>0.473958</td>\n",
              "      <td>0.349875</td>\n",
              "      <td>0.374078</td>\n",
              "      <td>0.292667</td>\n",
              "      <td>0.136250</td>\n",
              "    </tr>\n",
              "  </tbody>\n",
              "</table>\n",
              "</div>\n",
              "      <button class=\"colab-df-convert\" onclick=\"convertToInteractive('df-8a53711c-5858-4800-a2f5-7c074233d348')\"\n",
              "              title=\"Convert this dataframe to an interactive table.\"\n",
              "              style=\"display:none;\">\n",
              "        \n",
              "  <svg xmlns=\"http://www.w3.org/2000/svg\" height=\"24px\"viewBox=\"0 0 24 24\"\n",
              "       width=\"24px\">\n",
              "    <path d=\"M0 0h24v24H0V0z\" fill=\"none\"/>\n",
              "    <path d=\"M18.56 5.44l.94 2.06.94-2.06 2.06-.94-2.06-.94-.94-2.06-.94 2.06-2.06.94zm-11 1L8.5 8.5l.94-2.06 2.06-.94-2.06-.94L8.5 2.5l-.94 2.06-2.06.94zm10 10l.94 2.06.94-2.06 2.06-.94-2.06-.94-.94-2.06-.94 2.06-2.06.94z\"/><path d=\"M17.41 7.96l-1.37-1.37c-.4-.4-.92-.59-1.43-.59-.52 0-1.04.2-1.43.59L10.3 9.45l-7.72 7.72c-.78.78-.78 2.05 0 2.83L4 21.41c.39.39.9.59 1.41.59.51 0 1.02-.2 1.41-.59l7.78-7.78 2.81-2.81c.8-.78.8-2.07 0-2.86zM5.41 20L4 18.59l7.72-7.72 1.47 1.35L5.41 20z\"/>\n",
              "  </svg>\n",
              "      </button>\n",
              "      \n",
              "  <style>\n",
              "    .colab-df-container {\n",
              "      display:flex;\n",
              "      flex-wrap:wrap;\n",
              "      gap: 12px;\n",
              "    }\n",
              "\n",
              "    .colab-df-convert {\n",
              "      background-color: #E8F0FE;\n",
              "      border: none;\n",
              "      border-radius: 50%;\n",
              "      cursor: pointer;\n",
              "      display: none;\n",
              "      fill: #1967D2;\n",
              "      height: 32px;\n",
              "      padding: 0 0 0 0;\n",
              "      width: 32px;\n",
              "    }\n",
              "\n",
              "    .colab-df-convert:hover {\n",
              "      background-color: #E2EBFA;\n",
              "      box-shadow: 0px 1px 2px rgba(60, 64, 67, 0.3), 0px 1px 3px 1px rgba(60, 64, 67, 0.15);\n",
              "      fill: #174EA6;\n",
              "    }\n",
              "\n",
              "    [theme=dark] .colab-df-convert {\n",
              "      background-color: #3B4455;\n",
              "      fill: #D2E3FC;\n",
              "    }\n",
              "\n",
              "    [theme=dark] .colab-df-convert:hover {\n",
              "      background-color: #434B5C;\n",
              "      box-shadow: 0px 1px 3px 1px rgba(0, 0, 0, 0.15);\n",
              "      filter: drop-shadow(0px 1px 2px rgba(0, 0, 0, 0.3));\n",
              "      fill: #FFFFFF;\n",
              "    }\n",
              "  </style>\n",
              "\n",
              "      <script>\n",
              "        const buttonEl =\n",
              "          document.querySelector('#df-8a53711c-5858-4800-a2f5-7c074233d348 button.colab-df-convert');\n",
              "        buttonEl.style.display =\n",
              "          google.colab.kernel.accessAllowed ? 'block' : 'none';\n",
              "\n",
              "        async function convertToInteractive(key) {\n",
              "          const element = document.querySelector('#df-8a53711c-5858-4800-a2f5-7c074233d348');\n",
              "          const dataTable =\n",
              "            await google.colab.kernel.invokeFunction('convertToInteractive',\n",
              "                                                     [key], {});\n",
              "          if (!dataTable) return;\n",
              "\n",
              "          const docLinkHtml = 'Like what you see? Visit the ' +\n",
              "            '<a target=\"_blank\" href=https://colab.research.google.com/notebooks/data_table.ipynb>data table notebook</a>'\n",
              "            + ' to learn more about interactive tables.';\n",
              "          element.innerHTML = '';\n",
              "          dataTable['output_type'] = 'display_data';\n",
              "          await google.colab.output.renderOutput(dataTable, element);\n",
              "          const docLink = document.createElement('div');\n",
              "          docLink.innerHTML = docLinkHtml;\n",
              "          element.appendChild(docLink);\n",
              "        }\n",
              "      </script>\n",
              "    </div>\n",
              "  </div>\n",
              "  "
            ],
            "text/plain": [
              "                 Model  Accuracy  Precision    Recall  F1 Score       MCC\n",
              "0                  KNN  0.439453   0.365845  0.362871  0.322636  0.065726\n",
              "1              XGBoost  0.507812   0.420578  0.435047  0.386847  0.205776\n",
              "2  Logistic regression  0.520833   0.513641  0.448662  0.386562  0.233475\n",
              "3       Random forrest  0.473958   0.349875  0.374078  0.292667  0.136250"
            ]
          },
          "execution_count": 25,
          "metadata": {},
          "output_type": "execute_result"
        }
      ],
      "source": [
        "t1p"
      ]
    },
    {
      "cell_type": "markdown",
      "metadata": {
        "id": "3xxpm8L0jD99"
      },
      "source": [
        "##### Table for testing data after tuned"
      ]
    },
    {
      "cell_type": "code",
      "execution_count": null,
      "metadata": {
        "colab": {
          "base_uri": "https://localhost:8080/"
        },
        "id": "R6LD-WINNIdX",
        "outputId": "be071f55-97e4-4bb7-c143-4e7db5f8b83c"
      },
      "outputs": [
        {
          "name": "stdout",
          "output_type": "stream",
          "text": [
            "After tuning\n",
            "                 Model  Accuracy  Precision    Recall  F1 Score       MCC\n",
            "0                  KNN  0.439453   0.365845  0.362871  0.322636  0.065726\n",
            "1              XGBoost  0.507812   0.420578  0.435047  0.386847  0.205776\n",
            "2  Logistic regression  0.520833   0.513641  0.448662  0.386562  0.233475\n",
            "3       Random forrest  0.473958   0.349875  0.374078  0.292667  0.136250\n",
            "\n",
            "Before tuning\n",
            "                 Model  Accuracy  Precision    Recall  F1 Score       MCC\n",
            "0                  KNN  0.395833   0.372771  0.374957  0.369821  0.068355\n",
            "1              XGBoost  0.514974   0.412546  0.435709  0.382270  0.219464\n",
            "2  Logistic regression  0.516927   0.470227  0.449096  0.391105  0.227202\n",
            "3       Random forrest  0.444010   0.148003  0.333333  0.204989  0.000000\n"
          ]
        }
      ],
      "source": [
        "print(\"After tuning\")\n",
        "print(t1p)\n",
        "print()\n",
        "print(\"Before tuning\")\n",
        "print(t1)"
      ]
    },
    {
      "cell_type": "markdown",
      "metadata": {
        "id": "8RNEvDQqbPvU"
      },
      "source": [
        "### Observations on test data\n",
        "#### All models have increased their perfomance after tuning the models except for xgboost .\n",
        "#### But the models are showing accuracies in the range of 50\n",
        "#### The accuracy of KNN is only 39 before tuning"
      ]
    },
    {
      "cell_type": "markdown",
      "metadata": {
        "id": "2Rrmt258jGPO"
      },
      "source": [
        "##### Table for training data after tuned"
      ]
    },
    {
      "cell_type": "code",
      "execution_count": null,
      "metadata": {
        "colab": {
          "base_uri": "https://localhost:8080/"
        },
        "id": "FGVJ0aKzNJkw",
        "outputId": "14778228-3461-4512-d793-1069245d4db8"
      },
      "outputs": [
        {
          "name": "stdout",
          "output_type": "stream",
          "text": [
            "After tuning\n",
            "                 Model  Accuracy  Precision    Recall  F1 Score       MCC\n",
            "0                  KNN  0.495114   0.462998  0.406396  0.381039  0.153289\n",
            "1              XGBoost  0.544788   0.545478  0.453415  0.415278  0.253340\n",
            "2  Logistic regression  0.533591   0.463045  0.441936  0.386174  0.232369\n",
            "3       Random forrest  0.489617   0.348552  0.372123  0.295294  0.134292\n",
            "\n",
            "Before tuning\n",
            "                 Model  Accuracy  Precision    Recall  F1 Score       MCC\n",
            "0                  KNN  0.611767   0.591038  0.590015  0.587259  0.398308\n",
            "1              XGBoost  0.552728   0.618935  0.458903  0.423778  0.270148\n",
            "2  Logistic regression  0.533388   0.472949  0.446096  0.394580  0.233428\n",
            "3       Random forrest  0.461523   0.153841  0.333333  0.210521  0.000000\n"
          ]
        }
      ],
      "source": [
        "print(\"After tuning\")\n",
        "print(t2p)\n",
        "print()\n",
        "print(\"Before tuning\")\n",
        "print(t2)"
      ]
    },
    {
      "cell_type": "markdown",
      "metadata": {
        "id": "odrumBO7c-j0"
      },
      "source": [
        "### Observations on training data\n",
        "#### KNN shows a good accuracy of 60 percent before tuning but declined after tuning \n",
        "#### logistic regression and Xgboost has not shown a significant increase after tuning the parameters.\n",
        "#### Accuracy of Random forrest falls in the range  of 40 percent "
      ]
    },
    {
      "cell_type": "markdown",
      "metadata": {
        "id": "DEFhNPfwjJFF"
      },
      "source": [
        "##### Table for recent testing data after tuned"
      ]
    },
    {
      "cell_type": "code",
      "execution_count": null,
      "metadata": {
        "colab": {
          "base_uri": "https://localhost:8080/"
        },
        "id": "ezzGrUHc3w4u",
        "outputId": "0d74dd3f-db80-408e-e4ea-09cc4f400f1c"
      },
      "outputs": [
        {
          "name": "stdout",
          "output_type": "stream",
          "text": [
            "After tuning\n",
            "                 Model  Accuracy  Precision    Recall  F1 Score       MCC\n",
            "0                  KNN  0.478261   0.451478  0.390018  0.356905  0.129792\n",
            "1              XGBoost  0.528986   0.484171  0.443398  0.420038  0.226793\n",
            "2  Logistic regression  0.547101   0.705807  0.448658  0.401396  0.260057\n",
            "3       Random forrest  0.460145   0.311671  0.351146  0.265329  0.066532\n",
            "\n",
            "Before tuning\n",
            "                 Model  Accuracy  Precision    Recall  F1 Score       MCC\n",
            "0                  KNN  0.568841   0.548326  0.547016  0.547452  0.324911\n",
            "1              XGBoost  0.550725   0.574554  0.459527  0.435383  0.270632\n",
            "2  Logistic regression  0.543478   0.537027  0.447920  0.402426  0.251765\n",
            "3       Random forrest  0.449275   0.149758  0.333333  0.206667  0.000000\n"
          ]
        }
      ],
      "source": [
        "print(\"After tuning\")\n",
        "print(t3p)\n",
        "print()\n",
        "print(\"Before tuning\")\n",
        "print(t3)"
      ]
    },
    {
      "cell_type": "markdown",
      "metadata": {
        "id": "gVr9KrpVd4rj"
      },
      "source": [
        "### Observations on recent test data\n",
        "\n",
        "##### KNN has shown an accuracy of 56 percent before tuning and Xgboost has shown an accuracy of 55 percent before tuning\n",
        "##### Knn and Xgboost have decrease their accuracy after tuning while logistic regression and random forrest not shown much increase"
      ]
    }
  ],
  "metadata": {
    "colab": {
      "collapsed_sections": [
        "huD5CazN19bv",
        "WeVONo_y24QI",
        "wijPSRdC45C9"
      ],
      "provenance": []
    },
    "kernelspec": {
      "display_name": "Python 3.9.0 (conda)",
      "language": "python",
      "name": "python3"
    },
    "language_info": {
      "codemirror_mode": {
        "name": "ipython",
        "version": 3
      },
      "file_extension": ".py",
      "mimetype": "text/x-python",
      "name": "python",
      "nbconvert_exporter": "python",
      "pygments_lexer": "ipython3",
      "version": "3.9.0"
    },
    "vscode": {
      "interpreter": {
        "hash": "fe2f8a64868240eea86a6ea1b303982c304959f19f5864747fa0b58ddf074d2d"
      }
    }
  },
  "nbformat": 4,
  "nbformat_minor": 0
}

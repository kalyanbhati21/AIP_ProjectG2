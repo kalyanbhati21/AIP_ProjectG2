{
  "cells": [
    {
      "cell_type": "markdown",
      "metadata": {
        "id": "Sm1IlL9ggW3e"
      },
      "source": [
        "## Context\n",
        "\n",
        "The plproject aim is to predict the matches of english premier league. English premeir league contains matches on each year(season wise)in which 20 teams participate in the competition. The  matches are scheduled as seasons longing upto 1 year.\n",
        "The seasons usually starts from august and ends on the next year in april."
      ]
    },
    {
      "cell_type": "markdown",
      "metadata": {
        "id": "NF5jzPcbga6y"
      },
      "source": [
        "### Objective\n",
        "The objective is to predict the match result of a premier league match.\n",
        "The match can be predicted  by just giving the Home and Away team. "
      ]
    },
    {
      "cell_type": "markdown",
      "metadata": {
        "id": "KnTRLZFVzGHy"
      },
      "source": [
        "\n",
        "#Importing libraries"
      ]
    },
    {
      "cell_type": "code",
      "execution_count": 2,
      "metadata": {
        "id": "REmMcZmigWzs"
      },
      "outputs": [],
      "source": [
        "import pandas as pd\n",
        "import numpy as np\n",
        "import matplotlib.pyplot as py\n",
        "import seaborn as sns\n",
        "\n",
        "import matplotlib\n",
        "import matplotlib.pyplot as plt\n",
        "%matplotlib inline"
      ]
    },
    {
      "cell_type": "markdown",
      "metadata": {
        "id": "WBN2XwvvzOH5"
      },
      "source": [
        "## Loadinng the dataset"
      ]
    },
    {
      "cell_type": "code",
      "execution_count": 4,
      "metadata": {
        "id": "jfE8FmPwgb08"
      },
      "outputs": [],
      "source": [
        "df = pd.read_excel('Case3.xlsx')"
      ]
    },
    {
      "cell_type": "code",
      "execution_count": null,
      "metadata": {
        "id": "nDsKW9ZSc9WL"
      },
      "outputs": [],
      "source": [
        "df=df.iloc[:,:8]"
      ]
    },
    {
      "cell_type": "markdown",
      "metadata": {
        "id": "YEwUIhh3zvqN"
      },
      "source": [
        "#### We have consider the dataset from the years 2019-2022.\n",
        "#### For this dataset also, the features are common\n",
        "#### The performance of the team are constantly changing as the players are going In and Out of the team.\n",
        " "
      ]
    },
    {
      "cell_type": "markdown",
      "metadata": {
        "id": "LOcQXxJezaZN"
      },
      "source": [
        "\n",
        "###  features showing the match charactersitics\n",
        "\n",
        "Div = League Division\n",
        "\n",
        "Date = Match Date (dd/mm/yy)\n",
        "\n",
        "Time = Time of match kick off\n",
        "\n",
        "HomeTeam = Home Team\n",
        "\n",
        "AwayTeam = Away Team\n",
        "\n",
        "FTHG = Full Time Home Team Goals\n",
        "\n",
        "FTAG = Full Time Away Team Goals\n",
        "\n",
        "FTR  = Full Time Result (H=Home Win, D=Draw, A=Away Win)\n",
        " "
      ]
    },
    {
      "cell_type": "code",
      "execution_count": null,
      "metadata": {
        "colab": {
          "base_uri": "https://localhost:8080/"
        },
        "id": "-3W7PvvsgrHF",
        "outputId": "753f3d00-8bb6-4b75-a50d-db998f6b11d3"
      },
      "outputs": [
        {
          "name": "stdout",
          "output_type": "stream",
          "text": [
            "<class 'pandas.core.frame.DataFrame'>\n",
            "RangeIndex: 1217 entries, 0 to 1216\n",
            "Data columns (total 8 columns):\n",
            " #   Column    Non-Null Count  Dtype         \n",
            "---  ------    --------------  -----         \n",
            " 0   Div       1217 non-null   object        \n",
            " 1   Date      1217 non-null   datetime64[ns]\n",
            " 2   Time      1217 non-null   object        \n",
            " 3   HomeTeam  1217 non-null   object        \n",
            " 4   AwayTeam  1217 non-null   object        \n",
            " 5   FTHG      1217 non-null   int64         \n",
            " 6   FTAG      1217 non-null   int64         \n",
            " 7   FTR       1217 non-null   object        \n",
            "dtypes: datetime64[ns](1), int64(2), object(5)\n",
            "memory usage: 76.2+ KB\n",
            "None\n"
          ]
        }
      ],
      "source": [
        "print(df.info())"
      ]
    },
    {
      "cell_type": "code",
      "execution_count": null,
      "metadata": {
        "colab": {
          "base_uri": "https://localhost:8080/"
        },
        "id": "JoND-02khA8b",
        "outputId": "fc548e6f-2d6e-4f8b-e9c0-f34c23e50e12"
      },
      "outputs": [
        {
          "data": {
            "text/plain": [
              "Index(['Div', 'Date', 'Time', 'HomeTeam', 'AwayTeam', 'FTHG', 'FTAG', 'FTR'], dtype='object')"
            ]
          },
          "execution_count": 10,
          "metadata": {},
          "output_type": "execute_result"
        }
      ],
      "source": [
        "df.columns"
      ]
    },
    {
      "cell_type": "code",
      "execution_count": null,
      "metadata": {
        "colab": {
          "base_uri": "https://localhost:8080/",
          "height": 300
        },
        "id": "NGps47WMhD94",
        "outputId": "1e407e3c-09ed-4fc1-a6e9-6747d415ce65"
      },
      "outputs": [
        {
          "data": {
            "text/html": [
              "\n",
              "  <div id=\"df-2f794d1c-ab7d-4985-a099-a89aa9cd4e6d\">\n",
              "    <div class=\"colab-df-container\">\n",
              "      <div>\n",
              "<style scoped>\n",
              "    .dataframe tbody tr th:only-of-type {\n",
              "        vertical-align: middle;\n",
              "    }\n",
              "\n",
              "    .dataframe tbody tr th {\n",
              "        vertical-align: top;\n",
              "    }\n",
              "\n",
              "    .dataframe thead th {\n",
              "        text-align: right;\n",
              "    }\n",
              "</style>\n",
              "<table border=\"1\" class=\"dataframe\">\n",
              "  <thead>\n",
              "    <tr style=\"text-align: right;\">\n",
              "      <th></th>\n",
              "      <th>FTHG</th>\n",
              "      <th>FTAG</th>\n",
              "    </tr>\n",
              "  </thead>\n",
              "  <tbody>\n",
              "    <tr>\n",
              "      <th>count</th>\n",
              "      <td>1217.000000</td>\n",
              "      <td>1217.000000</td>\n",
              "    </tr>\n",
              "    <tr>\n",
              "      <th>mean</th>\n",
              "      <td>1.484799</td>\n",
              "      <td>1.278554</td>\n",
              "    </tr>\n",
              "    <tr>\n",
              "      <th>std</th>\n",
              "      <td>1.336472</td>\n",
              "      <td>1.226278</td>\n",
              "    </tr>\n",
              "    <tr>\n",
              "      <th>min</th>\n",
              "      <td>0.000000</td>\n",
              "      <td>0.000000</td>\n",
              "    </tr>\n",
              "    <tr>\n",
              "      <th>25%</th>\n",
              "      <td>0.000000</td>\n",
              "      <td>0.000000</td>\n",
              "    </tr>\n",
              "    <tr>\n",
              "      <th>50%</th>\n",
              "      <td>1.000000</td>\n",
              "      <td>1.000000</td>\n",
              "    </tr>\n",
              "    <tr>\n",
              "      <th>75%</th>\n",
              "      <td>2.000000</td>\n",
              "      <td>2.000000</td>\n",
              "    </tr>\n",
              "    <tr>\n",
              "      <th>max</th>\n",
              "      <td>9.000000</td>\n",
              "      <td>9.000000</td>\n",
              "    </tr>\n",
              "  </tbody>\n",
              "</table>\n",
              "</div>\n",
              "      <button class=\"colab-df-convert\" onclick=\"convertToInteractive('df-2f794d1c-ab7d-4985-a099-a89aa9cd4e6d')\"\n",
              "              title=\"Convert this dataframe to an interactive table.\"\n",
              "              style=\"display:none;\">\n",
              "        \n",
              "  <svg xmlns=\"http://www.w3.org/2000/svg\" height=\"24px\"viewBox=\"0 0 24 24\"\n",
              "       width=\"24px\">\n",
              "    <path d=\"M0 0h24v24H0V0z\" fill=\"none\"/>\n",
              "    <path d=\"M18.56 5.44l.94 2.06.94-2.06 2.06-.94-2.06-.94-.94-2.06-.94 2.06-2.06.94zm-11 1L8.5 8.5l.94-2.06 2.06-.94-2.06-.94L8.5 2.5l-.94 2.06-2.06.94zm10 10l.94 2.06.94-2.06 2.06-.94-2.06-.94-.94-2.06-.94 2.06-2.06.94z\"/><path d=\"M17.41 7.96l-1.37-1.37c-.4-.4-.92-.59-1.43-.59-.52 0-1.04.2-1.43.59L10.3 9.45l-7.72 7.72c-.78.78-.78 2.05 0 2.83L4 21.41c.39.39.9.59 1.41.59.51 0 1.02-.2 1.41-.59l7.78-7.78 2.81-2.81c.8-.78.8-2.07 0-2.86zM5.41 20L4 18.59l7.72-7.72 1.47 1.35L5.41 20z\"/>\n",
              "  </svg>\n",
              "      </button>\n",
              "      \n",
              "  <style>\n",
              "    .colab-df-container {\n",
              "      display:flex;\n",
              "      flex-wrap:wrap;\n",
              "      gap: 12px;\n",
              "    }\n",
              "\n",
              "    .colab-df-convert {\n",
              "      background-color: #E8F0FE;\n",
              "      border: none;\n",
              "      border-radius: 50%;\n",
              "      cursor: pointer;\n",
              "      display: none;\n",
              "      fill: #1967D2;\n",
              "      height: 32px;\n",
              "      padding: 0 0 0 0;\n",
              "      width: 32px;\n",
              "    }\n",
              "\n",
              "    .colab-df-convert:hover {\n",
              "      background-color: #E2EBFA;\n",
              "      box-shadow: 0px 1px 2px rgba(60, 64, 67, 0.3), 0px 1px 3px 1px rgba(60, 64, 67, 0.15);\n",
              "      fill: #174EA6;\n",
              "    }\n",
              "\n",
              "    [theme=dark] .colab-df-convert {\n",
              "      background-color: #3B4455;\n",
              "      fill: #D2E3FC;\n",
              "    }\n",
              "\n",
              "    [theme=dark] .colab-df-convert:hover {\n",
              "      background-color: #434B5C;\n",
              "      box-shadow: 0px 1px 3px 1px rgba(0, 0, 0, 0.15);\n",
              "      filter: drop-shadow(0px 1px 2px rgba(0, 0, 0, 0.3));\n",
              "      fill: #FFFFFF;\n",
              "    }\n",
              "  </style>\n",
              "\n",
              "      <script>\n",
              "        const buttonEl =\n",
              "          document.querySelector('#df-2f794d1c-ab7d-4985-a099-a89aa9cd4e6d button.colab-df-convert');\n",
              "        buttonEl.style.display =\n",
              "          google.colab.kernel.accessAllowed ? 'block' : 'none';\n",
              "\n",
              "        async function convertToInteractive(key) {\n",
              "          const element = document.querySelector('#df-2f794d1c-ab7d-4985-a099-a89aa9cd4e6d');\n",
              "          const dataTable =\n",
              "            await google.colab.kernel.invokeFunction('convertToInteractive',\n",
              "                                                     [key], {});\n",
              "          if (!dataTable) return;\n",
              "\n",
              "          const docLinkHtml = 'Like what you see? Visit the ' +\n",
              "            '<a target=\"_blank\" href=https://colab.research.google.com/notebooks/data_table.ipynb>data table notebook</a>'\n",
              "            + ' to learn more about interactive tables.';\n",
              "          element.innerHTML = '';\n",
              "          dataTable['output_type'] = 'display_data';\n",
              "          await google.colab.output.renderOutput(dataTable, element);\n",
              "          const docLink = document.createElement('div');\n",
              "          docLink.innerHTML = docLinkHtml;\n",
              "          element.appendChild(docLink);\n",
              "        }\n",
              "      </script>\n",
              "    </div>\n",
              "  </div>\n",
              "  "
            ],
            "text/plain": [
              "              FTHG         FTAG\n",
              "count  1217.000000  1217.000000\n",
              "mean      1.484799     1.278554\n",
              "std       1.336472     1.226278\n",
              "min       0.000000     0.000000\n",
              "25%       0.000000     0.000000\n",
              "50%       1.000000     1.000000\n",
              "75%       2.000000     2.000000\n",
              "max       9.000000     9.000000"
            ]
          },
          "execution_count": 11,
          "metadata": {},
          "output_type": "execute_result"
        }
      ],
      "source": [
        "df.describe()"
      ]
    },
    {
      "cell_type": "code",
      "execution_count": null,
      "metadata": {
        "colab": {
          "base_uri": "https://localhost:8080/"
        },
        "id": "lVdI2s7chIRN",
        "outputId": "87dad53b-3c23-4d1a-c025-5b4505a43125"
      },
      "outputs": [
        {
          "data": {
            "text/plain": [
              "Div                 object\n",
              "Date        datetime64[ns]\n",
              "Time                object\n",
              "HomeTeam            object\n",
              "AwayTeam            object\n",
              "FTHG                 int64\n",
              "FTAG                 int64\n",
              "FTR                 object\n",
              "dtype: object"
            ]
          },
          "execution_count": 12,
          "metadata": {},
          "output_type": "execute_result"
        }
      ],
      "source": [
        "df.dtypes"
      ]
    },
    {
      "cell_type": "code",
      "execution_count": null,
      "metadata": {
        "colab": {
          "base_uri": "https://localhost:8080/",
          "height": 363
        },
        "id": "Y6DLju0mhN-i",
        "outputId": "da29291c-ad17-484a-f868-b41af6c90499"
      },
      "outputs": [
        {
          "data": {
            "text/html": [
              "\n",
              "  <div id=\"df-9e0f3c83-9ad9-4c60-b62e-1cf6a5e5b559\">\n",
              "    <div class=\"colab-df-container\">\n",
              "      <div>\n",
              "<style scoped>\n",
              "    .dataframe tbody tr th:only-of-type {\n",
              "        vertical-align: middle;\n",
              "    }\n",
              "\n",
              "    .dataframe tbody tr th {\n",
              "        vertical-align: top;\n",
              "    }\n",
              "\n",
              "    .dataframe thead th {\n",
              "        text-align: right;\n",
              "    }\n",
              "</style>\n",
              "<table border=\"1\" class=\"dataframe\">\n",
              "  <thead>\n",
              "    <tr style=\"text-align: right;\">\n",
              "      <th></th>\n",
              "      <th>Div</th>\n",
              "      <th>Date</th>\n",
              "      <th>Time</th>\n",
              "      <th>HomeTeam</th>\n",
              "      <th>AwayTeam</th>\n",
              "      <th>FTHG</th>\n",
              "      <th>FTAG</th>\n",
              "      <th>FTR</th>\n",
              "    </tr>\n",
              "  </thead>\n",
              "  <tbody>\n",
              "    <tr>\n",
              "      <th>0</th>\n",
              "      <td>E0</td>\n",
              "      <td>2019-08-09</td>\n",
              "      <td>20:00:00</td>\n",
              "      <td>Liverpool</td>\n",
              "      <td>Norwich</td>\n",
              "      <td>4</td>\n",
              "      <td>1</td>\n",
              "      <td>H</td>\n",
              "    </tr>\n",
              "    <tr>\n",
              "      <th>1</th>\n",
              "      <td>E0</td>\n",
              "      <td>2019-08-10</td>\n",
              "      <td>12:30:00</td>\n",
              "      <td>West Ham</td>\n",
              "      <td>Man City</td>\n",
              "      <td>0</td>\n",
              "      <td>5</td>\n",
              "      <td>A</td>\n",
              "    </tr>\n",
              "    <tr>\n",
              "      <th>2</th>\n",
              "      <td>E0</td>\n",
              "      <td>2019-08-10</td>\n",
              "      <td>15:00:00</td>\n",
              "      <td>Bournemouth</td>\n",
              "      <td>Sheffield United</td>\n",
              "      <td>1</td>\n",
              "      <td>1</td>\n",
              "      <td>D</td>\n",
              "    </tr>\n",
              "    <tr>\n",
              "      <th>3</th>\n",
              "      <td>E0</td>\n",
              "      <td>2019-08-10</td>\n",
              "      <td>15:00:00</td>\n",
              "      <td>Burnley</td>\n",
              "      <td>Southampton</td>\n",
              "      <td>3</td>\n",
              "      <td>0</td>\n",
              "      <td>H</td>\n",
              "    </tr>\n",
              "    <tr>\n",
              "      <th>4</th>\n",
              "      <td>E0</td>\n",
              "      <td>2019-08-10</td>\n",
              "      <td>15:00:00</td>\n",
              "      <td>Crystal Palace</td>\n",
              "      <td>Everton</td>\n",
              "      <td>0</td>\n",
              "      <td>0</td>\n",
              "      <td>D</td>\n",
              "    </tr>\n",
              "    <tr>\n",
              "      <th>5</th>\n",
              "      <td>E0</td>\n",
              "      <td>2019-08-10</td>\n",
              "      <td>15:00:00</td>\n",
              "      <td>Watford</td>\n",
              "      <td>Brighton</td>\n",
              "      <td>0</td>\n",
              "      <td>3</td>\n",
              "      <td>A</td>\n",
              "    </tr>\n",
              "    <tr>\n",
              "      <th>6</th>\n",
              "      <td>E0</td>\n",
              "      <td>2019-08-10</td>\n",
              "      <td>17:30:00</td>\n",
              "      <td>Tottenham</td>\n",
              "      <td>Aston Villa</td>\n",
              "      <td>3</td>\n",
              "      <td>1</td>\n",
              "      <td>H</td>\n",
              "    </tr>\n",
              "    <tr>\n",
              "      <th>7</th>\n",
              "      <td>E0</td>\n",
              "      <td>2019-08-11</td>\n",
              "      <td>14:00:00</td>\n",
              "      <td>Leicester</td>\n",
              "      <td>Wolves</td>\n",
              "      <td>0</td>\n",
              "      <td>0</td>\n",
              "      <td>D</td>\n",
              "    </tr>\n",
              "    <tr>\n",
              "      <th>8</th>\n",
              "      <td>E0</td>\n",
              "      <td>2019-08-11</td>\n",
              "      <td>14:00:00</td>\n",
              "      <td>Newcastle</td>\n",
              "      <td>Arsenal</td>\n",
              "      <td>0</td>\n",
              "      <td>1</td>\n",
              "      <td>A</td>\n",
              "    </tr>\n",
              "    <tr>\n",
              "      <th>9</th>\n",
              "      <td>E0</td>\n",
              "      <td>2019-08-11</td>\n",
              "      <td>16:30:00</td>\n",
              "      <td>Man United</td>\n",
              "      <td>Chelsea</td>\n",
              "      <td>4</td>\n",
              "      <td>0</td>\n",
              "      <td>H</td>\n",
              "    </tr>\n",
              "  </tbody>\n",
              "</table>\n",
              "</div>\n",
              "      <button class=\"colab-df-convert\" onclick=\"convertToInteractive('df-9e0f3c83-9ad9-4c60-b62e-1cf6a5e5b559')\"\n",
              "              title=\"Convert this dataframe to an interactive table.\"\n",
              "              style=\"display:none;\">\n",
              "        \n",
              "  <svg xmlns=\"http://www.w3.org/2000/svg\" height=\"24px\"viewBox=\"0 0 24 24\"\n",
              "       width=\"24px\">\n",
              "    <path d=\"M0 0h24v24H0V0z\" fill=\"none\"/>\n",
              "    <path d=\"M18.56 5.44l.94 2.06.94-2.06 2.06-.94-2.06-.94-.94-2.06-.94 2.06-2.06.94zm-11 1L8.5 8.5l.94-2.06 2.06-.94-2.06-.94L8.5 2.5l-.94 2.06-2.06.94zm10 10l.94 2.06.94-2.06 2.06-.94-2.06-.94-.94-2.06-.94 2.06-2.06.94z\"/><path d=\"M17.41 7.96l-1.37-1.37c-.4-.4-.92-.59-1.43-.59-.52 0-1.04.2-1.43.59L10.3 9.45l-7.72 7.72c-.78.78-.78 2.05 0 2.83L4 21.41c.39.39.9.59 1.41.59.51 0 1.02-.2 1.41-.59l7.78-7.78 2.81-2.81c.8-.78.8-2.07 0-2.86zM5.41 20L4 18.59l7.72-7.72 1.47 1.35L5.41 20z\"/>\n",
              "  </svg>\n",
              "      </button>\n",
              "      \n",
              "  <style>\n",
              "    .colab-df-container {\n",
              "      display:flex;\n",
              "      flex-wrap:wrap;\n",
              "      gap: 12px;\n",
              "    }\n",
              "\n",
              "    .colab-df-convert {\n",
              "      background-color: #E8F0FE;\n",
              "      border: none;\n",
              "      border-radius: 50%;\n",
              "      cursor: pointer;\n",
              "      display: none;\n",
              "      fill: #1967D2;\n",
              "      height: 32px;\n",
              "      padding: 0 0 0 0;\n",
              "      width: 32px;\n",
              "    }\n",
              "\n",
              "    .colab-df-convert:hover {\n",
              "      background-color: #E2EBFA;\n",
              "      box-shadow: 0px 1px 2px rgba(60, 64, 67, 0.3), 0px 1px 3px 1px rgba(60, 64, 67, 0.15);\n",
              "      fill: #174EA6;\n",
              "    }\n",
              "\n",
              "    [theme=dark] .colab-df-convert {\n",
              "      background-color: #3B4455;\n",
              "      fill: #D2E3FC;\n",
              "    }\n",
              "\n",
              "    [theme=dark] .colab-df-convert:hover {\n",
              "      background-color: #434B5C;\n",
              "      box-shadow: 0px 1px 3px 1px rgba(0, 0, 0, 0.15);\n",
              "      filter: drop-shadow(0px 1px 2px rgba(0, 0, 0, 0.3));\n",
              "      fill: #FFFFFF;\n",
              "    }\n",
              "  </style>\n",
              "\n",
              "      <script>\n",
              "        const buttonEl =\n",
              "          document.querySelector('#df-9e0f3c83-9ad9-4c60-b62e-1cf6a5e5b559 button.colab-df-convert');\n",
              "        buttonEl.style.display =\n",
              "          google.colab.kernel.accessAllowed ? 'block' : 'none';\n",
              "\n",
              "        async function convertToInteractive(key) {\n",
              "          const element = document.querySelector('#df-9e0f3c83-9ad9-4c60-b62e-1cf6a5e5b559');\n",
              "          const dataTable =\n",
              "            await google.colab.kernel.invokeFunction('convertToInteractive',\n",
              "                                                     [key], {});\n",
              "          if (!dataTable) return;\n",
              "\n",
              "          const docLinkHtml = 'Like what you see? Visit the ' +\n",
              "            '<a target=\"_blank\" href=https://colab.research.google.com/notebooks/data_table.ipynb>data table notebook</a>'\n",
              "            + ' to learn more about interactive tables.';\n",
              "          element.innerHTML = '';\n",
              "          dataTable['output_type'] = 'display_data';\n",
              "          await google.colab.output.renderOutput(dataTable, element);\n",
              "          const docLink = document.createElement('div');\n",
              "          docLink.innerHTML = docLinkHtml;\n",
              "          element.appendChild(docLink);\n",
              "        }\n",
              "      </script>\n",
              "    </div>\n",
              "  </div>\n",
              "  "
            ],
            "text/plain": [
              "  Div       Date      Time        HomeTeam          AwayTeam  FTHG  FTAG FTR\n",
              "0  E0 2019-08-09  20:00:00       Liverpool           Norwich     4     1   H\n",
              "1  E0 2019-08-10  12:30:00        West Ham          Man City     0     5   A\n",
              "2  E0 2019-08-10  15:00:00     Bournemouth  Sheffield United     1     1   D\n",
              "3  E0 2019-08-10  15:00:00         Burnley       Southampton     3     0   H\n",
              "4  E0 2019-08-10  15:00:00  Crystal Palace           Everton     0     0   D\n",
              "5  E0 2019-08-10  15:00:00         Watford          Brighton     0     3   A\n",
              "6  E0 2019-08-10  17:30:00       Tottenham       Aston Villa     3     1   H\n",
              "7  E0 2019-08-11  14:00:00       Leicester            Wolves     0     0   D\n",
              "8  E0 2019-08-11  14:00:00       Newcastle           Arsenal     0     1   A\n",
              "9  E0 2019-08-11  16:30:00      Man United           Chelsea     4     0   H"
            ]
          },
          "execution_count": 13,
          "metadata": {},
          "output_type": "execute_result"
        }
      ],
      "source": [
        "df.head(10)"
      ]
    },
    {
      "cell_type": "code",
      "execution_count": null,
      "metadata": {
        "id": "gJ5oDzatvQMj"
      },
      "outputs": [],
      "source": [
        "Arsenal=df\n",
        "AstonVilla=df\n",
        "Chelsea=df\n",
        "ManUnited=df\n",
        "ManCity=df\n",
        "Tottenham=df\n",
        "WestHam=df\n",
        "\n",
        "teamnames=['Arsenal','Aston Villa','Chelsea','Man United','Man City','Tottenham','West Ham']\n",
        "teamvariable=[Arsenal,AstonVilla,Chelsea,ManUnited,ManCity,Tottenham,WestHam]\n",
        "\n",
        "for i in range(len(teamnames)):\n",
        "  h=df.loc[df['HomeTeam'] == teamnames[i]]\n",
        "  a=df.loc[(df['AwayTeam'] == teamnames[i])] \n",
        "  teamvariable[i]=pd.concat([h,a],axis=0)\n",
        "  ## ENCODING\n",
        "  ## f= encoded values of manchester united as hometeam\n",
        "  ## e= encoded values of manchester united as awayteam\n",
        "\n",
        "  f=pd.get_dummies(teamvariable[i]['HomeTeam']) ## Taking the dummy values in the homeTeam colummn\n",
        "  e=pd.get_dummies(teamvariable[i]['AwayTeam']) ## Taking the dummmy values in the  awayTeam column\n",
        "  e=e.replace([1],[-1])\n",
        "  e=e.add(f)\n",
        "\n",
        "  teamvariable[i]=teamvariable[i].join(e)\n",
        "\n",
        "  teamvariable[i]=teamvariable[i].drop('HomeTeam',axis=1)\n",
        "  teamvariable[i]=teamvariable[i].drop('AwayTeam',axis=1)\n",
        "  teamvariable[i]=teamvariable[i].drop('Date',axis=1)\n",
        "  teamvariable[i]=teamvariable[i].drop('Div',axis=1)"
      ]
    },
    {
      "cell_type": "code",
      "execution_count": null,
      "metadata": {
        "id": "2D24LNGtvTGz"
      },
      "outputs": [],
      "source": [
        "def labeled_barplot(data, feature, perc=False, n=None):\n",
        "    \"\"\"\n",
        "    Barplot with percentage at the top\n",
        "\n",
        "    data: dataframe\n",
        "    feature: dataframe column\n",
        "    perc: whether to display percentages instead of count (default is False)\n",
        "    n: displays the top n category levels (default is None, i.e., display all levels)\n",
        "    \"\"\"\n",
        "\n",
        "    total = len(data[feature])  # length of the column\n",
        "    count = data[feature].nunique()\n",
        "    if n is None:\n",
        "        plt.figure(figsize=(count + 1, 5))\n",
        "    else:\n",
        "        plt.figure(figsize=(n + 1, 5))\n",
        "\n",
        "    plt.xticks(rotation=360, fontsize=10)\n",
        "    ax = sns.countplot(\n",
        "        data=data,\n",
        "        x=feature,\n",
        "        palette=\"Paired\",\n",
        "        order=data[feature].value_counts().index[:n].sort_values(),\n",
        "        \n",
        "    )\n",
        "\n",
        "    for p in ax.patches:\n",
        "        if perc == True:\n",
        "            label = \"{:.1f}%\".format(\n",
        "                100 * p.get_height() / total\n",
        "            )  # percentage of each class of the category\n",
        "        else:\n",
        "            label = p.get_height()  # count of each level of the category\n",
        "\n",
        "        x = p.get_x() + p.get_width() / 2  # width of the plot\n",
        "        y = p.get_height()  # height of the plot\n",
        "\n",
        "        ax.annotate(\n",
        "            label,\n",
        "            (x, y),\n",
        "            ha=\"center\",\n",
        "            va=\"center\",\n",
        "            size=12,\n",
        "            xytext=(0, 5),\n",
        "            textcoords=\"offset points\",\n",
        "        )  # annotate the percentage\n",
        "\n",
        "    plt.show()  # show the plot\n",
        "\n",
        "\n",
        "manutdh=teamvariable[3].loc[teamvariable[3]['Man United']==1]\n",
        "manutda=teamvariable[3].loc[teamvariable[3]['Man United']==-1]\n",
        " "
      ]
    },
    {
      "cell_type": "markdown",
      "metadata": {
        "id": "UPiWaA6EgtuV"
      },
      "source": [
        "### Graph showing the Wins of Manchester united in Home, away and Draw"
      ]
    },
    {
      "cell_type": "markdown",
      "metadata": {
        "id": "Rz5K2YglgwDz"
      },
      "source": [
        "#### When played in Home"
      ]
    },
    {
      "cell_type": "code",
      "execution_count": null,
      "metadata": {
        "colab": {
          "base_uri": "https://localhost:8080/",
          "height": 350
        },
        "id": "y72wYXqwvYqe",
        "outputId": "cbe44616-c053-4c00-f832-d2cc2733db3a"
      },
      "outputs": [
        {
          "data": {
            "image/png": "[encoded data removed]",
            "text/plain": [
              "<Figure size 288x360 with 1 Axes>"
            ]
          },
          "metadata": {},
          "output_type": "display_data"
        }
      ],
      "source": [
        "manutdh= manutdh.replace(['H','A','D'],['Wins','Looses','draw'])\n",
        "labeled_barplot(manutdh, \"FTR\", perc=True)"
      ]
    },
    {
      "cell_type": "markdown",
      "metadata": {
        "id": "kpmAVwWtg5ek"
      },
      "source": [
        "#### Observations\n",
        "##### The graph shows that the manchestr united has won 51 percent of the matches when played in the home ground and lost only 21.7 percent\n",
        "##### Draw has occured a 26 percent of times"
      ]
    },
    {
      "cell_type": "markdown",
      "metadata": {
        "id": "wA1f0fTIiali"
      },
      "source": [
        "### When played in away"
      ]
    },
    {
      "cell_type": "code",
      "execution_count": null,
      "metadata": {
        "colab": {
          "base_uri": "https://localhost:8080/",
          "height": 350
        },
        "id": "dHq8V2A8vb5M",
        "outputId": "41d71ec7-a61c-4971-e1d6-1f6b84f9c187"
      },
      "outputs": [
        {
          "data": {
            "image/png": "[encoded data removed]",
            "text/plain": [
              "<Figure size 288x360 with 1 Axes>"
            ]
          },
          "metadata": {},
          "output_type": "display_data"
        }
      ],
      "source": [
        "manutda= manutda.replace(['H','A','D'],['Looses','Wins','draw'])\n",
        "labeled_barplot(manutda, \"FTR\", perc=True)"
      ]
    },
    {
      "cell_type": "markdown",
      "metadata": {
        "id": "DoPLrW0Lig5R"
      },
      "source": [
        "#### Observations\n",
        "##### The graph shows that the manchestr united has won 48 percent of the matches when played in the home ground and lost only 26.3 percent\n",
        "##### Draw has occured a 27 percent of times\n",
        "##### The percent of wins has decreased in the away venues"
      ]
    },
    {
      "cell_type": "code",
      "execution_count": null,
      "metadata": {
        "id": "NaKLjiodvfXJ"
      },
      "outputs": [],
      "source": [
        "manutd1=manutdh[['FTR','FTHG']]\n",
        "manutd1=manutd1.drop('FTHG',axis=1)\n",
        " \n",
        "manutd2=manutda[['FTR','FTHG']]\n",
        "manutd2=manutd2.drop('FTHG',axis=1)\n",
        " \n",
        "manutd= pd.concat([manutd1, manutd2], axis =0) "
      ]
    },
    {
      "cell_type": "markdown",
      "metadata": {
        "id": "TRdsPgubipHS"
      },
      "source": [
        "### Showing the Total percent of Wins, Looses and draw"
      ]
    },
    {
      "cell_type": "code",
      "execution_count": null,
      "metadata": {
        "colab": {
          "base_uri": "https://localhost:8080/",
          "height": 350
        },
        "id": "aH-44KPbvjif",
        "outputId": "cc1caf09-f605-4b88-bada-fea7fb44c015"
      },
      "outputs": [
        {
          "data": {
            "image/png": "[encoded data removed]",
            "text/plain": [
              "<Figure size 288x360 with 1 Axes>"
            ]
          },
          "metadata": {},
          "output_type": "display_data"
        }
      ],
      "source": [
        "labeled_barplot(manutd, \"FTR\", perc=True)"
      ]
    },
    {
      "cell_type": "markdown",
      "metadata": {
        "id": "z1XITPWnisUr"
      },
      "source": [
        "##### The team has won a total 48 percent of wins, followed by 24 percent of looses and 27 percent draw"
      ]
    },
    {
      "cell_type": "markdown",
      "metadata": {
        "id": "PJXR7yHV1Bvo"
      },
      "source": [
        "# Univariate analysis"
      ]
    },
    {
      "cell_type": "markdown",
      "metadata": {
        "id": "XWo5Yuor0-OJ"
      },
      "source": [
        "## Target variable\n",
        "\n",
        "#### Full time result feature or FTR feature is taken as the target variable for training the models for the dataset we considered\n",
        "\n",
        "#### The table shows below the distribution of targets variables as \n",
        "#### H - Represents Home team win\n",
        "#### A - Represents Away team win\n",
        "#### D - Represents Draw"
      ]
    },
    {
      "cell_type": "code",
      "execution_count": null,
      "metadata": {
        "colab": {
          "base_uri": "https://localhost:8080/",
          "height": 337
        },
        "id": "L9rfUIa9ikgr",
        "outputId": "9beaa407-49b7-47c6-f68d-ffee4d608b6b"
      },
      "outputs": [
        {
          "data": {
            "text/plain": [
              "(array([516.,   0.,   0.,   0.,   0., 416.,   0.,   0.,   0., 285.]),\n",
              " array([0. , 0.2, 0.4, 0.6, 0.8, 1. , 1.2, 1.4, 1.6, 1.8, 2. ]),\n",
              " <a list of 10 Patch objects>)"
            ]
          },
          "execution_count": 20,
          "metadata": {},
          "output_type": "execute_result"
        },
        {
          "data": {
            "image/png": "[encoded data removed]",
            "text/plain": [
              "<Figure size 432x288 with 1 Axes>"
            ]
          },
          "metadata": {
            "needs_background": "light"
          },
          "output_type": "display_data"
        }
      ],
      "source": [
        "plt.title('H--->Hometeam win          A--->Awayteamwin          D--->Draw', fontsize=14)\n",
        "plt.hist(df['FTR'])"
      ]
    },
    {
      "cell_type": "markdown",
      "metadata": {
        "id": "6G5ihALm1NGS"
      },
      "source": [
        "####  From graph below, we can see the most no of wins happened for the home teams with around 500 wins followed by away teams wins of 400, The draw happened for around 280 times"
      ]
    },
    {
      "cell_type": "code",
      "execution_count": null,
      "metadata": {
        "id": "pSV1SCg3ira_"
      },
      "outputs": [],
      "source": [
        "# While doing univariate analysis of numerical variables we want to study their central tendency and dispersion.\n",
        "# Let us write a function that will help us create boxplot and histogram for any input numerical variable.\n",
        "# This function takes the numerical column as the input and returns the boxplots and histograms for the variable.\n",
        "# Let us see if this help us write faster and cleaner code.\n",
        "\n",
        "\n",
        "def histogram_boxplot(feature, figsize=(15, 10), bins=None):\n",
        "    \"\"\"Boxplot and histogram combined\n",
        "    feature: 1-d feature array\n",
        "    figsize: size of fig (default (9,8))\n",
        "    bins: number of bins (default None / auto)\n",
        "    \"\"\"\n",
        "    sns.set(font_scale=2)  # setting the font scale for seaborn\n",
        "    f2, (ax_box2, ax_hist2) = plt.subplots(\n",
        "        nrows=2,  # Number of rows of the subplot grid=2\n",
        "        sharex=True,  # x-axis will be shared among all subplots\n",
        "        gridspec_kw={\"height_ratios\": (0.25, 0.75)},\n",
        "        figsize=figsize,\n",
        "    )  # creating the 2 subplots\n",
        "    sns.boxplot(\n",
        "        feature, ax=ax_box2, showmeans=True, color=\"red\"\n",
        "    )  # boxplot will be created and a star will indicate the mean value of the column\n",
        "    sns.distplot(feature, kde=F, ax=ax_hist2, bins=bins) if bins else sns.distplot(\n",
        "        feature, kde=False, ax=ax_hist2\n",
        "    )  # For histogram\n",
        "    ax_hist2.axvline(\n",
        "        feature.mean(), color=\"g\", linestyle=\"--\"\n",
        "    )  # Add mean to the histogram\n",
        "    ax_hist2.axvline(\n",
        "        feature.median(), color=\"black\", linestyle=\"-\"\n",
        "    )  # Add median to the histogram"
      ]
    },
    {
      "cell_type": "markdown",
      "metadata": {
        "id": "uwTwWtCaz_a2"
      },
      "source": [
        "#### The below boxplot shows the numerical distribution of Overall goals scored by all the teams in total .\n"
      ]
    },
    {
      "cell_type": "code",
      "execution_count": null,
      "metadata": {
        "colab": {
          "base_uri": "https://localhost:8080/",
          "height": 725
        },
        "id": "81w-98gXiyDz",
        "outputId": "5558bcab-37fe-4011-8023-cf7ce455c22a"
      },
      "outputs": [
        {
          "name": "stderr",
          "output_type": "stream",
          "text": [
            "/usr/local/lib/python3.8/dist-packages/seaborn/_decorators.py:36: FutureWarning: Pass the following variable as a keyword arg: x. From version 0.12, the only valid positional argument will be `data`, and passing other arguments without an explicit keyword will result in an error or misinterpretation.\n",
            "  warnings.warn(\n",
            "/usr/local/lib/python3.8/dist-packages/seaborn/distributions.py:2619: FutureWarning: `distplot` is a deprecated function and will be removed in a future version. Please adapt your code to use either `displot` (a figure-level function with similar flexibility) or `histplot` (an axes-level function for histograms).\n",
            "  warnings.warn(msg, FutureWarning)\n"
          ]
        },
        {
          "data": {
            "image/png": "[encoded data removed]",
            "text/plain": [
              "<Figure size 1080x720 with 2 Axes>"
            ]
          },
          "metadata": {},
          "output_type": "display_data"
        }
      ],
      "source": [
        "histogram_boxplot(df.FTHG) "
      ]
    },
    {
      "cell_type": "markdown",
      "metadata": {
        "id": "huD5CazN19bv"
      },
      "source": [
        "#### We can see that the most occured value of Home team after full time are 0,1,2.\n",
        "#### Rarely it is  seen that the home team scores 5,6,7 goals "
      ]
    },
    {
      "cell_type": "markdown",
      "metadata": {
        "id": "RbB1aVvQ1y8e"
      },
      "source": [
        " ### Graph shows the numerical distrbution of each numerical variable in the dataset"
      ]
    },
    {
      "cell_type": "code",
      "execution_count": null,
      "metadata": {
        "colab": {
          "base_uri": "https://localhost:8080/",
          "height": 164
        },
        "id": "32g6qhvEjGBz",
        "outputId": "92590c5f-f722-416c-8c3a-382b01902354"
      },
      "outputs": [
        {
          "data": {
            "image/png": "[encoded data removed]",
            "text/plain": [
              "<Figure size 1224x5400 with 2 Axes>"
            ]
          },
          "metadata": {},
          "output_type": "display_data"
        }
      ],
      "source": [
        "# lets plot histogram of all numerical variables\n",
        "\n",
        "all_col = df.select_dtypes(include=np.number).columns.tolist()\n",
        "#all_col.remove(\"HomeTeam\")\n",
        "plt.figure(figsize=(17, 75))\n",
        "\n",
        "for i in range(len(all_col)):\n",
        "    plt.subplot(40, 3, i + 1)\n",
        "    plt.hist(df[all_col[i]])\n",
        "    # sns.histplot(df[all_col[i]], kde=True)  # you can comment the previous line and run this one to get distribution curves\n",
        "    plt.tight_layout()\n",
        "    plt.title(all_col[i], fontsize=25)\n",
        "\n",
        "plt.show()"
      ]
    },
    {
      "cell_type": "markdown",
      "metadata": {
        "id": "KdJaSVHc1rRO"
      },
      "source": [
        "## Observations\n",
        "Most of the graphs are rightly skewed with some of the graph showing normal distribution trends"
      ]
    },
    {
      "cell_type": "markdown",
      "metadata": {
        "id": "2VYsTbRt2QCX"
      },
      "source": [
        "# Multivariate analysis"
      ]
    },
    {
      "cell_type": "code",
      "execution_count": null,
      "metadata": {
        "colab": {
          "base_uri": "https://localhost:8080/",
          "height": 894
        },
        "id": "2yeNPZxBjNqf",
        "outputId": "0c35cfb3-b1e8-468d-b3c4-4af23286b0be"
      },
      "outputs": [
        {
          "data": {
            "text/plain": [
              "<matplotlib.axes._subplots.AxesSubplot at 0x7fe81fb270a0>"
            ]
          },
          "execution_count": 25,
          "metadata": {},
          "output_type": "execute_result"
        },
        {
          "data": {
            "image/png": "[encoded data removed]",
            "text/plain": [
              "<Figure size 2016x1080 with 2 Axes>"
            ]
          },
          "metadata": {},
          "output_type": "display_data"
        }
      ],
      "source": [
        "numeric_columns = df.select_dtypes(include=np.number).columns.tolist()\n",
        "#numeric_columns.remove(\"Year\")  # dropping year column as it is temporal variable\n",
        "corr = (\n",
        "    df[numeric_columns].corr())\n",
        "  # sorting correlations w.r.t life expectancy\n",
        "\n",
        "# Set up the matplotlib figure\n",
        "f, ax = plt.subplots(figsize=(28, 15))\n",
        "\n",
        "# Draw the heatmap with the mask and correct aspect ratio\n",
        "sns.heatmap(\n",
        "    corr,\n",
        "    cmap=\"seismic\",\n",
        "    annot=True,\n",
        "    fmt=\".2f\",\n",
        "    vmin=-1,\n",
        "    vmax=1,\n",
        "    center=0,\n",
        "    square=False,\n",
        "    linewidths=0.7,\n",
        "    cbar_kws={\"shrink\": 0.5},\n",
        ")"
      ]
    },
    {
      "cell_type": "code",
      "execution_count": null,
      "metadata": {
        "colab": {
          "base_uri": "https://localhost:8080/",
          "height": 378
        },
        "id": "44leHD6vjPx-",
        "outputId": "6670d4d4-ec40-44f7-cea8-1c2e334602af"
      },
      "outputs": [
        {
          "data": {
            "text/plain": [
              "<seaborn.axisgrid.PairGrid at 0x7fe81e1ffc70>"
            ]
          },
          "execution_count": 26,
          "metadata": {},
          "output_type": "execute_result"
        },
        {
          "data": {
            "image/png": "[encoded data removed]",
            "text/plain": [
              "<Figure size 360x360 with 6 Axes>"
            ]
          },
          "metadata": {},
          "output_type": "display_data"
        }
      ],
      "source": [
        "## Displaying the correlation matrix\n",
        "sns.pairplot(df)"
      ]
    },
    {
      "cell_type": "markdown",
      "metadata": {
        "id": "qGXv9HTB2jyl"
      },
      "source": [
        "## The graph showing the results of the matches of each team when on home side and away side"
      ]
    },
    {
      "cell_type": "code",
      "execution_count": null,
      "metadata": {
        "id": "zmJolmPOjWV9"
      },
      "outputs": [],
      "source": [
        " ### To identify the winner of each match: if \"H\"- the home team was the winner, if \"A\" the away team was the winner, else draw:\n",
        "df['Winner'] = np.where(df['FTR'] == 'H',df['HomeTeam'],\n",
        "                          np.where(df['FTR'] == 'A', df['AwayTeam'], \"Draw\"))\n",
        "### To identify the result of each match: whether the home team won, the away team won, or drew:\n",
        "df['Result'] = np.where(df['FTR'] == 'H','HomeTeamWin',\n",
        "                          np.where(df['FTR'] == 'A', 'AwayTeamWin', \"Draw\"))\n",
        "### To identify how many goals did the winner had:\n",
        "df['Result'] = np.where(df['FTR'] == 'H','HomeTeamWin',\n",
        "                          np.where(df['FTR'] == 'A', 'AwayTeamWin', \"Draw\"))\n",
        "### To get the \"Year\" of each match:\n",
        "df['Year']=pd.DatetimeIndex(df['Date']).year\n",
        "### To get the total number of goals in each match and the goal differences:\n",
        "df['TotalGoal'] = df['FTHG'] + df['FTAG']\n",
        "df['GoalDif']= df['FTHG']- df['FTAG']"
      ]
    },
    {
      "cell_type": "markdown",
      "metadata": {
        "id": "M5PbNcvK2x91"
      },
      "source": [
        "### Graph showing the overall wins for the home and away teams"
      ]
    },
    {
      "cell_type": "code",
      "execution_count": null,
      "metadata": {
        "colab": {
          "base_uri": "https://localhost:8080/",
          "height": 542
        },
        "id": "qpouvHOIjt82",
        "outputId": "f7644238-2ae7-4e9a-b850-2186115e24c5"
      },
      "outputs": [
        {
          "data": {
            "text/html": [
              "<html>\n",
              "<head><meta charset=\"utf-8\" /></head>\n",
              "<body>\n",
              "    <div>            <script src=\"https://cdnjs.cloudflare.com/ajax/libs/mathjax/2.7.5/MathJax.js?config=TeX-AMS-MML_SVG\"></script><script type=\"text/javascript\">if (window.MathJax) {MathJax.Hub.Config({SVG: {font: \"STIX-Web\"}});}</script>                <script type=\"text/javascript\">window.PlotlyConfig = {MathJaxConfig: 'local'};</script>\n",
              "        <script src=\"https://cdn.plot.ly/plotly-2.8.3.min.js\"></script>                <div id=\"877cd8d5-5a17-4f6b-a71b-483a5eb16000\" class=\"plotly-graph-div\" style=\"height:525px; width:100%;\"></div>            <script type=\"text/javascript\">                                    window.PLOTLYENV=window.PLOTLYENV || {};                                    if (document.getElementById(\"877cd8d5-5a17-4f6b-a71b-483a5eb16000\")) {                    Plotly.newPlot(                        \"877cd8d5-5a17-4f6b-a71b-483a5eb16000\",                        [{\"customdata\":[[\"AwayTeamWin\"],[\"Draw\"],[\"HomeTeamWin\"]],\"domain\":{\"x\":[0.0,1.0],\"y\":[0.0,1.0]},\"hovertemplate\":\"Result=%{customdata[0]}<br>count=%{value}<extra></extra>\",\"labels\":[\"AwayTeamWin\",\"Draw\",\"HomeTeamWin\"],\"legendgroup\":\"\",\"marker\":{\"colors\":[\"orangered\",\"lightgreen\",\"royalblue\"]},\"name\":\"\",\"showlegend\":true,\"values\":[416,285,516],\"type\":\"pie\",\"textinfo\":\"percent+value\",\"textposition\":\"inside\"}],                        {\"template\":{\"data\":{\"bar\":[{\"error_x\":{\"color\":\"#2a3f5f\"},\"error_y\":{\"color\":\"#2a3f5f\"},\"marker\":{\"line\":{\"color\":\"#E5ECF6\",\"width\":0.5},\"pattern\":{\"fillmode\":\"overlay\",\"size\":10,\"solidity\":0.2}},\"type\":\"bar\"}],\"barpolar\":[{\"marker\":{\"line\":{\"color\":\"#E5ECF6\",\"width\":0.5},\"pattern\":{\"fillmode\":\"overlay\",\"size\":10,\"solidity\":0.2}},\"type\":\"barpolar\"}],\"carpet\":[{\"aaxis\":{\"endlinecolor\":\"#2a3f5f\",\"gridcolor\":\"white\",\"linecolor\":\"white\",\"minorgridcolor\":\"white\",\"startlinecolor\":\"#2a3f5f\"},\"baxis\":{\"endlinecolor\":\"#2a3f5f\",\"gridcolor\":\"white\",\"linecolor\":\"white\",\"minorgridcolor\":\"white\",\"startlinecolor\":\"#2a3f5f\"},\"type\":\"carpet\"}],\"choropleth\":[{\"colorbar\":{\"outlinewidth\":0,\"ticks\":\"\"},\"type\":\"choropleth\"}],\"contour\":[{\"colorbar\":{\"outlinewidth\":0,\"ticks\":\"\"},\"colorscale\":[[0.0,\"#0d0887\"],[0.1111111111111111,\"#46039f\"],[0.2222222222222222,\"#7201a8\"],[0.3333333333333333,\"#9c179e\"],[0.4444444444444444,\"#bd3786\"],[0.5555555555555556,\"#d8576b\"],[0.6666666666666666,\"#ed7953\"],[0.7777777777777778,\"#fb9f3a\"],[0.8888888888888888,\"#fdca26\"],[1.0,\"#f0f921\"]],\"type\":\"contour\"}],\"contourcarpet\":[{\"colorbar\":{\"outlinewidth\":0,\"ticks\":\"\"},\"type\":\"contourcarpet\"}],\"heatmap\":[{\"colorbar\":{\"outlinewidth\":0,\"ticks\":\"\"},\"colorscale\":[[0.0,\"#0d0887\"],[0.1111111111111111,\"#46039f\"],[0.2222222222222222,\"#7201a8\"],[0.3333333333333333,\"#9c179e\"],[0.4444444444444444,\"#bd3786\"],[0.5555555555555556,\"#d8576b\"],[0.6666666666666666,\"#ed7953\"],[0.7777777777777778,\"#fb9f3a\"],[0.8888888888888888,\"#fdca26\"],[1.0,\"#f0f921\"]],\"type\":\"heatmap\"}],\"heatmapgl\":[{\"colorbar\":{\"outlinewidth\":0,\"ticks\":\"\"},\"colorscale\":[[0.0,\"#0d0887\"],[0.1111111111111111,\"#46039f\"],[0.2222222222222222,\"#7201a8\"],[0.3333333333333333,\"#9c179e\"],[0.4444444444444444,\"#bd3786\"],[0.5555555555555556,\"#d8576b\"],[0.6666666666666666,\"#ed7953\"],[0.7777777777777778,\"#fb9f3a\"],[0.8888888888888888,\"#fdca26\"],[1.0,\"#f0f921\"]],\"type\":\"heatmapgl\"}],\"histogram\":[{\"marker\":{\"pattern\":{\"fillmode\":\"overlay\",\"size\":10,\"solidity\":0.2}},\"type\":\"histogram\"}],\"histogram2d\":[{\"colorbar\":{\"outlinewidth\":0,\"ticks\":\"\"},\"colorscale\":[[0.0,\"#0d0887\"],[0.1111111111111111,\"#46039f\"],[0.2222222222222222,\"#7201a8\"],[0.3333333333333333,\"#9c179e\"],[0.4444444444444444,\"#bd3786\"],[0.5555555555555556,\"#d8576b\"],[0.6666666666666666,\"#ed7953\"],[0.7777777777777778,\"#fb9f3a\"],[0.8888888888888888,\"#fdca26\"],[1.0,\"#f0f921\"]],\"type\":\"histogram2d\"}],\"histogram2dcontour\":[{\"colorbar\":{\"outlinewidth\":0,\"ticks\":\"\"},\"colorscale\":[[0.0,\"#0d0887\"],[0.1111111111111111,\"#46039f\"],[0.2222222222222222,\"#7201a8\"],[0.3333333333333333,\"#9c179e\"],[0.4444444444444444,\"#bd3786\"],[0.5555555555555556,\"#d8576b\"],[0.6666666666666666,\"#ed7953\"],[0.7777777777777778,\"#fb9f3a\"],[0.8888888888888888,\"#fdca26\"],[1.0,\"#f0f921\"]],\"type\":\"histogram2dcontour\"}],\"mesh3d\":[{\"colorbar\":{\"outlinewidth\":0,\"ticks\":\"\"},\"type\":\"mesh3d\"}],\"parcoords\":[{\"line\":{\"colorbar\":{\"outlinewidth\":0,\"ticks\":\"\"}},\"type\":\"parcoords\"}],\"pie\":[{\"automargin\":true,\"type\":\"pie\"}],\"scatter\":[{\"marker\":{\"colorbar\":{\"outlinewidth\":0,\"ticks\":\"\"}},\"type\":\"scatter\"}],\"scatter3d\":[{\"line\":{\"colorbar\":{\"outlinewidth\":0,\"ticks\":\"\"}},\"marker\":{\"colorbar\":{\"outlinewidth\":0,\"ticks\":\"\"}},\"type\":\"scatter3d\"}],\"scattercarpet\":[{\"marker\":{\"colorbar\":{\"outlinewidth\":0,\"ticks\":\"\"}},\"type\":\"scattercarpet\"}],\"scattergeo\":[{\"marker\":{\"colorbar\":{\"outlinewidth\":0,\"ticks\":\"\"}},\"type\":\"scattergeo\"}],\"scattergl\":[{\"marker\":{\"colorbar\":{\"outlinewidth\":0,\"ticks\":\"\"}},\"type\":\"scattergl\"}],\"scattermapbox\":[{\"marker\":{\"colorbar\":{\"outlinewidth\":0,\"ticks\":\"\"}},\"type\":\"scattermapbox\"}],\"scatterpolar\":[{\"marker\":{\"colorbar\":{\"outlinewidth\":0,\"ticks\":\"\"}},\"type\":\"scatterpolar\"}],\"scatterpolargl\":[{\"marker\":{\"colorbar\":{\"outlinewidth\":0,\"ticks\":\"\"}},\"type\":\"scatterpolargl\"}],\"scatterternary\":[{\"marker\":{\"colorbar\":{\"outlinewidth\":0,\"ticks\":\"\"}},\"type\":\"scatterternary\"}],\"surface\":[{\"colorbar\":{\"outlinewidth\":0,\"ticks\":\"\"},\"colorscale\":[[0.0,\"#0d0887\"],[0.1111111111111111,\"#46039f\"],[0.2222222222222222,\"#7201a8\"],[0.3333333333333333,\"#9c179e\"],[0.4444444444444444,\"#bd3786\"],[0.5555555555555556,\"#d8576b\"],[0.6666666666666666,\"#ed7953\"],[0.7777777777777778,\"#fb9f3a\"],[0.8888888888888888,\"#fdca26\"],[1.0,\"#f0f921\"]],\"type\":\"surface\"}],\"table\":[{\"cells\":{\"fill\":{\"color\":\"#EBF0F8\"},\"line\":{\"color\":\"white\"}},\"header\":{\"fill\":{\"color\":\"#C8D4E3\"},\"line\":{\"color\":\"white\"}},\"type\":\"table\"}]},\"layout\":{\"annotationdefaults\":{\"arrowcolor\":\"#2a3f5f\",\"arrowhead\":0,\"arrowwidth\":1},\"autotypenumbers\":\"strict\",\"coloraxis\":{\"colorbar\":{\"outlinewidth\":0,\"ticks\":\"\"}},\"colorscale\":{\"diverging\":[[0,\"#8e0152\"],[0.1,\"#c51b7d\"],[0.2,\"#de77ae\"],[0.3,\"#f1b6da\"],[0.4,\"#fde0ef\"],[0.5,\"#f7f7f7\"],[0.6,\"#e6f5d0\"],[0.7,\"#b8e186\"],[0.8,\"#7fbc41\"],[0.9,\"#4d9221\"],[1,\"#276419\"]],\"sequential\":[[0.0,\"#0d0887\"],[0.1111111111111111,\"#46039f\"],[0.2222222222222222,\"#7201a8\"],[0.3333333333333333,\"#9c179e\"],[0.4444444444444444,\"#bd3786\"],[0.5555555555555556,\"#d8576b\"],[0.6666666666666666,\"#ed7953\"],[0.7777777777777778,\"#fb9f3a\"],[0.8888888888888888,\"#fdca26\"],[1.0,\"#f0f921\"]],\"sequentialminus\":[[0.0,\"#0d0887\"],[0.1111111111111111,\"#46039f\"],[0.2222222222222222,\"#7201a8\"],[0.3333333333333333,\"#9c179e\"],[0.4444444444444444,\"#bd3786\"],[0.5555555555555556,\"#d8576b\"],[0.6666666666666666,\"#ed7953\"],[0.7777777777777778,\"#fb9f3a\"],[0.8888888888888888,\"#fdca26\"],[1.0,\"#f0f921\"]]},\"colorway\":[\"#636efa\",\"#EF553B\",\"#00cc96\",\"#ab63fa\",\"#FFA15A\",\"#19d3f3\",\"#FF6692\",\"#B6E880\",\"#FF97FF\",\"#FECB52\"],\"font\":{\"color\":\"#2a3f5f\"},\"geo\":{\"bgcolor\":\"white\",\"lakecolor\":\"white\",\"landcolor\":\"#E5ECF6\",\"showlakes\":true,\"showland\":true,\"subunitcolor\":\"white\"},\"hoverlabel\":{\"align\":\"left\"},\"hovermode\":\"closest\",\"mapbox\":{\"style\":\"light\"},\"paper_bgcolor\":\"white\",\"plot_bgcolor\":\"#E5ECF6\",\"polar\":{\"angularaxis\":{\"gridcolor\":\"white\",\"linecolor\":\"white\",\"ticks\":\"\"},\"bgcolor\":\"#E5ECF6\",\"radialaxis\":{\"gridcolor\":\"white\",\"linecolor\":\"white\",\"ticks\":\"\"}},\"scene\":{\"xaxis\":{\"backgroundcolor\":\"#E5ECF6\",\"gridcolor\":\"white\",\"gridwidth\":2,\"linecolor\":\"white\",\"showbackground\":true,\"ticks\":\"\",\"zerolinecolor\":\"white\"},\"yaxis\":{\"backgroundcolor\":\"#E5ECF6\",\"gridcolor\":\"white\",\"gridwidth\":2,\"linecolor\":\"white\",\"showbackground\":true,\"ticks\":\"\",\"zerolinecolor\":\"white\"},\"zaxis\":{\"backgroundcolor\":\"#E5ECF6\",\"gridcolor\":\"white\",\"gridwidth\":2,\"linecolor\":\"white\",\"showbackground\":true,\"ticks\":\"\",\"zerolinecolor\":\"white\"}},\"shapedefaults\":{\"line\":{\"color\":\"#2a3f5f\"}},\"ternary\":{\"aaxis\":{\"gridcolor\":\"white\",\"linecolor\":\"white\",\"ticks\":\"\"},\"baxis\":{\"gridcolor\":\"white\",\"linecolor\":\"white\",\"ticks\":\"\"},\"bgcolor\":\"#E5ECF6\",\"caxis\":{\"gridcolor\":\"white\",\"linecolor\":\"white\",\"ticks\":\"\"}},\"title\":{\"x\":0.05},\"xaxis\":{\"automargin\":true,\"gridcolor\":\"white\",\"linecolor\":\"white\",\"ticks\":\"\",\"title\":{\"standoff\":15},\"zerolinecolor\":\"white\",\"zerolinewidth\":2},\"yaxis\":{\"automargin\":true,\"gridcolor\":\"white\",\"linecolor\":\"white\",\"ticks\":\"\",\"title\":{\"standoff\":15},\"zerolinecolor\":\"white\",\"zerolinewidth\":2}}},\"legend\":{\"tracegroupgap\":0},\"title\":{\"text\":\"Premier league - results from 2019 - 2022\"}},                        {\"responsive\": true}                    ).then(function(){\n",
              "                            \n",
              "var gd = document.getElementById('877cd8d5-5a17-4f6b-a71b-483a5eb16000');\n",
              "var x = new MutationObserver(function (mutations, observer) {{\n",
              "        var display = window.getComputedStyle(gd).display;\n",
              "        if (!display || display === 'none') {{\n",
              "            console.log([gd, 'removed!']);\n",
              "            Plotly.purge(gd);\n",
              "            observer.disconnect();\n",
              "        }}\n",
              "}});\n",
              "\n",
              "// Listen for the removal of the full notebook cells\n",
              "var notebookContainer = gd.closest('#notebook-container');\n",
              "if (notebookContainer) {{\n",
              "    x.observe(notebookContainer, {childList: true});\n",
              "}}\n",
              "\n",
              "// Listen for the clearing of the current output cell\n",
              "var outputEl = gd.closest('.output');\n",
              "if (outputEl) {{\n",
              "    x.observe(outputEl, {childList: true});\n",
              "}}\n",
              "\n",
              "                        })                };                            </script>        </div>\n",
              "</body>\n",
              "</html>"
            ]
          },
          "metadata": {},
          "output_type": "display_data"
        }
      ],
      "source": [
        "import plotly.express as px\n",
        "### Group the data by Result:\n",
        "general = df.groupby('Result')['Result'].count().reset_index(name = \"count\")\n",
        "### Apply px.pie:\n",
        "fig1 = px.pie(general, values ='count', names ='Result', title='Premier league - results from 2019 - 2022', color = 'Result',\n",
        "             color_discrete_map={'HomeTeamWin':'royalblue',\n",
        "                                 'AwayTeamWin':'orangered',\n",
        "                                 'Draw':'lightgreen'})\n",
        "### Add text and define text information:\n",
        "fig1.update_traces(textposition='inside', textinfo='percent+value')\n",
        "fig1.show()"
      ]
    },
    {
      "cell_type": "markdown",
      "metadata": {
        "id": "WeVONo_y24QI"
      },
      "source": [
        "#### We can see that home teams clearly got an advantage of 42.4 percent match wins as compared to away teams with 34.2 percent\n",
        "#### The draw percent is coming out to be 23.4 percent"
      ]
    },
    {
      "cell_type": "markdown",
      "metadata": {
        "id": "Oy7c9Vpq2_-t"
      },
      "source": [
        "## Pie chart showing wins of each teams "
      ]
    },
    {
      "cell_type": "code",
      "execution_count": null,
      "metadata": {
        "colab": {
          "base_uri": "https://localhost:8080/",
          "height": 542
        },
        "id": "oz08Niw2jzvh",
        "outputId": "6aedb33a-cbf3-4c7b-fe55-45adad682882"
      },
      "outputs": [
        {
          "data": {
            "text/html": [
              "<html>\n",
              "<head><meta charset=\"utf-8\" /></head>\n",
              "<body>\n",
              "    <div>            <script src=\"https://cdnjs.cloudflare.com/ajax/libs/mathjax/2.7.5/MathJax.js?config=TeX-AMS-MML_SVG\"></script><script type=\"text/javascript\">if (window.MathJax) {MathJax.Hub.Config({SVG: {font: \"STIX-Web\"}});}</script>                <script type=\"text/javascript\">window.PlotlyConfig = {MathJaxConfig: 'local'};</script>\n",
              "        <script src=\"https://cdn.plot.ly/plotly-2.8.3.min.js\"></script>                <div id=\"7cbd7925-c351-434f-ac5a-2a25fa76a46d\" class=\"plotly-graph-div\" style=\"height:525px; width:100%;\"></div>            <script type=\"text/javascript\">                                    window.PLOTLYENV=window.PLOTLYENV || {};                                    if (document.getElementById(\"7cbd7925-c351-434f-ac5a-2a25fa76a46d\")) {                    Plotly.newPlot(                        \"7cbd7925-c351-434f-ac5a-2a25fa76a46d\",                        [{\"customdata\":[[\"Man City\"],[\"Liverpool\"],[\"Chelsea\"],[\"Tottenham\"],[\"Arsenal\"],[\"Man United\"],[\"Leicester\"],[\"others\"]],\"domain\":{\"x\":[0.0,1.0],\"y\":[0.0,1.0]},\"hovertemplate\":\"Winner=%{customdata[0]}<br>Count=%{value}<extra></extra>\",\"labels\":[\"Man City\",\"Liverpool\",\"Chelsea\",\"Tottenham\",\"Arsenal\",\"Man United\",\"Leicester\",\"others\"],\"legendgroup\":\"\",\"marker\":{\"colors\":[\"#FD3216\",\"#00FE35\",\"#6A76FC\",\"#FED4C4\",\"#FE00CE\",\"#0DF9FF\",\"#F6F926\",\"#FF9616\"]},\"name\":\"\",\"showlegend\":true,\"values\":[88,82,64,61,61,59,53,464],\"type\":\"pie\",\"textinfo\":\"percent+label\",\"textposition\":\"inside\"}],                        {\"template\":{\"data\":{\"bar\":[{\"error_x\":{\"color\":\"#2a3f5f\"},\"error_y\":{\"color\":\"#2a3f5f\"},\"marker\":{\"line\":{\"color\":\"#E5ECF6\",\"width\":0.5},\"pattern\":{\"fillmode\":\"overlay\",\"size\":10,\"solidity\":0.2}},\"type\":\"bar\"}],\"barpolar\":[{\"marker\":{\"line\":{\"color\":\"#E5ECF6\",\"width\":0.5},\"pattern\":{\"fillmode\":\"overlay\",\"size\":10,\"solidity\":0.2}},\"type\":\"barpolar\"}],\"carpet\":[{\"aaxis\":{\"endlinecolor\":\"#2a3f5f\",\"gridcolor\":\"white\",\"linecolor\":\"white\",\"minorgridcolor\":\"white\",\"startlinecolor\":\"#2a3f5f\"},\"baxis\":{\"endlinecolor\":\"#2a3f5f\",\"gridcolor\":\"white\",\"linecolor\":\"white\",\"minorgridcolor\":\"white\",\"startlinecolor\":\"#2a3f5f\"},\"type\":\"carpet\"}],\"choropleth\":[{\"colorbar\":{\"outlinewidth\":0,\"ticks\":\"\"},\"type\":\"choropleth\"}],\"contour\":[{\"colorbar\":{\"outlinewidth\":0,\"ticks\":\"\"},\"colorscale\":[[0.0,\"#0d0887\"],[0.1111111111111111,\"#46039f\"],[0.2222222222222222,\"#7201a8\"],[0.3333333333333333,\"#9c179e\"],[0.4444444444444444,\"#bd3786\"],[0.5555555555555556,\"#d8576b\"],[0.6666666666666666,\"#ed7953\"],[0.7777777777777778,\"#fb9f3a\"],[0.8888888888888888,\"#fdca26\"],[1.0,\"#f0f921\"]],\"type\":\"contour\"}],\"contourcarpet\":[{\"colorbar\":{\"outlinewidth\":0,\"ticks\":\"\"},\"type\":\"contourcarpet\"}],\"heatmap\":[{\"colorbar\":{\"outlinewidth\":0,\"ticks\":\"\"},\"colorscale\":[[0.0,\"#0d0887\"],[0.1111111111111111,\"#46039f\"],[0.2222222222222222,\"#7201a8\"],[0.3333333333333333,\"#9c179e\"],[0.4444444444444444,\"#bd3786\"],[0.5555555555555556,\"#d8576b\"],[0.6666666666666666,\"#ed7953\"],[0.7777777777777778,\"#fb9f3a\"],[0.8888888888888888,\"#fdca26\"],[1.0,\"#f0f921\"]],\"type\":\"heatmap\"}],\"heatmapgl\":[{\"colorbar\":{\"outlinewidth\":0,\"ticks\":\"\"},\"colorscale\":[[0.0,\"#0d0887\"],[0.1111111111111111,\"#46039f\"],[0.2222222222222222,\"#7201a8\"],[0.3333333333333333,\"#9c179e\"],[0.4444444444444444,\"#bd3786\"],[0.5555555555555556,\"#d8576b\"],[0.6666666666666666,\"#ed7953\"],[0.7777777777777778,\"#fb9f3a\"],[0.8888888888888888,\"#fdca26\"],[1.0,\"#f0f921\"]],\"type\":\"heatmapgl\"}],\"histogram\":[{\"marker\":{\"pattern\":{\"fillmode\":\"overlay\",\"size\":10,\"solidity\":0.2}},\"type\":\"histogram\"}],\"histogram2d\":[{\"colorbar\":{\"outlinewidth\":0,\"ticks\":\"\"},\"colorscale\":[[0.0,\"#0d0887\"],[0.1111111111111111,\"#46039f\"],[0.2222222222222222,\"#7201a8\"],[0.3333333333333333,\"#9c179e\"],[0.4444444444444444,\"#bd3786\"],[0.5555555555555556,\"#d8576b\"],[0.6666666666666666,\"#ed7953\"],[0.7777777777777778,\"#fb9f3a\"],[0.8888888888888888,\"#fdca26\"],[1.0,\"#f0f921\"]],\"type\":\"histogram2d\"}],\"histogram2dcontour\":[{\"colorbar\":{\"outlinewidth\":0,\"ticks\":\"\"},\"colorscale\":[[0.0,\"#0d0887\"],[0.1111111111111111,\"#46039f\"],[0.2222222222222222,\"#7201a8\"],[0.3333333333333333,\"#9c179e\"],[0.4444444444444444,\"#bd3786\"],[0.5555555555555556,\"#d8576b\"],[0.6666666666666666,\"#ed7953\"],[0.7777777777777778,\"#fb9f3a\"],[0.8888888888888888,\"#fdca26\"],[1.0,\"#f0f921\"]],\"type\":\"histogram2dcontour\"}],\"mesh3d\":[{\"colorbar\":{\"outlinewidth\":0,\"ticks\":\"\"},\"type\":\"mesh3d\"}],\"parcoords\":[{\"line\":{\"colorbar\":{\"outlinewidth\":0,\"ticks\":\"\"}},\"type\":\"parcoords\"}],\"pie\":[{\"automargin\":true,\"type\":\"pie\"}],\"scatter\":[{\"marker\":{\"colorbar\":{\"outlinewidth\":0,\"ticks\":\"\"}},\"type\":\"scatter\"}],\"scatter3d\":[{\"line\":{\"colorbar\":{\"outlinewidth\":0,\"ticks\":\"\"}},\"marker\":{\"colorbar\":{\"outlinewidth\":0,\"ticks\":\"\"}},\"type\":\"scatter3d\"}],\"scattercarpet\":[{\"marker\":{\"colorbar\":{\"outlinewidth\":0,\"ticks\":\"\"}},\"type\":\"scattercarpet\"}],\"scattergeo\":[{\"marker\":{\"colorbar\":{\"outlinewidth\":0,\"ticks\":\"\"}},\"type\":\"scattergeo\"}],\"scattergl\":[{\"marker\":{\"colorbar\":{\"outlinewidth\":0,\"ticks\":\"\"}},\"type\":\"scattergl\"}],\"scattermapbox\":[{\"marker\":{\"colorbar\":{\"outlinewidth\":0,\"ticks\":\"\"}},\"type\":\"scattermapbox\"}],\"scatterpolar\":[{\"marker\":{\"colorbar\":{\"outlinewidth\":0,\"ticks\":\"\"}},\"type\":\"scatterpolar\"}],\"scatterpolargl\":[{\"marker\":{\"colorbar\":{\"outlinewidth\":0,\"ticks\":\"\"}},\"type\":\"scatterpolargl\"}],\"scatterternary\":[{\"marker\":{\"colorbar\":{\"outlinewidth\":0,\"ticks\":\"\"}},\"type\":\"scatterternary\"}],\"surface\":[{\"colorbar\":{\"outlinewidth\":0,\"ticks\":\"\"},\"colorscale\":[[0.0,\"#0d0887\"],[0.1111111111111111,\"#46039f\"],[0.2222222222222222,\"#7201a8\"],[0.3333333333333333,\"#9c179e\"],[0.4444444444444444,\"#bd3786\"],[0.5555555555555556,\"#d8576b\"],[0.6666666666666666,\"#ed7953\"],[0.7777777777777778,\"#fb9f3a\"],[0.8888888888888888,\"#fdca26\"],[1.0,\"#f0f921\"]],\"type\":\"surface\"}],\"table\":[{\"cells\":{\"fill\":{\"color\":\"#EBF0F8\"},\"line\":{\"color\":\"white\"}},\"header\":{\"fill\":{\"color\":\"#C8D4E3\"},\"line\":{\"color\":\"white\"}},\"type\":\"table\"}]},\"layout\":{\"annotationdefaults\":{\"arrowcolor\":\"#2a3f5f\",\"arrowhead\":0,\"arrowwidth\":1},\"autotypenumbers\":\"strict\",\"coloraxis\":{\"colorbar\":{\"outlinewidth\":0,\"ticks\":\"\"}},\"colorscale\":{\"diverging\":[[0,\"#8e0152\"],[0.1,\"#c51b7d\"],[0.2,\"#de77ae\"],[0.3,\"#f1b6da\"],[0.4,\"#fde0ef\"],[0.5,\"#f7f7f7\"],[0.6,\"#e6f5d0\"],[0.7,\"#b8e186\"],[0.8,\"#7fbc41\"],[0.9,\"#4d9221\"],[1,\"#276419\"]],\"sequential\":[[0.0,\"#0d0887\"],[0.1111111111111111,\"#46039f\"],[0.2222222222222222,\"#7201a8\"],[0.3333333333333333,\"#9c179e\"],[0.4444444444444444,\"#bd3786\"],[0.5555555555555556,\"#d8576b\"],[0.6666666666666666,\"#ed7953\"],[0.7777777777777778,\"#fb9f3a\"],[0.8888888888888888,\"#fdca26\"],[1.0,\"#f0f921\"]],\"sequentialminus\":[[0.0,\"#0d0887\"],[0.1111111111111111,\"#46039f\"],[0.2222222222222222,\"#7201a8\"],[0.3333333333333333,\"#9c179e\"],[0.4444444444444444,\"#bd3786\"],[0.5555555555555556,\"#d8576b\"],[0.6666666666666666,\"#ed7953\"],[0.7777777777777778,\"#fb9f3a\"],[0.8888888888888888,\"#fdca26\"],[1.0,\"#f0f921\"]]},\"colorway\":[\"#636efa\",\"#EF553B\",\"#00cc96\",\"#ab63fa\",\"#FFA15A\",\"#19d3f3\",\"#FF6692\",\"#B6E880\",\"#FF97FF\",\"#FECB52\"],\"font\":{\"color\":\"#2a3f5f\"},\"geo\":{\"bgcolor\":\"white\",\"lakecolor\":\"white\",\"landcolor\":\"#E5ECF6\",\"showlakes\":true,\"showland\":true,\"subunitcolor\":\"white\"},\"hoverlabel\":{\"align\":\"left\"},\"hovermode\":\"closest\",\"mapbox\":{\"style\":\"light\"},\"paper_bgcolor\":\"white\",\"plot_bgcolor\":\"#E5ECF6\",\"polar\":{\"angularaxis\":{\"gridcolor\":\"white\",\"linecolor\":\"white\",\"ticks\":\"\"},\"bgcolor\":\"#E5ECF6\",\"radialaxis\":{\"gridcolor\":\"white\",\"linecolor\":\"white\",\"ticks\":\"\"}},\"scene\":{\"xaxis\":{\"backgroundcolor\":\"#E5ECF6\",\"gridcolor\":\"white\",\"gridwidth\":2,\"linecolor\":\"white\",\"showbackground\":true,\"ticks\":\"\",\"zerolinecolor\":\"white\"},\"yaxis\":{\"backgroundcolor\":\"#E5ECF6\",\"gridcolor\":\"white\",\"gridwidth\":2,\"linecolor\":\"white\",\"showbackground\":true,\"ticks\":\"\",\"zerolinecolor\":\"white\"},\"zaxis\":{\"backgroundcolor\":\"#E5ECF6\",\"gridcolor\":\"white\",\"gridwidth\":2,\"linecolor\":\"white\",\"showbackground\":true,\"ticks\":\"\",\"zerolinecolor\":\"white\"}},\"shapedefaults\":{\"line\":{\"color\":\"#2a3f5f\"}},\"ternary\":{\"aaxis\":{\"gridcolor\":\"white\",\"linecolor\":\"white\",\"ticks\":\"\"},\"baxis\":{\"gridcolor\":\"white\",\"linecolor\":\"white\",\"ticks\":\"\"},\"bgcolor\":\"#E5ECF6\",\"caxis\":{\"gridcolor\":\"white\",\"linecolor\":\"white\",\"ticks\":\"\"}},\"title\":{\"x\":0.05},\"xaxis\":{\"automargin\":true,\"gridcolor\":\"white\",\"linecolor\":\"white\",\"ticks\":\"\",\"title\":{\"standoff\":15},\"zerolinecolor\":\"white\",\"zerolinewidth\":2},\"yaxis\":{\"automargin\":true,\"gridcolor\":\"white\",\"linecolor\":\"white\",\"ticks\":\"\",\"title\":{\"standoff\":15},\"zerolinecolor\":\"white\",\"zerolinewidth\":2}}},\"legend\":{\"tracegroupgap\":0},\"title\":{\"text\":\"Premier league  Result from 1993 - 2022 - Most Win Team\"},\"piecolorway\":[\"#FD3216\",\"#00FE35\",\"#6A76FC\",\"#FED4C4\",\"#FE00CE\",\"#0DF9FF\",\"#F6F926\",\"#FF9616\",\"#479B55\",\"#EEA6FB\",\"#DC587D\",\"#D626FF\",\"#6E899C\",\"#00B5F7\",\"#B68E00\",\"#C9FBE5\",\"#FF0092\",\"#22FFA7\",\"#E3EE9E\",\"#86CE00\",\"#BC7196\",\"#7E7DCD\",\"#FC6955\",\"#E48F72\"]},                        {\"responsive\": true}                    ).then(function(){\n",
              "                            \n",
              "var gd = document.getElementById('7cbd7925-c351-434f-ac5a-2a25fa76a46d');\n",
              "var x = new MutationObserver(function (mutations, observer) {{\n",
              "        var display = window.getComputedStyle(gd).display;\n",
              "        if (!display || display === 'none') {{\n",
              "            console.log([gd, 'removed!']);\n",
              "            Plotly.purge(gd);\n",
              "            observer.disconnect();\n",
              "        }}\n",
              "}});\n",
              "\n",
              "// Listen for the removal of the full notebook cells\n",
              "var notebookContainer = gd.closest('#notebook-container');\n",
              "if (notebookContainer) {{\n",
              "    x.observe(notebookContainer, {childList: true});\n",
              "}}\n",
              "\n",
              "// Listen for the clearing of the current output cell\n",
              "var outputEl = gd.closest('.output');\n",
              "if (outputEl) {{\n",
              "    x.observe(outputEl, {childList: true});\n",
              "}}\n",
              "\n",
              "                        })                };                            </script>        </div>\n",
              "</body>\n",
              "</html>"
            ]
          },
          "metadata": {},
          "output_type": "display_data"
        }
      ],
      "source": [
        "### Group by Winner \n",
        "teamresult = df.groupby('Winner')['Winner'].count().reset_index(name = \"Count\")\n",
        "### Drop the results which were \"Draw\" as this data was not required for the visualisation\n",
        "teamresult = teamresult[teamresult.Winner != 'Draw']\n",
        "teamresult=teamresult.sort_values(['Count'], ascending=False)\n",
        "teamresult1=teamresult.iloc[0:7]\n",
        "\n",
        "other=teamresult.iloc[7:]\n",
        "sum=other['Count'].sum()\n",
        "\n",
        "othrow={'Winner':'others','Count':sum}\n",
        "\n",
        "teamresult1= teamresult1.append(othrow, ignore_index=True)\n",
        " \n",
        "### Visualisation\n",
        "fig2 = px.pie(teamresult1,values = 'Count', names = 'Winner', title = \"Premier league  Result from 2019 - 2022 - Most Win Team\", color = 'Winner', color_discrete_sequence=px.colors.qualitative.Light24)\n",
        "fig2.update_traces(textposition='inside', textinfo='percent+label')\n",
        "fig2.show()"
      ]
    },
    {
      "cell_type": "markdown",
      "metadata": {
        "id": "nfKFDH9RksIC"
      },
      "source": [
        "### Observation\n",
        "#### The pie chart shows the overall win distribution top teams and rest of others\n",
        "#### From the graph, it can be seen that the most no of wins occured for manchester coty, followd by Liverpool, chelsea, Tottenham, arsenal, Mancheser united and so on."
      ]
    },
    {
      "cell_type": "code",
      "execution_count": null,
      "metadata": {
        "colab": {
          "base_uri": "https://localhost:8080/",
          "height": 542
        },
        "id": "6qcmWjP9kArB",
        "outputId": "d4b72e34-7c0d-4f1e-a91c-27b6c2f4d91f"
      },
      "outputs": [
        {
          "data": {
            "text/html": [
              "<html>\n",
              "<head><meta charset=\"utf-8\" /></head>\n",
              "<body>\n",
              "    <div>            <script src=\"https://cdnjs.cloudflare.com/ajax/libs/mathjax/2.7.5/MathJax.js?config=TeX-AMS-MML_SVG\"></script><script type=\"text/javascript\">if (window.MathJax) {MathJax.Hub.Config({SVG: {font: \"STIX-Web\"}});}</script>                <script type=\"text/javascript\">window.PlotlyConfig = {MathJaxConfig: 'local'};</script>\n",
              "        <script src=\"https://cdn.plot.ly/plotly-2.8.3.min.js\"></script>                <div id=\"2ebb445c-eaf1-4050-8cbb-caadd8a878a5\" class=\"plotly-graph-div\" style=\"height:525px; width:100%;\"></div>            <script type=\"text/javascript\">                                    window.PLOTLYENV=window.PLOTLYENV || {};                                    if (document.getElementById(\"2ebb445c-eaf1-4050-8cbb-caadd8a878a5\")) {                    Plotly.newPlot(                        \"2ebb445c-eaf1-4050-8cbb-caadd8a878a5\",                        [{\"alignmentgroup\":\"True\",\"hovertemplate\":\"Winner=Arsenal<br>index=%{x}<br>value=%{y}<extra></extra>\",\"legendgroup\":\"Arsenal\",\"marker\":{\"color\":\"#FD3216\",\"pattern\":{\"shape\":\"\"}},\"name\":\"Arsenal\",\"offsetgroup\":\"Arsenal\",\"orientation\":\"v\",\"showlegend\":true,\"textposition\":\"inside\",\"x\":[0],\"xaxis\":\"x\",\"y\":[61],\"yaxis\":\"y\",\"type\":\"bar\"},{\"alignmentgroup\":\"True\",\"hovertemplate\":\"Winner=Aston Villa<br>index=%{x}<br>value=%{y}<extra></extra>\",\"legendgroup\":\"Aston Villa\",\"marker\":{\"color\":\"#00FE35\",\"pattern\":{\"shape\":\"\"}},\"name\":\"Aston Villa\",\"offsetgroup\":\"Aston Villa\",\"orientation\":\"v\",\"showlegend\":true,\"textposition\":\"inside\",\"x\":[1],\"xaxis\":\"x\",\"y\":[40],\"yaxis\":\"y\",\"type\":\"bar\"},{\"alignmentgroup\":\"True\",\"hovertemplate\":\"Winner=Bournemouth<br>index=%{x}<br>value=%{y}<extra></extra>\",\"legendgroup\":\"Bournemouth\",\"marker\":{\"color\":\"#6A76FC\",\"pattern\":{\"shape\":\"\"}},\"name\":\"Bournemouth\",\"offsetgroup\":\"Bournemouth\",\"orientation\":\"v\",\"showlegend\":true,\"textposition\":\"inside\",\"x\":[2],\"xaxis\":\"x\",\"y\":[11],\"yaxis\":\"y\",\"type\":\"bar\"},{\"alignmentgroup\":\"True\",\"hovertemplate\":\"Winner=Brentford<br>index=%{x}<br>value=%{y}<extra></extra>\",\"legendgroup\":\"Brentford\",\"marker\":{\"color\":\"#FED4C4\",\"pattern\":{\"shape\":\"\"}},\"name\":\"Brentford\",\"offsetgroup\":\"Brentford\",\"orientation\":\"v\",\"showlegend\":true,\"textposition\":\"inside\",\"x\":[3],\"xaxis\":\"x\",\"y\":[15],\"yaxis\":\"y\",\"type\":\"bar\"},{\"alignmentgroup\":\"True\",\"hovertemplate\":\"Winner=Brighton<br>index=%{x}<br>value=%{y}<extra></extra>\",\"legendgroup\":\"Brighton\",\"marker\":{\"color\":\"#FE00CE\",\"pattern\":{\"shape\":\"\"}},\"name\":\"Brighton\",\"offsetgroup\":\"Brighton\",\"orientation\":\"v\",\"showlegend\":true,\"textposition\":\"inside\",\"x\":[4],\"xaxis\":\"x\",\"y\":[34],\"yaxis\":\"y\",\"type\":\"bar\"},{\"alignmentgroup\":\"True\",\"hovertemplate\":\"Winner=Burnley<br>index=%{x}<br>value=%{y}<extra></extra>\",\"legendgroup\":\"Burnley\",\"marker\":{\"color\":\"#0DF9FF\",\"pattern\":{\"shape\":\"\"}},\"name\":\"Burnley\",\"offsetgroup\":\"Burnley\",\"orientation\":\"v\",\"showlegend\":true,\"textposition\":\"inside\",\"x\":[5],\"xaxis\":\"x\",\"y\":[32],\"yaxis\":\"y\",\"type\":\"bar\"},{\"alignmentgroup\":\"True\",\"hovertemplate\":\"Winner=Chelsea<br>index=%{x}<br>value=%{y}<extra></extra>\",\"legendgroup\":\"Chelsea\",\"marker\":{\"color\":\"#F6F926\",\"pattern\":{\"shape\":\"\"}},\"name\":\"Chelsea\",\"offsetgroup\":\"Chelsea\",\"orientation\":\"v\",\"showlegend\":true,\"textposition\":\"inside\",\"x\":[6],\"xaxis\":\"x\",\"y\":[64],\"yaxis\":\"y\",\"type\":\"bar\"},{\"alignmentgroup\":\"True\",\"hovertemplate\":\"Winner=Crystal Palace<br>index=%{x}<br>value=%{y}<extra></extra>\",\"legendgroup\":\"Crystal Palace\",\"marker\":{\"color\":\"#FF9616\",\"pattern\":{\"shape\":\"\"}},\"name\":\"Crystal Palace\",\"offsetgroup\":\"Crystal Palace\",\"orientation\":\"v\",\"showlegend\":true,\"textposition\":\"inside\",\"x\":[7],\"xaxis\":\"x\",\"y\":[35],\"yaxis\":\"y\",\"type\":\"bar\"},{\"alignmentgroup\":\"True\",\"hovertemplate\":\"Winner=Everton<br>index=%{x}<br>value=%{y}<extra></extra>\",\"legendgroup\":\"Everton\",\"marker\":{\"color\":\"#479B55\",\"pattern\":{\"shape\":\"\"}},\"name\":\"Everton\",\"offsetgroup\":\"Everton\",\"orientation\":\"v\",\"showlegend\":true,\"textposition\":\"inside\",\"x\":[9],\"xaxis\":\"x\",\"y\":[43],\"yaxis\":\"y\",\"type\":\"bar\"},{\"alignmentgroup\":\"True\",\"hovertemplate\":\"Winner=Fulham<br>index=%{x}<br>value=%{y}<extra></extra>\",\"legendgroup\":\"Fulham\",\"marker\":{\"color\":\"#EEA6FB\",\"pattern\":{\"shape\":\"\"}},\"name\":\"Fulham\",\"offsetgroup\":\"Fulham\",\"orientation\":\"v\",\"showlegend\":true,\"textposition\":\"inside\",\"x\":[10],\"xaxis\":\"x\",\"y\":[8],\"yaxis\":\"y\",\"type\":\"bar\"},{\"alignmentgroup\":\"True\",\"hovertemplate\":\"Winner=Leeds<br>index=%{x}<br>value=%{y}<extra></extra>\",\"legendgroup\":\"Leeds\",\"marker\":{\"color\":\"#DC587D\",\"pattern\":{\"shape\":\"\"}},\"name\":\"Leeds\",\"offsetgroup\":\"Leeds\",\"orientation\":\"v\",\"showlegend\":true,\"textposition\":\"inside\",\"x\":[11],\"xaxis\":\"x\",\"y\":[29],\"yaxis\":\"y\",\"type\":\"bar\"},{\"alignmentgroup\":\"True\",\"hovertemplate\":\"Winner=Leicester<br>index=%{x}<br>value=%{y}<extra></extra>\",\"legendgroup\":\"Leicester\",\"marker\":{\"color\":\"#D626FF\",\"pattern\":{\"shape\":\"\"}},\"name\":\"Leicester\",\"offsetgroup\":\"Leicester\",\"orientation\":\"v\",\"showlegend\":true,\"textposition\":\"inside\",\"x\":[12],\"xaxis\":\"x\",\"y\":[53],\"yaxis\":\"y\",\"type\":\"bar\"},{\"alignmentgroup\":\"True\",\"hovertemplate\":\"Winner=Liverpool<br>index=%{x}<br>value=%{y}<extra></extra>\",\"legendgroup\":\"Liverpool\",\"marker\":{\"color\":\"#6E899C\",\"pattern\":{\"shape\":\"\"}},\"name\":\"Liverpool\",\"offsetgroup\":\"Liverpool\",\"orientation\":\"v\",\"showlegend\":true,\"textposition\":\"inside\",\"x\":[13],\"xaxis\":\"x\",\"y\":[82],\"yaxis\":\"y\",\"type\":\"bar\"},{\"alignmentgroup\":\"True\",\"hovertemplate\":\"Winner=Man City<br>index=%{x}<br>value=%{y}<extra></extra>\",\"legendgroup\":\"Man City\",\"marker\":{\"color\":\"#00B5F7\",\"pattern\":{\"shape\":\"\"}},\"name\":\"Man City\",\"offsetgroup\":\"Man City\",\"orientation\":\"v\",\"showlegend\":true,\"textposition\":\"inside\",\"x\":[14],\"xaxis\":\"x\",\"y\":[88],\"yaxis\":\"y\",\"type\":\"bar\"},{\"alignmentgroup\":\"True\",\"hovertemplate\":\"Winner=Man United<br>index=%{x}<br>value=%{y}<extra></extra>\",\"legendgroup\":\"Man United\",\"marker\":{\"color\":\"#B68E00\",\"pattern\":{\"shape\":\"\"}},\"name\":\"Man United\",\"offsetgroup\":\"Man United\",\"orientation\":\"v\",\"showlegend\":true,\"textposition\":\"inside\",\"x\":[15],\"xaxis\":\"x\",\"y\":[59],\"yaxis\":\"y\",\"type\":\"bar\"},{\"alignmentgroup\":\"True\",\"hovertemplate\":\"Winner=Newcastle<br>index=%{x}<br>value=%{y}<extra></extra>\",\"legendgroup\":\"Newcastle\",\"marker\":{\"color\":\"#C9FBE5\",\"pattern\":{\"shape\":\"\"}},\"name\":\"Newcastle\",\"offsetgroup\":\"Newcastle\",\"orientation\":\"v\",\"showlegend\":true,\"textposition\":\"inside\",\"x\":[16],\"xaxis\":\"x\",\"y\":[38],\"yaxis\":\"y\",\"type\":\"bar\"},{\"alignmentgroup\":\"True\",\"hovertemplate\":\"Winner=Norwich<br>index=%{x}<br>value=%{y}<extra></extra>\",\"legendgroup\":\"Norwich\",\"marker\":{\"color\":\"#FF0092\",\"pattern\":{\"shape\":\"\"}},\"name\":\"Norwich\",\"offsetgroup\":\"Norwich\",\"orientation\":\"v\",\"showlegend\":true,\"textposition\":\"inside\",\"x\":[17],\"xaxis\":\"x\",\"y\":[10],\"yaxis\":\"y\",\"type\":\"bar\"},{\"alignmentgroup\":\"True\",\"hovertemplate\":\"Winner=Nott'm Forest<br>index=%{x}<br>value=%{y}<extra></extra>\",\"legendgroup\":\"Nott'm Forest\",\"marker\":{\"color\":\"#22FFA7\",\"pattern\":{\"shape\":\"\"}},\"name\":\"Nott'm Forest\",\"offsetgroup\":\"Nott'm Forest\",\"orientation\":\"v\",\"showlegend\":true,\"textposition\":\"inside\",\"x\":[18],\"xaxis\":\"x\",\"y\":[1],\"yaxis\":\"y\",\"type\":\"bar\"},{\"alignmentgroup\":\"True\",\"hovertemplate\":\"Winner=Sheffield United<br>index=%{x}<br>value=%{y}<extra></extra>\",\"legendgroup\":\"Sheffield United\",\"marker\":{\"color\":\"#E3EE9E\",\"pattern\":{\"shape\":\"\"}},\"name\":\"Sheffield United\",\"offsetgroup\":\"Sheffield United\",\"orientation\":\"v\",\"showlegend\":true,\"textposition\":\"inside\",\"x\":[19],\"xaxis\":\"x\",\"y\":[21],\"yaxis\":\"y\",\"type\":\"bar\"},{\"alignmentgroup\":\"True\",\"hovertemplate\":\"Winner=Southampton<br>index=%{x}<br>value=%{y}<extra></extra>\",\"legendgroup\":\"Southampton\",\"marker\":{\"color\":\"#86CE00\",\"pattern\":{\"shape\":\"\"}},\"name\":\"Southampton\",\"offsetgroup\":\"Southampton\",\"orientation\":\"v\",\"showlegend\":true,\"textposition\":\"inside\",\"x\":[20],\"xaxis\":\"x\",\"y\":[38],\"yaxis\":\"y\",\"type\":\"bar\"},{\"alignmentgroup\":\"True\",\"hovertemplate\":\"Winner=Tottenham<br>index=%{x}<br>value=%{y}<extra></extra>\",\"legendgroup\":\"Tottenham\",\"marker\":{\"color\":\"#BC7196\",\"pattern\":{\"shape\":\"\"}},\"name\":\"Tottenham\",\"offsetgroup\":\"Tottenham\",\"orientation\":\"v\",\"showlegend\":true,\"textposition\":\"inside\",\"x\":[21],\"xaxis\":\"x\",\"y\":[61],\"yaxis\":\"y\",\"type\":\"bar\"},{\"alignmentgroup\":\"True\",\"hovertemplate\":\"Winner=Watford<br>index=%{x}<br>value=%{y}<extra></extra>\",\"legendgroup\":\"Watford\",\"marker\":{\"color\":\"#7E7DCD\",\"pattern\":{\"shape\":\"\"}},\"name\":\"Watford\",\"offsetgroup\":\"Watford\",\"orientation\":\"v\",\"showlegend\":true,\"textposition\":\"inside\",\"x\":[22],\"xaxis\":\"x\",\"y\":[14],\"yaxis\":\"y\",\"type\":\"bar\"},{\"alignmentgroup\":\"True\",\"hovertemplate\":\"Winner=West Brom<br>index=%{x}<br>value=%{y}<extra></extra>\",\"legendgroup\":\"West Brom\",\"marker\":{\"color\":\"#FC6955\",\"pattern\":{\"shape\":\"\"}},\"name\":\"West Brom\",\"offsetgroup\":\"West Brom\",\"orientation\":\"v\",\"showlegend\":true,\"textposition\":\"inside\",\"x\":[23],\"xaxis\":\"x\",\"y\":[5],\"yaxis\":\"y\",\"type\":\"bar\"},{\"alignmentgroup\":\"True\",\"hovertemplate\":\"Winner=West Ham<br>index=%{x}<br>value=%{y}<extra></extra>\",\"legendgroup\":\"West Ham\",\"marker\":{\"color\":\"#E48F72\",\"pattern\":{\"shape\":\"\"}},\"name\":\"West Ham\",\"offsetgroup\":\"West Ham\",\"orientation\":\"v\",\"showlegend\":true,\"textposition\":\"inside\",\"x\":[24],\"xaxis\":\"x\",\"y\":[47],\"yaxis\":\"y\",\"type\":\"bar\"},{\"alignmentgroup\":\"True\",\"hovertemplate\":\"Winner=Wolves<br>index=%{x}<br>value=%{y}<extra></extra>\",\"legendgroup\":\"Wolves\",\"marker\":{\"color\":\"#FD3216\",\"pattern\":{\"shape\":\"\"}},\"name\":\"Wolves\",\"offsetgroup\":\"Wolves\",\"orientation\":\"v\",\"showlegend\":true,\"textposition\":\"inside\",\"x\":[25],\"xaxis\":\"x\",\"y\":[43],\"yaxis\":\"y\",\"type\":\"bar\"}],                        {\"template\":{\"data\":{\"bar\":[{\"error_x\":{\"color\":\"#2a3f5f\"},\"error_y\":{\"color\":\"#2a3f5f\"},\"marker\":{\"line\":{\"color\":\"#E5ECF6\",\"width\":0.5},\"pattern\":{\"fillmode\":\"overlay\",\"size\":10,\"solidity\":0.2}},\"type\":\"bar\"}],\"barpolar\":[{\"marker\":{\"line\":{\"color\":\"#E5ECF6\",\"width\":0.5},\"pattern\":{\"fillmode\":\"overlay\",\"size\":10,\"solidity\":0.2}},\"type\":\"barpolar\"}],\"carpet\":[{\"aaxis\":{\"endlinecolor\":\"#2a3f5f\",\"gridcolor\":\"white\",\"linecolor\":\"white\",\"minorgridcolor\":\"white\",\"startlinecolor\":\"#2a3f5f\"},\"baxis\":{\"endlinecolor\":\"#2a3f5f\",\"gridcolor\":\"white\",\"linecolor\":\"white\",\"minorgridcolor\":\"white\",\"startlinecolor\":\"#2a3f5f\"},\"type\":\"carpet\"}],\"choropleth\":[{\"colorbar\":{\"outlinewidth\":0,\"ticks\":\"\"},\"type\":\"choropleth\"}],\"contour\":[{\"colorbar\":{\"outlinewidth\":0,\"ticks\":\"\"},\"colorscale\":[[0.0,\"#0d0887\"],[0.1111111111111111,\"#46039f\"],[0.2222222222222222,\"#7201a8\"],[0.3333333333333333,\"#9c179e\"],[0.4444444444444444,\"#bd3786\"],[0.5555555555555556,\"#d8576b\"],[0.6666666666666666,\"#ed7953\"],[0.7777777777777778,\"#fb9f3a\"],[0.8888888888888888,\"#fdca26\"],[1.0,\"#f0f921\"]],\"type\":\"contour\"}],\"contourcarpet\":[{\"colorbar\":{\"outlinewidth\":0,\"ticks\":\"\"},\"type\":\"contourcarpet\"}],\"heatmap\":[{\"colorbar\":{\"outlinewidth\":0,\"ticks\":\"\"},\"colorscale\":[[0.0,\"#0d0887\"],[0.1111111111111111,\"#46039f\"],[0.2222222222222222,\"#7201a8\"],[0.3333333333333333,\"#9c179e\"],[0.4444444444444444,\"#bd3786\"],[0.5555555555555556,\"#d8576b\"],[0.6666666666666666,\"#ed7953\"],[0.7777777777777778,\"#fb9f3a\"],[0.8888888888888888,\"#fdca26\"],[1.0,\"#f0f921\"]],\"type\":\"heatmap\"}],\"heatmapgl\":[{\"colorbar\":{\"outlinewidth\":0,\"ticks\":\"\"},\"colorscale\":[[0.0,\"#0d0887\"],[0.1111111111111111,\"#46039f\"],[0.2222222222222222,\"#7201a8\"],[0.3333333333333333,\"#9c179e\"],[0.4444444444444444,\"#bd3786\"],[0.5555555555555556,\"#d8576b\"],[0.6666666666666666,\"#ed7953\"],[0.7777777777777778,\"#fb9f3a\"],[0.8888888888888888,\"#fdca26\"],[1.0,\"#f0f921\"]],\"type\":\"heatmapgl\"}],\"histogram\":[{\"marker\":{\"pattern\":{\"fillmode\":\"overlay\",\"size\":10,\"solidity\":0.2}},\"type\":\"histogram\"}],\"histogram2d\":[{\"colorbar\":{\"outlinewidth\":0,\"ticks\":\"\"},\"colorscale\":[[0.0,\"#0d0887\"],[0.1111111111111111,\"#46039f\"],[0.2222222222222222,\"#7201a8\"],[0.3333333333333333,\"#9c179e\"],[0.4444444444444444,\"#bd3786\"],[0.5555555555555556,\"#d8576b\"],[0.6666666666666666,\"#ed7953\"],[0.7777777777777778,\"#fb9f3a\"],[0.8888888888888888,\"#fdca26\"],[1.0,\"#f0f921\"]],\"type\":\"histogram2d\"}],\"histogram2dcontour\":[{\"colorbar\":{\"outlinewidth\":0,\"ticks\":\"\"},\"colorscale\":[[0.0,\"#0d0887\"],[0.1111111111111111,\"#46039f\"],[0.2222222222222222,\"#7201a8\"],[0.3333333333333333,\"#9c179e\"],[0.4444444444444444,\"#bd3786\"],[0.5555555555555556,\"#d8576b\"],[0.6666666666666666,\"#ed7953\"],[0.7777777777777778,\"#fb9f3a\"],[0.8888888888888888,\"#fdca26\"],[1.0,\"#f0f921\"]],\"type\":\"histogram2dcontour\"}],\"mesh3d\":[{\"colorbar\":{\"outlinewidth\":0,\"ticks\":\"\"},\"type\":\"mesh3d\"}],\"parcoords\":[{\"line\":{\"colorbar\":{\"outlinewidth\":0,\"ticks\":\"\"}},\"type\":\"parcoords\"}],\"pie\":[{\"automargin\":true,\"type\":\"pie\"}],\"scatter\":[{\"marker\":{\"colorbar\":{\"outlinewidth\":0,\"ticks\":\"\"}},\"type\":\"scatter\"}],\"scatter3d\":[{\"line\":{\"colorbar\":{\"outlinewidth\":0,\"ticks\":\"\"}},\"marker\":{\"colorbar\":{\"outlinewidth\":0,\"ticks\":\"\"}},\"type\":\"scatter3d\"}],\"scattercarpet\":[{\"marker\":{\"colorbar\":{\"outlinewidth\":0,\"ticks\":\"\"}},\"type\":\"scattercarpet\"}],\"scattergeo\":[{\"marker\":{\"colorbar\":{\"outlinewidth\":0,\"ticks\":\"\"}},\"type\":\"scattergeo\"}],\"scattergl\":[{\"marker\":{\"colorbar\":{\"outlinewidth\":0,\"ticks\":\"\"}},\"type\":\"scattergl\"}],\"scattermapbox\":[{\"marker\":{\"colorbar\":{\"outlinewidth\":0,\"ticks\":\"\"}},\"type\":\"scattermapbox\"}],\"scatterpolar\":[{\"marker\":{\"colorbar\":{\"outlinewidth\":0,\"ticks\":\"\"}},\"type\":\"scatterpolar\"}],\"scatterpolargl\":[{\"marker\":{\"colorbar\":{\"outlinewidth\":0,\"ticks\":\"\"}},\"type\":\"scatterpolargl\"}],\"scatterternary\":[{\"marker\":{\"colorbar\":{\"outlinewidth\":0,\"ticks\":\"\"}},\"type\":\"scatterternary\"}],\"surface\":[{\"colorbar\":{\"outlinewidth\":0,\"ticks\":\"\"},\"colorscale\":[[0.0,\"#0d0887\"],[0.1111111111111111,\"#46039f\"],[0.2222222222222222,\"#7201a8\"],[0.3333333333333333,\"#9c179e\"],[0.4444444444444444,\"#bd3786\"],[0.5555555555555556,\"#d8576b\"],[0.6666666666666666,\"#ed7953\"],[0.7777777777777778,\"#fb9f3a\"],[0.8888888888888888,\"#fdca26\"],[1.0,\"#f0f921\"]],\"type\":\"surface\"}],\"table\":[{\"cells\":{\"fill\":{\"color\":\"#EBF0F8\"},\"line\":{\"color\":\"white\"}},\"header\":{\"fill\":{\"color\":\"#C8D4E3\"},\"line\":{\"color\":\"white\"}},\"type\":\"table\"}]},\"layout\":{\"annotationdefaults\":{\"arrowcolor\":\"#2a3f5f\",\"arrowhead\":0,\"arrowwidth\":1},\"autotypenumbers\":\"strict\",\"coloraxis\":{\"colorbar\":{\"outlinewidth\":0,\"ticks\":\"\"}},\"colorscale\":{\"diverging\":[[0,\"#8e0152\"],[0.1,\"#c51b7d\"],[0.2,\"#de77ae\"],[0.3,\"#f1b6da\"],[0.4,\"#fde0ef\"],[0.5,\"#f7f7f7\"],[0.6,\"#e6f5d0\"],[0.7,\"#b8e186\"],[0.8,\"#7fbc41\"],[0.9,\"#4d9221\"],[1,\"#276419\"]],\"sequential\":[[0.0,\"#0d0887\"],[0.1111111111111111,\"#46039f\"],[0.2222222222222222,\"#7201a8\"],[0.3333333333333333,\"#9c179e\"],[0.4444444444444444,\"#bd3786\"],[0.5555555555555556,\"#d8576b\"],[0.6666666666666666,\"#ed7953\"],[0.7777777777777778,\"#fb9f3a\"],[0.8888888888888888,\"#fdca26\"],[1.0,\"#f0f921\"]],\"sequentialminus\":[[0.0,\"#0d0887\"],[0.1111111111111111,\"#46039f\"],[0.2222222222222222,\"#7201a8\"],[0.3333333333333333,\"#9c179e\"],[0.4444444444444444,\"#bd3786\"],[0.5555555555555556,\"#d8576b\"],[0.6666666666666666,\"#ed7953\"],[0.7777777777777778,\"#fb9f3a\"],[0.8888888888888888,\"#fdca26\"],[1.0,\"#f0f921\"]]},\"colorway\":[\"#636efa\",\"#EF553B\",\"#00cc96\",\"#ab63fa\",\"#FFA15A\",\"#19d3f3\",\"#FF6692\",\"#B6E880\",\"#FF97FF\",\"#FECB52\"],\"font\":{\"color\":\"#2a3f5f\"},\"geo\":{\"bgcolor\":\"white\",\"lakecolor\":\"white\",\"landcolor\":\"#E5ECF6\",\"showlakes\":true,\"showland\":true,\"subunitcolor\":\"white\"},\"hoverlabel\":{\"align\":\"left\"},\"hovermode\":\"closest\",\"mapbox\":{\"style\":\"light\"},\"paper_bgcolor\":\"white\",\"plot_bgcolor\":\"#E5ECF6\",\"polar\":{\"angularaxis\":{\"gridcolor\":\"white\",\"linecolor\":\"white\",\"ticks\":\"\"},\"bgcolor\":\"#E5ECF6\",\"radialaxis\":{\"gridcolor\":\"white\",\"linecolor\":\"white\",\"ticks\":\"\"}},\"scene\":{\"xaxis\":{\"backgroundcolor\":\"#E5ECF6\",\"gridcolor\":\"white\",\"gridwidth\":2,\"linecolor\":\"white\",\"showbackground\":true,\"ticks\":\"\",\"zerolinecolor\":\"white\"},\"yaxis\":{\"backgroundcolor\":\"#E5ECF6\",\"gridcolor\":\"white\",\"gridwidth\":2,\"linecolor\":\"white\",\"showbackground\":true,\"ticks\":\"\",\"zerolinecolor\":\"white\"},\"zaxis\":{\"backgroundcolor\":\"#E5ECF6\",\"gridcolor\":\"white\",\"gridwidth\":2,\"linecolor\":\"white\",\"showbackground\":true,\"ticks\":\"\",\"zerolinecolor\":\"white\"}},\"shapedefaults\":{\"line\":{\"color\":\"#2a3f5f\"}},\"ternary\":{\"aaxis\":{\"gridcolor\":\"white\",\"linecolor\":\"white\",\"ticks\":\"\"},\"baxis\":{\"gridcolor\":\"white\",\"linecolor\":\"white\",\"ticks\":\"\"},\"bgcolor\":\"#E5ECF6\",\"caxis\":{\"gridcolor\":\"white\",\"linecolor\":\"white\",\"ticks\":\"\"}},\"title\":{\"x\":0.05},\"xaxis\":{\"automargin\":true,\"gridcolor\":\"white\",\"linecolor\":\"white\",\"ticks\":\"\",\"title\":{\"standoff\":15},\"zerolinecolor\":\"white\",\"zerolinewidth\":2},\"yaxis\":{\"automargin\":true,\"gridcolor\":\"white\",\"linecolor\":\"white\",\"ticks\":\"\",\"title\":{\"standoff\":15},\"zerolinecolor\":\"white\",\"zerolinewidth\":2}}},\"xaxis\":{\"anchor\":\"y\",\"domain\":[0.0,1.0],\"title\":{\"text\":\"index\"}},\"yaxis\":{\"anchor\":\"x\",\"domain\":[0.0,1.0],\"title\":{\"text\":\"value\"}},\"legend\":{\"title\":{\"text\":\"Winner\"},\"tracegroupgap\":0},\"title\":{\"text\":\"Premier league  Result from 2019 - 2022 - Most Win Team\"},\"barmode\":\"relative\"},                        {\"responsive\": true}                    ).then(function(){\n",
              "                            \n",
              "var gd = document.getElementById('2ebb445c-eaf1-4050-8cbb-caadd8a878a5');\n",
              "var x = new MutationObserver(function (mutations, observer) {{\n",
              "        var display = window.getComputedStyle(gd).display;\n",
              "        if (!display || display === 'none') {{\n",
              "            console.log([gd, 'removed!']);\n",
              "            Plotly.purge(gd);\n",
              "            observer.disconnect();\n",
              "        }}\n",
              "}});\n",
              "\n",
              "// Listen for the removal of the full notebook cells\n",
              "var notebookContainer = gd.closest('#notebook-container');\n",
              "if (notebookContainer) {{\n",
              "    x.observe(notebookContainer, {childList: true});\n",
              "}}\n",
              "\n",
              "// Listen for the clearing of the current output cell\n",
              "var outputEl = gd.closest('.output');\n",
              "if (outputEl) {{\n",
              "    x.observe(outputEl, {childList: true});\n",
              "}}\n",
              "\n",
              "                        })                };                            </script>        </div>\n",
              "</body>\n",
              "</html>"
            ]
          },
          "metadata": {},
          "output_type": "display_data"
        }
      ],
      "source": [
        "### Group by Winner \n",
        "teamresult = df.groupby('Winner')['Winner'].count().reset_index(name = \"Count\")\n",
        "### Drop the results which were \"Draw\" as this data was not required for the visualisation\n",
        "teamresult = teamresult[teamresult.Winner != 'Draw']\n",
        "### Visualisation\n",
        "fig2 = px.bar(teamresult, title = \"Premier league  Result from 2019 - 2022 - Most Win Team\", color = 'Winner', color_discrete_sequence=px.colors.qualitative.Light24)\n",
        "fig2.update_traces(textposition='inside',)\n",
        "fig2.show()"
      ]
    },
    {
      "cell_type": "markdown",
      "metadata": {
        "id": "1bKuipd53vMR"
      },
      "source": [
        "### Observations\n",
        "##### We can see that Man city,Liverpool has most no of wins, followed by Man utd, Arsenal, Chelsea and Tottenham ,\n",
        "##### Each of the team has percentage of more than 5 of the total wins occured in the preimier league\n",
        " "
      ]
    },
    {
      "cell_type": "markdown",
      "metadata": {
        "id": "GgdSFpwCCOeC"
      },
      "source": [
        "### Total goals scored  by each team in descending order"
      ]
    },
    {
      "cell_type": "code",
      "execution_count": null,
      "metadata": {
        "colab": {
          "base_uri": "https://localhost:8080/",
          "height": 732
        },
        "id": "cYwq79HdCPSz",
        "outputId": "c9fb4435-ab22-4a16-e33b-ecfde68d95fb"
      },
      "outputs": [
        {
          "name": "stderr",
          "output_type": "stream",
          "text": [
            "/usr/local/lib/python3.7/dist-packages/seaborn/_decorators.py:43: FutureWarning:\n",
            "\n",
            "Pass the following variables as keyword args: x, y. From version 0.12, the only valid positional argument will be `data`, and passing other arguments without an explicit keyword will result in an error or misinterpretation.\n",
            "\n"
          ]
        },
        {
          "data": {
            "text/plain": [
              "Text(0, 0.5, 'Team')"
            ]
          },
          "execution_count": 9,
          "metadata": {},
          "output_type": "execute_result"
        },
        {
          "data": {
            "image/png": "[encoded data removed]",
            "text/plain": [
              "<Figure size 720x720 with 1 Axes>"
            ]
          },
          "metadata": {
            "needs_background": "light"
          },
          "output_type": "display_data"
        }
      ],
      "source": [
        "EPL_home = df.groupby(df.HomeTeam)\n",
        "EPL_away = df.groupby(df.AwayTeam)\n",
        "\n",
        "EPL_team_goals = EPL_home['FTHG'].sum() + EPL_away['FTAG'].sum()\n",
        "EPL_team_goals = EPL_team_goals.reset_index()\n",
        "EPL_team_goals.rename( columns={0 :'Goals'}, inplace=True )\n",
        "EPL_team_goals = EPL_team_goals.sort_values(['Goals'], ascending=False)\n",
        "\n",
        "matplotlib.rcParams['figure.figsize'] = (10, 10)\n",
        "sns.barplot(\"Goals\",'HomeTeam', data = EPL_team_goals[0:6] )\n",
        "plt.title('Overall Goals Scored')\n",
        "plt.ylabel('Team')"
      ]
    },
    {
      "cell_type": "markdown",
      "metadata": {
        "id": "aJNzFFjACaP7"
      },
      "source": [
        "#### From the graph below we can see that man city has most number of goals near about 300 goals in 4 seasons.\n",
        "Followed by Liverpool in the second place\n",
        "Manchester united,Leicester, Chelsea are also in the top place in scoring goals\n",
        "\n",
        " "
      ]
    },
    {
      "cell_type": "markdown",
      "metadata": {
        "id": "nlIkdWebDfLO"
      },
      "source": [
        "#### Total no of shots on target are also taken by Manchester city and liverpool\n",
        "#### The team with most no of shots tend to have the most no of shots on target as well."
      ]
    },
    {
      "cell_type": "markdown",
      "metadata": {
        "id": "dVKBVkO74zD3"
      },
      "source": [
        "###Figure shows the relation of full time result to the full time home goals"
      ]
    },
    {
      "cell_type": "code",
      "execution_count": null,
      "metadata": {
        "colab": {
          "base_uri": "https://localhost:8080/",
          "height": 578
        },
        "id": "Hn4YFhTUkYB0",
        "outputId": "6badf21b-4626-44bf-c015-b1d5568659b7"
      },
      "outputs": [
        {
          "data": {
            "image/png": "[encoded data removed]",
            "text/plain": [
              "<Figure size 1224x648 with 1 Axes>"
            ]
          },
          "metadata": {
            "needs_background": "light"
          },
          "output_type": "display_data"
        }
      ],
      "source": [
        "plt.figure(figsize=(17, 9))\n",
        "sns.boxplot(y=\"FTHG\", x=\"FTR\", data=df)\n",
        "plt.show()"
      ]
    },
    {
      "cell_type": "markdown",
      "metadata": {
        "id": "wijPSRdC45C9"
      },
      "source": [
        "### We can see that that when full time home goals tend to be on 2to 4, the home team most likely to win the game\n",
        "\n",
        "### When the team score goals from 0 to 1, the  team most likely to loose or end up in draw"
      ]
    },
    {
      "cell_type": "markdown",
      "metadata": {
        "id": "YXLHj3vz5CUM"
      },
      "source": [
        "## Modelling and training the dataset\n",
        " "
      ]
    },
    {
      "cell_type": "markdown",
      "metadata": {
        "id": "fAdFsylR5S5I"
      },
      "source": [
        "### Dropping unnecessary columns before modelling"
      ]
    },
    {
      "cell_type": "code",
      "execution_count": null,
      "metadata": {
        "id": "4cTPQJGukpC2"
      },
      "outputs": [],
      "source": [
        "\n",
        "df = df.drop('Winner',axis=1)\n",
        "df = df.drop('Result',axis=1)\n",
        "df = df.drop('Year',axis=1)\n",
        "df = df.drop('TotalGoal',axis=1)\n",
        "df = df.drop('GoalDif',axis=1)"
      ]
    },
    {
      "cell_type": "code",
      "execution_count": null,
      "metadata": {
        "colab": {
          "base_uri": "https://localhost:8080/",
          "height": 206
        },
        "id": "j4W1rKR9rkb2",
        "outputId": "76ef00aa-10ae-4ae2-89b4-75a4974a7590"
      },
      "outputs": [
        {
          "data": {
            "text/html": [
              "\n",
              "  <div id=\"df-1ae34896-b614-47e2-b874-bfb6ce516cf4\">\n",
              "    <div class=\"colab-df-container\">\n",
              "      <div>\n",
              "<style scoped>\n",
              "    .dataframe tbody tr th:only-of-type {\n",
              "        vertical-align: middle;\n",
              "    }\n",
              "\n",
              "    .dataframe tbody tr th {\n",
              "        vertical-align: top;\n",
              "    }\n",
              "\n",
              "    .dataframe thead th {\n",
              "        text-align: right;\n",
              "    }\n",
              "</style>\n",
              "<table border=\"1\" class=\"dataframe\">\n",
              "  <thead>\n",
              "    <tr style=\"text-align: right;\">\n",
              "      <th></th>\n",
              "      <th>Div</th>\n",
              "      <th>Date</th>\n",
              "      <th>Time</th>\n",
              "      <th>HomeTeam</th>\n",
              "      <th>AwayTeam</th>\n",
              "      <th>FTHG</th>\n",
              "      <th>FTAG</th>\n",
              "      <th>FTR</th>\n",
              "      <th>month</th>\n",
              "      <th>Day</th>\n",
              "      <th>Weekday</th>\n",
              "    </tr>\n",
              "  </thead>\n",
              "  <tbody>\n",
              "    <tr>\n",
              "      <th>0</th>\n",
              "      <td>E0</td>\n",
              "      <td>2019-08-09</td>\n",
              "      <td>20:00:00</td>\n",
              "      <td>Liverpool</td>\n",
              "      <td>Norwich</td>\n",
              "      <td>4</td>\n",
              "      <td>1</td>\n",
              "      <td>H</td>\n",
              "      <td>8</td>\n",
              "      <td>9</td>\n",
              "      <td>4</td>\n",
              "    </tr>\n",
              "    <tr>\n",
              "      <th>1</th>\n",
              "      <td>E0</td>\n",
              "      <td>2019-08-10</td>\n",
              "      <td>12:30:00</td>\n",
              "      <td>West Ham</td>\n",
              "      <td>Man City</td>\n",
              "      <td>0</td>\n",
              "      <td>5</td>\n",
              "      <td>A</td>\n",
              "      <td>8</td>\n",
              "      <td>10</td>\n",
              "      <td>5</td>\n",
              "    </tr>\n",
              "    <tr>\n",
              "      <th>2</th>\n",
              "      <td>E0</td>\n",
              "      <td>2019-08-10</td>\n",
              "      <td>15:00:00</td>\n",
              "      <td>Bournemouth</td>\n",
              "      <td>Sheffield United</td>\n",
              "      <td>1</td>\n",
              "      <td>1</td>\n",
              "      <td>D</td>\n",
              "      <td>8</td>\n",
              "      <td>10</td>\n",
              "      <td>5</td>\n",
              "    </tr>\n",
              "    <tr>\n",
              "      <th>3</th>\n",
              "      <td>E0</td>\n",
              "      <td>2019-08-10</td>\n",
              "      <td>15:00:00</td>\n",
              "      <td>Burnley</td>\n",
              "      <td>Southampton</td>\n",
              "      <td>3</td>\n",
              "      <td>0</td>\n",
              "      <td>H</td>\n",
              "      <td>8</td>\n",
              "      <td>10</td>\n",
              "      <td>5</td>\n",
              "    </tr>\n",
              "    <tr>\n",
              "      <th>4</th>\n",
              "      <td>E0</td>\n",
              "      <td>2019-08-10</td>\n",
              "      <td>15:00:00</td>\n",
              "      <td>Crystal Palace</td>\n",
              "      <td>Everton</td>\n",
              "      <td>0</td>\n",
              "      <td>0</td>\n",
              "      <td>D</td>\n",
              "      <td>8</td>\n",
              "      <td>10</td>\n",
              "      <td>5</td>\n",
              "    </tr>\n",
              "  </tbody>\n",
              "</table>\n",
              "</div>\n",
              "      <button class=\"colab-df-convert\" onclick=\"convertToInteractive('df-1ae34896-b614-47e2-b874-bfb6ce516cf4')\"\n",
              "              title=\"Convert this dataframe to an interactive table.\"\n",
              "              style=\"display:none;\">\n",
              "        \n",
              "  <svg xmlns=\"http://www.w3.org/2000/svg\" height=\"24px\"viewBox=\"0 0 24 24\"\n",
              "       width=\"24px\">\n",
              "    <path d=\"M0 0h24v24H0V0z\" fill=\"none\"/>\n",
              "    <path d=\"M18.56 5.44l.94 2.06.94-2.06 2.06-.94-2.06-.94-.94-2.06-.94 2.06-2.06.94zm-11 1L8.5 8.5l.94-2.06 2.06-.94-2.06-.94L8.5 2.5l-.94 2.06-2.06.94zm10 10l.94 2.06.94-2.06 2.06-.94-2.06-.94-.94-2.06-.94 2.06-2.06.94z\"/><path d=\"M17.41 7.96l-1.37-1.37c-.4-.4-.92-.59-1.43-.59-.52 0-1.04.2-1.43.59L10.3 9.45l-7.72 7.72c-.78.78-.78 2.05 0 2.83L4 21.41c.39.39.9.59 1.41.59.51 0 1.02-.2 1.41-.59l7.78-7.78 2.81-2.81c.8-.78.8-2.07 0-2.86zM5.41 20L4 18.59l7.72-7.72 1.47 1.35L5.41 20z\"/>\n",
              "  </svg>\n",
              "      </button>\n",
              "      \n",
              "  <style>\n",
              "    .colab-df-container {\n",
              "      display:flex;\n",
              "      flex-wrap:wrap;\n",
              "      gap: 12px;\n",
              "    }\n",
              "\n",
              "    .colab-df-convert {\n",
              "      background-color: #E8F0FE;\n",
              "      border: none;\n",
              "      border-radius: 50%;\n",
              "      cursor: pointer;\n",
              "      display: none;\n",
              "      fill: #1967D2;\n",
              "      height: 32px;\n",
              "      padding: 0 0 0 0;\n",
              "      width: 32px;\n",
              "    }\n",
              "\n",
              "    .colab-df-convert:hover {\n",
              "      background-color: #E2EBFA;\n",
              "      box-shadow: 0px 1px 2px rgba(60, 64, 67, 0.3), 0px 1px 3px 1px rgba(60, 64, 67, 0.15);\n",
              "      fill: #174EA6;\n",
              "    }\n",
              "\n",
              "    [theme=dark] .colab-df-convert {\n",
              "      background-color: #3B4455;\n",
              "      fill: #D2E3FC;\n",
              "    }\n",
              "\n",
              "    [theme=dark] .colab-df-convert:hover {\n",
              "      background-color: #434B5C;\n",
              "      box-shadow: 0px 1px 3px 1px rgba(0, 0, 0, 0.15);\n",
              "      filter: drop-shadow(0px 1px 2px rgba(0, 0, 0, 0.3));\n",
              "      fill: #FFFFFF;\n",
              "    }\n",
              "  </style>\n",
              "\n",
              "      <script>\n",
              "        const buttonEl =\n",
              "          document.querySelector('#df-1ae34896-b614-47e2-b874-bfb6ce516cf4 button.colab-df-convert');\n",
              "        buttonEl.style.display =\n",
              "          google.colab.kernel.accessAllowed ? 'block' : 'none';\n",
              "\n",
              "        async function convertToInteractive(key) {\n",
              "          const element = document.querySelector('#df-1ae34896-b614-47e2-b874-bfb6ce516cf4');\n",
              "          const dataTable =\n",
              "            await google.colab.kernel.invokeFunction('convertToInteractive',\n",
              "                                                     [key], {});\n",
              "          if (!dataTable) return;\n",
              "\n",
              "          const docLinkHtml = 'Like what you see? Visit the ' +\n",
              "            '<a target=\"_blank\" href=https://colab.research.google.com/notebooks/data_table.ipynb>data table notebook</a>'\n",
              "            + ' to learn more about interactive tables.';\n",
              "          element.innerHTML = '';\n",
              "          dataTable['output_type'] = 'display_data';\n",
              "          await google.colab.output.renderOutput(dataTable, element);\n",
              "          const docLink = document.createElement('div');\n",
              "          docLink.innerHTML = docLinkHtml;\n",
              "          element.appendChild(docLink);\n",
              "        }\n",
              "      </script>\n",
              "    </div>\n",
              "  </div>\n",
              "  "
            ],
            "text/plain": [
              "  Div       Date      Time        HomeTeam          AwayTeam  FTHG  FTAG FTR  \\\n",
              "0  E0 2019-08-09  20:00:00       Liverpool           Norwich     4     1   H   \n",
              "1  E0 2019-08-10  12:30:00        West Ham          Man City     0     5   A   \n",
              "2  E0 2019-08-10  15:00:00     Bournemouth  Sheffield United     1     1   D   \n",
              "3  E0 2019-08-10  15:00:00         Burnley       Southampton     3     0   H   \n",
              "4  E0 2019-08-10  15:00:00  Crystal Palace           Everton     0     0   D   \n",
              "\n",
              "   month  Day  Weekday  \n",
              "0      8    9        4  \n",
              "1      8   10        5  \n",
              "2      8   10        5  \n",
              "3      8   10        5  \n",
              "4      8   10        5  "
            ]
          },
          "execution_count": 5,
          "metadata": {},
          "output_type": "execute_result"
        }
      ],
      "source": [
        " ## Extracting month from the datae column and creating a column for the month\n",
        "df['month'] = pd.DatetimeIndex(df['Date']).month\n",
        "df['Day']= pd.DatetimeIndex(df['Date']).day\n",
        "df['Weekday']=pd.DatetimeIndex(df['Date']).weekday\n",
        "df.head()"
      ]
    },
    {
      "cell_type": "code",
      "execution_count": null,
      "metadata": {
        "id": "vvZ2-W4Qrp72"
      },
      "outputs": [],
      "source": [
        "df=df[['month','Day','Weekday','HomeTeam','AwayTeam','FTR']]"
      ]
    },
    {
      "cell_type": "markdown",
      "metadata": {
        "id": "akUBhU175YQy"
      },
      "source": [
        "## One hot encoding"
      ]
    },
    {
      "cell_type": "code",
      "execution_count": null,
      "metadata": {
        "id": "dnqgXWfflBUv"
      },
      "outputs": [],
      "source": [
        "f=pd.get_dummies(df['HomeTeam']) ## Taking the dummy values in the homeTeam colummn\n",
        "e=pd.get_dummies(df['AwayTeam']) ## Taking the dummmy values in the  awayTeam column\n",
        "e=e.replace([1],[-1])\n",
        "e=e.add(f)\n",
        "\n",
        "df=df.join(e)"
      ]
    },
    {
      "cell_type": "markdown",
      "metadata": {
        "id": "AJuSx6Tv5pXY"
      },
      "source": [
        "##### One hot encoding is done to create dummy values for the HomeTeam column and AwayTeam column\n",
        "##### Now each team has a seperate column in which 0 value is put when no match is occuring and 1 or -1 value when there is a match\n",
        "##### The teams which plays in home is denoted as 1 and for the teams which plays away is denoted as -1"
      ]
    },
    {
      "cell_type": "code",
      "execution_count": null,
      "metadata": {
        "id": "ezCK9QABlVHO"
      },
      "outputs": [],
      "source": [
        "df = df.drop('HomeTeam',axis=1)\n",
        "df = df.drop('AwayTeam',axis=1)"
      ]
    },
    {
      "cell_type": "markdown",
      "metadata": {
        "id": "4TYP_yVu5cvs"
      },
      "source": [
        "##### Replacing the FTR or full time result values as \n",
        "### 1 for home team win\n",
        "###-1 for away team win\n",
        "###  0 for draw"
      ]
    },
    {
      "cell_type": "code",
      "execution_count": null,
      "metadata": {
        "id": "rDlNymKplZXW"
      },
      "outputs": [],
      "source": [
        "df = df.replace(['H','A','D'],[1,-1,0])"
      ]
    },
    {
      "cell_type": "code",
      "execution_count": null,
      "metadata": {
        "colab": {
          "base_uri": "https://localhost:8080/"
        },
        "id": "oEhO7VQUl-LH",
        "outputId": "a721abcc-60f2-4fec-c8ab-770a1709e973"
      },
      "outputs": [
        {
          "name": "stdout",
          "output_type": "stream",
          "text": [
            "month               0\n",
            "Day                 0\n",
            "Weekday             0\n",
            "FTR                 0\n",
            "Arsenal             0\n",
            "Aston Villa         0\n",
            "Bournemouth         0\n",
            "Brentford           0\n",
            "Brighton            0\n",
            "Burnley             0\n",
            "Chelsea             0\n",
            "Crystal Palace      0\n",
            "Everton             0\n",
            "Fulham              0\n",
            "Leeds               0\n",
            "Leicester           0\n",
            "Liverpool           0\n",
            "Man City            0\n",
            "Man United          0\n",
            "Newcastle           0\n",
            "Norwich             0\n",
            "Nott'm Forest       0\n",
            "Sheffield United    0\n",
            "Southampton         0\n",
            "Tottenham           0\n",
            "Watford             0\n",
            "West Brom           0\n",
            "West Ham            0\n",
            "Wolves              0\n",
            "dtype: int64\n"
          ]
        }
      ],
      "source": [
        "print(df.isnull().sum())"
      ]
    },
    {
      "cell_type": "markdown",
      "metadata": {
        "id": "V_e1eXkK591G"
      },
      "source": [
        "##### Dropping the null values"
      ]
    },
    {
      "cell_type": "code",
      "execution_count": null,
      "metadata": {
        "id": "jet1P8DhmEP0"
      },
      "outputs": [],
      "source": [
        "df=df.dropna()"
      ]
    },
    {
      "cell_type": "code",
      "execution_count": null,
      "metadata": {
        "id": "uVyxL3p725k7"
      },
      "outputs": [],
      "source": [
        "df1=df[951:]\n",
        "x_test1=df1.drop('FTR',axis=1)\n",
        "y_test1=df1['FTR']"
      ]
    },
    {
      "cell_type": "markdown",
      "metadata": {
        "id": "5U8Z4cxxAAkZ"
      },
      "source": [
        "## Splitting the model into train and test data"
      ]
    },
    {
      "cell_type": "code",
      "execution_count": null,
      "metadata": {
        "id": "SCAwNzMtAH1T"
      },
      "outputs": [],
      "source": [
        "\n",
        "## Importing the libraries for splitting the dataset\n",
        "from sklearn.model_selection import train_test_split\n",
        "# X -> features, y -> label\n",
        "X = df.drop(\"FTR\", axis=1)\n",
        "Y = df[\"FTR\"]\n",
        "# dividing X, y into train and test data\n",
        "# X_train, X_test, y_train, y_test = train_test_split(X, Y, test_size=0.3, random_state=42)\n",
        "# dividing X, y into train and test data\n",
        "X_temp, X_test, y_temp, y_test = train_test_split(X, Y, test_size=0.2, random_state=42)\n",
        "X_train, X_valid, y_train, y_valid = train_test_split(X_temp, y_temp, test_size=0.2, random_state=42)\n"
      ]
    },
    {
      "cell_type": "markdown",
      "metadata": {
        "id": "CF2gcCjg6ISj"
      },
      "source": [
        "##### We are modelling the dataset with multiple models\n",
        "##### The model is apllied on the dataset which consists of encoded home and away teams with target variable FTR\n",
        "\n",
        " "
      ]
    },
    {
      "cell_type": "markdown",
      "metadata": {
        "id": "rtz4tee8AMH6"
      },
      "source": [
        "### Training and showing the perfomance of the model"
      ]
    },
    {
      "cell_type": "markdown",
      "metadata": {
        "id": "Yf5Se5sYAQe_"
      },
      "source": [
        "#### Importing the libraries for training and testing the model"
      ]
    },
    {
      "cell_type": "code",
      "execution_count": null,
      "metadata": {
        "id": "VyGosDM9mM9b"
      },
      "outputs": [],
      "source": [
        "\n",
        "## Importing the libraries for showing the model of the models\n",
        "from sklearn.metrics import accuracy_score\n",
        "from sklearn.metrics import confusion_matrix\n",
        "from sklearn import metrics\n",
        "from sklearn.model_selection import cross_val_score, KFold, StratifiedKFold\n",
        "from sklearn.metrics import precision_score, recall_score, f1_score, roc_auc_score, matthews_corrcoef\n",
        "from sklearn.model_selection import RandomizedSearchCV\n",
        "from sklearn.model_selection import GridSearchCV\n",
        "\n",
        "\n",
        "## From sklearn libraries, we are taking different models for training the model and comparing their accuracies \n",
        "\n",
        "from sklearn.neighbors import KNeighborsClassifier\n",
        "from xgboost import XGBClassifier\n",
        "from sklearn.ensemble import RandomForestClassifier   \n",
        "from sklearn.model_selection import cross_val_score \n",
        "from sklearn.linear_model import LogisticRegression\n",
        "\n",
        "#defining the model variable\n",
        "knn = KNeighborsClassifier()\n",
        "xgb = XGBClassifier()\n",
        "lr = LogisticRegression()\n",
        "rf = RandomForestClassifier(max_depth=2, random_state=0)\n"
      ]
    },
    {
      "cell_type": "markdown",
      "metadata": {
        "id": "-219-APt4bbN"
      },
      "source": [
        "##### We have defined four models for training\n",
        "##### Each of them being Knn, XGboost, Logistic regression and random forrest\n",
        "##### These models are trained on the dataset and tested for knowing the perfomance\n",
        "##### The models which gets the highest accuracy can be used for testing."
      ]
    },
    {
      "cell_type": "markdown",
      "metadata": {
        "id": "aV0mA55BAcvW"
      },
      "source": [
        "#### Training and testing the model"
      ]
    },
    {
      "cell_type": "code",
      "execution_count": null,
      "metadata": {
        "colab": {
          "base_uri": "https://localhost:8080/",
          "height": 1000
        },
        "id": "X2Er07czo5jm",
        "outputId": "cb145097-83ad-4c17-9aec-d1e3b43fee55"
      },
      "outputs": [
        {
          "name": "stdout",
          "output_type": "stream",
          "text": [
            "Accuracy of testing: 0.344\n",
            "Accuracy of training: 0.546\n",
            "scores of training\n",
            "[0.29487179 0.3525641  0.34615385 0.34193548 0.36774194]\n",
            "0.34065343258891645\n",
            "Confusion matrix of testing data\n",
            "KNN\n"
          ]
        },
        {
          "data": {
            "image/png": "[encoded data removed]",
            "text/plain": [
              "<Figure size 576x288 with 2 Axes>"
            ]
          },
          "metadata": {
            "needs_background": "light"
          },
          "output_type": "display_data"
        },
        {
          "name": "stdout",
          "output_type": "stream",
          "text": [
            "\n",
            "\n",
            "\n",
            "confusion matrix of training data\n",
            "KNN\n"
          ]
        },
        {
          "data": {
            "image/png": "[encoded data removed]",
            "text/plain": [
              "<Figure size 576x288 with 2 Axes>"
            ]
          },
          "metadata": {
            "needs_background": "light"
          },
          "output_type": "display_data"
        },
        {
          "name": "stdout",
          "output_type": "stream",
          "text": [
            "\n",
            "\n",
            "\n",
            "Accuracy of testing: 0.487\n",
            "Accuracy of training: 0.650\n",
            "scores of training\n",
            "[0.52564103 0.45512821 0.44230769 0.47741935 0.47741935]\n",
            "0.4755831265508685\n",
            "Confusion matrix of testing data\n",
            "XGBoost\n"
          ]
        },
        {
          "data": {
            "image/png": "[encoded data removed]",
            "text/plain": [
              "<Figure size 576x288 with 2 Axes>"
            ]
          },
          "metadata": {
            "needs_background": "light"
          },
          "output_type": "display_data"
        },
        {
          "name": "stdout",
          "output_type": "stream",
          "text": [
            "\n",
            "\n",
            "\n",
            "confusion matrix of training data\n",
            "XGBoost\n"
          ]
        },
        {
          "data": {
            "image/png": "[encoded data removed]",
            "text/plain": [
              "<Figure size 576x288 with 2 Axes>"
            ]
          },
          "metadata": {
            "needs_background": "light"
          },
          "output_type": "display_data"
        },
        {
          "name": "stdout",
          "output_type": "stream",
          "text": [
            "\n",
            "\n",
            "\n",
            "Accuracy of testing: 0.477\n",
            "Accuracy of training: 0.553\n"
          ]
        },
        {
          "name": "stderr",
          "output_type": "stream",
          "text": [
            "/usr/local/lib/python3.8/dist-packages/sklearn/linear_model/_logistic.py:814: ConvergenceWarning: lbfgs failed to converge (status=1):\n",
            "STOP: TOTAL NO. of ITERATIONS REACHED LIMIT.\n",
            "\n",
            "Increase the number of iterations (max_iter) or scale the data as shown in:\n",
            "    https://scikit-learn.org/stable/modules/preprocessing.html\n",
            "Please also refer to the documentation for alternative solver options:\n",
            "    https://scikit-learn.org/stable/modules/linear_model.html#logistic-regression\n",
            "  n_iter_i = _check_optimize_result(\n",
            "/usr/local/lib/python3.8/dist-packages/sklearn/linear_model/_logistic.py:814: ConvergenceWarning: lbfgs failed to converge (status=1):\n",
            "STOP: TOTAL NO. of ITERATIONS REACHED LIMIT.\n",
            "\n",
            "Increase the number of iterations (max_iter) or scale the data as shown in:\n",
            "    https://scikit-learn.org/stable/modules/preprocessing.html\n",
            "Please also refer to the documentation for alternative solver options:\n",
            "    https://scikit-learn.org/stable/modules/linear_model.html#logistic-regression\n",
            "  n_iter_i = _check_optimize_result(\n",
            "/usr/local/lib/python3.8/dist-packages/sklearn/linear_model/_logistic.py:814: ConvergenceWarning: lbfgs failed to converge (status=1):\n",
            "STOP: TOTAL NO. of ITERATIONS REACHED LIMIT.\n",
            "\n",
            "Increase the number of iterations (max_iter) or scale the data as shown in:\n",
            "    https://scikit-learn.org/stable/modules/preprocessing.html\n",
            "Please also refer to the documentation for alternative solver options:\n",
            "    https://scikit-learn.org/stable/modules/linear_model.html#logistic-regression\n",
            "  n_iter_i = _check_optimize_result(\n",
            "/usr/local/lib/python3.8/dist-packages/sklearn/linear_model/_logistic.py:814: ConvergenceWarning: lbfgs failed to converge (status=1):\n",
            "STOP: TOTAL NO. of ITERATIONS REACHED LIMIT.\n",
            "\n",
            "Increase the number of iterations (max_iter) or scale the data as shown in:\n",
            "    https://scikit-learn.org/stable/modules/preprocessing.html\n",
            "Please also refer to the documentation for alternative solver options:\n",
            "    https://scikit-learn.org/stable/modules/linear_model.html#logistic-regression\n",
            "  n_iter_i = _check_optimize_result(\n",
            "/usr/local/lib/python3.8/dist-packages/sklearn/linear_model/_logistic.py:814: ConvergenceWarning: lbfgs failed to converge (status=1):\n",
            "STOP: TOTAL NO. of ITERATIONS REACHED LIMIT.\n",
            "\n",
            "Increase the number of iterations (max_iter) or scale the data as shown in:\n",
            "    https://scikit-learn.org/stable/modules/preprocessing.html\n",
            "Please also refer to the documentation for alternative solver options:\n",
            "    https://scikit-learn.org/stable/modules/linear_model.html#logistic-regression\n",
            "  n_iter_i = _check_optimize_result(\n"
          ]
        },
        {
          "name": "stdout",
          "output_type": "stream",
          "text": [
            "scores of training\n",
            "[0.52564103 0.48076923 0.53205128 0.51612903 0.54193548]\n",
            "0.5193052109181141\n",
            "Confusion matrix of testing data\n",
            "Logistic regression\n"
          ]
        },
        {
          "name": "stderr",
          "output_type": "stream",
          "text": [
            "/usr/local/lib/python3.8/dist-packages/sklearn/linear_model/_logistic.py:814: ConvergenceWarning: lbfgs failed to converge (status=1):\n",
            "STOP: TOTAL NO. of ITERATIONS REACHED LIMIT.\n",
            "\n",
            "Increase the number of iterations (max_iter) or scale the data as shown in:\n",
            "    https://scikit-learn.org/stable/modules/preprocessing.html\n",
            "Please also refer to the documentation for alternative solver options:\n",
            "    https://scikit-learn.org/stable/modules/linear_model.html#logistic-regression\n",
            "  n_iter_i = _check_optimize_result(\n"
          ]
        },
        {
          "data": {
            "image/png": "[encoded data removed]",
            "text/plain": [
              "<Figure size 576x288 with 2 Axes>"
            ]
          },
          "metadata": {
            "needs_background": "light"
          },
          "output_type": "display_data"
        },
        {
          "name": "stdout",
          "output_type": "stream",
          "text": [
            "\n",
            "\n",
            "\n",
            "confusion matrix of training data\n",
            "Logistic regression\n"
          ]
        },
        {
          "data": {
            "image/png": "[encoded data removed]",
            "text/plain": [
              "<Figure size 576x288 with 2 Axes>"
            ]
          },
          "metadata": {
            "needs_background": "light"
          },
          "output_type": "display_data"
        },
        {
          "name": "stdout",
          "output_type": "stream",
          "text": [
            "\n",
            "\n",
            "\n",
            "Accuracy of testing: 0.446\n",
            "Accuracy of training: 0.487\n",
            "scores of training\n",
            "[0.45512821 0.44871795 0.46794872 0.48387097 0.4516129 ]\n",
            "0.46145574855252275\n",
            "Confusion matrix of testing data\n",
            "Random forest\n"
          ]
        },
        {
          "data": {
            "image/png": "[encoded data removed]",
            "text/plain": [
              "<Figure size 576x288 with 2 Axes>"
            ]
          },
          "metadata": {
            "needs_background": "light"
          },
          "output_type": "display_data"
        },
        {
          "name": "stdout",
          "output_type": "stream",
          "text": [
            "\n",
            "\n",
            "\n",
            "confusion matrix of training data\n",
            "Random forest\n"
          ]
        },
        {
          "data": {
            "image/png": "[encoded data removed]",
            "text/plain": [
              "<Figure size 576x288 with 2 Axes>"
            ]
          },
          "metadata": {
            "needs_background": "light"
          },
          "output_type": "display_data"
        },
        {
          "name": "stdout",
          "output_type": "stream",
          "text": [
            "\n",
            "\n",
            "\n"
          ]
        }
      ],
      "source": [
        "clf=[knn,xgb,lr,rf]\n",
        " \n",
        "# create a splitter object\n",
        "kfold = KFold(n_splits = 10) \n",
        "modelname=[\"KNN\",\"XGBoost\",\"Logistic regression\",\"Random forest\"]\n",
        " \n",
        " ## Running loop for  each model to train, test and showing perfomance\n",
        "\n",
        "for i in range(len(clf)):\n",
        "    # Training the model\n",
        "    clf[i].fit(X_train,y_train)\n",
        "    # Predicting for x_test\n",
        "    y_predvalid=clf[i].predict(X_valid)\n",
        "    accvalid = accuracy_score(y_valid, y_predvalid)\n",
        "  \n",
        "     \n",
        "    print('Accuracy of testing: %.3f' % accvalid)\n",
        "    # Predicting for training data\n",
        "    y_predtrain=clf[i].predict(X_train)\n",
        "    acctrain = accuracy_score(y_predtrain, y_train)\n",
        "    print('Accuracy of training: %.3f' % acctrain)  \n",
        "   \n",
        "    # Showing the training accuracy of the of the model\n",
        "    scores = cross_val_score(clf[i], X_train, y_train, cv=StratifiedKFold(n_splits=5))\n",
        "   \n",
        "    print(\"scores of training\")\n",
        "    print(scores)\n",
        "    print(scores.mean())  \n",
        "    # Creating the confusion matrix for testing\n",
        "    print(\"Confusion matrix of testing data\")\n",
        "    cm = confusion_matrix(y_valid, y_predvalid)\n",
        "    cm_df = pd.DataFrame(cm,index = ['Hwin','draw','Awin'],columns = ['Hwin','draw','Awin'])\n",
        "\n",
        "    plt.figure(figsize=(8,4))\n",
        "    sns.heatmap(cm_df, annot=True)\n",
        "    plt.title('Confusion Matrix')\n",
        "    plt.ylabel('Actal Values')\n",
        "    plt.xlabel('Predicted Values')\n",
        "\n",
        "    print(modelname[i])\n",
        "    plt.show()\n",
        "    print()\n",
        "    print()\n",
        "    print()\n",
        "    # Creating the confusion matrix for training\n",
        "    print(\"confusion matrix of training data\")\n",
        "    cm = confusion_matrix(y_train, y_predtrain)\n",
        "    \n",
        " \n",
        " \n",
        "\n",
        "    plt.figure(figsize=(8,4))\n",
        "    sns.heatmap(cm_df, annot=True)\n",
        "    plt.title('Confusion Matrix')\n",
        "    plt.ylabel('Actal Values')\n",
        "    plt.xlabel('Predicted Values')\n",
        "\n",
        "    print(modelname[i])\n",
        "    plt.show()\n",
        "    print()\n",
        "    print()\n",
        "    print()"
      ]
    },
    {
      "cell_type": "code",
      "execution_count": null,
      "metadata": {
        "id": "a5Nie-kaGu0T"
      },
      "outputs": [],
      "source": [
        "## Metrics evaluation\n",
        "\n",
        "def eval_classification(model, X_train, y_train, X_test, y_test):\n",
        "    y_pred = model.predict(X_test)\n",
        "    y_pred_proba = model.predict_proba(X_test)\n",
        "    y_pred_proba_train = model.predict_proba(X_train)\n",
        "    \n",
        "    accuracy = accuracy_score(y_test, y_pred)\n",
        "    precision = precision_score(y_test, y_pred,average='macro')\n",
        "    recall = recall_score(y_test, y_pred, average='macro')\n",
        " \n",
        "    f1 = f1_score(y_test, y_pred, average='macro')\n",
        "    mcc = matthews_corrcoef(y_test, y_pred)\n",
        "    #auc_test = round(roc_auc_score(y_test, y_pred_proba[:, 1],average='macro'),4)\n",
        "    #auc_train = round(roc_auc_score(y_train, y_pred_proba_train[:, 1],average='macro'),4) \n",
        "    \n",
        "    return accuracy, precision, recall, f1, mcc\n",
        "    # auc_test, auc_train\n",
        "\n",
        "def score_all_classification(model_list, X_train, y_train, X_test, y_test):\n",
        "    model_name = ['KNN', 'XGBoost', 'Logistic regression', 'Random forrest']\n",
        "    eval_cols = ['Model', 'Accuracy', 'Precision', 'Recall', 'F1 Score', 'MCC']\n",
        "    # 'AUC (Test)', 'AUC (Train)']\n",
        "    \n",
        "    eval_list = []\n",
        "    for name, model in zip(model_name, model_list):\n",
        "        result = eval_classification(model, X_train, y_train, X_test, y_test)\n",
        "        eval_list.append([name] + list(result))\n",
        "    df_model = pd.DataFrame(data=eval_list, columns=eval_cols)\n",
        "    \n",
        "    return df_model"
      ]
    },
    {
      "cell_type": "code",
      "execution_count": null,
      "metadata": {
        "colab": {
          "base_uri": "https://localhost:8080/"
        },
        "id": "HTtITB-hGx1X",
        "outputId": "3d2d7fd1-fb96-4945-d6ff-c61e88ab59c0"
      },
      "outputs": [
        {
          "name": "stderr",
          "output_type": "stream",
          "text": [
            "/usr/local/lib/python3.8/dist-packages/sklearn/metrics/_classification.py:1318: UndefinedMetricWarning: Precision is ill-defined and being set to 0.0 in labels with no predicted samples. Use `zero_division` parameter to control this behavior.\n",
            "  _warn_prf(average, modifier, msg_start, len(result))\n",
            "/usr/local/lib/python3.8/dist-packages/sklearn/metrics/_classification.py:1318: UndefinedMetricWarning: Precision is ill-defined and being set to 0.0 in labels with no predicted samples. Use `zero_division` parameter to control this behavior.\n",
            "  _warn_prf(average, modifier, msg_start, len(result))\n",
            "/usr/local/lib/python3.8/dist-packages/sklearn/metrics/_classification.py:1318: UndefinedMetricWarning: Precision is ill-defined and being set to 0.0 in labels with no predicted samples. Use `zero_division` parameter to control this behavior.\n",
            "  _warn_prf(average, modifier, msg_start, len(result))\n"
          ]
        }
      ],
      "source": [
        "##Score of the model\n",
        "# model_name = ['KNN', 'XGBoost', 'Logistic regression', 'Random forrest']\n",
        "model_list_base = [knn,xgb,lr,rf]\n",
        "\n",
        "t1=score_all_classification(model_list_base, X_train, y_train, X_test, y_test)\n",
        " \n",
        "t2=score_all_classification(model_list_base, X_train, y_train, X_train, y_train)\n",
        "\n",
        "t3=score_all_classification(model_list_base, X_train, y_train, x_test1, y_test1)"
      ]
    },
    {
      "cell_type": "markdown",
      "metadata": {
        "id": "_8VBNUq3jPHm"
      },
      "source": [
        "##### Table for testing data  "
      ]
    },
    {
      "cell_type": "code",
      "execution_count": null,
      "metadata": {
        "colab": {
          "base_uri": "https://localhost:8080/",
          "height": 175
        },
        "id": "_gs0NUiiOG-C",
        "outputId": "ca071cbf-0f9e-4012-ccfa-96340368f221"
      },
      "outputs": [
        {
          "data": {
            "text/html": [
              "\n",
              "  <div id=\"df-3dcf4a1d-58d7-45ee-adec-b399a848f341\">\n",
              "    <div class=\"colab-df-container\">\n",
              "      <div>\n",
              "<style scoped>\n",
              "    .dataframe tbody tr th:only-of-type {\n",
              "        vertical-align: middle;\n",
              "    }\n",
              "\n",
              "    .dataframe tbody tr th {\n",
              "        vertical-align: top;\n",
              "    }\n",
              "\n",
              "    .dataframe thead th {\n",
              "        text-align: right;\n",
              "    }\n",
              "</style>\n",
              "<table border=\"1\" class=\"dataframe\">\n",
              "  <thead>\n",
              "    <tr style=\"text-align: right;\">\n",
              "      <th></th>\n",
              "      <th>Model</th>\n",
              "      <th>Accuracy</th>\n",
              "      <th>Precision</th>\n",
              "      <th>Recall</th>\n",
              "      <th>F1 Score</th>\n",
              "      <th>MCC</th>\n",
              "    </tr>\n",
              "  </thead>\n",
              "  <tbody>\n",
              "    <tr>\n",
              "      <th>0</th>\n",
              "      <td>KNN</td>\n",
              "      <td>0.401639</td>\n",
              "      <td>0.369173</td>\n",
              "      <td>0.370609</td>\n",
              "      <td>0.364970</td>\n",
              "      <td>0.067879</td>\n",
              "    </tr>\n",
              "    <tr>\n",
              "      <th>1</th>\n",
              "      <td>XGBoost</td>\n",
              "      <td>0.504098</td>\n",
              "      <td>0.460909</td>\n",
              "      <td>0.444289</td>\n",
              "      <td>0.432615</td>\n",
              "      <td>0.206731</td>\n",
              "    </tr>\n",
              "    <tr>\n",
              "      <th>2</th>\n",
              "      <td>Logistic regression</td>\n",
              "      <td>0.553279</td>\n",
              "      <td>0.552362</td>\n",
              "      <td>0.484941</td>\n",
              "      <td>0.458001</td>\n",
              "      <td>0.285545</td>\n",
              "    </tr>\n",
              "    <tr>\n",
              "      <th>3</th>\n",
              "      <td>Random forrest</td>\n",
              "      <td>0.446721</td>\n",
              "      <td>0.313814</td>\n",
              "      <td>0.357240</td>\n",
              "      <td>0.268945</td>\n",
              "      <td>0.084499</td>\n",
              "    </tr>\n",
              "  </tbody>\n",
              "</table>\n",
              "</div>\n",
              "      <button class=\"colab-df-convert\" onclick=\"convertToInteractive('df-3dcf4a1d-58d7-45ee-adec-b399a848f341')\"\n",
              "              title=\"Convert this dataframe to an interactive table.\"\n",
              "              style=\"display:none;\">\n",
              "        \n",
              "  <svg xmlns=\"http://www.w3.org/2000/svg\" height=\"24px\"viewBox=\"0 0 24 24\"\n",
              "       width=\"24px\">\n",
              "    <path d=\"M0 0h24v24H0V0z\" fill=\"none\"/>\n",
              "    <path d=\"M18.56 5.44l.94 2.06.94-2.06 2.06-.94-2.06-.94-.94-2.06-.94 2.06-2.06.94zm-11 1L8.5 8.5l.94-2.06 2.06-.94-2.06-.94L8.5 2.5l-.94 2.06-2.06.94zm10 10l.94 2.06.94-2.06 2.06-.94-2.06-.94-.94-2.06-.94 2.06-2.06.94z\"/><path d=\"M17.41 7.96l-1.37-1.37c-.4-.4-.92-.59-1.43-.59-.52 0-1.04.2-1.43.59L10.3 9.45l-7.72 7.72c-.78.78-.78 2.05 0 2.83L4 21.41c.39.39.9.59 1.41.59.51 0 1.02-.2 1.41-.59l7.78-7.78 2.81-2.81c.8-.78.8-2.07 0-2.86zM5.41 20L4 18.59l7.72-7.72 1.47 1.35L5.41 20z\"/>\n",
              "  </svg>\n",
              "      </button>\n",
              "      \n",
              "  <style>\n",
              "    .colab-df-container {\n",
              "      display:flex;\n",
              "      flex-wrap:wrap;\n",
              "      gap: 12px;\n",
              "    }\n",
              "\n",
              "    .colab-df-convert {\n",
              "      background-color: #E8F0FE;\n",
              "      border: none;\n",
              "      border-radius: 50%;\n",
              "      cursor: pointer;\n",
              "      display: none;\n",
              "      fill: #1967D2;\n",
              "      height: 32px;\n",
              "      padding: 0 0 0 0;\n",
              "      width: 32px;\n",
              "    }\n",
              "\n",
              "    .colab-df-convert:hover {\n",
              "      background-color: #E2EBFA;\n",
              "      box-shadow: 0px 1px 2px rgba(60, 64, 67, 0.3), 0px 1px 3px 1px rgba(60, 64, 67, 0.15);\n",
              "      fill: #174EA6;\n",
              "    }\n",
              "\n",
              "    [theme=dark] .colab-df-convert {\n",
              "      background-color: #3B4455;\n",
              "      fill: #D2E3FC;\n",
              "    }\n",
              "\n",
              "    [theme=dark] .colab-df-convert:hover {\n",
              "      background-color: #434B5C;\n",
              "      box-shadow: 0px 1px 3px 1px rgba(0, 0, 0, 0.15);\n",
              "      filter: drop-shadow(0px 1px 2px rgba(0, 0, 0, 0.3));\n",
              "      fill: #FFFFFF;\n",
              "    }\n",
              "  </style>\n",
              "\n",
              "      <script>\n",
              "        const buttonEl =\n",
              "          document.querySelector('#df-3dcf4a1d-58d7-45ee-adec-b399a848f341 button.colab-df-convert');\n",
              "        buttonEl.style.display =\n",
              "          google.colab.kernel.accessAllowed ? 'block' : 'none';\n",
              "\n",
              "        async function convertToInteractive(key) {\n",
              "          const element = document.querySelector('#df-3dcf4a1d-58d7-45ee-adec-b399a848f341');\n",
              "          const dataTable =\n",
              "            await google.colab.kernel.invokeFunction('convertToInteractive',\n",
              "                                                     [key], {});\n",
              "          if (!dataTable) return;\n",
              "\n",
              "          const docLinkHtml = 'Like what you see? Visit the ' +\n",
              "            '<a target=\"_blank\" href=https://colab.research.google.com/notebooks/data_table.ipynb>data table notebook</a>'\n",
              "            + ' to learn more about interactive tables.';\n",
              "          element.innerHTML = '';\n",
              "          dataTable['output_type'] = 'display_data';\n",
              "          await google.colab.output.renderOutput(dataTable, element);\n",
              "          const docLink = document.createElement('div');\n",
              "          docLink.innerHTML = docLinkHtml;\n",
              "          element.appendChild(docLink);\n",
              "        }\n",
              "      </script>\n",
              "    </div>\n",
              "  </div>\n",
              "  "
            ],
            "text/plain": [
              "                 Model  Accuracy  Precision    Recall  F1 Score       MCC\n",
              "0                  KNN  0.401639   0.369173  0.370609  0.364970  0.067879\n",
              "1              XGBoost  0.504098   0.460909  0.444289  0.432615  0.206731\n",
              "2  Logistic regression  0.553279   0.552362  0.484941  0.458001  0.285545\n",
              "3       Random forrest  0.446721   0.313814  0.357240  0.268945  0.084499"
            ]
          },
          "execution_count": 17,
          "metadata": {},
          "output_type": "execute_result"
        }
      ],
      "source": [
        "t1"
      ]
    },
    {
      "cell_type": "markdown",
      "metadata": {
        "id": "GH0B46Zq_8eO"
      },
      "source": [
        "### Logistic regression shows the best accuracy for testing dataset"
      ]
    },
    {
      "cell_type": "markdown",
      "metadata": {
        "id": "loOG74n9jRBe"
      },
      "source": [
        "##### Table for training data  "
      ]
    },
    {
      "cell_type": "code",
      "execution_count": null,
      "metadata": {
        "colab": {
          "base_uri": "https://localhost:8080/",
          "height": 175
        },
        "id": "LBJjNFnuOH-A",
        "outputId": "cb49b42f-a137-44c1-9315-e2208b98bfb3"
      },
      "outputs": [
        {
          "data": {
            "text/html": [
              "\n",
              "  <div id=\"df-1eb6fd8d-d0e8-495c-9f5e-2e2ef696b67a\">\n",
              "    <div class=\"colab-df-container\">\n",
              "      <div>\n",
              "<style scoped>\n",
              "    .dataframe tbody tr th:only-of-type {\n",
              "        vertical-align: middle;\n",
              "    }\n",
              "\n",
              "    .dataframe tbody tr th {\n",
              "        vertical-align: top;\n",
              "    }\n",
              "\n",
              "    .dataframe thead th {\n",
              "        text-align: right;\n",
              "    }\n",
              "</style>\n",
              "<table border=\"1\" class=\"dataframe\">\n",
              "  <thead>\n",
              "    <tr style=\"text-align: right;\">\n",
              "      <th></th>\n",
              "      <th>Model</th>\n",
              "      <th>Accuracy</th>\n",
              "      <th>Precision</th>\n",
              "      <th>Recall</th>\n",
              "      <th>F1 Score</th>\n",
              "      <th>MCC</th>\n",
              "    </tr>\n",
              "  </thead>\n",
              "  <tbody>\n",
              "    <tr>\n",
              "      <th>0</th>\n",
              "      <td>KNN</td>\n",
              "      <td>0.546272</td>\n",
              "      <td>0.534571</td>\n",
              "      <td>0.532359</td>\n",
              "      <td>0.530391</td>\n",
              "      <td>0.306777</td>\n",
              "    </tr>\n",
              "    <tr>\n",
              "      <th>1</th>\n",
              "      <td>XGBoost</td>\n",
              "      <td>0.650386</td>\n",
              "      <td>0.685072</td>\n",
              "      <td>0.590948</td>\n",
              "      <td>0.593377</td>\n",
              "      <td>0.456067</td>\n",
              "    </tr>\n",
              "    <tr>\n",
              "      <th>2</th>\n",
              "      <td>Logistic regression</td>\n",
              "      <td>0.552699</td>\n",
              "      <td>0.503741</td>\n",
              "      <td>0.483572</td>\n",
              "      <td>0.447226</td>\n",
              "      <td>0.287954</td>\n",
              "    </tr>\n",
              "    <tr>\n",
              "      <th>3</th>\n",
              "      <td>Random forrest</td>\n",
              "      <td>0.487147</td>\n",
              "      <td>0.397387</td>\n",
              "      <td>0.390630</td>\n",
              "      <td>0.309631</td>\n",
              "      <td>0.201427</td>\n",
              "    </tr>\n",
              "  </tbody>\n",
              "</table>\n",
              "</div>\n",
              "      <button class=\"colab-df-convert\" onclick=\"convertToInteractive('df-1eb6fd8d-d0e8-495c-9f5e-2e2ef696b67a')\"\n",
              "              title=\"Convert this dataframe to an interactive table.\"\n",
              "              style=\"display:none;\">\n",
              "        \n",
              "  <svg xmlns=\"http://www.w3.org/2000/svg\" height=\"24px\"viewBox=\"0 0 24 24\"\n",
              "       width=\"24px\">\n",
              "    <path d=\"M0 0h24v24H0V0z\" fill=\"none\"/>\n",
              "    <path d=\"M18.56 5.44l.94 2.06.94-2.06 2.06-.94-2.06-.94-.94-2.06-.94 2.06-2.06.94zm-11 1L8.5 8.5l.94-2.06 2.06-.94-2.06-.94L8.5 2.5l-.94 2.06-2.06.94zm10 10l.94 2.06.94-2.06 2.06-.94-2.06-.94-.94-2.06-.94 2.06-2.06.94z\"/><path d=\"M17.41 7.96l-1.37-1.37c-.4-.4-.92-.59-1.43-.59-.52 0-1.04.2-1.43.59L10.3 9.45l-7.72 7.72c-.78.78-.78 2.05 0 2.83L4 21.41c.39.39.9.59 1.41.59.51 0 1.02-.2 1.41-.59l7.78-7.78 2.81-2.81c.8-.78.8-2.07 0-2.86zM5.41 20L4 18.59l7.72-7.72 1.47 1.35L5.41 20z\"/>\n",
              "  </svg>\n",
              "      </button>\n",
              "      \n",
              "  <style>\n",
              "    .colab-df-container {\n",
              "      display:flex;\n",
              "      flex-wrap:wrap;\n",
              "      gap: 12px;\n",
              "    }\n",
              "\n",
              "    .colab-df-convert {\n",
              "      background-color: #E8F0FE;\n",
              "      border: none;\n",
              "      border-radius: 50%;\n",
              "      cursor: pointer;\n",
              "      display: none;\n",
              "      fill: #1967D2;\n",
              "      height: 32px;\n",
              "      padding: 0 0 0 0;\n",
              "      width: 32px;\n",
              "    }\n",
              "\n",
              "    .colab-df-convert:hover {\n",
              "      background-color: #E2EBFA;\n",
              "      box-shadow: 0px 1px 2px rgba(60, 64, 67, 0.3), 0px 1px 3px 1px rgba(60, 64, 67, 0.15);\n",
              "      fill: #174EA6;\n",
              "    }\n",
              "\n",
              "    [theme=dark] .colab-df-convert {\n",
              "      background-color: #3B4455;\n",
              "      fill: #D2E3FC;\n",
              "    }\n",
              "\n",
              "    [theme=dark] .colab-df-convert:hover {\n",
              "      background-color: #434B5C;\n",
              "      box-shadow: 0px 1px 3px 1px rgba(0, 0, 0, 0.15);\n",
              "      filter: drop-shadow(0px 1px 2px rgba(0, 0, 0, 0.3));\n",
              "      fill: #FFFFFF;\n",
              "    }\n",
              "  </style>\n",
              "\n",
              "      <script>\n",
              "        const buttonEl =\n",
              "          document.querySelector('#df-1eb6fd8d-d0e8-495c-9f5e-2e2ef696b67a button.colab-df-convert');\n",
              "        buttonEl.style.display =\n",
              "          google.colab.kernel.accessAllowed ? 'block' : 'none';\n",
              "\n",
              "        async function convertToInteractive(key) {\n",
              "          const element = document.querySelector('#df-1eb6fd8d-d0e8-495c-9f5e-2e2ef696b67a');\n",
              "          const dataTable =\n",
              "            await google.colab.kernel.invokeFunction('convertToInteractive',\n",
              "                                                     [key], {});\n",
              "          if (!dataTable) return;\n",
              "\n",
              "          const docLinkHtml = 'Like what you see? Visit the ' +\n",
              "            '<a target=\"_blank\" href=https://colab.research.google.com/notebooks/data_table.ipynb>data table notebook</a>'\n",
              "            + ' to learn more about interactive tables.';\n",
              "          element.innerHTML = '';\n",
              "          dataTable['output_type'] = 'display_data';\n",
              "          await google.colab.output.renderOutput(dataTable, element);\n",
              "          const docLink = document.createElement('div');\n",
              "          docLink.innerHTML = docLinkHtml;\n",
              "          element.appendChild(docLink);\n",
              "        }\n",
              "      </script>\n",
              "    </div>\n",
              "  </div>\n",
              "  "
            ],
            "text/plain": [
              "                 Model  Accuracy  Precision    Recall  F1 Score       MCC\n",
              "0                  KNN  0.546272   0.534571  0.532359  0.530391  0.306777\n",
              "1              XGBoost  0.650386   0.685072  0.590948  0.593377  0.456067\n",
              "2  Logistic regression  0.552699   0.503741  0.483572  0.447226  0.287954\n",
              "3       Random forrest  0.487147   0.397387  0.390630  0.309631  0.201427"
            ]
          },
          "execution_count": 18,
          "metadata": {},
          "output_type": "execute_result"
        }
      ],
      "source": [
        "t2"
      ]
    },
    {
      "cell_type": "markdown",
      "metadata": {
        "id": "OamuQlcrACNE"
      },
      "source": [
        "#### XGBoost shows the best accuracy for the training dataset."
      ]
    },
    {
      "cell_type": "markdown",
      "metadata": {
        "id": "SEnQ9ABajT-X"
      },
      "source": [
        "##### Table for recent testing data "
      ]
    },
    {
      "cell_type": "code",
      "execution_count": null,
      "metadata": {
        "colab": {
          "base_uri": "https://localhost:8080/",
          "height": 175
        },
        "id": "AOhFovuN3SFb",
        "outputId": "722dd9f0-fcf2-4b97-f8a6-812352e0a189"
      },
      "outputs": [
        {
          "data": {
            "text/html": [
              "\n",
              "  <div id=\"df-d2814add-40ed-4ade-9954-ecefea20197b\">\n",
              "    <div class=\"colab-df-container\">\n",
              "      <div>\n",
              "<style scoped>\n",
              "    .dataframe tbody tr th:only-of-type {\n",
              "        vertical-align: middle;\n",
              "    }\n",
              "\n",
              "    .dataframe tbody tr th {\n",
              "        vertical-align: top;\n",
              "    }\n",
              "\n",
              "    .dataframe thead th {\n",
              "        text-align: right;\n",
              "    }\n",
              "</style>\n",
              "<table border=\"1\" class=\"dataframe\">\n",
              "  <thead>\n",
              "    <tr style=\"text-align: right;\">\n",
              "      <th></th>\n",
              "      <th>Model</th>\n",
              "      <th>Accuracy</th>\n",
              "      <th>Precision</th>\n",
              "      <th>Recall</th>\n",
              "      <th>F1 Score</th>\n",
              "      <th>MCC</th>\n",
              "    </tr>\n",
              "  </thead>\n",
              "  <tbody>\n",
              "    <tr>\n",
              "      <th>0</th>\n",
              "      <td>KNN</td>\n",
              "      <td>0.526316</td>\n",
              "      <td>0.501565</td>\n",
              "      <td>0.499093</td>\n",
              "      <td>0.493856</td>\n",
              "      <td>0.265930</td>\n",
              "    </tr>\n",
              "    <tr>\n",
              "      <th>1</th>\n",
              "      <td>XGBoost</td>\n",
              "      <td>0.612782</td>\n",
              "      <td>0.632361</td>\n",
              "      <td>0.538649</td>\n",
              "      <td>0.535679</td>\n",
              "      <td>0.376516</td>\n",
              "    </tr>\n",
              "    <tr>\n",
              "      <th>2</th>\n",
              "      <td>Logistic regression</td>\n",
              "      <td>0.563910</td>\n",
              "      <td>0.620866</td>\n",
              "      <td>0.485796</td>\n",
              "      <td>0.445333</td>\n",
              "      <td>0.293643</td>\n",
              "    </tr>\n",
              "    <tr>\n",
              "      <th>3</th>\n",
              "      <td>Random forrest</td>\n",
              "      <td>0.503759</td>\n",
              "      <td>0.376056</td>\n",
              "      <td>0.385480</td>\n",
              "      <td>0.306405</td>\n",
              "      <td>0.192738</td>\n",
              "    </tr>\n",
              "  </tbody>\n",
              "</table>\n",
              "</div>\n",
              "      <button class=\"colab-df-convert\" onclick=\"convertToInteractive('df-d2814add-40ed-4ade-9954-ecefea20197b')\"\n",
              "              title=\"Convert this dataframe to an interactive table.\"\n",
              "              style=\"display:none;\">\n",
              "        \n",
              "  <svg xmlns=\"http://www.w3.org/2000/svg\" height=\"24px\"viewBox=\"0 0 24 24\"\n",
              "       width=\"24px\">\n",
              "    <path d=\"M0 0h24v24H0V0z\" fill=\"none\"/>\n",
              "    <path d=\"M18.56 5.44l.94 2.06.94-2.06 2.06-.94-2.06-.94-.94-2.06-.94 2.06-2.06.94zm-11 1L8.5 8.5l.94-2.06 2.06-.94-2.06-.94L8.5 2.5l-.94 2.06-2.06.94zm10 10l.94 2.06.94-2.06 2.06-.94-2.06-.94-.94-2.06-.94 2.06-2.06.94z\"/><path d=\"M17.41 7.96l-1.37-1.37c-.4-.4-.92-.59-1.43-.59-.52 0-1.04.2-1.43.59L10.3 9.45l-7.72 7.72c-.78.78-.78 2.05 0 2.83L4 21.41c.39.39.9.59 1.41.59.51 0 1.02-.2 1.41-.59l7.78-7.78 2.81-2.81c.8-.78.8-2.07 0-2.86zM5.41 20L4 18.59l7.72-7.72 1.47 1.35L5.41 20z\"/>\n",
              "  </svg>\n",
              "      </button>\n",
              "      \n",
              "  <style>\n",
              "    .colab-df-container {\n",
              "      display:flex;\n",
              "      flex-wrap:wrap;\n",
              "      gap: 12px;\n",
              "    }\n",
              "\n",
              "    .colab-df-convert {\n",
              "      background-color: #E8F0FE;\n",
              "      border: none;\n",
              "      border-radius: 50%;\n",
              "      cursor: pointer;\n",
              "      display: none;\n",
              "      fill: #1967D2;\n",
              "      height: 32px;\n",
              "      padding: 0 0 0 0;\n",
              "      width: 32px;\n",
              "    }\n",
              "\n",
              "    .colab-df-convert:hover {\n",
              "      background-color: #E2EBFA;\n",
              "      box-shadow: 0px 1px 2px rgba(60, 64, 67, 0.3), 0px 1px 3px 1px rgba(60, 64, 67, 0.15);\n",
              "      fill: #174EA6;\n",
              "    }\n",
              "\n",
              "    [theme=dark] .colab-df-convert {\n",
              "      background-color: #3B4455;\n",
              "      fill: #D2E3FC;\n",
              "    }\n",
              "\n",
              "    [theme=dark] .colab-df-convert:hover {\n",
              "      background-color: #434B5C;\n",
              "      box-shadow: 0px 1px 3px 1px rgba(0, 0, 0, 0.15);\n",
              "      filter: drop-shadow(0px 1px 2px rgba(0, 0, 0, 0.3));\n",
              "      fill: #FFFFFF;\n",
              "    }\n",
              "  </style>\n",
              "\n",
              "      <script>\n",
              "        const buttonEl =\n",
              "          document.querySelector('#df-d2814add-40ed-4ade-9954-ecefea20197b button.colab-df-convert');\n",
              "        buttonEl.style.display =\n",
              "          google.colab.kernel.accessAllowed ? 'block' : 'none';\n",
              "\n",
              "        async function convertToInteractive(key) {\n",
              "          const element = document.querySelector('#df-d2814add-40ed-4ade-9954-ecefea20197b');\n",
              "          const dataTable =\n",
              "            await google.colab.kernel.invokeFunction('convertToInteractive',\n",
              "                                                     [key], {});\n",
              "          if (!dataTable) return;\n",
              "\n",
              "          const docLinkHtml = 'Like what you see? Visit the ' +\n",
              "            '<a target=\"_blank\" href=https://colab.research.google.com/notebooks/data_table.ipynb>data table notebook</a>'\n",
              "            + ' to learn more about interactive tables.';\n",
              "          element.innerHTML = '';\n",
              "          dataTable['output_type'] = 'display_data';\n",
              "          await google.colab.output.renderOutput(dataTable, element);\n",
              "          const docLink = document.createElement('div');\n",
              "          docLink.innerHTML = docLinkHtml;\n",
              "          element.appendChild(docLink);\n",
              "        }\n",
              "      </script>\n",
              "    </div>\n",
              "  </div>\n",
              "  "
            ],
            "text/plain": [
              "                 Model  Accuracy  Precision    Recall  F1 Score       MCC\n",
              "0                  KNN  0.526316   0.501565  0.499093  0.493856  0.265930\n",
              "1              XGBoost  0.612782   0.632361  0.538649  0.535679  0.376516\n",
              "2  Logistic regression  0.563910   0.620866  0.485796  0.445333  0.293643\n",
              "3       Random forrest  0.503759   0.376056  0.385480  0.306405  0.192738"
            ]
          },
          "execution_count": 19,
          "metadata": {},
          "output_type": "execute_result"
        }
      ],
      "source": [
        "t3"
      ]
    },
    {
      "cell_type": "markdown",
      "metadata": {
        "id": "4moFEKmEAL7V"
      },
      "source": [
        "#### XGBoost shows an accuracy of 62 among the most recent dataset"
      ]
    },
    {
      "cell_type": "markdown",
      "metadata": {
        "id": "HrNeOFtNwK-w"
      },
      "source": [
        "# Hyperparameter tuning"
      ]
    },
    {
      "cell_type": "markdown",
      "metadata": {
        "id": "rK6-aEhL935F"
      },
      "source": [
        "### Hyperparameter tuning for KNN"
      ]
    },
    {
      "cell_type": "code",
      "execution_count": null,
      "metadata": {
        "id": "RRuUHnhV97Dt"
      },
      "outputs": [],
      "source": [
        " \n",
        "## Defining parameters for random forrest and XGboost\n",
        "  ## Defining hyperparameter for KNN\n",
        "k_range=list(range(1,31))\n",
        "  \n",
        "param_grid=dict(n_neighbors=k_range)\n",
        "knnp = RandomizedSearchCV(knn, param_grid, cv=10, scoring='accuracy', n_iter=100, random_state=5)"
      ]
    },
    {
      "cell_type": "markdown",
      "metadata": {
        "id": "9xFryNHS9-gM"
      },
      "source": [
        "### Hyperparameter tuning for Xgboost and Random forrest"
      ]
    },
    {
      "cell_type": "code",
      "execution_count": null,
      "metadata": {
        "id": "i-T1nv8vxghY"
      },
      "outputs": [],
      "source": [
        "\n",
        "\n",
        " \n",
        " \n",
        "\n",
        "### Defining hyperparameters  for random forrest and XGboost\n",
        "randomforresthyperparameter = [\n",
        "  \n",
        "    \n",
        "  {   # Random forrest        \n",
        "     \"n_estimators\": np.arange(110,251,501),\n",
        "              \"min_samples_leaf\": np.arange(1,6,1),\n",
        "              \"max_features\":[\"log2\",0.7,0.9,\"auto\"],\n",
        "              \"max_samples\": np.arange(0.3, 0.7, None),\n",
        "             }\n",
        "]\n",
        "xgboosthyperparameter =[ {# XGBoost\n",
        "    \"n_estimators\": np.arange(10,60,10),\n",
        "    \"subsample\":[0.6,0.7,0.8],\n",
        "    \"learning_rate\":[0.1,0.3,0.55],\n",
        "    \"colsample_bytree\":[0.5,0.7,0.9],\n",
        "    \"colsample_bylevel\":[0.5,0.7,0.9]\n",
        "}\n",
        "]\n",
        "\n",
        " \n",
        " \n",
        "\n",
        "xgbp = RandomizedSearchCV(xgb, xgboosthyperparameter, cv=5, scoring='accuracy', random_state=42)\n",
        " \n",
        " \n",
        "rfp = RandomizedSearchCV(rf, randomforresthyperparameter, cv=5, scoring='accuracy', random_state=42)\n"
      ]
    },
    {
      "cell_type": "markdown",
      "metadata": {
        "id": "TnXiFog1-FL9"
      },
      "source": [
        "### Hyperparamer tuning for Logistic regression"
      ]
    },
    {
      "cell_type": "code",
      "execution_count": null,
      "metadata": {
        "id": "nkDGcIpON7sQ"
      },
      "outputs": [],
      "source": [
        "from sklearn.model_selection import RepeatedStratifiedKFold\n",
        "### Defining hyperparameters for KNN\n",
        "solvers = ['newton-cg', 'lbfgs', 'liblinear']\n",
        "penalty = ['l2']\n",
        "c_values = [100, 10, 1.0, 0.1, 0.01]\n",
        "# define grid search\n",
        "grid = dict(solver=solvers,penalty=penalty,C=c_values)\n",
        "cv = RepeatedStratifiedKFold(n_splits=10, n_repeats=3, random_state=1)\n",
        "lrp = GridSearchCV(estimator=lr, param_grid=grid, n_jobs=-1, cv=cv, scoring='accuracy',error_score=0)"
      ]
    },
    {
      "cell_type": "markdown",
      "metadata": {
        "id": "Z4Nht7sh8Shu"
      },
      "source": [
        "### Training the models after Tuning the models"
      ]
    },
    {
      "cell_type": "code",
      "execution_count": null,
      "metadata": {
        "colab": {
          "base_uri": "https://localhost:8080/",
          "height": 1000
        },
        "id": "5miDB4N5wWEE",
        "outputId": "31347f93-4f20-4fb8-b188-57023d120b52"
      },
      "outputs": [
        {
          "name": "stderr",
          "output_type": "stream",
          "text": [
            "/usr/local/lib/python3.8/dist-packages/sklearn/model_selection/_search.py:292: UserWarning: The total space of parameters 30 is smaller than n_iter=100. Running 30 iterations. For exhaustive searches, use GridSearchCV.\n",
            "  warnings.warn(\n"
          ]
        },
        {
          "name": "stdout",
          "output_type": "stream",
          "text": [
            "Accuracy of testing: 0.398\n",
            "Accuracy of training: 0.490\n"
          ]
        },
        {
          "name": "stderr",
          "output_type": "stream",
          "text": [
            "/usr/local/lib/python3.8/dist-packages/sklearn/model_selection/_search.py:292: UserWarning: The total space of parameters 30 is smaller than n_iter=100. Running 30 iterations. For exhaustive searches, use GridSearchCV.\n",
            "  warnings.warn(\n",
            "/usr/local/lib/python3.8/dist-packages/sklearn/model_selection/_search.py:292: UserWarning: The total space of parameters 30 is smaller than n_iter=100. Running 30 iterations. For exhaustive searches, use GridSearchCV.\n",
            "  warnings.warn(\n",
            "/usr/local/lib/python3.8/dist-packages/sklearn/model_selection/_search.py:292: UserWarning: The total space of parameters 30 is smaller than n_iter=100. Running 30 iterations. For exhaustive searches, use GridSearchCV.\n",
            "  warnings.warn(\n",
            "/usr/local/lib/python3.8/dist-packages/sklearn/model_selection/_search.py:292: UserWarning: The total space of parameters 30 is smaller than n_iter=100. Running 30 iterations. For exhaustive searches, use GridSearchCV.\n",
            "  warnings.warn(\n",
            "/usr/local/lib/python3.8/dist-packages/sklearn/model_selection/_search.py:292: UserWarning: The total space of parameters 30 is smaller than n_iter=100. Running 30 iterations. For exhaustive searches, use GridSearchCV.\n",
            "  warnings.warn(\n"
          ]
        },
        {
          "name": "stdout",
          "output_type": "stream",
          "text": [
            "scores of testing\n",
            "[0.32653061 0.48979592 0.32653061 0.30612245 0.33333333]\n",
            "0.3564625850340136\n"
          ]
        },
        {
          "name": "stderr",
          "output_type": "stream",
          "text": [
            "/usr/local/lib/python3.8/dist-packages/sklearn/model_selection/_search.py:292: UserWarning: The total space of parameters 30 is smaller than n_iter=100. Running 30 iterations. For exhaustive searches, use GridSearchCV.\n",
            "  warnings.warn(\n",
            "/usr/local/lib/python3.8/dist-packages/sklearn/model_selection/_search.py:292: UserWarning: The total space of parameters 30 is smaller than n_iter=100. Running 30 iterations. For exhaustive searches, use GridSearchCV.\n",
            "  warnings.warn(\n",
            "/usr/local/lib/python3.8/dist-packages/sklearn/model_selection/_search.py:292: UserWarning: The total space of parameters 30 is smaller than n_iter=100. Running 30 iterations. For exhaustive searches, use GridSearchCV.\n",
            "  warnings.warn(\n",
            "/usr/local/lib/python3.8/dist-packages/sklearn/model_selection/_search.py:292: UserWarning: The total space of parameters 30 is smaller than n_iter=100. Running 30 iterations. For exhaustive searches, use GridSearchCV.\n",
            "  warnings.warn(\n",
            "/usr/local/lib/python3.8/dist-packages/sklearn/model_selection/_search.py:292: UserWarning: The total space of parameters 30 is smaller than n_iter=100. Running 30 iterations. For exhaustive searches, use GridSearchCV.\n",
            "  warnings.warn(\n"
          ]
        },
        {
          "name": "stdout",
          "output_type": "stream",
          "text": [
            "scores of training\n",
            "[0.37820513 0.37820513 0.40384615 0.41935484 0.43225806]\n",
            "0.4023738626964433\n",
            "Confusion matrix of testing data\n",
            "KNN\n"
          ]
        },
        {
          "data": {
            "image/png": "[encoded data removed]",
            "text/plain": [
              "<Figure size 576x288 with 2 Axes>"
            ]
          },
          "metadata": {
            "needs_background": "light"
          },
          "output_type": "display_data"
        },
        {
          "name": "stdout",
          "output_type": "stream",
          "text": [
            "\n",
            "\n",
            "\n",
            "confusion matrix of training data\n",
            "KNN\n"
          ]
        },
        {
          "data": {
            "image/png": "[encoded data removed]",
            "text/plain": [
              "<Figure size 576x288 with 2 Axes>"
            ]
          },
          "metadata": {
            "needs_background": "light"
          },
          "output_type": "display_data"
        },
        {
          "name": "stdout",
          "output_type": "stream",
          "text": [
            "\n",
            "\n",
            "\n",
            "Accuracy of testing: 0.492\n",
            "Accuracy of training: 0.544\n",
            "scores of testing\n",
            "[0.40816327 0.42857143 0.44897959 0.44897959 0.45833333]\n",
            "0.43860544217687075\n",
            "scores of training\n",
            "[0.5        0.46794872 0.46794872 0.49032258 0.47741935]\n",
            "0.48072787427626135\n",
            "Confusion matrix of testing data\n",
            "XGBoost\n"
          ]
        },
        {
          "data": {
            "image/png": "[encoded data removed]",
            "text/plain": [
              "<Figure size 576x288 with 2 Axes>"
            ]
          },
          "metadata": {
            "needs_background": "light"
          },
          "output_type": "display_data"
        },
        {
          "name": "stdout",
          "output_type": "stream",
          "text": [
            "\n",
            "\n",
            "\n",
            "confusion matrix of training data\n",
            "XGBoost\n"
          ]
        },
        {
          "data": {
            "image/png": "[encoded data removed]",
            "text/plain": [
              "<Figure size 576x288 with 2 Axes>"
            ]
          },
          "metadata": {
            "needs_background": "light"
          },
          "output_type": "display_data"
        },
        {
          "name": "stdout",
          "output_type": "stream",
          "text": [
            "\n",
            "\n",
            "\n",
            "Accuracy of testing: 0.557\n",
            "Accuracy of training: 0.563\n"
          ]
        },
        {
          "name": "stderr",
          "output_type": "stream",
          "text": [
            "/usr/local/lib/python3.8/dist-packages/sklearn/linear_model/_logistic.py:814: ConvergenceWarning: lbfgs failed to converge (status=1):\n",
            "STOP: TOTAL NO. of ITERATIONS REACHED LIMIT.\n",
            "\n",
            "Increase the number of iterations (max_iter) or scale the data as shown in:\n",
            "    https://scikit-learn.org/stable/modules/preprocessing.html\n",
            "Please also refer to the documentation for alternative solver options:\n",
            "    https://scikit-learn.org/stable/modules/linear_model.html#logistic-regression\n",
            "  n_iter_i = _check_optimize_result(\n"
          ]
        },
        {
          "name": "stdout",
          "output_type": "stream",
          "text": [
            "scores of testing\n",
            "[0.48979592 0.44897959 0.51020408 0.51020408 0.5625    ]\n",
            "0.5043367346938775\n"
          ]
        },
        {
          "name": "stderr",
          "output_type": "stream",
          "text": [
            "/usr/local/lib/python3.8/dist-packages/sklearn/linear_model/_logistic.py:814: ConvergenceWarning: lbfgs failed to converge (status=1):\n",
            "STOP: TOTAL NO. of ITERATIONS REACHED LIMIT.\n",
            "\n",
            "Increase the number of iterations (max_iter) or scale the data as shown in:\n",
            "    https://scikit-learn.org/stable/modules/preprocessing.html\n",
            "Please also refer to the documentation for alternative solver options:\n",
            "    https://scikit-learn.org/stable/modules/linear_model.html#logistic-regression\n",
            "  n_iter_i = _check_optimize_result(\n"
          ]
        },
        {
          "name": "stdout",
          "output_type": "stream",
          "text": [
            "scores of training\n",
            "[0.57051282 0.51282051 0.54487179 0.52258065 0.54193548]\n",
            "0.5385442514474772\n",
            "Confusion matrix of testing data\n",
            "Logistic regression\n"
          ]
        },
        {
          "data": {
            "image/png": "[encoded data removed]",
            "text/plain": [
              "<Figure size 576x288 with 2 Axes>"
            ]
          },
          "metadata": {
            "needs_background": "light"
          },
          "output_type": "display_data"
        },
        {
          "name": "stdout",
          "output_type": "stream",
          "text": [
            "\n",
            "\n",
            "\n",
            "confusion matrix of training data\n",
            "Logistic regression\n"
          ]
        },
        {
          "data": {
            "image/png": "[encoded data removed]",
            "text/plain": [
              "<Figure size 576x288 with 2 Axes>"
            ]
          },
          "metadata": {
            "needs_background": "light"
          },
          "output_type": "display_data"
        },
        {
          "name": "stdout",
          "output_type": "stream",
          "text": [
            "\n",
            "\n",
            "\n",
            "Accuracy of testing: 0.455\n",
            "Accuracy of training: 0.494\n",
            "scores of testing\n",
            "[0.46938776 0.44897959 0.3877551  0.46938776 0.4375    ]\n",
            "0.4426020408163266\n",
            "scores of training\n",
            "[0.45512821 0.47435897 0.48076923 0.49677419 0.47741935]\n",
            "0.47688999172870145\n",
            "Confusion matrix of testing data\n",
            "Random forrest\n"
          ]
        },
        {
          "data": {
            "image/png": "[encoded data removed]",
            "text/plain": [
              "<Figure size 576x288 with 2 Axes>"
            ]
          },
          "metadata": {
            "needs_background": "light"
          },
          "output_type": "display_data"
        },
        {
          "name": "stdout",
          "output_type": "stream",
          "text": [
            "\n",
            "\n",
            "\n",
            "confusion matrix of training data\n",
            "Random forrest\n"
          ]
        },
        {
          "data": {
            "image/png": "[encoded data removed]",
            "text/plain": [
              "<Figure size 576x288 with 2 Axes>"
            ]
          },
          "metadata": {
            "needs_background": "light"
          },
          "output_type": "display_data"
        },
        {
          "name": "stdout",
          "output_type": "stream",
          "text": [
            "\n",
            "\n",
            "\n"
          ]
        }
      ],
      "source": [
        "clf=[knnp,xgbp,lrp,rfp]\n",
        "modelname=[\"KNN\",\"XGBoost\",\"Logistic regression\",\"Random forrest\"]\n",
        "# Training the model\n",
        "for i in range(len(clf)):\n",
        "  clf[i].fit(X_train,y_train)\n",
        "# Predicting for x_test\n",
        "  y_predtest=clf[i].predict(X_test)\n",
        "  acctest = accuracy_score(y_test, y_predtest)\n",
        "  \n",
        "  print('Accuracy of testing: %.3f' % acctest)\n",
        "# Predicting for training data\n",
        "  y_predtrain=clf[i].predict(X_train)\n",
        "  acctrain = accuracy_score(y_predtrain, y_train)\n",
        "  print('Accuracy of training: %.3f' % acctrain)  \n",
        "# Showing the testing accuracy of the of the model\n",
        "  scores = cross_val_score(clf[i], X_test, y_test, cv=5)\n",
        "  print(\"scores of testing\")\n",
        "  print(scores)\n",
        "  print(scores.mean())\n",
        "# Showing the training accuracy of the of the model\n",
        "  scores = cross_val_score(clf[i], X_train, y_train, cv=5)\n",
        "  print(\"scores of training\")\n",
        "  print(scores)\n",
        "  print(scores.mean())  \n",
        "# Creating the confusion matrix for testing\n",
        "  print(\"Confusion matrix of testing data\")\n",
        "  cm = confusion_matrix(y_test, y_predtest)\n",
        "  cm_df = pd.DataFrame(cm,\n",
        "                     index = ['win','draw','loss'], \n",
        "                     columns = ['win','draw','loss'])\n",
        "\n",
        "  plt.figure(figsize=(8,4))\n",
        "  sns.heatmap(cm_df, annot=True)\n",
        "  plt.title('Confusion Matrix')\n",
        "  plt.ylabel('Actal Values')\n",
        "  plt.xlabel('Predicted Values')\n",
        "  \n",
        "  print(modelname[i])\n",
        "  plt.show()\n",
        "  print()\n",
        "  print()\n",
        "  print()\n",
        "  # Creating the confusion matrix for training\n",
        "  print(\"confusion matrix of training data\")\n",
        "  cm = confusion_matrix(y_train, y_predtrain)\n",
        "  cm_df = pd.DataFrame(cm,\n",
        "                     index = ['win','draw','loss'], \n",
        "                     columns = ['win','draw','loss'])\n",
        "\n",
        "  plt.figure(figsize=(8,4))\n",
        "  sns.heatmap(cm_df, annot=True)\n",
        "  plt.title('Confusion Matrix')\n",
        "  plt.ylabel('Actal Values')\n",
        "  plt.xlabel('Predicted Values')\n",
        "  \n",
        "  print(modelname[i])\n",
        "  plt.show()\n",
        "  print()\n",
        "  print()\n",
        "  print()"
      ]
    },
    {
      "cell_type": "code",
      "execution_count": null,
      "metadata": {
        "colab": {
          "base_uri": "https://localhost:8080/"
        },
        "id": "_cSJ3u-9G4uY",
        "outputId": "8150ff26-ff51-4252-9354-eb898447b8b0"
      },
      "outputs": [
        {
          "name": "stderr",
          "output_type": "stream",
          "text": [
            "/usr/local/lib/python3.8/dist-packages/sklearn/metrics/_classification.py:1318: UndefinedMetricWarning: Precision is ill-defined and being set to 0.0 in labels with no predicted samples. Use `zero_division` parameter to control this behavior.\n",
            "  _warn_prf(average, modifier, msg_start, len(result))\n",
            "/usr/local/lib/python3.8/dist-packages/sklearn/metrics/_classification.py:1318: UndefinedMetricWarning: Precision is ill-defined and being set to 0.0 in labels with no predicted samples. Use `zero_division` parameter to control this behavior.\n",
            "  _warn_prf(average, modifier, msg_start, len(result))\n",
            "/usr/local/lib/python3.8/dist-packages/sklearn/metrics/_classification.py:1318: UndefinedMetricWarning: Precision is ill-defined and being set to 0.0 in labels with no predicted samples. Use `zero_division` parameter to control this behavior.\n",
            "  _warn_prf(average, modifier, msg_start, len(result))\n",
            "/usr/local/lib/python3.8/dist-packages/sklearn/metrics/_classification.py:1318: UndefinedMetricWarning: Precision is ill-defined and being set to 0.0 in labels with no predicted samples. Use `zero_division` parameter to control this behavior.\n",
            "  _warn_prf(average, modifier, msg_start, len(result))\n"
          ]
        }
      ],
      "source": [
        "##Score of the model\n",
        "# model_name = ['KNN', 'XGBoost', 'Logistic regression', 'Random forrest']\n",
        "model_list_base = [knnp,xgbp,lrp,rfp]\n",
        "\n",
        "t1p=score_all_classification(model_list_base, X_train, y_train, X_test, y_test)\n",
        " \n",
        "t2p=score_all_classification(model_list_base, X_train, y_train, X_train, y_train)\n",
        "\n",
        "\n",
        "t3p=score_all_classification(model_list_base, X_train, y_train, x_test1, y_test1)"
      ]
    },
    {
      "cell_type": "code",
      "execution_count": null,
      "metadata": {
        "colab": {
          "base_uri": "https://localhost:8080/",
          "height": 175
        },
        "id": "mrsjrpiM9seI",
        "outputId": "a2723a26-bf13-4536-9ef6-ed9452837d45"
      },
      "outputs": [
        {
          "data": {
            "text/html": [
              "\n",
              "  <div id=\"df-c9e8a75e-fe2e-4d7d-bdea-e2364bc4f60b\">\n",
              "    <div class=\"colab-df-container\">\n",
              "      <div>\n",
              "<style scoped>\n",
              "    .dataframe tbody tr th:only-of-type {\n",
              "        vertical-align: middle;\n",
              "    }\n",
              "\n",
              "    .dataframe tbody tr th {\n",
              "        vertical-align: top;\n",
              "    }\n",
              "\n",
              "    .dataframe thead th {\n",
              "        text-align: right;\n",
              "    }\n",
              "</style>\n",
              "<table border=\"1\" class=\"dataframe\">\n",
              "  <thead>\n",
              "    <tr style=\"text-align: right;\">\n",
              "      <th></th>\n",
              "      <th>Model</th>\n",
              "      <th>Accuracy</th>\n",
              "      <th>Precision</th>\n",
              "      <th>Recall</th>\n",
              "      <th>F1 Score</th>\n",
              "      <th>MCC</th>\n",
              "    </tr>\n",
              "  </thead>\n",
              "  <tbody>\n",
              "    <tr>\n",
              "      <th>0</th>\n",
              "      <td>KNN</td>\n",
              "      <td>0.397541</td>\n",
              "      <td>0.318382</td>\n",
              "      <td>0.337385</td>\n",
              "      <td>0.309369</td>\n",
              "      <td>0.012653</td>\n",
              "    </tr>\n",
              "    <tr>\n",
              "      <th>1</th>\n",
              "      <td>XGBoost</td>\n",
              "      <td>0.491803</td>\n",
              "      <td>0.467847</td>\n",
              "      <td>0.416804</td>\n",
              "      <td>0.385409</td>\n",
              "      <td>0.185287</td>\n",
              "    </tr>\n",
              "    <tr>\n",
              "      <th>2</th>\n",
              "      <td>Logistic regression</td>\n",
              "      <td>0.557377</td>\n",
              "      <td>0.539591</td>\n",
              "      <td>0.476714</td>\n",
              "      <td>0.433014</td>\n",
              "      <td>0.291433</td>\n",
              "    </tr>\n",
              "    <tr>\n",
              "      <th>3</th>\n",
              "      <td>Random forrest</td>\n",
              "      <td>0.454918</td>\n",
              "      <td>0.326720</td>\n",
              "      <td>0.366516</td>\n",
              "      <td>0.288496</td>\n",
              "      <td>0.103840</td>\n",
              "    </tr>\n",
              "  </tbody>\n",
              "</table>\n",
              "</div>\n",
              "      <button class=\"colab-df-convert\" onclick=\"convertToInteractive('df-c9e8a75e-fe2e-4d7d-bdea-e2364bc4f60b')\"\n",
              "              title=\"Convert this dataframe to an interactive table.\"\n",
              "              style=\"display:none;\">\n",
              "        \n",
              "  <svg xmlns=\"http://www.w3.org/2000/svg\" height=\"24px\"viewBox=\"0 0 24 24\"\n",
              "       width=\"24px\">\n",
              "    <path d=\"M0 0h24v24H0V0z\" fill=\"none\"/>\n",
              "    <path d=\"M18.56 5.44l.94 2.06.94-2.06 2.06-.94-2.06-.94-.94-2.06-.94 2.06-2.06.94zm-11 1L8.5 8.5l.94-2.06 2.06-.94-2.06-.94L8.5 2.5l-.94 2.06-2.06.94zm10 10l.94 2.06.94-2.06 2.06-.94-2.06-.94-.94-2.06-.94 2.06-2.06.94z\"/><path d=\"M17.41 7.96l-1.37-1.37c-.4-.4-.92-.59-1.43-.59-.52 0-1.04.2-1.43.59L10.3 9.45l-7.72 7.72c-.78.78-.78 2.05 0 2.83L4 21.41c.39.39.9.59 1.41.59.51 0 1.02-.2 1.41-.59l7.78-7.78 2.81-2.81c.8-.78.8-2.07 0-2.86zM5.41 20L4 18.59l7.72-7.72 1.47 1.35L5.41 20z\"/>\n",
              "  </svg>\n",
              "      </button>\n",
              "      \n",
              "  <style>\n",
              "    .colab-df-container {\n",
              "      display:flex;\n",
              "      flex-wrap:wrap;\n",
              "      gap: 12px;\n",
              "    }\n",
              "\n",
              "    .colab-df-convert {\n",
              "      background-color: #E8F0FE;\n",
              "      border: none;\n",
              "      border-radius: 50%;\n",
              "      cursor: pointer;\n",
              "      display: none;\n",
              "      fill: #1967D2;\n",
              "      height: 32px;\n",
              "      padding: 0 0 0 0;\n",
              "      width: 32px;\n",
              "    }\n",
              "\n",
              "    .colab-df-convert:hover {\n",
              "      background-color: #E2EBFA;\n",
              "      box-shadow: 0px 1px 2px rgba(60, 64, 67, 0.3), 0px 1px 3px 1px rgba(60, 64, 67, 0.15);\n",
              "      fill: #174EA6;\n",
              "    }\n",
              "\n",
              "    [theme=dark] .colab-df-convert {\n",
              "      background-color: #3B4455;\n",
              "      fill: #D2E3FC;\n",
              "    }\n",
              "\n",
              "    [theme=dark] .colab-df-convert:hover {\n",
              "      background-color: #434B5C;\n",
              "      box-shadow: 0px 1px 3px 1px rgba(0, 0, 0, 0.15);\n",
              "      filter: drop-shadow(0px 1px 2px rgba(0, 0, 0, 0.3));\n",
              "      fill: #FFFFFF;\n",
              "    }\n",
              "  </style>\n",
              "\n",
              "      <script>\n",
              "        const buttonEl =\n",
              "          document.querySelector('#df-c9e8a75e-fe2e-4d7d-bdea-e2364bc4f60b button.colab-df-convert');\n",
              "        buttonEl.style.display =\n",
              "          google.colab.kernel.accessAllowed ? 'block' : 'none';\n",
              "\n",
              "        async function convertToInteractive(key) {\n",
              "          const element = document.querySelector('#df-c9e8a75e-fe2e-4d7d-bdea-e2364bc4f60b');\n",
              "          const dataTable =\n",
              "            await google.colab.kernel.invokeFunction('convertToInteractive',\n",
              "                                                     [key], {});\n",
              "          if (!dataTable) return;\n",
              "\n",
              "          const docLinkHtml = 'Like what you see? Visit the ' +\n",
              "            '<a target=\"_blank\" href=https://colab.research.google.com/notebooks/data_table.ipynb>data table notebook</a>'\n",
              "            + ' to learn more about interactive tables.';\n",
              "          element.innerHTML = '';\n",
              "          dataTable['output_type'] = 'display_data';\n",
              "          await google.colab.output.renderOutput(dataTable, element);\n",
              "          const docLink = document.createElement('div');\n",
              "          docLink.innerHTML = docLinkHtml;\n",
              "          element.appendChild(docLink);\n",
              "        }\n",
              "      </script>\n",
              "    </div>\n",
              "  </div>\n",
              "  "
            ],
            "text/plain": [
              "                 Model  Accuracy  Precision    Recall  F1 Score       MCC\n",
              "0                  KNN  0.397541   0.318382  0.337385  0.309369  0.012653\n",
              "1              XGBoost  0.491803   0.467847  0.416804  0.385409  0.185287\n",
              "2  Logistic regression  0.557377   0.539591  0.476714  0.433014  0.291433\n",
              "3       Random forrest  0.454918   0.326720  0.366516  0.288496  0.103840"
            ]
          },
          "execution_count": 26,
          "metadata": {},
          "output_type": "execute_result"
        }
      ],
      "source": [
        "t1p"
      ]
    },
    {
      "cell_type": "markdown",
      "metadata": {
        "id": "yev8EawhjYCl"
      },
      "source": [
        "##### Table for testing data after tuned"
      ]
    },
    {
      "cell_type": "code",
      "execution_count": null,
      "metadata": {
        "colab": {
          "base_uri": "https://localhost:8080/"
        },
        "id": "2uMbpLv_OMQd",
        "outputId": "1e31c562-071f-4113-c741-f3a50d93155e"
      },
      "outputs": [
        {
          "name": "stdout",
          "output_type": "stream",
          "text": [
            "After tuning\n",
            "                 Model  Accuracy  Precision    Recall  F1 Score       MCC\n",
            "0                  KNN  0.397541   0.318382  0.337385  0.309369  0.012653\n",
            "1              XGBoost  0.491803   0.467847  0.416804  0.385409  0.185287\n",
            "2  Logistic regression  0.557377   0.539591  0.476714  0.433014  0.291433\n",
            "3       Random forrest  0.454918   0.326720  0.366516  0.288496  0.103840\n",
            "\n",
            "Before tuning\n",
            "                 Model  Accuracy  Precision    Recall  F1 Score       MCC\n",
            "0                  KNN  0.401639   0.369173  0.370609  0.364970  0.067879\n",
            "1              XGBoost  0.504098   0.460909  0.444289  0.432615  0.206731\n",
            "2  Logistic regression  0.553279   0.552362  0.484941  0.458001  0.285545\n",
            "3       Random forrest  0.446721   0.313814  0.357240  0.268945  0.084499\n"
          ]
        }
      ],
      "source": [
        "print(\"After tuning\")\n",
        "print(t1p)\n",
        "print()\n",
        "print(\"Before tuning\")\n",
        "print(t1)"
      ]
    },
    {
      "cell_type": "markdown",
      "metadata": {
        "id": "pP8kLyKHXkOG"
      },
      "source": [
        "### Observations on test data\n",
        "#### XGBoost and logistic regression falls under the range of 50 while KNN and random forrest has an accuracy in the range of 40 percent.\n",
        "#### After tuning the models only random forrest and logistic regression shows a slight increase while others has decrease their perfomance\n",
        " "
      ]
    },
    {
      "cell_type": "markdown",
      "metadata": {
        "id": "76e6m4PEjZAk"
      },
      "source": [
        "##### Table for training data after tuned"
      ]
    },
    {
      "cell_type": "code",
      "execution_count": null,
      "metadata": {
        "colab": {
          "base_uri": "https://localhost:8080/"
        },
        "id": "AZehir1IONLM",
        "outputId": "b1a298c2-0857-4920-9541-9e8226e294c6"
      },
      "outputs": [
        {
          "name": "stdout",
          "output_type": "stream",
          "text": [
            "After tuning\n",
            "                 Model  Accuracy  Precision    Recall  F1 Score       MCC\n",
            "0                  KNN  0.489717   0.465959  0.431659  0.417962  0.178477\n",
            "1              XGBoost  0.543702   0.614390  0.463893  0.436458  0.287445\n",
            "2  Logistic regression  0.562982   0.559621  0.484925  0.433537  0.306148\n",
            "3       Random forrest  0.493573   0.393537  0.397420  0.320054  0.211920\n",
            "\n",
            "Before tuning\n",
            "                 Model  Accuracy  Precision    Recall  F1 Score       MCC\n",
            "0                  KNN  0.546272   0.534571  0.532359  0.530391  0.306777\n",
            "1              XGBoost  0.650386   0.685072  0.590948  0.593377  0.456067\n",
            "2  Logistic regression  0.552699   0.503741  0.483572  0.447226  0.287954\n",
            "3       Random forrest  0.487147   0.397387  0.390630  0.309631  0.201427\n"
          ]
        }
      ],
      "source": [
        "print(\"After tuning\")\n",
        "print(t2p)\n",
        "print()\n",
        "print(\"Before tuning\")\n",
        "print(t2)"
      ]
    },
    {
      "cell_type": "markdown",
      "metadata": {
        "id": "qRoH7YulYWSj"
      },
      "source": [
        "#### Observations on training data\n",
        "#### XGboost shows a good accuracy of 65 percent before training\n",
        "#### Logistic regression shows an accuracy of 55 percent before tuning\n",
        "#### after tuning, the models KNN and Xgboost have shown a decline in their accuracy, while logistic regression and random forrest shows an increase"
      ]
    },
    {
      "cell_type": "markdown",
      "metadata": {
        "id": "Q1NDfJ5Tjbxo"
      },
      "source": [
        "##### Table for recent testing data after tuned"
      ]
    },
    {
      "cell_type": "code",
      "execution_count": null,
      "metadata": {
        "colab": {
          "base_uri": "https://localhost:8080/"
        },
        "id": "EibRTc9q3iAx",
        "outputId": "a04dbae2-7ab2-4bb7-9c4d-f77eddd3cb05"
      },
      "outputs": [
        {
          "name": "stdout",
          "output_type": "stream",
          "text": [
            "After tuning\n",
            "                 Model  Accuracy  Precision    Recall  F1 Score       MCC\n",
            "0                  KNN  0.484962   0.416038  0.407411  0.383648  0.146024\n",
            "1              XGBoost  0.541353   0.489799  0.440099  0.404329  0.251410\n",
            "2  Logistic regression  0.560150   0.370752  0.471139  0.413751  0.283602\n",
            "3       Random forrest  0.503759   0.367508  0.385480  0.306200  0.190489\n",
            "\n",
            "Before tuning\n",
            "                 Model  Accuracy  Precision    Recall  F1 Score       MCC\n",
            "0                  KNN  0.526316   0.501565  0.499093  0.493856  0.265930\n",
            "1              XGBoost  0.612782   0.632361  0.538649  0.535679  0.376516\n",
            "2  Logistic regression  0.563910   0.620866  0.485796  0.445333  0.293643\n",
            "3       Random forrest  0.503759   0.376056  0.385480  0.306405  0.192738\n"
          ]
        }
      ],
      "source": [
        "print(\"After tuning\")\n",
        "print(t3p)\n",
        "print()\n",
        "print(\"Before tuning\")\n",
        "print(t3)"
      ]
    },
    {
      "cell_type": "markdown",
      "metadata": {
        "id": "a0-LQtvYZFZY"
      },
      "source": [
        "### Observations on recent test data \n",
        "#### KNN and  Xgboost is showing an accuracy of 61 percent before tuning and othe models are in the range of 50 percent.\n",
        "#### The models have decline in their perfomance after hyperaparameter tuning"
      ]
    }
  ],
  "metadata": {
    "colab": {
      "collapsed_sections": [
        "huD5CazN19bv",
        "WeVONo_y24QI",
        "wijPSRdC45C9"
      ],
      "provenance": []
    },
    "kernelspec": {
      "display_name": "Python 3.9.0 (conda)",
      "language": "python",
      "name": "python3"
    },
    "language_info": {
      "codemirror_mode": {
        "name": "ipython",
        "version": 3
      },
      "file_extension": ".py",
      "mimetype": "text/x-python",
      "name": "python",
      "nbconvert_exporter": "python",
      "pygments_lexer": "ipython3",
      "version": "3.9.0"
    },
    "vscode": {
      "interpreter": {
        "hash": "fe2f8a64868240eea86a6ea1b303982c304959f19f5864747fa0b58ddf074d2d"
      }
    }
  },
  "nbformat": 4,
  "nbformat_minor": 0
}
